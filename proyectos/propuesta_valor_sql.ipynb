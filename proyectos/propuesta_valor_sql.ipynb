{
 "cells": [
  {
   "cell_type": "markdown",
   "metadata": {},
   "source": [
    "# Proyecto SQL\n",
    "\n",
    "**Objetivo:** Generar una propuesta de valor para un nuevo producto en base a la base de datos sobre libros."
   ]
  },
  {
   "cell_type": "code",
   "execution_count": 1,
   "metadata": {
    "trusted": true
   },
   "outputs": [],
   "source": [
    "# importar librerías\n",
    "import pandas as pd\n",
    "from sqlalchemy import create_engine\n",
    "\n",
    "\n",
    "db_config = {'user': 'practicum_student',         # nombre de usuario\n",
    "             'pwd': 's65BlTKV3faNIGhmvJVzOqhs', # contraseña\n",
    "             'host': 'rc1b-wcoijxj3yxfsf3fs.mdb.yandexcloud.net',\n",
    "             'port': 6432,              # puerto de conexión\n",
    "             'db': 'data-analyst-final-project-db'}          # nombre de la base de datos\n",
    "\n",
    "connection_string = 'postgresql://{}:{}@{}:{}/{}'.format(db_config['user'],\n",
    "                                                                     db_config['pwd'],\n",
    "                                                                       db_config['host'],\n",
    "                                                                       db_config['port'],\n",
    "                                                                       db_config['db'])\n",
    "\n",
    "engine = create_engine(connection_string, connect_args={'sslmode':'require'})"
   ]
  },
  {
   "cell_type": "code",
   "execution_count": 2,
   "metadata": {
    "trusted": true
   },
   "outputs": [
    {
     "data": {
      "text/html": [
       "<div>\n",
       "<style scoped>\n",
       "    .dataframe tbody tr th:only-of-type {\n",
       "        vertical-align: middle;\n",
       "    }\n",
       "\n",
       "    .dataframe tbody tr th {\n",
       "        vertical-align: top;\n",
       "    }\n",
       "\n",
       "    .dataframe thead th {\n",
       "        text-align: right;\n",
       "    }\n",
       "</style>\n",
       "<table border=\"1\" class=\"dataframe\">\n",
       "  <thead>\n",
       "    <tr style=\"text-align: right;\">\n",
       "      <th></th>\n",
       "      <th>book_id</th>\n",
       "      <th>author_id</th>\n",
       "      <th>title</th>\n",
       "      <th>num_pages</th>\n",
       "      <th>publication_date</th>\n",
       "      <th>publisher_id</th>\n",
       "    </tr>\n",
       "  </thead>\n",
       "  <tbody>\n",
       "    <tr>\n",
       "      <th>0</th>\n",
       "      <td>1</td>\n",
       "      <td>546</td>\n",
       "      <td>'Salem's Lot</td>\n",
       "      <td>594</td>\n",
       "      <td>2005-11-01</td>\n",
       "      <td>93</td>\n",
       "    </tr>\n",
       "    <tr>\n",
       "      <th>1</th>\n",
       "      <td>2</td>\n",
       "      <td>465</td>\n",
       "      <td>1 000 Places to See Before You Die</td>\n",
       "      <td>992</td>\n",
       "      <td>2003-05-22</td>\n",
       "      <td>336</td>\n",
       "    </tr>\n",
       "    <tr>\n",
       "      <th>2</th>\n",
       "      <td>3</td>\n",
       "      <td>407</td>\n",
       "      <td>13 Little Blue Envelopes (Little Blue Envelope...</td>\n",
       "      <td>322</td>\n",
       "      <td>2010-12-21</td>\n",
       "      <td>135</td>\n",
       "    </tr>\n",
       "    <tr>\n",
       "      <th>3</th>\n",
       "      <td>4</td>\n",
       "      <td>82</td>\n",
       "      <td>1491: New Revelations of the Americas Before C...</td>\n",
       "      <td>541</td>\n",
       "      <td>2006-10-10</td>\n",
       "      <td>309</td>\n",
       "    </tr>\n",
       "    <tr>\n",
       "      <th>4</th>\n",
       "      <td>5</td>\n",
       "      <td>125</td>\n",
       "      <td>1776</td>\n",
       "      <td>386</td>\n",
       "      <td>2006-07-04</td>\n",
       "      <td>268</td>\n",
       "    </tr>\n",
       "  </tbody>\n",
       "</table>\n",
       "</div>"
      ],
      "text/plain": [
       "   book_id  author_id                                              title  \\\n",
       "0        1        546                                       'Salem's Lot   \n",
       "1        2        465                 1 000 Places to See Before You Die   \n",
       "2        3        407  13 Little Blue Envelopes (Little Blue Envelope...   \n",
       "3        4         82  1491: New Revelations of the Americas Before C...   \n",
       "4        5        125                                               1776   \n",
       "\n",
       "   num_pages publication_date  publisher_id  \n",
       "0        594       2005-11-01            93  \n",
       "1        992       2003-05-22           336  \n",
       "2        322       2010-12-21           135  \n",
       "3        541       2006-10-10           309  \n",
       "4        386       2006-07-04           268  "
      ]
     },
     "execution_count": 2,
     "metadata": {},
     "output_type": "execute_result"
    }
   ],
   "source": [
    "# Visualizar la tabla books\n",
    "query = \"SELECT * FROM books LIMIT 5;\"\n",
    "\n",
    "# Ejecutar la consulta y guardar el resultado en un DataFrame\n",
    "books = pd.read_sql(query, con=engine)\n",
    "\n",
    "# Mostrar los primeros 5 resultados\n",
    "books.head()"
   ]
  },
  {
   "cell_type": "code",
   "execution_count": 3,
   "metadata": {
    "trusted": true
   },
   "outputs": [
    {
     "data": {
      "text/html": [
       "<div>\n",
       "<style scoped>\n",
       "    .dataframe tbody tr th:only-of-type {\n",
       "        vertical-align: middle;\n",
       "    }\n",
       "\n",
       "    .dataframe tbody tr th {\n",
       "        vertical-align: top;\n",
       "    }\n",
       "\n",
       "    .dataframe thead th {\n",
       "        text-align: right;\n",
       "    }\n",
       "</style>\n",
       "<table border=\"1\" class=\"dataframe\">\n",
       "  <thead>\n",
       "    <tr style=\"text-align: right;\">\n",
       "      <th></th>\n",
       "      <th>author_id</th>\n",
       "      <th>author</th>\n",
       "    </tr>\n",
       "  </thead>\n",
       "  <tbody>\n",
       "    <tr>\n",
       "      <th>0</th>\n",
       "      <td>1</td>\n",
       "      <td>A.S. Byatt</td>\n",
       "    </tr>\n",
       "    <tr>\n",
       "      <th>1</th>\n",
       "      <td>2</td>\n",
       "      <td>Aesop/Laura Harris/Laura Gibbs</td>\n",
       "    </tr>\n",
       "    <tr>\n",
       "      <th>2</th>\n",
       "      <td>3</td>\n",
       "      <td>Agatha Christie</td>\n",
       "    </tr>\n",
       "    <tr>\n",
       "      <th>3</th>\n",
       "      <td>4</td>\n",
       "      <td>Alan Brennert</td>\n",
       "    </tr>\n",
       "    <tr>\n",
       "      <th>4</th>\n",
       "      <td>5</td>\n",
       "      <td>Alan Moore/David   Lloyd</td>\n",
       "    </tr>\n",
       "  </tbody>\n",
       "</table>\n",
       "</div>"
      ],
      "text/plain": [
       "   author_id                          author\n",
       "0          1                      A.S. Byatt\n",
       "1          2  Aesop/Laura Harris/Laura Gibbs\n",
       "2          3                 Agatha Christie\n",
       "3          4                   Alan Brennert\n",
       "4          5        Alan Moore/David   Lloyd"
      ]
     },
     "execution_count": 3,
     "metadata": {},
     "output_type": "execute_result"
    }
   ],
   "source": [
    "# Visualizar la tabla authors\n",
    "\n",
    "query = \"SELECT * FROM authors LIMIT 5;\"\n",
    "\n",
    "# Ejecutar la consulta y guardar el resultado en un DataFrame\n",
    "authors = pd.read_sql(query, con=engine)\n",
    "\n",
    "# Mostrar los primeros 5 resultados\n",
    "authors.head()"
   ]
  },
  {
   "cell_type": "code",
   "execution_count": 4,
   "metadata": {
    "trusted": true
   },
   "outputs": [
    {
     "data": {
      "text/html": [
       "<div>\n",
       "<style scoped>\n",
       "    .dataframe tbody tr th:only-of-type {\n",
       "        vertical-align: middle;\n",
       "    }\n",
       "\n",
       "    .dataframe tbody tr th {\n",
       "        vertical-align: top;\n",
       "    }\n",
       "\n",
       "    .dataframe thead th {\n",
       "        text-align: right;\n",
       "    }\n",
       "</style>\n",
       "<table border=\"1\" class=\"dataframe\">\n",
       "  <thead>\n",
       "    <tr style=\"text-align: right;\">\n",
       "      <th></th>\n",
       "      <th>publisher_id</th>\n",
       "      <th>publisher</th>\n",
       "    </tr>\n",
       "  </thead>\n",
       "  <tbody>\n",
       "    <tr>\n",
       "      <th>0</th>\n",
       "      <td>1</td>\n",
       "      <td>Ace</td>\n",
       "    </tr>\n",
       "    <tr>\n",
       "      <th>1</th>\n",
       "      <td>2</td>\n",
       "      <td>Ace Book</td>\n",
       "    </tr>\n",
       "    <tr>\n",
       "      <th>2</th>\n",
       "      <td>3</td>\n",
       "      <td>Ace Books</td>\n",
       "    </tr>\n",
       "    <tr>\n",
       "      <th>3</th>\n",
       "      <td>4</td>\n",
       "      <td>Ace Hardcover</td>\n",
       "    </tr>\n",
       "    <tr>\n",
       "      <th>4</th>\n",
       "      <td>5</td>\n",
       "      <td>Addison Wesley Publishing Company</td>\n",
       "    </tr>\n",
       "  </tbody>\n",
       "</table>\n",
       "</div>"
      ],
      "text/plain": [
       "   publisher_id                          publisher\n",
       "0             1                                Ace\n",
       "1             2                           Ace Book\n",
       "2             3                          Ace Books\n",
       "3             4                      Ace Hardcover\n",
       "4             5  Addison Wesley Publishing Company"
      ]
     },
     "execution_count": 4,
     "metadata": {},
     "output_type": "execute_result"
    }
   ],
   "source": [
    "# Visualizar la tabla publishers\n",
    "query = \"SELECT * FROM publishers LIMIT 5;\"\n",
    "\n",
    "# Ejecutar la consulta y guardar el resultado en un DataFrame\n",
    "publishers = pd.read_sql(query, con=engine)\n",
    "\n",
    "# Mostrar los primeros 5 resultados\n",
    "publishers.head()"
   ]
  },
  {
   "cell_type": "code",
   "execution_count": 5,
   "metadata": {
    "trusted": true
   },
   "outputs": [
    {
     "data": {
      "text/html": [
       "<div>\n",
       "<style scoped>\n",
       "    .dataframe tbody tr th:only-of-type {\n",
       "        vertical-align: middle;\n",
       "    }\n",
       "\n",
       "    .dataframe tbody tr th {\n",
       "        vertical-align: top;\n",
       "    }\n",
       "\n",
       "    .dataframe thead th {\n",
       "        text-align: right;\n",
       "    }\n",
       "</style>\n",
       "<table border=\"1\" class=\"dataframe\">\n",
       "  <thead>\n",
       "    <tr style=\"text-align: right;\">\n",
       "      <th></th>\n",
       "      <th>rating_id</th>\n",
       "      <th>book_id</th>\n",
       "      <th>username</th>\n",
       "      <th>rating</th>\n",
       "    </tr>\n",
       "  </thead>\n",
       "  <tbody>\n",
       "    <tr>\n",
       "      <th>0</th>\n",
       "      <td>1</td>\n",
       "      <td>1</td>\n",
       "      <td>ryanfranco</td>\n",
       "      <td>4</td>\n",
       "    </tr>\n",
       "    <tr>\n",
       "      <th>1</th>\n",
       "      <td>2</td>\n",
       "      <td>1</td>\n",
       "      <td>grantpatricia</td>\n",
       "      <td>2</td>\n",
       "    </tr>\n",
       "    <tr>\n",
       "      <th>2</th>\n",
       "      <td>3</td>\n",
       "      <td>1</td>\n",
       "      <td>brandtandrea</td>\n",
       "      <td>5</td>\n",
       "    </tr>\n",
       "    <tr>\n",
       "      <th>3</th>\n",
       "      <td>4</td>\n",
       "      <td>2</td>\n",
       "      <td>lorichen</td>\n",
       "      <td>3</td>\n",
       "    </tr>\n",
       "    <tr>\n",
       "      <th>4</th>\n",
       "      <td>5</td>\n",
       "      <td>2</td>\n",
       "      <td>mariokeller</td>\n",
       "      <td>2</td>\n",
       "    </tr>\n",
       "  </tbody>\n",
       "</table>\n",
       "</div>"
      ],
      "text/plain": [
       "   rating_id  book_id       username  rating\n",
       "0          1        1     ryanfranco       4\n",
       "1          2        1  grantpatricia       2\n",
       "2          3        1   brandtandrea       5\n",
       "3          4        2       lorichen       3\n",
       "4          5        2    mariokeller       2"
      ]
     },
     "execution_count": 5,
     "metadata": {},
     "output_type": "execute_result"
    }
   ],
   "source": [
    "# Visualizar la tabla ratings\n",
    "query = \"SELECT * FROM ratings LIMIT 5;\"\n",
    "\n",
    "# Ejecutar la consulta y guardar el resultado en un DataFrame\n",
    "ratings = pd.read_sql(query, con=engine)\n",
    "\n",
    "# Mostrar los primeros resultados\n",
    "ratings.head()"
   ]
  },
  {
   "cell_type": "code",
   "execution_count": 6,
   "metadata": {
    "trusted": true
   },
   "outputs": [
    {
     "data": {
      "text/html": [
       "<div>\n",
       "<style scoped>\n",
       "    .dataframe tbody tr th:only-of-type {\n",
       "        vertical-align: middle;\n",
       "    }\n",
       "\n",
       "    .dataframe tbody tr th {\n",
       "        vertical-align: top;\n",
       "    }\n",
       "\n",
       "    .dataframe thead th {\n",
       "        text-align: right;\n",
       "    }\n",
       "</style>\n",
       "<table border=\"1\" class=\"dataframe\">\n",
       "  <thead>\n",
       "    <tr style=\"text-align: right;\">\n",
       "      <th></th>\n",
       "      <th>review_id</th>\n",
       "      <th>book_id</th>\n",
       "      <th>username</th>\n",
       "      <th>text</th>\n",
       "    </tr>\n",
       "  </thead>\n",
       "  <tbody>\n",
       "    <tr>\n",
       "      <th>0</th>\n",
       "      <td>1</td>\n",
       "      <td>1</td>\n",
       "      <td>brandtandrea</td>\n",
       "      <td>Mention society tell send professor analysis. ...</td>\n",
       "    </tr>\n",
       "    <tr>\n",
       "      <th>1</th>\n",
       "      <td>2</td>\n",
       "      <td>1</td>\n",
       "      <td>ryanfranco</td>\n",
       "      <td>Foot glass pretty audience hit themselves. Amo...</td>\n",
       "    </tr>\n",
       "    <tr>\n",
       "      <th>2</th>\n",
       "      <td>3</td>\n",
       "      <td>2</td>\n",
       "      <td>lorichen</td>\n",
       "      <td>Listen treat keep worry. Miss husband tax but ...</td>\n",
       "    </tr>\n",
       "    <tr>\n",
       "      <th>3</th>\n",
       "      <td>4</td>\n",
       "      <td>3</td>\n",
       "      <td>johnsonamanda</td>\n",
       "      <td>Finally month interesting blue could nature cu...</td>\n",
       "    </tr>\n",
       "    <tr>\n",
       "      <th>4</th>\n",
       "      <td>5</td>\n",
       "      <td>3</td>\n",
       "      <td>scotttamara</td>\n",
       "      <td>Nation purpose heavy give wait song will. List...</td>\n",
       "    </tr>\n",
       "  </tbody>\n",
       "</table>\n",
       "</div>"
      ],
      "text/plain": [
       "   review_id  book_id       username  \\\n",
       "0          1        1   brandtandrea   \n",
       "1          2        1     ryanfranco   \n",
       "2          3        2       lorichen   \n",
       "3          4        3  johnsonamanda   \n",
       "4          5        3    scotttamara   \n",
       "\n",
       "                                                text  \n",
       "0  Mention society tell send professor analysis. ...  \n",
       "1  Foot glass pretty audience hit themselves. Amo...  \n",
       "2  Listen treat keep worry. Miss husband tax but ...  \n",
       "3  Finally month interesting blue could nature cu...  \n",
       "4  Nation purpose heavy give wait song will. List...  "
      ]
     },
     "execution_count": 6,
     "metadata": {},
     "output_type": "execute_result"
    }
   ],
   "source": [
    "# Visualizar la tabla reviews\n",
    "query = \"SELECT * FROM reviews LIMIT 5;\"\n",
    "\n",
    "# Ejecutar la consulta y guardar el resultado en un DataFrame\n",
    "reviews = pd.read_sql(query, con=engine)\n",
    "\n",
    "# Mostrar los primeros resultados\n",
    "reviews.head()"
   ]
  },
  {
   "cell_type": "markdown",
   "metadata": {},
   "source": [
    "**Número de libros publicados después del 1 de enero de 2000.**"
   ]
  },
  {
   "cell_type": "code",
   "execution_count": 7,
   "metadata": {
    "trusted": true
   },
   "outputs": [
    {
     "data": {
      "text/html": [
       "<div>\n",
       "<style scoped>\n",
       "    .dataframe tbody tr th:only-of-type {\n",
       "        vertical-align: middle;\n",
       "    }\n",
       "\n",
       "    .dataframe tbody tr th {\n",
       "        vertical-align: top;\n",
       "    }\n",
       "\n",
       "    .dataframe thead th {\n",
       "        text-align: right;\n",
       "    }\n",
       "</style>\n",
       "<table border=\"1\" class=\"dataframe\">\n",
       "  <thead>\n",
       "    <tr style=\"text-align: right;\">\n",
       "      <th></th>\n",
       "      <th>count</th>\n",
       "    </tr>\n",
       "  </thead>\n",
       "  <tbody>\n",
       "    <tr>\n",
       "      <th>0</th>\n",
       "      <td>818</td>\n",
       "    </tr>\n",
       "  </tbody>\n",
       "</table>\n",
       "</div>"
      ],
      "text/plain": [
       "   count\n",
       "0    818"
      ]
     },
     "execution_count": 7,
     "metadata": {},
     "output_type": "execute_result"
    }
   ],
   "source": [
    "query =  \"\"\"\n",
    "SELECT COUNT(DISTINCT title) \n",
    "FROM books \n",
    "WHERE publication_date > '2000-01-01';\n",
    "\"\"\"\n",
    "\n",
    "# Ejecutar la consulta y guardar el resultado en un DataFrame\n",
    "num_books = pd.read_sql(query, con=engine)\n",
    "\n",
    "# Mostrar los primeros resultados\n",
    "num_books.head()"
   ]
  },
  {
   "cell_type": "markdown",
   "metadata": {},
   "source": [
    "El número de libros publicados después del primero de enero del 2000 son 818."
   ]
  },
  {
   "cell_type": "markdown",
   "metadata": {},
   "source": [
    "**Número de reseñas de usuarios y la calificación promedio para cada libro**"
   ]
  },
  {
   "cell_type": "code",
   "execution_count": 8,
   "metadata": {
    "trusted": true
   },
   "outputs": [
    {
     "data": {
      "text/html": [
       "<div>\n",
       "<style scoped>\n",
       "    .dataframe tbody tr th:only-of-type {\n",
       "        vertical-align: middle;\n",
       "    }\n",
       "\n",
       "    .dataframe tbody tr th {\n",
       "        vertical-align: top;\n",
       "    }\n",
       "\n",
       "    .dataframe thead th {\n",
       "        text-align: right;\n",
       "    }\n",
       "</style>\n",
       "<table border=\"1\" class=\"dataframe\">\n",
       "  <thead>\n",
       "    <tr style=\"text-align: right;\">\n",
       "      <th></th>\n",
       "      <th>book_id</th>\n",
       "      <th>num_reviews</th>\n",
       "      <th>avg_rating</th>\n",
       "    </tr>\n",
       "  </thead>\n",
       "  <tbody>\n",
       "    <tr>\n",
       "      <th>0</th>\n",
       "      <td>652</td>\n",
       "      <td>4</td>\n",
       "      <td>4.500000</td>\n",
       "    </tr>\n",
       "    <tr>\n",
       "      <th>1</th>\n",
       "      <td>273</td>\n",
       "      <td>4</td>\n",
       "      <td>4.500000</td>\n",
       "    </tr>\n",
       "    <tr>\n",
       "      <th>2</th>\n",
       "      <td>51</td>\n",
       "      <td>60</td>\n",
       "      <td>4.250000</td>\n",
       "    </tr>\n",
       "    <tr>\n",
       "      <th>3</th>\n",
       "      <td>951</td>\n",
       "      <td>4</td>\n",
       "      <td>4.000000</td>\n",
       "    </tr>\n",
       "    <tr>\n",
       "      <th>4</th>\n",
       "      <td>839</td>\n",
       "      <td>28</td>\n",
       "      <td>4.285714</td>\n",
       "    </tr>\n",
       "  </tbody>\n",
       "</table>\n",
       "</div>"
      ],
      "text/plain": [
       "   book_id  num_reviews  avg_rating\n",
       "0      652            4    4.500000\n",
       "1      273            4    4.500000\n",
       "2       51           60    4.250000\n",
       "3      951            4    4.000000\n",
       "4      839           28    4.285714"
      ]
     },
     "execution_count": 8,
     "metadata": {},
     "output_type": "execute_result"
    }
   ],
   "source": [
    "query = \"\"\"\n",
    "SELECT \n",
    "    ratings.book_id, \n",
    "    COUNT(reviews.review_id) AS num_reviews, \n",
    "    AVG(ratings.rating) AS avg_rating\n",
    "FROM ratings\n",
    "JOIN reviews ON ratings.book_id = reviews.book_id\n",
    "GROUP BY ratings.book_id;\n",
    "\"\"\"\n",
    "\n",
    "df_result = pd.read_sql(query, engine)\n",
    "df_result.head() "
   ]
  },
  {
   "cell_type": "markdown",
   "metadata": {},
   "source": [
    "El book_id 51, es el libro que más ha tenido review, y su calificación promedio de 60 usuarios es 4.25, lo que es positivo."
   ]
  },
  {
   "cell_type": "markdown",
   "metadata": {},
   "source": [
    "**Identificar la editorial que ha publicado el mayor número de libros con más de 50 páginas**"
   ]
  },
  {
   "cell_type": "code",
   "execution_count": 9,
   "metadata": {
    "trusted": true
   },
   "outputs": [
    {
     "data": {
      "text/html": [
       "<div>\n",
       "<style scoped>\n",
       "    .dataframe tbody tr th:only-of-type {\n",
       "        vertical-align: middle;\n",
       "    }\n",
       "\n",
       "    .dataframe tbody tr th {\n",
       "        vertical-align: top;\n",
       "    }\n",
       "\n",
       "    .dataframe thead th {\n",
       "        text-align: right;\n",
       "    }\n",
       "</style>\n",
       "<table border=\"1\" class=\"dataframe\">\n",
       "  <thead>\n",
       "    <tr style=\"text-align: right;\">\n",
       "      <th></th>\n",
       "      <th>publisher</th>\n",
       "      <th>num_books</th>\n",
       "    </tr>\n",
       "  </thead>\n",
       "  <tbody>\n",
       "    <tr>\n",
       "      <th>0</th>\n",
       "      <td>Penguin Books</td>\n",
       "      <td>42</td>\n",
       "    </tr>\n",
       "  </tbody>\n",
       "</table>\n",
       "</div>"
      ],
      "text/plain": [
       "       publisher  num_books\n",
       "0  Penguin Books         42"
      ]
     },
     "execution_count": 9,
     "metadata": {},
     "output_type": "execute_result"
    }
   ],
   "source": [
    "query = \"\"\"\n",
    "SELECT \n",
    "    publishers.publisher, \n",
    "    COUNT(books.book_id) AS num_books\n",
    "FROM books\n",
    "JOIN publishers ON books.publisher_id = publishers.publisher_id\n",
    "WHERE books.num_pages > 50\n",
    "GROUP BY publishers.publisher \n",
    "ORDER BY num_books DESC\n",
    "LIMIT 1;\n",
    "\"\"\"\n",
    "\n",
    "df_result = pd.read_sql(query, engine)\n",
    "df_result.head()"
   ]
  },
  {
   "cell_type": "markdown",
   "metadata": {},
   "source": [
    "La editorial de Penguin Books es la editorial con mayor numero de libros con más de 50 páginas."
   ]
  },
  {
   "cell_type": "markdown",
   "metadata": {},
   "source": [
    "**Identificar al autor que tiene la más alta calificación promedio del libro: mirar solo los libros con al menos 50 calificaciones**"
   ]
  },
  {
   "cell_type": "code",
   "execution_count": 10,
   "metadata": {
    "scrolled": true,
    "trusted": true
   },
   "outputs": [
    {
     "data": {
      "text/html": [
       "<div>\n",
       "<style scoped>\n",
       "    .dataframe tbody tr th:only-of-type {\n",
       "        vertical-align: middle;\n",
       "    }\n",
       "\n",
       "    .dataframe tbody tr th {\n",
       "        vertical-align: top;\n",
       "    }\n",
       "\n",
       "    .dataframe thead th {\n",
       "        text-align: right;\n",
       "    }\n",
       "</style>\n",
       "<table border=\"1\" class=\"dataframe\">\n",
       "  <thead>\n",
       "    <tr style=\"text-align: right;\">\n",
       "      <th></th>\n",
       "      <th>author</th>\n",
       "      <th>avg_rating</th>\n",
       "    </tr>\n",
       "  </thead>\n",
       "  <tbody>\n",
       "    <tr>\n",
       "      <th>0</th>\n",
       "      <td>J.K. Rowling/Mary GrandPré</td>\n",
       "      <td>4.287097</td>\n",
       "    </tr>\n",
       "  </tbody>\n",
       "</table>\n",
       "</div>"
      ],
      "text/plain": [
       "                       author  avg_rating\n",
       "0  J.K. Rowling/Mary GrandPré    4.287097"
      ]
     },
     "execution_count": 10,
     "metadata": {},
     "output_type": "execute_result"
    }
   ],
   "source": [
    "query = \"\"\"\n",
    "SELECT \n",
    "    authors.author, \n",
    "    AVG(ratings.rating) AS avg_rating\n",
    "FROM authors\n",
    "JOIN books ON authors.author_id = books.author_id\n",
    "JOIN ratings ON books.book_id = ratings.book_id\n",
    "WHERE books.book_id IN (\n",
    "    SELECT book_id\n",
    "    FROM ratings\n",
    "    GROUP BY book_id\n",
    "    HAVING COUNT(ratings.rating) >= 50\n",
    ")\n",
    "GROUP BY authors.author_id\n",
    "ORDER BY avg_rating DESC\n",
    "LIMIT 1;\n",
    "\"\"\"\n",
    "\n",
    "df_result = pd.read_sql(query, engine)\n",
    "df_result.head()\n"
   ]
  },
  {
   "cell_type": "markdown",
   "metadata": {},
   "source": [
    "J.K. Rowling/Mary GrandPré es la autora con la más alta calificación dada por los criticos literarios, como sugerencia, la empresa debe seguir promocionando sus libros y hacer campañas literarias con sus libros "
   ]
  },
  {
   "cell_type": "markdown",
   "metadata": {},
   "source": [
    "**Número promedio de reseñas de texto entre los usuarios que calificaron más de 50 libros**"
   ]
  },
  {
   "cell_type": "code",
   "execution_count": 11,
   "metadata": {
    "trusted": true
   },
   "outputs": [
    {
     "data": {
      "text/html": [
       "<div>\n",
       "<style scoped>\n",
       "    .dataframe tbody tr th:only-of-type {\n",
       "        vertical-align: middle;\n",
       "    }\n",
       "\n",
       "    .dataframe tbody tr th {\n",
       "        vertical-align: top;\n",
       "    }\n",
       "\n",
       "    .dataframe thead th {\n",
       "        text-align: right;\n",
       "    }\n",
       "</style>\n",
       "<table border=\"1\" class=\"dataframe\">\n",
       "  <thead>\n",
       "    <tr style=\"text-align: right;\">\n",
       "      <th></th>\n",
       "      <th>avg_review</th>\n",
       "    </tr>\n",
       "  </thead>\n",
       "  <tbody>\n",
       "    <tr>\n",
       "      <th>0</th>\n",
       "      <td>24.222222</td>\n",
       "    </tr>\n",
       "  </tbody>\n",
       "</table>\n",
       "</div>"
      ],
      "text/plain": [
       "   avg_review\n",
       "0   24.222222"
      ]
     },
     "execution_count": 11,
     "metadata": {},
     "output_type": "execute_result"
    }
   ],
   "source": [
    "query = \"\"\"\n",
    "SELECT \n",
    "    AVG(total_reviews) AS avg_review\n",
    "FROM (\n",
    "    SELECT \n",
    "        reviews.username, \n",
    "        COUNT(reviews.text) AS total_reviews\n",
    "    FROM (\n",
    "        SELECT ratings.username\n",
    "        FROM ratings\n",
    "        GROUP BY ratings.username\n",
    "        HAVING COUNT(ratings.rating) >= 50\n",
    "    ) AS filtered_users\n",
    "    JOIN reviews ON filtered_users.username = reviews.username\n",
    "    GROUP BY reviews.username\n",
    ") AS user_reviews;\n",
    "\"\"\"\n",
    "df_result = pd.read_sql(query, engine)\n",
    "df_result.head()"
   ]
  },
  {
   "cell_type": "markdown",
   "metadata": {},
   "source": [
    "El promedio de reseña de texto para un usuario que calificaron más de 50 libros es 24.22 reviews, esto quiere decir que hay un grupo considerable de criticos literarios que aman leer y compartir sus opiniones con el público. Este grupo es un gran nicho de mercado que se puede atender."
   ]
  }
 ],
 "metadata": {
  "ExecuteTimeLog": [
   {
    "duration": 474,
    "start_time": "2025-03-26T13:26:43.690Z"
   },
   {
    "duration": 186,
    "start_time": "2025-03-26T13:27:19.744Z"
   },
   {
    "duration": 3622,
    "start_time": "2025-03-26T13:31:49.765Z"
   },
   {
    "duration": 377,
    "start_time": "2025-03-27T00:39:13.961Z"
   },
   {
    "duration": 3580,
    "start_time": "2025-03-27T00:39:14.342Z"
   },
   {
    "duration": 5,
    "start_time": "2025-03-27T00:41:03.661Z"
   },
   {
    "duration": 3351,
    "start_time": "2025-03-27T00:41:03.669Z"
   },
   {
    "duration": 4,
    "start_time": "2025-03-27T00:42:02.350Z"
   },
   {
    "duration": 2450,
    "start_time": "2025-03-27T00:42:04.797Z"
   },
   {
    "duration": 732,
    "start_time": "2025-03-27T00:42:27.410Z"
   },
   {
    "duration": 5,
    "start_time": "2025-03-27T00:44:22.965Z"
   },
   {
    "duration": 2690,
    "start_time": "2025-03-27T00:44:22.972Z"
   },
   {
    "duration": 808,
    "start_time": "2025-03-27T00:44:25.666Z"
   },
   {
    "duration": 808,
    "start_time": "2025-03-27T00:44:26.476Z"
   },
   {
    "duration": 808,
    "start_time": "2025-03-27T00:44:27.287Z"
   },
   {
    "duration": 811,
    "start_time": "2025-03-27T00:44:28.096Z"
   },
   {
    "duration": 809,
    "start_time": "2025-03-27T00:44:28.912Z"
   },
   {
    "duration": 809,
    "start_time": "2025-03-27T00:44:29.723Z"
   },
   {
    "duration": 5,
    "start_time": "2025-03-27T00:45:06.641Z"
   },
   {
    "duration": 1520,
    "start_time": "2025-03-27T00:47:09.545Z"
   },
   {
    "duration": 977,
    "start_time": "2025-03-27T00:47:36.343Z"
   },
   {
    "duration": 952,
    "start_time": "2025-03-27T00:48:00.637Z"
   },
   {
    "duration": 2142,
    "start_time": "2025-03-27T00:49:00.917Z"
   },
   {
    "duration": 2016,
    "start_time": "2025-03-27T00:49:16.310Z"
   },
   {
    "duration": 952,
    "start_time": "2025-03-27T00:51:38.239Z"
   },
   {
    "duration": 902,
    "start_time": "2025-03-27T01:02:22.768Z"
   },
   {
    "duration": 807,
    "start_time": "2025-03-27T01:02:43.261Z"
   },
   {
    "duration": 900,
    "start_time": "2025-03-27T01:21:07.813Z"
   },
   {
    "duration": 901,
    "start_time": "2025-03-27T01:21:25.299Z"
   },
   {
    "duration": 807,
    "start_time": "2025-03-27T01:21:48.180Z"
   },
   {
    "duration": 810,
    "start_time": "2025-03-27T01:22:00.096Z"
   },
   {
    "duration": 903,
    "start_time": "2025-03-27T01:23:59.625Z"
   },
   {
    "duration": 927,
    "start_time": "2025-03-27T01:24:27.160Z"
   },
   {
    "duration": 811,
    "start_time": "2025-03-27T01:24:44.460Z"
   },
   {
    "duration": 420,
    "start_time": "2025-03-29T20:05:54.010Z"
   },
   {
    "duration": 192,
    "start_time": "2025-03-29T20:05:54.432Z"
   },
   {
    "duration": 0,
    "start_time": "2025-03-29T20:05:54.627Z"
   },
   {
    "duration": 0,
    "start_time": "2025-03-29T20:05:54.628Z"
   },
   {
    "duration": 0,
    "start_time": "2025-03-29T20:05:54.629Z"
   },
   {
    "duration": 0,
    "start_time": "2025-03-29T20:05:54.629Z"
   },
   {
    "duration": 0,
    "start_time": "2025-03-29T20:05:54.630Z"
   },
   {
    "duration": 0,
    "start_time": "2025-03-29T20:05:54.631Z"
   },
   {
    "duration": 0,
    "start_time": "2025-03-29T20:05:54.632Z"
   },
   {
    "duration": 0,
    "start_time": "2025-03-29T20:05:54.633Z"
   },
   {
    "duration": 0,
    "start_time": "2025-03-29T20:05:54.635Z"
   },
   {
    "duration": 0,
    "start_time": "2025-03-29T20:05:54.636Z"
   },
   {
    "duration": 4,
    "start_time": "2025-03-29T20:11:09.577Z"
   },
   {
    "duration": 17,
    "start_time": "2025-03-29T20:11:12.542Z"
   },
   {
    "duration": 5,
    "start_time": "2025-03-29T20:13:36.932Z"
   },
   {
    "duration": 2882,
    "start_time": "2025-03-29T20:13:40.867Z"
   },
   {
    "duration": 11,
    "start_time": "2025-03-29T20:13:48.392Z"
   },
   {
    "duration": 2522,
    "start_time": "2025-03-29T20:13:48.408Z"
   },
   {
    "duration": 757,
    "start_time": "2025-03-29T20:13:50.945Z"
   },
   {
    "duration": 752,
    "start_time": "2025-03-29T20:13:51.705Z"
   },
   {
    "duration": 771,
    "start_time": "2025-03-29T20:13:52.459Z"
   },
   {
    "duration": 751,
    "start_time": "2025-03-29T20:13:53.232Z"
   },
   {
    "duration": 753,
    "start_time": "2025-03-29T20:13:53.987Z"
   },
   {
    "duration": 754,
    "start_time": "2025-03-29T20:13:54.742Z"
   },
   {
    "duration": 890,
    "start_time": "2025-03-29T20:13:55.502Z"
   },
   {
    "duration": 755,
    "start_time": "2025-03-29T20:13:56.400Z"
   },
   {
    "duration": 5,
    "start_time": "2025-03-29T20:13:57.157Z"
   },
   {
    "duration": 0,
    "start_time": "2025-03-29T20:13:57.164Z"
   },
   {
    "duration": 774,
    "start_time": "2025-03-29T20:14:15.335Z"
   },
   {
    "duration": 781,
    "start_time": "2025-03-29T20:41:08.385Z"
   },
   {
    "duration": 4,
    "start_time": "2025-03-29T20:48:41.857Z"
   },
   {
    "duration": 2895,
    "start_time": "2025-03-29T20:48:41.864Z"
   },
   {
    "duration": 819,
    "start_time": "2025-03-29T20:48:44.762Z"
   },
   {
    "duration": 823,
    "start_time": "2025-03-29T20:48:45.583Z"
   },
   {
    "duration": 820,
    "start_time": "2025-03-29T20:48:46.410Z"
   },
   {
    "duration": 818,
    "start_time": "2025-03-29T20:48:47.233Z"
   },
   {
    "duration": 878,
    "start_time": "2025-03-29T20:48:48.053Z"
   },
   {
    "duration": 822,
    "start_time": "2025-03-29T20:48:48.933Z"
   },
   {
    "duration": 967,
    "start_time": "2025-03-29T20:48:49.757Z"
   },
   {
    "duration": 823,
    "start_time": "2025-03-29T20:48:50.726Z"
   },
   {
    "duration": 825,
    "start_time": "2025-03-29T20:48:51.554Z"
   },
   {
    "duration": 856,
    "start_time": "2025-03-29T20:48:52.381Z"
   },
   {
    "duration": 387,
    "start_time": "2025-03-30T04:02:19.286Z"
   },
   {
    "duration": 186,
    "start_time": "2025-03-30T04:02:19.675Z"
   },
   {
    "duration": 0,
    "start_time": "2025-03-30T04:02:19.863Z"
   },
   {
    "duration": 0,
    "start_time": "2025-03-30T04:02:19.864Z"
   },
   {
    "duration": 0,
    "start_time": "2025-03-30T04:02:19.865Z"
   },
   {
    "duration": 0,
    "start_time": "2025-03-30T04:02:19.867Z"
   },
   {
    "duration": 0,
    "start_time": "2025-03-30T04:02:19.869Z"
   },
   {
    "duration": 0,
    "start_time": "2025-03-30T04:02:19.870Z"
   },
   {
    "duration": 0,
    "start_time": "2025-03-30T04:02:19.871Z"
   },
   {
    "duration": 0,
    "start_time": "2025-03-30T04:02:19.873Z"
   },
   {
    "duration": 0,
    "start_time": "2025-03-30T04:02:19.874Z"
   },
   {
    "duration": 0,
    "start_time": "2025-03-30T04:02:19.876Z"
   },
   {
    "duration": 2624,
    "start_time": "2025-03-30T04:02:40.092Z"
   },
   {
    "duration": 746,
    "start_time": "2025-03-30T04:02:42.718Z"
   },
   {
    "duration": 745,
    "start_time": "2025-03-30T04:02:43.467Z"
   },
   {
    "duration": 747,
    "start_time": "2025-03-30T04:02:44.214Z"
   },
   {
    "duration": 746,
    "start_time": "2025-03-30T04:02:44.963Z"
   },
   {
    "duration": 748,
    "start_time": "2025-03-30T04:02:45.712Z"
   },
   {
    "duration": 879,
    "start_time": "2025-03-30T04:02:46.462Z"
   },
   {
    "duration": 747,
    "start_time": "2025-03-30T04:02:47.342Z"
   },
   {
    "duration": 748,
    "start_time": "2025-03-30T04:02:48.091Z"
   },
   {
    "duration": 771,
    "start_time": "2025-03-30T04:02:51.735Z"
   },
   {
    "duration": 372,
    "start_time": "2025-03-30T18:24:17.508Z"
   },
   {
    "duration": 184,
    "start_time": "2025-03-30T18:24:20.343Z"
   },
   {
    "duration": 4,
    "start_time": "2025-03-30T18:24:27.372Z"
   },
   {
    "duration": 12,
    "start_time": "2025-03-30T18:24:27.378Z"
   },
   {
    "duration": 0,
    "start_time": "2025-03-30T18:24:27.392Z"
   },
   {
    "duration": 0,
    "start_time": "2025-03-30T18:24:27.393Z"
   },
   {
    "duration": 0,
    "start_time": "2025-03-30T18:24:27.394Z"
   },
   {
    "duration": 0,
    "start_time": "2025-03-30T18:24:27.395Z"
   },
   {
    "duration": 0,
    "start_time": "2025-03-30T18:24:27.397Z"
   },
   {
    "duration": 0,
    "start_time": "2025-03-30T18:24:27.398Z"
   },
   {
    "duration": 2748,
    "start_time": "2025-03-30T18:24:27.401Z"
   },
   {
    "duration": 744,
    "start_time": "2025-03-30T18:24:30.151Z"
   },
   {
    "duration": 749,
    "start_time": "2025-03-30T18:24:30.897Z"
   },
   {
    "duration": 767,
    "start_time": "2025-03-30T18:24:31.649Z"
   },
   {
    "duration": 749,
    "start_time": "2025-03-30T18:25:01.688Z"
   },
   {
    "duration": 745,
    "start_time": "2025-03-30T18:25:13.077Z"
   },
   {
    "duration": 747,
    "start_time": "2025-03-30T18:25:19.968Z"
   },
   {
    "duration": 744,
    "start_time": "2025-03-30T18:25:23.389Z"
   },
   {
    "duration": 743,
    "start_time": "2025-03-30T18:25:27.189Z"
   },
   {
    "duration": 742,
    "start_time": "2025-03-30T18:26:05.069Z"
   },
   {
    "duration": 872,
    "start_time": "2025-03-30T18:26:40.340Z"
   },
   {
    "duration": 743,
    "start_time": "2025-03-30T18:26:50.460Z"
   },
   {
    "duration": 745,
    "start_time": "2025-03-30T18:27:20.372Z"
   },
   {
    "duration": 745,
    "start_time": "2025-03-30T18:29:11.464Z"
   },
   {
    "duration": 766,
    "start_time": "2025-03-30T18:30:58.257Z"
   },
   {
    "duration": 744,
    "start_time": "2025-03-30T18:33:08.181Z"
   },
   {
    "duration": 743,
    "start_time": "2025-03-30T18:50:18.577Z"
   },
   {
    "duration": 153,
    "start_time": "2025-03-31T12:52:01.728Z"
   },
   {
    "duration": 371,
    "start_time": "2025-03-31T12:52:06.022Z"
   },
   {
    "duration": 2870,
    "start_time": "2025-03-31T12:52:06.395Z"
   },
   {
    "duration": 821,
    "start_time": "2025-03-31T12:52:09.267Z"
   },
   {
    "duration": 827,
    "start_time": "2025-03-31T12:52:10.090Z"
   },
   {
    "duration": 820,
    "start_time": "2025-03-31T12:52:10.918Z"
   },
   {
    "duration": 821,
    "start_time": "2025-03-31T12:52:11.740Z"
   },
   {
    "duration": 821,
    "start_time": "2025-03-31T12:52:12.562Z"
   },
   {
    "duration": 1004,
    "start_time": "2025-03-31T12:52:13.384Z"
   },
   {
    "duration": 821,
    "start_time": "2025-03-31T12:52:14.390Z"
   },
   {
    "duration": 823,
    "start_time": "2025-03-31T12:52:15.213Z"
   },
   {
    "duration": 820,
    "start_time": "2025-03-31T12:52:16.042Z"
   },
   {
    "duration": 3,
    "start_time": "2025-03-31T12:52:20.301Z"
   },
   {
    "duration": 2836,
    "start_time": "2025-03-31T12:52:22.773Z"
   },
   {
    "duration": 810,
    "start_time": "2025-03-31T12:52:25.610Z"
   },
   {
    "duration": 811,
    "start_time": "2025-03-31T12:52:26.519Z"
   },
   {
    "duration": 812,
    "start_time": "2025-03-31T12:52:27.379Z"
   },
   {
    "duration": 811,
    "start_time": "2025-03-31T12:52:29.876Z"
   },
   {
    "duration": 386,
    "start_time": "2025-03-31T18:52:20.596Z"
   },
   {
    "duration": 2535,
    "start_time": "2025-03-31T18:52:20.985Z"
   },
   {
    "duration": 719,
    "start_time": "2025-03-31T18:52:23.522Z"
   },
   {
    "duration": 724,
    "start_time": "2025-03-31T18:52:24.243Z"
   },
   {
    "duration": 721,
    "start_time": "2025-03-31T18:52:24.970Z"
   },
   {
    "duration": 722,
    "start_time": "2025-03-31T18:52:25.694Z"
   },
   {
    "duration": 719,
    "start_time": "2025-03-31T18:52:26.419Z"
   },
   {
    "duration": 849,
    "start_time": "2025-03-31T18:52:27.140Z"
   },
   {
    "duration": 722,
    "start_time": "2025-03-31T18:52:27.991Z"
   },
   {
    "duration": 1087,
    "start_time": "2025-03-31T18:52:28.716Z"
   },
   {
    "duration": 721,
    "start_time": "2025-03-31T18:52:29.805Z"
   }
  ],
  "kernelspec": {
   "display_name": "Python 3 (ipykernel)",
   "language": "python",
   "name": "python3"
  },
  "language_info": {
   "codemirror_mode": {
    "name": "ipython",
    "version": 3
   },
   "file_extension": ".py",
   "mimetype": "text/x-python",
   "name": "python",
   "nbconvert_exporter": "python",
   "pygments_lexer": "ipython3",
   "version": "3.9.19"
  },
  "toc": {
   "base_numbering": 1,
   "nav_menu": {},
   "number_sections": true,
   "sideBar": true,
   "skip_h1_title": true,
   "title_cell": "Table of Contents",
   "title_sidebar": "Contents",
   "toc_cell": false,
   "toc_position": {},
   "toc_section_display": true,
   "toc_window_display": false
  }
 },
 "nbformat": 4,
 "nbformat_minor": 2
}
