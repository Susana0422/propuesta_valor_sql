{
 "cells": [
  {
   "cell_type": "markdown",
   "metadata": {
    "id": "3rYiDeEH0q0f"
   },
   "source": [
    "# ¿Cuál es la mejor tarifa?\n",
    "\n",
    "Trabajas como analista para el operador de telecomunicaciones Megaline. La empresa ofrece a sus clientes dos tarifas de prepago, Surf y Ultimate. El departamento comercial quiere saber cuál de las tarifas genera más ingresos para poder ajustar el presupuesto de publicidad.\n",
    "\n",
    "Vas a realizar un análisis preliminar de las tarifas basado en una selección de clientes relativamente pequeña. Tendrás los datos de 500 clientes de Megaline: quiénes son los clientes, de dónde son, qué tarifa usan, así como la cantidad de llamadas que hicieron y los mensajes de texto que enviaron en 2018. Tu trabajo es analizar el comportamiento de los clientes y determinar qué tarifa de prepago genera más ingresos."
   ]
  },
  {
   "cell_type": "markdown",
   "metadata": {
    "id": "VNddPNRQ0q0w"
   },
   "source": [
    "[Te proporcionamos algunos comentarios para orientarte mientras completas este proyecto. Pero debes asegurarte de eliminar todos los comentarios entre corchetes antes de entregar tu proyecto.]\n",
    "\n",
    "[Antes de sumergirte en el análisis de datos, explica por tu propia cuenta el propósito del proyecto y las acciones que planeas realizar.]\n",
    "\n",
    "[Ten en cuenta que estudiar, modificar y analizar datos es un proceso iterativo. Es normal volver a los pasos anteriores y corregirlos/ampliarlos para permitir nuevos pasos.]"
   ]
  },
  {
   "cell_type": "markdown",
   "metadata": {
    "id": "MQi4IPy70q0y"
   },
   "source": [
    "## Inicialización"
   ]
  },
  {
   "cell_type": "code",
   "execution_count": 2,
   "metadata": {
    "id": "MtYIuBxu0q0z",
    "trusted": false
   },
   "outputs": [],
   "source": [
    "import pandas as pd\n",
    "import numpy as np\n",
    "import matplotlib.pyplot as plt\n",
    "import scipy.stats as stats\n",
    "import seaborn as sns"
   ]
  },
  {
   "cell_type": "markdown",
   "metadata": {
    "id": "4ysWWC5i0q00"
   },
   "source": [
    "## Cargar datos"
   ]
  },
  {
   "cell_type": "code",
   "execution_count": 3,
   "metadata": {
    "id": "CCqPW7rS0q01",
    "trusted": false
   },
   "outputs": [
    {
     "data": {
      "text/html": [
       "<div>\n",
       "<style scoped>\n",
       "    .dataframe tbody tr th:only-of-type {\n",
       "        vertical-align: middle;\n",
       "    }\n",
       "\n",
       "    .dataframe tbody tr th {\n",
       "        vertical-align: top;\n",
       "    }\n",
       "\n",
       "    .dataframe thead th {\n",
       "        text-align: right;\n",
       "    }\n",
       "</style>\n",
       "<table border=\"1\" class=\"dataframe\">\n",
       "  <thead>\n",
       "    <tr style=\"text-align: right;\">\n",
       "      <th></th>\n",
       "      <th>id</th>\n",
       "      <th>user_id</th>\n",
       "      <th>call_date</th>\n",
       "      <th>duration</th>\n",
       "    </tr>\n",
       "  </thead>\n",
       "  <tbody>\n",
       "    <tr>\n",
       "      <th>0</th>\n",
       "      <td>1000_93</td>\n",
       "      <td>1000</td>\n",
       "      <td>2018-12-27</td>\n",
       "      <td>8.52</td>\n",
       "    </tr>\n",
       "    <tr>\n",
       "      <th>1</th>\n",
       "      <td>1000_145</td>\n",
       "      <td>1000</td>\n",
       "      <td>2018-12-27</td>\n",
       "      <td>13.66</td>\n",
       "    </tr>\n",
       "    <tr>\n",
       "      <th>2</th>\n",
       "      <td>1000_247</td>\n",
       "      <td>1000</td>\n",
       "      <td>2018-12-27</td>\n",
       "      <td>14.48</td>\n",
       "    </tr>\n",
       "    <tr>\n",
       "      <th>3</th>\n",
       "      <td>1000_309</td>\n",
       "      <td>1000</td>\n",
       "      <td>2018-12-28</td>\n",
       "      <td>5.76</td>\n",
       "    </tr>\n",
       "    <tr>\n",
       "      <th>4</th>\n",
       "      <td>1000_380</td>\n",
       "      <td>1000</td>\n",
       "      <td>2018-12-30</td>\n",
       "      <td>4.22</td>\n",
       "    </tr>\n",
       "  </tbody>\n",
       "</table>\n",
       "</div>"
      ],
      "text/plain": [
       "         id  user_id   call_date  duration\n",
       "0   1000_93     1000  2018-12-27      8.52\n",
       "1  1000_145     1000  2018-12-27     13.66\n",
       "2  1000_247     1000  2018-12-27     14.48\n",
       "3  1000_309     1000  2018-12-28      5.76\n",
       "4  1000_380     1000  2018-12-30      4.22"
      ]
     },
     "execution_count": 3,
     "metadata": {},
     "output_type": "execute_result"
    }
   ],
   "source": [
    "# Carga los archivos de datos en diferentes DataFrames\n",
    "df_calls = pd.read_csv(r\"C:\\Users\\susan\\Downloads\\megaline_calls (1).csv\")\n",
    "df_calls.head()"
   ]
  },
  {
   "cell_type": "code",
   "execution_count": 4,
   "metadata": {
    "trusted": false
   },
   "outputs": [
    {
     "data": {
      "text/html": [
       "<div>\n",
       "<style scoped>\n",
       "    .dataframe tbody tr th:only-of-type {\n",
       "        vertical-align: middle;\n",
       "    }\n",
       "\n",
       "    .dataframe tbody tr th {\n",
       "        vertical-align: top;\n",
       "    }\n",
       "\n",
       "    .dataframe thead th {\n",
       "        text-align: right;\n",
       "    }\n",
       "</style>\n",
       "<table border=\"1\" class=\"dataframe\">\n",
       "  <thead>\n",
       "    <tr style=\"text-align: right;\">\n",
       "      <th></th>\n",
       "      <th>id</th>\n",
       "      <th>user_id</th>\n",
       "      <th>session_date</th>\n",
       "      <th>mb_used</th>\n",
       "    </tr>\n",
       "  </thead>\n",
       "  <tbody>\n",
       "    <tr>\n",
       "      <th>0</th>\n",
       "      <td>1000_13</td>\n",
       "      <td>1000</td>\n",
       "      <td>2018-12-29</td>\n",
       "      <td>89.86</td>\n",
       "    </tr>\n",
       "    <tr>\n",
       "      <th>1</th>\n",
       "      <td>1000_204</td>\n",
       "      <td>1000</td>\n",
       "      <td>2018-12-31</td>\n",
       "      <td>0.00</td>\n",
       "    </tr>\n",
       "    <tr>\n",
       "      <th>2</th>\n",
       "      <td>1000_379</td>\n",
       "      <td>1000</td>\n",
       "      <td>2018-12-28</td>\n",
       "      <td>660.40</td>\n",
       "    </tr>\n",
       "    <tr>\n",
       "      <th>3</th>\n",
       "      <td>1000_413</td>\n",
       "      <td>1000</td>\n",
       "      <td>2018-12-26</td>\n",
       "      <td>270.99</td>\n",
       "    </tr>\n",
       "    <tr>\n",
       "      <th>4</th>\n",
       "      <td>1000_442</td>\n",
       "      <td>1000</td>\n",
       "      <td>2018-12-27</td>\n",
       "      <td>880.22</td>\n",
       "    </tr>\n",
       "  </tbody>\n",
       "</table>\n",
       "</div>"
      ],
      "text/plain": [
       "         id  user_id session_date  mb_used\n",
       "0   1000_13     1000   2018-12-29    89.86\n",
       "1  1000_204     1000   2018-12-31     0.00\n",
       "2  1000_379     1000   2018-12-28   660.40\n",
       "3  1000_413     1000   2018-12-26   270.99\n",
       "4  1000_442     1000   2018-12-27   880.22"
      ]
     },
     "execution_count": 4,
     "metadata": {},
     "output_type": "execute_result"
    }
   ],
   "source": [
    "df_internet= pd.read_csv(r\"c:\\Users\\susan\\Downloads\\megaline_internet.csv\")\n",
    "df_internet.head()"
   ]
  },
  {
   "cell_type": "code",
   "execution_count": 5,
   "metadata": {
    "trusted": false
   },
   "outputs": [
    {
     "data": {
      "text/html": [
       "<div>\n",
       "<style scoped>\n",
       "    .dataframe tbody tr th:only-of-type {\n",
       "        vertical-align: middle;\n",
       "    }\n",
       "\n",
       "    .dataframe tbody tr th {\n",
       "        vertical-align: top;\n",
       "    }\n",
       "\n",
       "    .dataframe thead th {\n",
       "        text-align: right;\n",
       "    }\n",
       "</style>\n",
       "<table border=\"1\" class=\"dataframe\">\n",
       "  <thead>\n",
       "    <tr style=\"text-align: right;\">\n",
       "      <th></th>\n",
       "      <th>id</th>\n",
       "      <th>user_id</th>\n",
       "      <th>message_date</th>\n",
       "    </tr>\n",
       "  </thead>\n",
       "  <tbody>\n",
       "    <tr>\n",
       "      <th>0</th>\n",
       "      <td>1000_125</td>\n",
       "      <td>1000</td>\n",
       "      <td>2018-12-27</td>\n",
       "    </tr>\n",
       "    <tr>\n",
       "      <th>1</th>\n",
       "      <td>1000_160</td>\n",
       "      <td>1000</td>\n",
       "      <td>2018-12-31</td>\n",
       "    </tr>\n",
       "    <tr>\n",
       "      <th>2</th>\n",
       "      <td>1000_223</td>\n",
       "      <td>1000</td>\n",
       "      <td>2018-12-31</td>\n",
       "    </tr>\n",
       "    <tr>\n",
       "      <th>3</th>\n",
       "      <td>1000_251</td>\n",
       "      <td>1000</td>\n",
       "      <td>2018-12-27</td>\n",
       "    </tr>\n",
       "    <tr>\n",
       "      <th>4</th>\n",
       "      <td>1000_255</td>\n",
       "      <td>1000</td>\n",
       "      <td>2018-12-26</td>\n",
       "    </tr>\n",
       "  </tbody>\n",
       "</table>\n",
       "</div>"
      ],
      "text/plain": [
       "         id  user_id message_date\n",
       "0  1000_125     1000   2018-12-27\n",
       "1  1000_160     1000   2018-12-31\n",
       "2  1000_223     1000   2018-12-31\n",
       "3  1000_251     1000   2018-12-27\n",
       "4  1000_255     1000   2018-12-26"
      ]
     },
     "execution_count": 5,
     "metadata": {},
     "output_type": "execute_result"
    }
   ],
   "source": [
    "df_messages= pd.read_csv(r\"c:\\Users\\susan\\Downloads\\megaline_messages.csv\")\n",
    "df_messages.head()"
   ]
  },
  {
   "cell_type": "code",
   "execution_count": 6,
   "metadata": {
    "trusted": false
   },
   "outputs": [
    {
     "data": {
      "text/html": [
       "<div>\n",
       "<style scoped>\n",
       "    .dataframe tbody tr th:only-of-type {\n",
       "        vertical-align: middle;\n",
       "    }\n",
       "\n",
       "    .dataframe tbody tr th {\n",
       "        vertical-align: top;\n",
       "    }\n",
       "\n",
       "    .dataframe thead th {\n",
       "        text-align: right;\n",
       "    }\n",
       "</style>\n",
       "<table border=\"1\" class=\"dataframe\">\n",
       "  <thead>\n",
       "    <tr style=\"text-align: right;\">\n",
       "      <th></th>\n",
       "      <th>messages_included</th>\n",
       "      <th>mb_per_month_included</th>\n",
       "      <th>minutes_included</th>\n",
       "      <th>usd_monthly_pay</th>\n",
       "      <th>usd_per_gb</th>\n",
       "      <th>usd_per_message</th>\n",
       "      <th>usd_per_minute</th>\n",
       "      <th>plan_name</th>\n",
       "    </tr>\n",
       "  </thead>\n",
       "  <tbody>\n",
       "    <tr>\n",
       "      <th>0</th>\n",
       "      <td>50</td>\n",
       "      <td>15360</td>\n",
       "      <td>500</td>\n",
       "      <td>20</td>\n",
       "      <td>10</td>\n",
       "      <td>0.03</td>\n",
       "      <td>0.03</td>\n",
       "      <td>surf</td>\n",
       "    </tr>\n",
       "    <tr>\n",
       "      <th>1</th>\n",
       "      <td>1000</td>\n",
       "      <td>30720</td>\n",
       "      <td>3000</td>\n",
       "      <td>70</td>\n",
       "      <td>7</td>\n",
       "      <td>0.01</td>\n",
       "      <td>0.01</td>\n",
       "      <td>ultimate</td>\n",
       "    </tr>\n",
       "  </tbody>\n",
       "</table>\n",
       "</div>"
      ],
      "text/plain": [
       "   messages_included  mb_per_month_included  minutes_included  \\\n",
       "0                 50                  15360               500   \n",
       "1               1000                  30720              3000   \n",
       "\n",
       "   usd_monthly_pay  usd_per_gb  usd_per_message  usd_per_minute plan_name  \n",
       "0               20          10             0.03            0.03      surf  \n",
       "1               70           7             0.01            0.01  ultimate  "
      ]
     },
     "execution_count": 6,
     "metadata": {},
     "output_type": "execute_result"
    }
   ],
   "source": [
    "df_plans= pd.read_csv(r\"c:\\Users\\susan\\Downloads\\megaline_plans.csv\")\n",
    "df_plans.head()"
   ]
  },
  {
   "cell_type": "code",
   "execution_count": 7,
   "metadata": {
    "trusted": false
   },
   "outputs": [
    {
     "data": {
      "text/html": [
       "<div>\n",
       "<style scoped>\n",
       "    .dataframe tbody tr th:only-of-type {\n",
       "        vertical-align: middle;\n",
       "    }\n",
       "\n",
       "    .dataframe tbody tr th {\n",
       "        vertical-align: top;\n",
       "    }\n",
       "\n",
       "    .dataframe thead th {\n",
       "        text-align: right;\n",
       "    }\n",
       "</style>\n",
       "<table border=\"1\" class=\"dataframe\">\n",
       "  <thead>\n",
       "    <tr style=\"text-align: right;\">\n",
       "      <th></th>\n",
       "      <th>user_id</th>\n",
       "      <th>first_name</th>\n",
       "      <th>last_name</th>\n",
       "      <th>age</th>\n",
       "      <th>city</th>\n",
       "      <th>reg_date</th>\n",
       "      <th>plan</th>\n",
       "      <th>churn_date</th>\n",
       "    </tr>\n",
       "  </thead>\n",
       "  <tbody>\n",
       "    <tr>\n",
       "      <th>0</th>\n",
       "      <td>1000</td>\n",
       "      <td>Anamaria</td>\n",
       "      <td>Bauer</td>\n",
       "      <td>45</td>\n",
       "      <td>Atlanta-Sandy Springs-Roswell, GA MSA</td>\n",
       "      <td>2018-12-24</td>\n",
       "      <td>ultimate</td>\n",
       "      <td>NaN</td>\n",
       "    </tr>\n",
       "    <tr>\n",
       "      <th>1</th>\n",
       "      <td>1001</td>\n",
       "      <td>Mickey</td>\n",
       "      <td>Wilkerson</td>\n",
       "      <td>28</td>\n",
       "      <td>Seattle-Tacoma-Bellevue, WA MSA</td>\n",
       "      <td>2018-08-13</td>\n",
       "      <td>surf</td>\n",
       "      <td>NaN</td>\n",
       "    </tr>\n",
       "    <tr>\n",
       "      <th>2</th>\n",
       "      <td>1002</td>\n",
       "      <td>Carlee</td>\n",
       "      <td>Hoffman</td>\n",
       "      <td>36</td>\n",
       "      <td>Las Vegas-Henderson-Paradise, NV MSA</td>\n",
       "      <td>2018-10-21</td>\n",
       "      <td>surf</td>\n",
       "      <td>NaN</td>\n",
       "    </tr>\n",
       "    <tr>\n",
       "      <th>3</th>\n",
       "      <td>1003</td>\n",
       "      <td>Reynaldo</td>\n",
       "      <td>Jenkins</td>\n",
       "      <td>52</td>\n",
       "      <td>Tulsa, OK MSA</td>\n",
       "      <td>2018-01-28</td>\n",
       "      <td>surf</td>\n",
       "      <td>NaN</td>\n",
       "    </tr>\n",
       "    <tr>\n",
       "      <th>4</th>\n",
       "      <td>1004</td>\n",
       "      <td>Leonila</td>\n",
       "      <td>Thompson</td>\n",
       "      <td>40</td>\n",
       "      <td>Seattle-Tacoma-Bellevue, WA MSA</td>\n",
       "      <td>2018-05-23</td>\n",
       "      <td>surf</td>\n",
       "      <td>NaN</td>\n",
       "    </tr>\n",
       "  </tbody>\n",
       "</table>\n",
       "</div>"
      ],
      "text/plain": [
       "   user_id first_name  last_name  age                                   city  \\\n",
       "0     1000   Anamaria      Bauer   45  Atlanta-Sandy Springs-Roswell, GA MSA   \n",
       "1     1001     Mickey  Wilkerson   28        Seattle-Tacoma-Bellevue, WA MSA   \n",
       "2     1002     Carlee    Hoffman   36   Las Vegas-Henderson-Paradise, NV MSA   \n",
       "3     1003   Reynaldo    Jenkins   52                          Tulsa, OK MSA   \n",
       "4     1004    Leonila   Thompson   40        Seattle-Tacoma-Bellevue, WA MSA   \n",
       "\n",
       "     reg_date      plan churn_date  \n",
       "0  2018-12-24  ultimate        NaN  \n",
       "1  2018-08-13      surf        NaN  \n",
       "2  2018-10-21      surf        NaN  \n",
       "3  2018-01-28      surf        NaN  \n",
       "4  2018-05-23      surf        NaN  "
      ]
     },
     "execution_count": 7,
     "metadata": {},
     "output_type": "execute_result"
    }
   ],
   "source": [
    "df_users= pd.read_csv(r\"c:\\Users\\susan\\Downloads\\megaline_users.csv\")\n",
    "df_users.head()"
   ]
  },
  {
   "cell_type": "markdown",
   "metadata": {
    "id": "69qqoJ3r0q01"
   },
   "source": [
    "## Preparar los datos"
   ]
  },
  {
   "cell_type": "markdown",
   "metadata": {
    "id": "ohBhimvH0q01"
   },
   "source": [
    "## Tarifas"
   ]
  },
  {
   "cell_type": "code",
   "execution_count": 8,
   "metadata": {
    "id": "GptqP3Q40q02",
    "trusted": false
   },
   "outputs": [
    {
     "name": "stdout",
     "output_type": "stream",
     "text": [
      "<class 'pandas.core.frame.DataFrame'>\n",
      "RangeIndex: 2 entries, 0 to 1\n",
      "Data columns (total 8 columns):\n",
      " #   Column                 Non-Null Count  Dtype  \n",
      "---  ------                 --------------  -----  \n",
      " 0   messages_included      2 non-null      int64  \n",
      " 1   mb_per_month_included  2 non-null      int64  \n",
      " 2   minutes_included       2 non-null      int64  \n",
      " 3   usd_monthly_pay        2 non-null      int64  \n",
      " 4   usd_per_gb             2 non-null      int64  \n",
      " 5   usd_per_message        2 non-null      float64\n",
      " 6   usd_per_minute         2 non-null      float64\n",
      " 7   plan_name              2 non-null      object \n",
      "dtypes: float64(2), int64(5), object(1)\n",
      "memory usage: 260.0+ bytes\n"
     ]
    }
   ],
   "source": [
    "# Imprime la información general/resumida sobre el DataFrame de las tarifas\n",
    "df_plans.info()"
   ]
  },
  {
   "cell_type": "code",
   "execution_count": 9,
   "metadata": {
    "id": "64xzjwL70q02",
    "trusted": false
   },
   "outputs": [
    {
     "data": {
      "text/html": [
       "<div>\n",
       "<style scoped>\n",
       "    .dataframe tbody tr th:only-of-type {\n",
       "        vertical-align: middle;\n",
       "    }\n",
       "\n",
       "    .dataframe tbody tr th {\n",
       "        vertical-align: top;\n",
       "    }\n",
       "\n",
       "    .dataframe thead th {\n",
       "        text-align: right;\n",
       "    }\n",
       "</style>\n",
       "<table border=\"1\" class=\"dataframe\">\n",
       "  <thead>\n",
       "    <tr style=\"text-align: right;\">\n",
       "      <th></th>\n",
       "      <th>messages_included</th>\n",
       "      <th>mb_per_month_included</th>\n",
       "      <th>minutes_included</th>\n",
       "      <th>usd_monthly_pay</th>\n",
       "      <th>usd_per_gb</th>\n",
       "      <th>usd_per_message</th>\n",
       "      <th>usd_per_minute</th>\n",
       "      <th>plan_name</th>\n",
       "    </tr>\n",
       "  </thead>\n",
       "  <tbody>\n",
       "    <tr>\n",
       "      <th>1</th>\n",
       "      <td>1000</td>\n",
       "      <td>30720</td>\n",
       "      <td>3000</td>\n",
       "      <td>70</td>\n",
       "      <td>7</td>\n",
       "      <td>0.01</td>\n",
       "      <td>0.01</td>\n",
       "      <td>ultimate</td>\n",
       "    </tr>\n",
       "    <tr>\n",
       "      <th>0</th>\n",
       "      <td>50</td>\n",
       "      <td>15360</td>\n",
       "      <td>500</td>\n",
       "      <td>20</td>\n",
       "      <td>10</td>\n",
       "      <td>0.03</td>\n",
       "      <td>0.03</td>\n",
       "      <td>surf</td>\n",
       "    </tr>\n",
       "  </tbody>\n",
       "</table>\n",
       "</div>"
      ],
      "text/plain": [
       "   messages_included  mb_per_month_included  minutes_included  \\\n",
       "1               1000                  30720              3000   \n",
       "0                 50                  15360               500   \n",
       "\n",
       "   usd_monthly_pay  usd_per_gb  usd_per_message  usd_per_minute plan_name  \n",
       "1               70           7             0.01            0.01  ultimate  \n",
       "0               20          10             0.03            0.03      surf  "
      ]
     },
     "execution_count": 9,
     "metadata": {},
     "output_type": "execute_result"
    }
   ],
   "source": [
    "# Imprime una muestra de los datos para las tarifas\n",
    "df_plans.sample(2)"
   ]
  },
  {
   "cell_type": "markdown",
   "metadata": {
    "id": "R3C05i1l0q03"
   },
   "source": [
    "## Corregir datos"
   ]
  },
  {
   "cell_type": "markdown",
   "metadata": {
    "id": "bIi8StZI0q03"
   },
   "source": [
    "No hay valores nulos, ni valores duplicados(deja así hasta este momento)"
   ]
  },
  {
   "cell_type": "markdown",
   "metadata": {
    "id": "LJir7bml0q03"
   },
   "source": [
    "## Enriquecer los datos"
   ]
  },
  {
   "cell_type": "code",
   "execution_count": 10,
   "metadata": {
    "trusted": false
   },
   "outputs": [],
   "source": [
    "#no hacer nada por el momento para este DF"
   ]
  },
  {
   "cell_type": "markdown",
   "metadata": {
    "id": "1n2X6WXf0q04"
   },
   "source": [
    "## Usuarios/as"
   ]
  },
  {
   "cell_type": "code",
   "execution_count": 11,
   "metadata": {
    "id": "2NgjWFqx0q05",
    "trusted": false
   },
   "outputs": [
    {
     "name": "stdout",
     "output_type": "stream",
     "text": [
      "<class 'pandas.core.frame.DataFrame'>\n",
      "RangeIndex: 500 entries, 0 to 499\n",
      "Data columns (total 8 columns):\n",
      " #   Column      Non-Null Count  Dtype \n",
      "---  ------      --------------  ----- \n",
      " 0   user_id     500 non-null    int64 \n",
      " 1   first_name  500 non-null    object\n",
      " 2   last_name   500 non-null    object\n",
      " 3   age         500 non-null    int64 \n",
      " 4   city        500 non-null    object\n",
      " 5   reg_date    500 non-null    object\n",
      " 6   plan        500 non-null    object\n",
      " 7   churn_date  34 non-null     object\n",
      "dtypes: int64(2), object(6)\n",
      "memory usage: 31.4+ KB\n"
     ]
    }
   ],
   "source": [
    "# Imprime la información general/resumida sobre el DataFrame de usuarios\n",
    "df_users.info()"
   ]
  },
  {
   "cell_type": "code",
   "execution_count": 12,
   "metadata": {
    "id": "1IN1L9uh0q05",
    "trusted": false
   },
   "outputs": [
    {
     "data": {
      "text/html": [
       "<div>\n",
       "<style scoped>\n",
       "    .dataframe tbody tr th:only-of-type {\n",
       "        vertical-align: middle;\n",
       "    }\n",
       "\n",
       "    .dataframe tbody tr th {\n",
       "        vertical-align: top;\n",
       "    }\n",
       "\n",
       "    .dataframe thead th {\n",
       "        text-align: right;\n",
       "    }\n",
       "</style>\n",
       "<table border=\"1\" class=\"dataframe\">\n",
       "  <thead>\n",
       "    <tr style=\"text-align: right;\">\n",
       "      <th></th>\n",
       "      <th>user_id</th>\n",
       "      <th>first_name</th>\n",
       "      <th>last_name</th>\n",
       "      <th>age</th>\n",
       "      <th>city</th>\n",
       "      <th>reg_date</th>\n",
       "      <th>plan</th>\n",
       "      <th>churn_date</th>\n",
       "    </tr>\n",
       "  </thead>\n",
       "  <tbody>\n",
       "    <tr>\n",
       "      <th>138</th>\n",
       "      <td>1138</td>\n",
       "      <td>Arlie</td>\n",
       "      <td>Higgins</td>\n",
       "      <td>66</td>\n",
       "      <td>Riverside-San Bernardino-Ontario, CA MSA</td>\n",
       "      <td>2018-02-06</td>\n",
       "      <td>surf</td>\n",
       "      <td>NaN</td>\n",
       "    </tr>\n",
       "    <tr>\n",
       "      <th>2</th>\n",
       "      <td>1002</td>\n",
       "      <td>Carlee</td>\n",
       "      <td>Hoffman</td>\n",
       "      <td>36</td>\n",
       "      <td>Las Vegas-Henderson-Paradise, NV MSA</td>\n",
       "      <td>2018-10-21</td>\n",
       "      <td>surf</td>\n",
       "      <td>NaN</td>\n",
       "    </tr>\n",
       "    <tr>\n",
       "      <th>308</th>\n",
       "      <td>1308</td>\n",
       "      <td>Samara</td>\n",
       "      <td>Monroe</td>\n",
       "      <td>46</td>\n",
       "      <td>Virginia Beach-Norfolk-Newport News, VA-NC MSA</td>\n",
       "      <td>2018-11-22</td>\n",
       "      <td>surf</td>\n",
       "      <td>NaN</td>\n",
       "    </tr>\n",
       "    <tr>\n",
       "      <th>53</th>\n",
       "      <td>1053</td>\n",
       "      <td>Piper</td>\n",
       "      <td>Espinoza</td>\n",
       "      <td>27</td>\n",
       "      <td>New York-Newark-Jersey City, NY-NJ-PA MSA</td>\n",
       "      <td>2018-07-30</td>\n",
       "      <td>surf</td>\n",
       "      <td>NaN</td>\n",
       "    </tr>\n",
       "    <tr>\n",
       "      <th>397</th>\n",
       "      <td>1397</td>\n",
       "      <td>Willow</td>\n",
       "      <td>Steele</td>\n",
       "      <td>70</td>\n",
       "      <td>Oklahoma City, OK MSA</td>\n",
       "      <td>2018-06-01</td>\n",
       "      <td>surf</td>\n",
       "      <td>NaN</td>\n",
       "    </tr>\n",
       "    <tr>\n",
       "      <th>48</th>\n",
       "      <td>1048</td>\n",
       "      <td>Linwood</td>\n",
       "      <td>Terrell</td>\n",
       "      <td>42</td>\n",
       "      <td>Miami-Fort Lauderdale-West Palm Beach, FL MSA</td>\n",
       "      <td>2018-08-24</td>\n",
       "      <td>surf</td>\n",
       "      <td>NaN</td>\n",
       "    </tr>\n",
       "    <tr>\n",
       "      <th>251</th>\n",
       "      <td>1251</td>\n",
       "      <td>Tifany</td>\n",
       "      <td>Mcgee</td>\n",
       "      <td>45</td>\n",
       "      <td>New York-Newark-Jersey City, NY-NJ-PA MSA</td>\n",
       "      <td>2018-01-01</td>\n",
       "      <td>surf</td>\n",
       "      <td>NaN</td>\n",
       "    </tr>\n",
       "    <tr>\n",
       "      <th>47</th>\n",
       "      <td>1047</td>\n",
       "      <td>Yuk</td>\n",
       "      <td>French</td>\n",
       "      <td>22</td>\n",
       "      <td>Indianapolis-Carmel-Anderson, IN MSA</td>\n",
       "      <td>2018-06-16</td>\n",
       "      <td>ultimate</td>\n",
       "      <td>NaN</td>\n",
       "    </tr>\n",
       "    <tr>\n",
       "      <th>362</th>\n",
       "      <td>1362</td>\n",
       "      <td>Kenyetta</td>\n",
       "      <td>Mcknight</td>\n",
       "      <td>65</td>\n",
       "      <td>Denver-Aurora-Lakewood, CO MSA</td>\n",
       "      <td>2018-01-18</td>\n",
       "      <td>surf</td>\n",
       "      <td>NaN</td>\n",
       "    </tr>\n",
       "    <tr>\n",
       "      <th>487</th>\n",
       "      <td>1487</td>\n",
       "      <td>Elton</td>\n",
       "      <td>Simpson</td>\n",
       "      <td>18</td>\n",
       "      <td>Cape Coral-Fort Myers, FL MSA</td>\n",
       "      <td>2018-08-16</td>\n",
       "      <td>ultimate</td>\n",
       "      <td>NaN</td>\n",
       "    </tr>\n",
       "  </tbody>\n",
       "</table>\n",
       "</div>"
      ],
      "text/plain": [
       "     user_id first_name last_name  age  \\\n",
       "138     1138      Arlie   Higgins   66   \n",
       "2       1002     Carlee   Hoffman   36   \n",
       "308     1308     Samara    Monroe   46   \n",
       "53      1053      Piper  Espinoza   27   \n",
       "397     1397     Willow    Steele   70   \n",
       "48      1048    Linwood   Terrell   42   \n",
       "251     1251     Tifany     Mcgee   45   \n",
       "47      1047        Yuk    French   22   \n",
       "362     1362   Kenyetta  Mcknight   65   \n",
       "487     1487      Elton   Simpson   18   \n",
       "\n",
       "                                               city    reg_date      plan  \\\n",
       "138        Riverside-San Bernardino-Ontario, CA MSA  2018-02-06      surf   \n",
       "2              Las Vegas-Henderson-Paradise, NV MSA  2018-10-21      surf   \n",
       "308  Virginia Beach-Norfolk-Newport News, VA-NC MSA  2018-11-22      surf   \n",
       "53        New York-Newark-Jersey City, NY-NJ-PA MSA  2018-07-30      surf   \n",
       "397                           Oklahoma City, OK MSA  2018-06-01      surf   \n",
       "48    Miami-Fort Lauderdale-West Palm Beach, FL MSA  2018-08-24      surf   \n",
       "251       New York-Newark-Jersey City, NY-NJ-PA MSA  2018-01-01      surf   \n",
       "47             Indianapolis-Carmel-Anderson, IN MSA  2018-06-16  ultimate   \n",
       "362                  Denver-Aurora-Lakewood, CO MSA  2018-01-18      surf   \n",
       "487                   Cape Coral-Fort Myers, FL MSA  2018-08-16  ultimate   \n",
       "\n",
       "    churn_date  \n",
       "138        NaN  \n",
       "2          NaN  \n",
       "308        NaN  \n",
       "53         NaN  \n",
       "397        NaN  \n",
       "48         NaN  \n",
       "251        NaN  \n",
       "47         NaN  \n",
       "362        NaN  \n",
       "487        NaN  "
      ]
     },
     "execution_count": 12,
     "metadata": {},
     "output_type": "execute_result"
    }
   ],
   "source": [
    "# Imprime una muestra de datos para usuarios\n",
    "df_users.sample(10)"
   ]
  },
  {
   "cell_type": "code",
   "execution_count": 13,
   "metadata": {
    "trusted": false
   },
   "outputs": [
    {
     "data": {
      "text/plain": [
       "np.int64(0)"
      ]
     },
     "execution_count": 13,
     "metadata": {},
     "output_type": "execute_result"
    }
   ],
   "source": [
    "#Verificar duplicados\n",
    "df_users.duplicated().sum()"
   ]
  },
  {
   "cell_type": "markdown",
   "metadata": {},
   "source": [
    "\n",
    "1. La columna churn_date presenta valores ausentes, esta fecha decribe la fecha en la que el usuario dejó de usar el servicio (si el valor es ausente, la tarifa se estaba usando cuando fue extraída esta base de datos), se puede dar un manejo, no odificar por el momento.\n",
    "2. No hay valores duplicados.\n",
    "3. Cambiar el nombre a plan_name, ya que nos ayudará unir los DF\n"
   ]
  },
  {
   "cell_type": "markdown",
   "metadata": {
    "id": "BX5FQh_I0q06"
   },
   "source": [
    "### Corregir los datos"
   ]
  },
  {
   "cell_type": "code",
   "execution_count": 14,
   "metadata": {
    "id": "yUqX-K0C0q07",
    "trusted": false
   },
   "outputs": [
    {
     "name": "stdout",
     "output_type": "stream",
     "text": [
      "<class 'pandas.core.frame.DataFrame'>\n",
      "RangeIndex: 500 entries, 0 to 499\n",
      "Data columns (total 8 columns):\n",
      " #   Column      Non-Null Count  Dtype         \n",
      "---  ------      --------------  -----         \n",
      " 0   user_id     500 non-null    int64         \n",
      " 1   first_name  500 non-null    object        \n",
      " 2   last_name   500 non-null    object        \n",
      " 3   age         500 non-null    int64         \n",
      " 4   city        500 non-null    object        \n",
      " 5   reg_date    500 non-null    datetime64[ns]\n",
      " 6   plan        500 non-null    object        \n",
      " 7   churn_date  34 non-null     object        \n",
      "dtypes: datetime64[ns](1), int64(2), object(5)\n",
      "memory usage: 31.4+ KB\n"
     ]
    }
   ],
   "source": [
    "#Cambiar reg_date a variable fecha, ya que esta variable no está en el formato adecuado\n",
    "\n",
    "df_users['reg_date'] = pd.to_datetime(df_users['reg_date'], errors='coerce')\n",
    "df_users.info()"
   ]
  },
  {
   "cell_type": "code",
   "execution_count": 15,
   "metadata": {
    "trusted": false
   },
   "outputs": [
    {
     "name": "stdout",
     "output_type": "stream",
     "text": [
      "<class 'pandas.core.frame.DataFrame'>\n",
      "RangeIndex: 500 entries, 0 to 499\n",
      "Data columns (total 8 columns):\n",
      " #   Column      Non-Null Count  Dtype         \n",
      "---  ------      --------------  -----         \n",
      " 0   user_id     500 non-null    int64         \n",
      " 1   first_name  500 non-null    object        \n",
      " 2   last_name   500 non-null    object        \n",
      " 3   age         500 non-null    int64         \n",
      " 4   city        500 non-null    object        \n",
      " 5   reg_date    500 non-null    datetime64[ns]\n",
      " 6   plan_name   500 non-null    object        \n",
      " 7   churn_date  34 non-null     object        \n",
      "dtypes: datetime64[ns](1), int64(2), object(5)\n",
      "memory usage: 31.4+ KB\n"
     ]
    }
   ],
   "source": [
    "#Cambiar el nombre la columna plan a plan_name no servirá más adelante para unir los DF\n",
    "df_users = df_users.rename(columns={'plan': 'plan_name'})\n",
    "df_users.info()"
   ]
  },
  {
   "cell_type": "markdown",
   "metadata": {
    "id": "ycwuARJp0q07"
   },
   "source": [
    "### Enriquecer los datos"
   ]
  },
  {
   "cell_type": "code",
   "execution_count": 16,
   "metadata": {
    "id": "96NIh4CJ0q08",
    "trusted": false
   },
   "outputs": [
    {
     "name": "stdout",
     "output_type": "stream",
     "text": [
      "<class 'pandas.core.frame.DataFrame'>\n",
      "RangeIndex: 500 entries, 0 to 499\n",
      "Data columns (total 9 columns):\n",
      " #   Column      Non-Null Count  Dtype         \n",
      "---  ------      --------------  -----         \n",
      " 0   user_id     500 non-null    int64         \n",
      " 1   first_name  500 non-null    object        \n",
      " 2   last_name   500 non-null    object        \n",
      " 3   age         500 non-null    int64         \n",
      " 4   city        500 non-null    object        \n",
      " 5   reg_date    500 non-null    datetime64[ns]\n",
      " 6   plan_name   500 non-null    object        \n",
      " 7   churn_date  34 non-null     object        \n",
      " 8   month       500 non-null    int32         \n",
      "dtypes: datetime64[ns](1), int32(1), int64(2), object(5)\n",
      "memory usage: 33.3+ KB\n"
     ]
    }
   ],
   "source": [
    "#Extraer el mes\n",
    "df_users ['month'] =df_users['reg_date'].dt.month\n",
    "df_users.info()"
   ]
  },
  {
   "cell_type": "markdown",
   "metadata": {
    "id": "o7MeKCid0q08"
   },
   "source": [
    "## Llamadas"
   ]
  },
  {
   "cell_type": "code",
   "execution_count": 17,
   "metadata": {
    "id": "6dDlnoDm0q08",
    "trusted": false
   },
   "outputs": [
    {
     "name": "stdout",
     "output_type": "stream",
     "text": [
      "<class 'pandas.core.frame.DataFrame'>\n",
      "RangeIndex: 137735 entries, 0 to 137734\n",
      "Data columns (total 4 columns):\n",
      " #   Column     Non-Null Count   Dtype  \n",
      "---  ------     --------------   -----  \n",
      " 0   id         137735 non-null  object \n",
      " 1   user_id    137735 non-null  int64  \n",
      " 2   call_date  137735 non-null  object \n",
      " 3   duration   137735 non-null  float64\n",
      "dtypes: float64(1), int64(1), object(2)\n",
      "memory usage: 4.2+ MB\n"
     ]
    }
   ],
   "source": [
    "# Imprime la información general/resumida sobre el DataFrame de las llamadas\n",
    "df_calls.info()"
   ]
  },
  {
   "cell_type": "code",
   "execution_count": 18,
   "metadata": {
    "id": "kuh1vlNB0q09",
    "trusted": false
   },
   "outputs": [
    {
     "data": {
      "text/html": [
       "<div>\n",
       "<style scoped>\n",
       "    .dataframe tbody tr th:only-of-type {\n",
       "        vertical-align: middle;\n",
       "    }\n",
       "\n",
       "    .dataframe tbody tr th {\n",
       "        vertical-align: top;\n",
       "    }\n",
       "\n",
       "    .dataframe thead th {\n",
       "        text-align: right;\n",
       "    }\n",
       "</style>\n",
       "<table border=\"1\" class=\"dataframe\">\n",
       "  <thead>\n",
       "    <tr style=\"text-align: right;\">\n",
       "      <th></th>\n",
       "      <th>id</th>\n",
       "      <th>user_id</th>\n",
       "      <th>call_date</th>\n",
       "      <th>duration</th>\n",
       "    </tr>\n",
       "  </thead>\n",
       "  <tbody>\n",
       "    <tr>\n",
       "      <th>90981</th>\n",
       "      <td>1328_611</td>\n",
       "      <td>1328</td>\n",
       "      <td>2018-12-18</td>\n",
       "      <td>5.11</td>\n",
       "    </tr>\n",
       "    <tr>\n",
       "      <th>42133</th>\n",
       "      <td>1155_81</td>\n",
       "      <td>1155</td>\n",
       "      <td>2018-05-11</td>\n",
       "      <td>4.58</td>\n",
       "    </tr>\n",
       "    <tr>\n",
       "      <th>54662</th>\n",
       "      <td>1196_552</td>\n",
       "      <td>1196</td>\n",
       "      <td>2018-10-07</td>\n",
       "      <td>0.00</td>\n",
       "    </tr>\n",
       "    <tr>\n",
       "      <th>40571</th>\n",
       "      <td>1150_37</td>\n",
       "      <td>1150</td>\n",
       "      <td>2018-12-27</td>\n",
       "      <td>0.00</td>\n",
       "    </tr>\n",
       "    <tr>\n",
       "      <th>71488</th>\n",
       "      <td>1254_491</td>\n",
       "      <td>1254</td>\n",
       "      <td>2018-10-12</td>\n",
       "      <td>0.94</td>\n",
       "    </tr>\n",
       "    <tr>\n",
       "      <th>79989</th>\n",
       "      <td>1287_38</td>\n",
       "      <td>1287</td>\n",
       "      <td>2018-12-15</td>\n",
       "      <td>8.43</td>\n",
       "    </tr>\n",
       "    <tr>\n",
       "      <th>58671</th>\n",
       "      <td>1212_89</td>\n",
       "      <td>1212</td>\n",
       "      <td>2018-08-26</td>\n",
       "      <td>11.62</td>\n",
       "    </tr>\n",
       "    <tr>\n",
       "      <th>110599</th>\n",
       "      <td>1390_48</td>\n",
       "      <td>1390</td>\n",
       "      <td>2018-07-19</td>\n",
       "      <td>9.63</td>\n",
       "    </tr>\n",
       "    <tr>\n",
       "      <th>60651</th>\n",
       "      <td>1219_178</td>\n",
       "      <td>1219</td>\n",
       "      <td>2018-12-31</td>\n",
       "      <td>4.75</td>\n",
       "    </tr>\n",
       "    <tr>\n",
       "      <th>13928</th>\n",
       "      <td>1059_149</td>\n",
       "      <td>1059</td>\n",
       "      <td>2018-05-02</td>\n",
       "      <td>0.29</td>\n",
       "    </tr>\n",
       "  </tbody>\n",
       "</table>\n",
       "</div>"
      ],
      "text/plain": [
       "              id  user_id   call_date  duration\n",
       "90981   1328_611     1328  2018-12-18      5.11\n",
       "42133    1155_81     1155  2018-05-11      4.58\n",
       "54662   1196_552     1196  2018-10-07      0.00\n",
       "40571    1150_37     1150  2018-12-27      0.00\n",
       "71488   1254_491     1254  2018-10-12      0.94\n",
       "79989    1287_38     1287  2018-12-15      8.43\n",
       "58671    1212_89     1212  2018-08-26     11.62\n",
       "110599   1390_48     1390  2018-07-19      9.63\n",
       "60651   1219_178     1219  2018-12-31      4.75\n",
       "13928   1059_149     1059  2018-05-02      0.29"
      ]
     },
     "execution_count": 18,
     "metadata": {},
     "output_type": "execute_result"
    }
   ],
   "source": [
    "# Imprime una muestra de datos para las llamadas\n",
    "df_calls.sample(10)"
   ]
  },
  {
   "cell_type": "code",
   "execution_count": 19,
   "metadata": {
    "trusted": false
   },
   "outputs": [
    {
     "data": {
      "text/plain": [
       "np.int64(0)"
      ]
     },
     "execution_count": 19,
     "metadata": {},
     "output_type": "execute_result"
    }
   ],
   "source": [
    "#Verificar valores duplicados\n",
    "df_calls.duplicated().sum()"
   ]
  },
  {
   "cell_type": "markdown",
   "metadata": {
    "id": "DOAxYJSx0q09"
   },
   "source": [
    "**Análisis**:\n",
    "El DataFrame calls no tiene valores nulos, no presenta valores duplicados, pero la variable call_date debe cambiarse a datetime"
   ]
  },
  {
   "cell_type": "markdown",
   "metadata": {
    "id": "S7hzxmbX0q0-"
   },
   "source": [
    "### Corregir los datos"
   ]
  },
  {
   "cell_type": "code",
   "execution_count": 20,
   "metadata": {
    "id": "S2r8xA4f0q0-",
    "trusted": false
   },
   "outputs": [
    {
     "name": "stdout",
     "output_type": "stream",
     "text": [
      "<class 'pandas.core.frame.DataFrame'>\n",
      "RangeIndex: 137735 entries, 0 to 137734\n",
      "Data columns (total 4 columns):\n",
      " #   Column     Non-Null Count   Dtype         \n",
      "---  ------     --------------   -----         \n",
      " 0   id         137735 non-null  object        \n",
      " 1   user_id    137735 non-null  int64         \n",
      " 2   call_date  137735 non-null  datetime64[ns]\n",
      " 3   duration   137735 non-null  float64       \n",
      "dtypes: datetime64[ns](1), float64(1), int64(1), object(1)\n",
      "memory usage: 4.2+ MB\n"
     ]
    },
    {
     "name": "stderr",
     "output_type": "stream",
     "text": [
      "C:\\Users\\susan\\AppData\\Local\\Temp\\ipykernel_11396\\2805277978.py:3: UserWarning: The argument 'infer_datetime_format' is deprecated and will be removed in a future version. A strict version of it is now the default, see https://pandas.pydata.org/pdeps/0004-consistent-to-datetime-parsing.html. You can safely remove this argument.\n",
      "  df_calls['call_date'] = pd.to_datetime(df_calls['call_date'], errors='coerce', infer_datetime_format=True)\n"
     ]
    }
   ],
   "source": [
    "#Cambiar call_date a datetime\n",
    "\n",
    "df_calls['call_date'] = pd.to_datetime(df_calls['call_date'], errors='coerce', infer_datetime_format=True)\n",
    "\n",
    "df_calls.info()"
   ]
  },
  {
   "cell_type": "markdown",
   "metadata": {
    "id": "KrMgTrlG0q0_"
   },
   "source": [
    "### Enriquecer los datos"
   ]
  },
  {
   "cell_type": "code",
   "execution_count": 21,
   "metadata": {
    "id": "iZ1avpA_0q0_",
    "trusted": false
   },
   "outputs": [
    {
     "name": "stdout",
     "output_type": "stream",
     "text": [
      "<class 'pandas.core.frame.DataFrame'>\n",
      "RangeIndex: 137735 entries, 0 to 137734\n",
      "Data columns (total 5 columns):\n",
      " #   Column     Non-Null Count   Dtype         \n",
      "---  ------     --------------   -----         \n",
      " 0   id         137735 non-null  object        \n",
      " 1   user_id    137735 non-null  int64         \n",
      " 2   call_date  137735 non-null  datetime64[ns]\n",
      " 3   duration   137735 non-null  float64       \n",
      " 4   month      137735 non-null  int32         \n",
      "dtypes: datetime64[ns](1), float64(1), int32(1), int64(1), object(1)\n",
      "memory usage: 4.7+ MB\n"
     ]
    }
   ],
   "source": [
    "#Más adelante debemos fusionar la cinco tablas, voy a extraer month\n",
    "df_calls['month']=df_calls['call_date'].dt.month\n",
    "df_calls.info()"
   ]
  },
  {
   "cell_type": "code",
   "execution_count": 22,
   "metadata": {
    "trusted": false
   },
   "outputs": [
    {
     "name": "stdout",
     "output_type": "stream",
     "text": [
      "  identificador_llamada  user_id  call_date  duration  month\n",
      "0               1000_93     1000 2018-12-27      8.52     12\n",
      "1              1000_145     1000 2018-12-27     13.66     12\n",
      "2              1000_247     1000 2018-12-27     14.48     12\n",
      "3              1000_309     1000 2018-12-28      5.76     12\n",
      "4              1000_380     1000 2018-12-30      4.22     12\n"
     ]
    }
   ],
   "source": [
    "#Cambiar el nombre id a identificador_llamada para simplificar el análisis, y no generar confusión con los otros id\n",
    "df_calls = df_calls.rename(columns={'id': 'identificador_llamada'})\n",
    "\n",
    "# Verificar los primeros resultados\n",
    "print(df_calls.head())"
   ]
  },
  {
   "cell_type": "markdown",
   "metadata": {
    "id": "mOUZSi180q0_"
   },
   "source": [
    "## Mensajes"
   ]
  },
  {
   "cell_type": "code",
   "execution_count": 23,
   "metadata": {
    "id": "R-bYJpdV0q1A",
    "trusted": false
   },
   "outputs": [
    {
     "name": "stdout",
     "output_type": "stream",
     "text": [
      "<class 'pandas.core.frame.DataFrame'>\n",
      "RangeIndex: 76051 entries, 0 to 76050\n",
      "Data columns (total 3 columns):\n",
      " #   Column        Non-Null Count  Dtype \n",
      "---  ------        --------------  ----- \n",
      " 0   id            76051 non-null  object\n",
      " 1   user_id       76051 non-null  int64 \n",
      " 2   message_date  76051 non-null  object\n",
      "dtypes: int64(1), object(2)\n",
      "memory usage: 1.7+ MB\n"
     ]
    }
   ],
   "source": [
    "# Imprime la información general/resumida sobre el DataFrame de los mensajes\n",
    "df_messages.info()"
   ]
  },
  {
   "cell_type": "code",
   "execution_count": 24,
   "metadata": {
    "id": "mCEl2iGE0q1A",
    "trusted": false
   },
   "outputs": [
    {
     "data": {
      "text/html": [
       "<div>\n",
       "<style scoped>\n",
       "    .dataframe tbody tr th:only-of-type {\n",
       "        vertical-align: middle;\n",
       "    }\n",
       "\n",
       "    .dataframe tbody tr th {\n",
       "        vertical-align: top;\n",
       "    }\n",
       "\n",
       "    .dataframe thead th {\n",
       "        text-align: right;\n",
       "    }\n",
       "</style>\n",
       "<table border=\"1\" class=\"dataframe\">\n",
       "  <thead>\n",
       "    <tr style=\"text-align: right;\">\n",
       "      <th></th>\n",
       "      <th>id</th>\n",
       "      <th>user_id</th>\n",
       "      <th>message_date</th>\n",
       "    </tr>\n",
       "  </thead>\n",
       "  <tbody>\n",
       "    <tr>\n",
       "      <th>15736</th>\n",
       "      <td>1103_100</td>\n",
       "      <td>1103</td>\n",
       "      <td>2018-12-23</td>\n",
       "    </tr>\n",
       "    <tr>\n",
       "      <th>27210</th>\n",
       "      <td>1167_167</td>\n",
       "      <td>1167</td>\n",
       "      <td>2018-11-13</td>\n",
       "    </tr>\n",
       "    <tr>\n",
       "      <th>73460</th>\n",
       "      <td>1471_163</td>\n",
       "      <td>1471</td>\n",
       "      <td>2018-10-30</td>\n",
       "    </tr>\n",
       "    <tr>\n",
       "      <th>28404</th>\n",
       "      <td>1174_194</td>\n",
       "      <td>1174</td>\n",
       "      <td>2018-11-23</td>\n",
       "    </tr>\n",
       "    <tr>\n",
       "      <th>62403</th>\n",
       "      <td>1392_178</td>\n",
       "      <td>1392</td>\n",
       "      <td>2018-12-09</td>\n",
       "    </tr>\n",
       "    <tr>\n",
       "      <th>9842</th>\n",
       "      <td>1075_97</td>\n",
       "      <td>1075</td>\n",
       "      <td>2018-10-18</td>\n",
       "    </tr>\n",
       "    <tr>\n",
       "      <th>35019</th>\n",
       "      <td>1223_115</td>\n",
       "      <td>1223</td>\n",
       "      <td>2018-12-28</td>\n",
       "    </tr>\n",
       "    <tr>\n",
       "      <th>65271</th>\n",
       "      <td>1419_80</td>\n",
       "      <td>1419</td>\n",
       "      <td>2018-12-15</td>\n",
       "    </tr>\n",
       "    <tr>\n",
       "      <th>54242</th>\n",
       "      <td>1343_333</td>\n",
       "      <td>1343</td>\n",
       "      <td>2018-09-30</td>\n",
       "    </tr>\n",
       "    <tr>\n",
       "      <th>50653</th>\n",
       "      <td>1329_855</td>\n",
       "      <td>1329</td>\n",
       "      <td>2018-12-27</td>\n",
       "    </tr>\n",
       "  </tbody>\n",
       "</table>\n",
       "</div>"
      ],
      "text/plain": [
       "             id  user_id message_date\n",
       "15736  1103_100     1103   2018-12-23\n",
       "27210  1167_167     1167   2018-11-13\n",
       "73460  1471_163     1471   2018-10-30\n",
       "28404  1174_194     1174   2018-11-23\n",
       "62403  1392_178     1392   2018-12-09\n",
       "9842    1075_97     1075   2018-10-18\n",
       "35019  1223_115     1223   2018-12-28\n",
       "65271   1419_80     1419   2018-12-15\n",
       "54242  1343_333     1343   2018-09-30\n",
       "50653  1329_855     1329   2018-12-27"
      ]
     },
     "execution_count": 24,
     "metadata": {},
     "output_type": "execute_result"
    }
   ],
   "source": [
    "# Imprime una muestra de datos para los mensajes\n",
    "df_messages.sample(10)"
   ]
  },
  {
   "cell_type": "code",
   "execution_count": 25,
   "metadata": {
    "trusted": false
   },
   "outputs": [
    {
     "data": {
      "text/plain": [
       "np.int64(0)"
      ]
     },
     "execution_count": 25,
     "metadata": {},
     "output_type": "execute_result"
    }
   ],
   "source": [
    "#Verificar valores duplicados\n",
    "df_messages.duplicated().sum()"
   ]
  },
  {
   "cell_type": "markdown",
   "metadata": {
    "id": "Sprfak900q1B"
   },
   "source": [
    "### Corregir los datos"
   ]
  },
  {
   "cell_type": "markdown",
   "metadata": {
    "id": "vsllvkoa0q1B"
   },
   "source": [
    "No hay valores duplicados, ni valores nulos, solo cambiar la variable message_date a datetime"
   ]
  },
  {
   "cell_type": "code",
   "execution_count": 26,
   "metadata": {
    "trusted": false
   },
   "outputs": [
    {
     "name": "stdout",
     "output_type": "stream",
     "text": [
      "<class 'pandas.core.frame.DataFrame'>\n",
      "RangeIndex: 76051 entries, 0 to 76050\n",
      "Data columns (total 3 columns):\n",
      " #   Column        Non-Null Count  Dtype         \n",
      "---  ------        --------------  -----         \n",
      " 0   id            76051 non-null  object        \n",
      " 1   user_id       76051 non-null  int64         \n",
      " 2   message_date  76051 non-null  datetime64[ns]\n",
      "dtypes: datetime64[ns](1), int64(1), object(1)\n",
      "memory usage: 1.7+ MB\n"
     ]
    }
   ],
   "source": [
    "#Cambiar message_date a variable fecha\n",
    "df_messages['message_date'] = pd.to_datetime(df_messages['message_date'], format='%Y-%m-%d')\n",
    "df_messages.info()"
   ]
  },
  {
   "cell_type": "markdown",
   "metadata": {
    "id": "HvLid7iD0q1B"
   },
   "source": [
    "### Enriquecer los datos"
   ]
  },
  {
   "cell_type": "code",
   "execution_count": 27,
   "metadata": {
    "id": "zYEXZac10q1C",
    "trusted": false
   },
   "outputs": [
    {
     "name": "stdout",
     "output_type": "stream",
     "text": [
      "<class 'pandas.core.frame.DataFrame'>\n",
      "RangeIndex: 76051 entries, 0 to 76050\n",
      "Data columns (total 4 columns):\n",
      " #   Column        Non-Null Count  Dtype         \n",
      "---  ------        --------------  -----         \n",
      " 0   id            76051 non-null  object        \n",
      " 1   user_id       76051 non-null  int64         \n",
      " 2   message_date  76051 non-null  datetime64[ns]\n",
      " 3   month         76051 non-null  int32         \n",
      "dtypes: datetime64[ns](1), int32(1), int64(1), object(1)\n",
      "memory usage: 2.0+ MB\n"
     ]
    }
   ],
   "source": [
    "#Más adelante debemos fusionar la cinco tablas, voy a extraer month\n",
    "df_messages['month']=df_messages['message_date'].dt.month\n",
    "df_messages.info()"
   ]
  },
  {
   "cell_type": "code",
   "execution_count": 28,
   "metadata": {
    "trusted": false
   },
   "outputs": [
    {
     "data": {
      "text/html": [
       "<div>\n",
       "<style scoped>\n",
       "    .dataframe tbody tr th:only-of-type {\n",
       "        vertical-align: middle;\n",
       "    }\n",
       "\n",
       "    .dataframe tbody tr th {\n",
       "        vertical-align: top;\n",
       "    }\n",
       "\n",
       "    .dataframe thead th {\n",
       "        text-align: right;\n",
       "    }\n",
       "</style>\n",
       "<table border=\"1\" class=\"dataframe\">\n",
       "  <thead>\n",
       "    <tr style=\"text-align: right;\">\n",
       "      <th></th>\n",
       "      <th>identificador_sms</th>\n",
       "      <th>user_id</th>\n",
       "      <th>message_date</th>\n",
       "      <th>month</th>\n",
       "    </tr>\n",
       "  </thead>\n",
       "  <tbody>\n",
       "    <tr>\n",
       "      <th>0</th>\n",
       "      <td>1000_125</td>\n",
       "      <td>1000</td>\n",
       "      <td>2018-12-27</td>\n",
       "      <td>12</td>\n",
       "    </tr>\n",
       "    <tr>\n",
       "      <th>1</th>\n",
       "      <td>1000_160</td>\n",
       "      <td>1000</td>\n",
       "      <td>2018-12-31</td>\n",
       "      <td>12</td>\n",
       "    </tr>\n",
       "    <tr>\n",
       "      <th>2</th>\n",
       "      <td>1000_223</td>\n",
       "      <td>1000</td>\n",
       "      <td>2018-12-31</td>\n",
       "      <td>12</td>\n",
       "    </tr>\n",
       "    <tr>\n",
       "      <th>3</th>\n",
       "      <td>1000_251</td>\n",
       "      <td>1000</td>\n",
       "      <td>2018-12-27</td>\n",
       "      <td>12</td>\n",
       "    </tr>\n",
       "    <tr>\n",
       "      <th>4</th>\n",
       "      <td>1000_255</td>\n",
       "      <td>1000</td>\n",
       "      <td>2018-12-26</td>\n",
       "      <td>12</td>\n",
       "    </tr>\n",
       "  </tbody>\n",
       "</table>\n",
       "</div>"
      ],
      "text/plain": [
       "  identificador_sms  user_id message_date  month\n",
       "0          1000_125     1000   2018-12-27     12\n",
       "1          1000_160     1000   2018-12-31     12\n",
       "2          1000_223     1000   2018-12-31     12\n",
       "3          1000_251     1000   2018-12-27     12\n",
       "4          1000_255     1000   2018-12-26     12"
      ]
     },
     "execution_count": 28,
     "metadata": {},
     "output_type": "execute_result"
    }
   ],
   "source": [
    "#Cambiar el nombre id a identificador_sms para simplificar el análisis, y no generar confusión con los otros id\n",
    "df_messages = df_messages.rename(columns={'id': 'identificador_sms'})\n",
    "\n",
    "# Verificar los primeros resultados\n",
    "df_messages.head()"
   ]
  },
  {
   "cell_type": "markdown",
   "metadata": {
    "id": "bStkaxn40q1C"
   },
   "source": [
    "## Internet"
   ]
  },
  {
   "cell_type": "code",
   "execution_count": 29,
   "metadata": {
    "id": "e-Uz5qyn0q1C",
    "trusted": false
   },
   "outputs": [
    {
     "name": "stdout",
     "output_type": "stream",
     "text": [
      "<class 'pandas.core.frame.DataFrame'>\n",
      "RangeIndex: 104825 entries, 0 to 104824\n",
      "Data columns (total 4 columns):\n",
      " #   Column        Non-Null Count   Dtype  \n",
      "---  ------        --------------   -----  \n",
      " 0   id            104825 non-null  object \n",
      " 1   user_id       104825 non-null  int64  \n",
      " 2   session_date  104825 non-null  object \n",
      " 3   mb_used       104825 non-null  float64\n",
      "dtypes: float64(1), int64(1), object(2)\n",
      "memory usage: 3.2+ MB\n"
     ]
    }
   ],
   "source": [
    "# Imprime la información general/resumida sobre el DataFrame de internet\n",
    "df_internet.info()"
   ]
  },
  {
   "cell_type": "code",
   "execution_count": 30,
   "metadata": {
    "id": "9r3x_XLw0q1C",
    "trusted": false
   },
   "outputs": [
    {
     "data": {
      "text/html": [
       "<div>\n",
       "<style scoped>\n",
       "    .dataframe tbody tr th:only-of-type {\n",
       "        vertical-align: middle;\n",
       "    }\n",
       "\n",
       "    .dataframe tbody tr th {\n",
       "        vertical-align: top;\n",
       "    }\n",
       "\n",
       "    .dataframe thead th {\n",
       "        text-align: right;\n",
       "    }\n",
       "</style>\n",
       "<table border=\"1\" class=\"dataframe\">\n",
       "  <thead>\n",
       "    <tr style=\"text-align: right;\">\n",
       "      <th></th>\n",
       "      <th>id</th>\n",
       "      <th>user_id</th>\n",
       "      <th>session_date</th>\n",
       "      <th>mb_used</th>\n",
       "    </tr>\n",
       "  </thead>\n",
       "  <tbody>\n",
       "    <tr>\n",
       "      <th>38288</th>\n",
       "      <td>1171_659</td>\n",
       "      <td>1171</td>\n",
       "      <td>2018-08-25</td>\n",
       "      <td>509.47</td>\n",
       "    </tr>\n",
       "    <tr>\n",
       "      <th>44720</th>\n",
       "      <td>1198_94</td>\n",
       "      <td>1198</td>\n",
       "      <td>2018-09-12</td>\n",
       "      <td>0.00</td>\n",
       "    </tr>\n",
       "    <tr>\n",
       "      <th>51906</th>\n",
       "      <td>1232_504</td>\n",
       "      <td>1232</td>\n",
       "      <td>2018-10-21</td>\n",
       "      <td>293.50</td>\n",
       "    </tr>\n",
       "    <tr>\n",
       "      <th>287</th>\n",
       "      <td>1002_173</td>\n",
       "      <td>1002</td>\n",
       "      <td>2018-12-07</td>\n",
       "      <td>284.04</td>\n",
       "    </tr>\n",
       "    <tr>\n",
       "      <th>30136</th>\n",
       "      <td>1138_369</td>\n",
       "      <td>1138</td>\n",
       "      <td>2018-04-02</td>\n",
       "      <td>0.00</td>\n",
       "    </tr>\n",
       "    <tr>\n",
       "      <th>39095</th>\n",
       "      <td>1175_232</td>\n",
       "      <td>1175</td>\n",
       "      <td>2018-11-17</td>\n",
       "      <td>200.18</td>\n",
       "    </tr>\n",
       "    <tr>\n",
       "      <th>48149</th>\n",
       "      <td>1214_523</td>\n",
       "      <td>1214</td>\n",
       "      <td>2018-07-09</td>\n",
       "      <td>206.45</td>\n",
       "    </tr>\n",
       "    <tr>\n",
       "      <th>22449</th>\n",
       "      <td>1102_14</td>\n",
       "      <td>1102</td>\n",
       "      <td>2018-12-20</td>\n",
       "      <td>67.67</td>\n",
       "    </tr>\n",
       "    <tr>\n",
       "      <th>100519</th>\n",
       "      <td>1476_26</td>\n",
       "      <td>1476</td>\n",
       "      <td>2018-07-08</td>\n",
       "      <td>978.35</td>\n",
       "    </tr>\n",
       "    <tr>\n",
       "      <th>60208</th>\n",
       "      <td>1272_20</td>\n",
       "      <td>1272</td>\n",
       "      <td>2018-12-30</td>\n",
       "      <td>490.11</td>\n",
       "    </tr>\n",
       "  </tbody>\n",
       "</table>\n",
       "</div>"
      ],
      "text/plain": [
       "              id  user_id session_date  mb_used\n",
       "38288   1171_659     1171   2018-08-25   509.47\n",
       "44720    1198_94     1198   2018-09-12     0.00\n",
       "51906   1232_504     1232   2018-10-21   293.50\n",
       "287     1002_173     1002   2018-12-07   284.04\n",
       "30136   1138_369     1138   2018-04-02     0.00\n",
       "39095   1175_232     1175   2018-11-17   200.18\n",
       "48149   1214_523     1214   2018-07-09   206.45\n",
       "22449    1102_14     1102   2018-12-20    67.67\n",
       "100519   1476_26     1476   2018-07-08   978.35\n",
       "60208    1272_20     1272   2018-12-30   490.11"
      ]
     },
     "execution_count": 30,
     "metadata": {},
     "output_type": "execute_result"
    }
   ],
   "source": [
    "# Imprime una muestra de datos para el tráfico de internet\n",
    "df_internet.sample(10)\n"
   ]
  },
  {
   "cell_type": "code",
   "execution_count": 31,
   "metadata": {
    "trusted": false
   },
   "outputs": [
    {
     "data": {
      "text/plain": [
       "np.int64(0)"
      ]
     },
     "execution_count": 31,
     "metadata": {},
     "output_type": "execute_result"
    }
   ],
   "source": [
    "#Verificar valores duplicados\n",
    "df_internet.duplicated().sum()"
   ]
  },
  {
   "cell_type": "markdown",
   "metadata": {},
   "source": [
    "**Análisis:**\n",
    "No hay valores duplicados, ni valores nulos, la variable session_date se debe cambiar a datetime"
   ]
  },
  {
   "cell_type": "markdown",
   "metadata": {
    "id": "yA0tkPFg0q1D"
   },
   "source": [
    "### Corregir los datos"
   ]
  },
  {
   "cell_type": "code",
   "execution_count": 32,
   "metadata": {
    "trusted": false
   },
   "outputs": [
    {
     "name": "stdout",
     "output_type": "stream",
     "text": [
      "<class 'pandas.core.frame.DataFrame'>\n",
      "RangeIndex: 104825 entries, 0 to 104824\n",
      "Data columns (total 4 columns):\n",
      " #   Column        Non-Null Count   Dtype         \n",
      "---  ------        --------------   -----         \n",
      " 0   id            104825 non-null  object        \n",
      " 1   user_id       104825 non-null  int64         \n",
      " 2   session_date  104825 non-null  datetime64[ns]\n",
      " 3   mb_used       104825 non-null  float64       \n",
      "dtypes: datetime64[ns](1), float64(1), int64(1), object(1)\n",
      "memory usage: 3.2+ MB\n"
     ]
    }
   ],
   "source": [
    "#Cambiar la variable session_date de object a datetime\n",
    "df_internet['session_date']=pd.to_datetime(df_internet['session_date'],format='%Y-%m-%d')\n",
    "df_internet.info()"
   ]
  },
  {
   "cell_type": "markdown",
   "metadata": {
    "id": "e8_mLF4a0q1E"
   },
   "source": [
    "### Enriquecer los datos"
   ]
  },
  {
   "cell_type": "code",
   "execution_count": 33,
   "metadata": {
    "id": "ESiYPIEK0q1E",
    "trusted": false
   },
   "outputs": [
    {
     "name": "stdout",
     "output_type": "stream",
     "text": [
      "<class 'pandas.core.frame.DataFrame'>\n",
      "RangeIndex: 76051 entries, 0 to 76050\n",
      "Data columns (total 4 columns):\n",
      " #   Column             Non-Null Count  Dtype         \n",
      "---  ------             --------------  -----         \n",
      " 0   identificador_sms  76051 non-null  object        \n",
      " 1   user_id            76051 non-null  int64         \n",
      " 2   message_date       76051 non-null  datetime64[ns]\n",
      " 3   month              76051 non-null  int32         \n",
      "dtypes: datetime64[ns](1), int32(1), int64(1), object(1)\n",
      "memory usage: 2.0+ MB\n"
     ]
    }
   ],
   "source": [
    "#Más adelante debemos fusionar la cinco tablas, voy a extraer month\n",
    "df_internet['month']=df_internet['session_date'].dt.month\n",
    "df_messages.info()"
   ]
  },
  {
   "cell_type": "code",
   "execution_count": 34,
   "metadata": {
    "trusted": false
   },
   "outputs": [
    {
     "data": {
      "text/html": [
       "<div>\n",
       "<style scoped>\n",
       "    .dataframe tbody tr th:only-of-type {\n",
       "        vertical-align: middle;\n",
       "    }\n",
       "\n",
       "    .dataframe tbody tr th {\n",
       "        vertical-align: top;\n",
       "    }\n",
       "\n",
       "    .dataframe thead th {\n",
       "        text-align: right;\n",
       "    }\n",
       "</style>\n",
       "<table border=\"1\" class=\"dataframe\">\n",
       "  <thead>\n",
       "    <tr style=\"text-align: right;\">\n",
       "      <th></th>\n",
       "      <th>identificador_sesión</th>\n",
       "      <th>user_id</th>\n",
       "      <th>session_date</th>\n",
       "      <th>mb_used</th>\n",
       "      <th>month</th>\n",
       "    </tr>\n",
       "  </thead>\n",
       "  <tbody>\n",
       "    <tr>\n",
       "      <th>0</th>\n",
       "      <td>1000_13</td>\n",
       "      <td>1000</td>\n",
       "      <td>2018-12-29</td>\n",
       "      <td>89.86</td>\n",
       "      <td>12</td>\n",
       "    </tr>\n",
       "    <tr>\n",
       "      <th>1</th>\n",
       "      <td>1000_204</td>\n",
       "      <td>1000</td>\n",
       "      <td>2018-12-31</td>\n",
       "      <td>0.00</td>\n",
       "      <td>12</td>\n",
       "    </tr>\n",
       "    <tr>\n",
       "      <th>2</th>\n",
       "      <td>1000_379</td>\n",
       "      <td>1000</td>\n",
       "      <td>2018-12-28</td>\n",
       "      <td>660.40</td>\n",
       "      <td>12</td>\n",
       "    </tr>\n",
       "    <tr>\n",
       "      <th>3</th>\n",
       "      <td>1000_413</td>\n",
       "      <td>1000</td>\n",
       "      <td>2018-12-26</td>\n",
       "      <td>270.99</td>\n",
       "      <td>12</td>\n",
       "    </tr>\n",
       "    <tr>\n",
       "      <th>4</th>\n",
       "      <td>1000_442</td>\n",
       "      <td>1000</td>\n",
       "      <td>2018-12-27</td>\n",
       "      <td>880.22</td>\n",
       "      <td>12</td>\n",
       "    </tr>\n",
       "  </tbody>\n",
       "</table>\n",
       "</div>"
      ],
      "text/plain": [
       "  identificador_sesión  user_id session_date  mb_used  month\n",
       "0              1000_13     1000   2018-12-29    89.86     12\n",
       "1             1000_204     1000   2018-12-31     0.00     12\n",
       "2             1000_379     1000   2018-12-28   660.40     12\n",
       "3             1000_413     1000   2018-12-26   270.99     12\n",
       "4             1000_442     1000   2018-12-27   880.22     12"
      ]
     },
     "execution_count": 34,
     "metadata": {},
     "output_type": "execute_result"
    }
   ],
   "source": [
    "#Cambiar el nombre id a identificador_sesión para simplificar el análisis, y puede ser usado más adelante\n",
    "df_internet = df_internet.rename(columns={'id': 'identificador_sesión'})\n",
    "\n",
    "# Verificar los primeros resultados\n",
    "df_internet.head()"
   ]
  },
  {
   "cell_type": "markdown",
   "metadata": {
    "id": "3UA2cqIW0q1E"
   },
   "source": [
    "## Estudiar las condiciones de las tarifas"
   ]
  },
  {
   "cell_type": "code",
   "execution_count": 35,
   "metadata": {
    "id": "i409op8p0q1F",
    "trusted": false
   },
   "outputs": [
    {
     "name": "stdout",
     "output_type": "stream",
     "text": [
      "<class 'pandas.core.frame.DataFrame'>\n",
      "RangeIndex: 2 entries, 0 to 1\n",
      "Data columns (total 8 columns):\n",
      " #   Column                 Non-Null Count  Dtype  \n",
      "---  ------                 --------------  -----  \n",
      " 0   messages_included      2 non-null      int64  \n",
      " 1   mb_per_month_included  2 non-null      int64  \n",
      " 2   minutes_included       2 non-null      int64  \n",
      " 3   usd_monthly_pay        2 non-null      int64  \n",
      " 4   usd_per_gb             2 non-null      int64  \n",
      " 5   usd_per_message        2 non-null      float64\n",
      " 6   usd_per_minute         2 non-null      float64\n",
      " 7   plan_name              2 non-null      object \n",
      "dtypes: float64(2), int64(5), object(1)\n",
      "memory usage: 260.0+ bytes\n"
     ]
    }
   ],
   "source": [
    "# Imprime las condiciones de la tarifa y asegúrate de que te quedan claras\n",
    "df_plans.info()"
   ]
  },
  {
   "cell_type": "markdown",
   "metadata": {},
   "source": [
    "La empresa ofrece Megaline a sus clientes dos tarifas de prepago:\n",
    "\n",
    "\n",
    "**Surf:**\n",
    "\n",
    "Pago mensual: $20.  \n",
    "\n",
    "500 minutos al mes, 50 SMS y 15 GB de datos.  \n",
    "\n",
    "Si se exceden los límites del paquete:\n",
    "\n",
    "1 minuto: 3 centavos.\n",
    "\n",
    "1 SMS: 3 centavos.\n",
    "\n",
    "1 GB de datos: $10.\n",
    "\n",
    "**Ultimate:**\n",
    "\n",
    "Pago mensual: $70.\n",
    "\n",
    "3000 minutos al mes, 1000 SMS y 30 GB de datos.\n",
    "\n",
    "Si se exceden los límites del paquete:\n",
    "\n",
    "1 minuto: 1 centavo.\n",
    "\n",
    "1 SMS: 1 centavo.\n",
    "\n",
    "1 GB de datos: $7."
   ]
  },
  {
   "cell_type": "markdown",
   "metadata": {
    "id": "hMR1tP5d0q1F"
   },
   "source": [
    "## Agregar datos por usuario\n",
    "\n",
    "Agregar los datos por usuario y por periodo para que solo haya un registro por usuario y por periodo. Esto facilitará mucho el análisis posterior. Para el parámetro how se utilizó inner, ya que esté nos permite mantener solo las filas con valores coincidentes en ambas tablas."
   ]
  },
  {
   "cell_type": "code",
   "execution_count": 36,
   "metadata": {
    "scrolled": true,
    "trusted": false
   },
   "outputs": [],
   "source": [
    "# Unir df_users y df_calls por 'user_id' y 'month'\n",
    "df_merged = pd.merge(df_users, df_calls, on=['user_id', 'month'], how='inner')"
   ]
  },
  {
   "cell_type": "code",
   "execution_count": 37,
   "metadata": {
    "trusted": false
   },
   "outputs": [],
   "source": [
    "# Unir df_merged y df_internet por 'user_id' y 'month'\n",
    "df_merged = pd.merge(df_merged, df_internet, on=['user_id', 'month'], how='inner')"
   ]
  },
  {
   "cell_type": "code",
   "execution_count": 38,
   "metadata": {
    "trusted": false
   },
   "outputs": [],
   "source": [
    "# Unir df_merged y df_internet por 'user_id' y 'month'\n",
    "df_merged = pd.merge(df_merged, df_messages, on=['user_id', 'month'], how='inner')"
   ]
  },
  {
   "cell_type": "code",
   "execution_count": 39,
   "metadata": {
    "trusted": false
   },
   "outputs": [],
   "source": [
    "# Añade la información de la tarifa\n",
    "df_merged = pd.merge(df_merged, df_plans, on='plan_name', how='inner')"
   ]
  },
  {
   "cell_type": "code",
   "execution_count": 40,
   "metadata": {
    "trusted": false
   },
   "outputs": [
    {
     "data": {
      "text/plain": [
       "user_id                        0\n",
       "first_name                     0\n",
       "last_name                      0\n",
       "age                            0\n",
       "city                           0\n",
       "reg_date                       0\n",
       "plan_name                      0\n",
       "churn_date               7784977\n",
       "month                          0\n",
       "identificador_llamada          0\n",
       "call_date                      0\n",
       "duration                       0\n",
       "identificador_sesión           0\n",
       "session_date                   0\n",
       "mb_used                        0\n",
       "identificador_sms              0\n",
       "message_date                   0\n",
       "messages_included              0\n",
       "mb_per_month_included          0\n",
       "minutes_included               0\n",
       "usd_monthly_pay                0\n",
       "usd_per_gb                     0\n",
       "usd_per_message                0\n",
       "usd_per_minute                 0\n",
       "dtype: int64"
      ]
     },
     "execution_count": 40,
     "metadata": {},
     "output_type": "execute_result"
    }
   ],
   "source": [
    "#Validar valores nulos\n",
    "df_merged.isna().sum()"
   ]
  },
  {
   "cell_type": "code",
   "execution_count": 41,
   "metadata": {
    "trusted": false
   },
   "outputs": [
    {
     "name": "stdout",
     "output_type": "stream",
     "text": [
      "8059152\n"
     ]
    }
   ],
   "source": [
    "df_merged['churn_date'] = df_merged['churn_date'].fillna('otro')\n",
    "\n",
    "# Contar los valores en la columna (incluye todos los registros no nulos)\n",
    "print(df_merged['churn_date'].count())"
   ]
  },
  {
   "cell_type": "code",
   "execution_count": 42,
   "metadata": {
    "id": "A332cedB0q1G",
    "trusted": false
   },
   "outputs": [
    {
     "data": {
      "text/html": [
       "<div>\n",
       "<style scoped>\n",
       "    .dataframe tbody tr th:only-of-type {\n",
       "        vertical-align: middle;\n",
       "    }\n",
       "\n",
       "    .dataframe tbody tr th {\n",
       "        vertical-align: top;\n",
       "    }\n",
       "\n",
       "    .dataframe thead th {\n",
       "        text-align: right;\n",
       "    }\n",
       "</style>\n",
       "<table border=\"1\" class=\"dataframe\">\n",
       "  <thead>\n",
       "    <tr style=\"text-align: right;\">\n",
       "      <th></th>\n",
       "      <th>user_id</th>\n",
       "      <th>month</th>\n",
       "      <th>num_llamadas</th>\n",
       "    </tr>\n",
       "  </thead>\n",
       "  <tbody>\n",
       "    <tr>\n",
       "      <th>0</th>\n",
       "      <td>1000</td>\n",
       "      <td>12</td>\n",
       "      <td>880</td>\n",
       "    </tr>\n",
       "    <tr>\n",
       "      <th>1</th>\n",
       "      <td>1001</td>\n",
       "      <td>8</td>\n",
       "      <td>20250</td>\n",
       "    </tr>\n",
       "    <tr>\n",
       "      <th>2</th>\n",
       "      <td>1002</td>\n",
       "      <td>10</td>\n",
       "      <td>3465</td>\n",
       "    </tr>\n",
       "    <tr>\n",
       "      <th>3</th>\n",
       "      <td>1004</td>\n",
       "      <td>5</td>\n",
       "      <td>2499</td>\n",
       "    </tr>\n",
       "    <tr>\n",
       "      <th>4</th>\n",
       "      <td>1006</td>\n",
       "      <td>11</td>\n",
       "      <td>210</td>\n",
       "    </tr>\n",
       "  </tbody>\n",
       "</table>\n",
       "</div>"
      ],
      "text/plain": [
       "   user_id  month  num_llamadas\n",
       "0     1000     12           880\n",
       "1     1001      8         20250\n",
       "2     1002     10          3465\n",
       "3     1004      5          2499\n",
       "4     1006     11           210"
      ]
     },
     "execution_count": 42,
     "metadata": {},
     "output_type": "execute_result"
    }
   ],
   "source": [
    "# Calcula el número de llamadas hechas por cada usuario al mes. Guarda el resultado\n",
    "#Voy usar el identificador_llamada, ya que este identificador es único para cada llamada\n",
    "num_llamadas= df_merged.groupby(['user_id', 'month'])['identificador_llamada'].count().reset_index(name='num_llamadas')\n",
    "\n",
    "# Verificar los primeros resultados\n",
    "num_llamadas.head()"
   ]
  },
  {
   "cell_type": "code",
   "execution_count": 43,
   "metadata": {
    "id": "aw2cmuql0q1G",
    "trusted": false
   },
   "outputs": [
    {
     "name": "stdout",
     "output_type": "stream",
     "text": [
      "     user_id  month  total_minutos\n",
      "0       1000     12        6425.65\n",
      "1       1001      8      128355.00\n",
      "2       1002     10       17050.95\n",
      "3       1004      5       21608.02\n",
      "4       1006     11         978.60\n",
      "..       ...    ...            ...\n",
      "181     1479     11        4335.60\n",
      "182     1480     12      521740.20\n",
      "183     1481     12         398.28\n",
      "184     1486     12      176261.40\n",
      "185     1497     12      428621.50\n",
      "\n",
      "[186 rows x 3 columns]\n"
     ]
    }
   ],
   "source": [
    "# Calcula la cantidad de minutos usados por cada usuario al mes. Guarda el resultado.\n",
    "total_minutos= df_merged.groupby(['user_id', 'month'])['duration'].sum().reset_index(name='total_minutos')\n",
    "\n",
    "print(total_minutos)"
   ]
  },
  {
   "cell_type": "code",
   "execution_count": 44,
   "metadata": {
    "id": "CcQvNHn60q1G",
    "trusted": false
   },
   "outputs": [
    {
     "name": "stdout",
     "output_type": "stream",
     "text": [
      "     user_id  month  total_messages\n",
      "0       1000     12             880\n",
      "1       1001      8           20250\n",
      "2       1002     10            3465\n",
      "3       1004      5            2499\n",
      "4       1006     11             210\n",
      "..       ...    ...             ...\n",
      "181     1479     11             664\n",
      "182     1480     12           71400\n",
      "183     1481     12              72\n",
      "184     1486     12           24300\n",
      "185     1497     12           83700\n",
      "\n",
      "[186 rows x 3 columns]\n"
     ]
    }
   ],
   "source": [
    "# Calcula el número de mensajes enviados por cada usuario al mes. Guarda el resultado.\n",
    "#Voy usar el identificador_sms, ya que este identificador es único para cada llamada\n",
    "total_messages= df_merged.groupby(['user_id', 'month'])['identificador_sms'].count().reset_index(name='total_messages')\n",
    "\n",
    "# Ver los resultados\n",
    "print(total_messages)\n"
   ]
  },
  {
   "cell_type": "code",
   "execution_count": 45,
   "metadata": {
    "id": "H1AqN2eG0q1H",
    "trusted": false
   },
   "outputs": [
    {
     "name": "stdout",
     "output_type": "stream",
     "text": [
      "     user_id  month  volumen_internet\n",
      "0       1000     12             327.0\n",
      "1       1001      8            5474.0\n",
      "2       1002     10            1056.0\n",
      "3       1004      5             940.0\n",
      "4       1006     11              61.0\n",
      "..       ...    ...               ...\n",
      "181     1479     11             335.0\n",
      "182     1480     12           30699.0\n",
      "183     1481     12              23.0\n",
      "184     1486     12            8927.0\n",
      "185     1497     12           29285.0\n",
      "\n",
      "[186 rows x 3 columns]\n"
     ]
    }
   ],
   "source": [
    "# Calcula el volumen del tráfico de Internet usado por cada usuario al mes. Guarda el resultado.\n",
    "volumen_internet = df_merged.groupby(['user_id', 'month'])['mb_used'].sum().reset_index(name='volumen_internet')\n",
    "\n",
    "# Convertir a gigabytes, redondeando hacia arriba\n",
    "volumen_internet['volumen_internet'] = np.ceil(volumen_internet['volumen_internet'] / 1024)\n",
    "\n",
    "# Ver los resultados\n",
    "print(volumen_internet)\n"
   ]
  },
  {
   "cell_type": "code",
   "execution_count": 46,
   "metadata": {
    "trusted": false
   },
   "outputs": [
    {
     "name": "stdout",
     "output_type": "stream",
     "text": [
      "   user_id first_name last_name  age                                   city  \\\n",
      "0     1000   Anamaria     Bauer   45  Atlanta-Sandy Springs-Roswell, GA MSA   \n",
      "1     1000   Anamaria     Bauer   45  Atlanta-Sandy Springs-Roswell, GA MSA   \n",
      "2     1000   Anamaria     Bauer   45  Atlanta-Sandy Springs-Roswell, GA MSA   \n",
      "3     1000   Anamaria     Bauer   45  Atlanta-Sandy Springs-Roswell, GA MSA   \n",
      "4     1000   Anamaria     Bauer   45  Atlanta-Sandy Springs-Roswell, GA MSA   \n",
      "\n",
      "    reg_date plan_name churn_date  month identificador_llamada  ...  \\\n",
      "0 2018-12-24  ultimate       otro     12               1000_93  ...   \n",
      "1 2018-12-24  ultimate       otro     12               1000_93  ...   \n",
      "2 2018-12-24  ultimate       otro     12               1000_93  ...   \n",
      "3 2018-12-24  ultimate       otro     12               1000_93  ...   \n",
      "4 2018-12-24  ultimate       otro     12               1000_93  ...   \n",
      "\n",
      "  mb_per_month_included  minutes_included usd_monthly_pay usd_per_gb  \\\n",
      "0                 30720              3000              70          7   \n",
      "1                 30720              3000              70          7   \n",
      "2                 30720              3000              70          7   \n",
      "3                 30720              3000              70          7   \n",
      "4                 30720              3000              70          7   \n",
      "\n",
      "   usd_per_message usd_per_minute num_llamadas  total_minutos  total_messages  \\\n",
      "0             0.01           0.01          880        6425.65             880   \n",
      "1             0.01           0.01          880        6425.65             880   \n",
      "2             0.01           0.01          880        6425.65             880   \n",
      "3             0.01           0.01          880        6425.65             880   \n",
      "4             0.01           0.01          880        6425.65             880   \n",
      "\n",
      "   volumen_internet  \n",
      "0             327.0  \n",
      "1             327.0  \n",
      "2             327.0  \n",
      "3             327.0  \n",
      "4             327.0  \n",
      "\n",
      "[5 rows x 28 columns]\n"
     ]
    }
   ],
   "source": [
    "# Unir todos los DataFrames calculados con df_merged de una sola vez\n",
    "df_merged = pd.merge(df_merged, num_llamadas, on=['user_id', 'month'], how='left')\n",
    "df_merged = pd.merge(df_merged, total_minutos, on=['user_id', 'month'], how='left')\n",
    "df_merged = pd.merge(df_merged, total_messages, on=['user_id', 'month'], how='left')\n",
    "df_merged = pd.merge(df_merged, volumen_internet, on=['user_id', 'month'], how='left')\n",
    "\n",
    "# Verificar el resultado final\n",
    "print(df_merged.head())"
   ]
  },
  {
   "cell_type": "code",
   "execution_count": null,
   "metadata": {
    "trusted": false
   },
   "outputs": [
    {
     "data": {
      "text/plain": [
       "user_id                  0\n",
       "first_name               0\n",
       "last_name                0\n",
       "age                      0\n",
       "city                     0\n",
       "reg_date                 0\n",
       "plan_name                0\n",
       "churn_date               0\n",
       "month                    0\n",
       "identificador_llamada    0\n",
       "call_date                0\n",
       "duration                 0\n",
       "identificador_sesión     0\n",
       "session_date             0\n",
       "mb_used                  0\n",
       "identificador_sms        0\n",
       "message_date             0\n",
       "messages_included        0\n",
       "mb_per_month_included    0\n",
       "minutes_included         0\n",
       "usd_monthly_pay          0\n",
       "usd_per_gb               0\n",
       "usd_per_message          0\n",
       "usd_per_minute           0\n",
       "num_llamadas             0\n",
       "total_minutos            0\n",
       "total_messages           0\n",
       "volumen_internet         0\n",
       "extra_minutes            0\n",
       "extra_sms                0\n",
       "extra_data               0\n",
       "extra_charges            0\n",
       "monthly_revenue          0\n",
       "dtype: int64"
      ]
     },
     "execution_count": 59,
     "metadata": {},
     "output_type": "execute_result"
    }
   ],
   "source": [
    "#Comprobar si después de la fución se genaron valores nulos\n",
    "df_merged.isna().sum()"
   ]
  },
  {
   "cell_type": "code",
   "execution_count": 47,
   "metadata": {
    "trusted": false
   },
   "outputs": [
    {
     "name": "stdout",
     "output_type": "stream",
     "text": [
      "   user_id  month  monthly_revenue\n",
      "0     1000     12         104.2565\n",
      "1     1000     12         104.2565\n",
      "2     1000     12         104.2565\n",
      "3     1000     12         104.2565\n",
      "4     1000     12         104.2565\n"
     ]
    }
   ],
   "source": [
    "def calcular_ingreso_mensual(df):\n",
    "    # Calcular excedentes de uso y cargos adicionales\n",
    "    df['extra_minutes'] = (df['total_minutos'] - df['minutes_included']).clip(lower=0)\n",
    "    df['extra_sms'] = (df['total_messages'] - df['messages_included']).clip(lower=0)\n",
    "    df['extra_data'] = (df['volumen_internet'] - df['mb_per_month_included']).clip(lower=0)\n",
    "\n",
    "    # Multiplicar por tarifas para obtener cargos adicionales\n",
    "    df['extra_charges'] = (\n",
    "        df['extra_minutes'] * df['usd_per_minute'] +\n",
    "        df['extra_sms'] * df['usd_per_message'] +\n",
    "        df['extra_data'] * df['usd_per_gb']\n",
    "    )\n",
    "\n",
    "    # Calcular el ingreso mensual total y añadirlo al DataFrame\n",
    "    df['monthly_revenue'] = df['usd_monthly_pay'] + df['extra_charges']\n",
    "\n",
    "# Llamar a la función para actualizar el DataFrame `df_merged` directamente\n",
    "calcular_ingreso_mensual(df_merged)\n",
    "\n",
    "# Ver los primeros resultados\n",
    "print(df_merged[['user_id', 'month', 'monthly_revenue']].head())"
   ]
  },
  {
   "cell_type": "markdown",
   "metadata": {
    "id": "1IwGo4wg0q1I"
   },
   "source": [
    "Calcular los ingresos mensuales por usuario (resta el límite del paquete gratuito del número total de llamadas, mensajes de texto y datos; multiplica el resultado por el valor del plan de llamadas; añade la tarifa mensual en función del plan de llamadas)"
   ]
  },
  {
   "cell_type": "markdown",
   "metadata": {
    "id": "-jtyHzJb0q1I"
   },
   "source": [
    "## Estudia el comportamiento de usuario"
   ]
  },
  {
   "cell_type": "markdown",
   "metadata": {
    "id": "vtW4CJEe0q1J"
   },
   "source": [
    "### Llamadas"
   ]
  },
  {
   "cell_type": "code",
   "execution_count": 48,
   "metadata": {
    "id": "Jf5v5--k0q1J",
    "trusted": false
   },
   "outputs": [
    {
     "data": {
      "image/png": "[encoded data removed]",
      "text/plain": [
       "<Figure size 1000x600 with 1 Axes>"
      ]
     },
     "metadata": {},
     "output_type": "display_data"
    }
   ],
   "source": [
    "# Compara la duración promedio de llamadas por cada plan y por cada mes. Traza un gráfico de barras para visualizarla.\n",
    "promedio_llamada_por_mes = df_merged.groupby(['plan_name', 'month'])['duration'].mean().reset_index()\n",
    "\n",
    "# Traza un gráfico de barras para visualizar la duración promedio de llamadas por cada plan y mes\n",
    "promedio_llamada_por_mes.pivot(index='month', columns='plan_name', values='duration').plot(\n",
    "    kind='bar', figsize=(10, 6), title='Duración promedio de llamadas por cada plan y por cada mes'\n",
    ")\n",
    "\n",
    "plt.xlabel('Mes')\n",
    "plt.ylabel('Duración promedio de llamadas (minutos)')\n",
    "plt.show()"
   ]
  },
  {
   "cell_type": "code",
   "execution_count": 49,
   "metadata": {
    "id": "QoLqW1S_0q1J",
    "trusted": false
   },
   "outputs": [
    {
     "data": {
      "image/png": "[encoded data removed]",
      "text/plain": [
       "<Figure size 1000x600 with 1 Axes>"
      ]
     },
     "metadata": {},
     "output_type": "display_data"
    }
   ],
   "source": [
    "# Compara el número de minutos mensuales que necesitan los usuarios de cada plan. Traza un histograma.\n",
    "minutos_mensuales = df_merged.groupby(['user_id', 'plan_name', 'month'])['duration'].sum().reset_index()\n",
    "\n",
    "# Traza un histograma para visualizar el uso de minutos mensuales por cada plan\n",
    "plt.figure(figsize=(10, 6))\n",
    "for plan in minutos_mensuales['plan_name'].unique():\n",
    "    plt.hist(\n",
    "        minutos_mensuales[minutos_mensuales['plan_name'] == plan]['duration'], \n",
    "        bins=15, alpha=0.5, label=f'Plan: {plan}'\n",
    "    )\n",
    "\n",
    "plt.title('Distribución de minutos mensuales utilizados por cada plan')\n",
    "plt.xlabel('Minutos utilizados en el mes')\n",
    "plt.ylabel('Frecuencia')\n",
    "plt.legend()\n",
    "plt.show()"
   ]
  },
  {
   "cell_type": "markdown",
   "metadata": {},
   "source": [
    "Se puede visualizar que hay sesgo a la derecha, no se parece a una distribución normal"
   ]
  },
  {
   "cell_type": "markdown",
   "metadata": {
    "id": "bLS9T8OH0q1K"
   },
   "source": [
    "Calcular la media y la variable de la duración de las llamadas para averiguar si los usuarios de los distintos planes se comportan de forma diferente al realizar sus llamadas."
   ]
  },
  {
   "cell_type": "code",
   "execution_count": 50,
   "metadata": {
    "id": "oSndbAnt0q1K",
    "trusted": false
   },
   "outputs": [
    {
     "name": "stdout",
     "output_type": "stream",
     "text": [
      "  plan_name  media_duracion  varianza_duracion\n",
      "0      surf        6.889053          35.183547\n",
      "1  ultimate        6.346197          32.710686\n"
     ]
    }
   ],
   "source": [
    "# Calcula la media y la varianza de la duración mensual de llamadas.\n",
    "estadisticas_llamada = df_merged.groupby('plan_name')['duration'].agg(['mean', 'var']).reset_index()\n",
    "\n",
    "# Renombrar columnas para una mejor comprensión\n",
    "estadisticas_llamada.columns = ['plan_name', 'media_duracion', 'varianza_duracion']\n",
    "\n",
    "# Mostrar resultados\n",
    "print(estadisticas_llamada)"
   ]
  },
  {
   "cell_type": "markdown",
   "metadata": {},
   "source": [
    "El promedio de duración de las llamadas para ambos planeas está alredor de los 7 minutos"
   ]
  },
  {
   "cell_type": "code",
   "execution_count": 51,
   "metadata": {
    "id": "nZzoRUKc0q1K",
    "trusted": false
   },
   "outputs": [
    {
     "data": {
      "image/png": "[encoded data removed]",
      "text/plain": [
       "<Figure size 1000x600 with 1 Axes>"
      ]
     },
     "metadata": {},
     "output_type": "display_data"
    }
   ],
   "source": [
    "# Traza un diagrama de caja para visualizar la distribución de la duración mensual de llamadas\n",
    "plt.figure(figsize=(10, 6))\n",
    "sns.boxplot(data=df_merged, x='plan_name', y='duration', hue='plan_name', palette=\"Set2\", legend=False)\n",
    "\n",
    "# Títulos y etiquetas\n",
    "plt.title('Distribución de la Duración Mensual de Llamadas por Plan')\n",
    "plt.xlabel('Plan')\n",
    "plt.ylabel('Duración de Llamadas (minutos)')\n",
    "plt.show()"
   ]
  },
  {
   "cell_type": "markdown",
   "metadata": {
    "id": "r627zBO50q1K"
   },
   "source": [
    "***Conclusiones**\n",
    "Se comprueba, lo que el gráfico anterior nos estaba reflejando, hay valores atípico0s, se puede decir visualimente que medias son casi iguales, más adelante se comprobará o rechará esta hipótesis."
   ]
  },
  {
   "cell_type": "markdown",
   "metadata": {
    "id": "8idKy8Wh0q1L"
   },
   "source": [
    "### Mensajes"
   ]
  },
  {
   "cell_type": "code",
   "execution_count": 52,
   "metadata": {
    "id": "NXLxiTit0q1L",
    "trusted": false
   },
   "outputs": [
    {
     "data": {
      "image/png": "[encoded data removed]",
      "text/plain": [
       "<Figure size 1000x600 with 1 Axes>"
      ]
     },
     "metadata": {},
     "output_type": "display_data"
    }
   ],
   "source": [
    "# Comprara el número de mensajes que tienden a enviar cada mes los usuarios de cada plan\n",
    "mensajes_por_mes = df_merged.groupby(['plan_name', 'month'])['identificador_sms'].count().reset_index(name='total_messages')\n",
    "\n",
    "# Traza un gráfico de barras para visualizar la cantidad de mensajes por cada plan y mes\n",
    "plt.figure(figsize=(10, 6))\n",
    "sns.barplot(data=mensajes_por_mes, x='month', y='total_messages', hue='plan_name', palette='viridis')\n",
    "\n",
    "plt.title('Número de mensajes enviados por mes para cada plan')\n",
    "plt.xlabel('Mes')\n",
    "plt.ylabel('Número total de mensajes')\n",
    "plt.legend(title='Plan', loc='upper right')\n",
    "plt.show()"
   ]
  },
  {
   "cell_type": "code",
   "execution_count": 53,
   "metadata": {
    "id": "GRI_R7xF0q1L",
    "trusted": false
   },
   "outputs": [
    {
     "name": "stdout",
     "output_type": "stream",
     "text": [
      "  plan_name          media      varianza\n",
      "0      surf  199687.042750  2.623835e+10\n",
      "1  ultimate  166147.545218  2.135894e+10\n"
     ]
    }
   ],
   "source": [
    "# Calcula la media y la varianza para los mensajes.\n",
    "total_mensajes = df_merged.groupby(['user_id', 'month'])['identificador_sms'].count().reset_index(name='total_messages')\n",
    "\n",
    "# Unir total_mensajes con df_merged para incluir la columna 'plan_name'\n",
    "total_mensajes = total_mensajes.merge(df_merged[['user_id', 'month', 'plan_name']], on=['user_id', 'month'], how='left')\n",
    "\n",
    "# Calcular la media y varianza por plan\n",
    "estadisticas_mensajes = total_mensajes.groupby('plan_name')['total_messages'].agg(['mean', 'var']).reset_index()\n",
    "\n",
    "# Renombrar columnas para una mejor comprensión\n",
    "estadisticas_mensajes.columns = ['plan_name', 'media', 'varianza']\n",
    "\n",
    "# Mostrar resultados\n",
    "print(estadisticas_mensajes)"
   ]
  },
  {
   "cell_type": "markdown",
   "metadata": {
    "id": "390SSL480q1M"
   },
   "source": [
    "los comportamiento varía en función del plan y el mes, revisar si hay motivos para que el mes 12 sea el mes dónde más mensajes se enviaron"
   ]
  },
  {
   "cell_type": "markdown",
   "metadata": {
    "id": "42YSypXz0q1M"
   },
   "source": [
    "### Internet"
   ]
  },
  {
   "cell_type": "code",
   "execution_count": 54,
   "metadata": {
    "id": "lSuKPtjh0q1M",
    "trusted": false
   },
   "outputs": [
    {
     "data": {
      "image/png": "[encoded data removed]",
      "text/plain": [
       "<Figure size 1000x600 with 1 Axes>"
      ]
     },
     "metadata": {},
     "output_type": "display_data"
    }
   ],
   "source": [
    "# Compara la cantidad de tráfico de Internet consumido por usuarios por plan\n",
    "consumo_internet_por_mes = df_merged.groupby(['plan_name', 'month'])['volumen_internet'].sum().reset_index(name='total_internet')\n",
    "\n",
    "# Traza un gráfico de barras para visualizar el consumo de Internet por cada plan y mes\n",
    "plt.figure(figsize=(10, 6))\n",
    "sns.barplot(data=consumo_internet_por_mes, x='month', y='total_internet', hue='plan_name', palette='coolwarm')\n",
    "\n",
    "plt.title('Consumo de Internet por mes para cada plan')\n",
    "plt.xlabel('Mes')\n",
    "plt.ylabel('Consumo total de Internet (GB)')\n",
    "plt.legend(title='Plan', loc='upper right')\n",
    "plt.show()"
   ]
  },
  {
   "cell_type": "markdown",
   "metadata": {
    "id": "UN9zwuMP0q1N"
   },
   "source": [
    "El comportamiento de los usuarios varía en función del plan y el mes, como se ve reflejado gráficamente"
   ]
  },
  {
   "cell_type": "markdown",
   "metadata": {},
   "source": [
    "<div class=\"alert alert-block alert-warning\">\n",
    "<b>Comentario del revisor</b> <a class=\"tocSkip\"></a>\n",
    "El análisis de consumo de internet es adecuado, pero considera comentar cómo las diferencias observadas entre los planes pueden influir en la retención de los clientes o en los ingresos. También sería útil incluir un análisis sobre si existen patrones de consumo específicos para ciertos meses o grupos de usuarios.\n",
    "</div>\n"
   ]
  },
  {
   "cell_type": "markdown",
   "metadata": {
    "id": "tCijq3260q1N"
   },
   "source": [
    "## Ingreso"
   ]
  },
  {
   "cell_type": "code",
   "execution_count": 55,
   "metadata": {
    "id": "tz-dq_V00q1O",
    "trusted": false
   },
   "outputs": [
    {
     "name": "stdout",
     "output_type": "stream",
     "text": [
      "  plan_name          media      varianza  minimo       maximo  \\\n",
      "0      surf  687913.031860  5.152595e+11    20.0  2084142.236   \n",
      "1  ultimate  334019.858426  3.154661e+11    70.0  1524557.630   \n",
      "\n",
      "   desviacion_estandar  \n",
      "0        717815.773607  \n",
      "1        561663.696365  \n"
     ]
    }
   ],
   "source": [
    "# Calcular estadísticas descriptivas para los ingresos de los planes\n",
    "estadisticas_ingresos = df_merged.groupby('plan_name')['monthly_revenue'].agg(['mean', 'var', 'min', 'max', 'std']).reset_index()\n",
    "\n",
    "# Renombrar las columnas para una mejor comprensión\n",
    "estadisticas_ingresos.columns = ['plan_name', 'media', 'varianza', 'minimo', 'maximo', 'desviacion_estandar']\n",
    "\n",
    "# Mostrar los resultados\n",
    "print(estadisticas_ingresos)"
   ]
  },
  {
   "cell_type": "code",
   "execution_count": 56,
   "metadata": {
    "id": "0Y1v8ZUz0q1P",
    "trusted": false
   },
   "outputs": [
    {
     "name": "stderr",
     "output_type": "stream",
     "text": [
      "C:\\Users\\susan\\AppData\\Local\\Temp\\ipykernel_11396\\1102365302.py:3: FutureWarning: \n",
      "\n",
      "Passing `palette` without assigning `hue` is deprecated and will be removed in v0.14.0. Assign the `x` variable to `hue` and set `legend=False` for the same effect.\n",
      "\n",
      "  sns.boxplot(data=df_merged, x='plan_name', y='monthly_revenue', palette='Set2')\n"
     ]
    },
    {
     "data": {
      "image/png": "[encoded data removed]",
      "text/plain": [
       "<Figure size 1000x600 with 1 Axes>"
      ]
     },
     "metadata": {},
     "output_type": "display_data"
    }
   ],
   "source": [
    "# Traza un gráfico de caja para los ingresos por plan\n",
    "plt.figure(figsize=(10, 6))\n",
    "sns.boxplot(data=df_merged, x='plan_name', y='monthly_revenue', palette='Set2')\n",
    "\n",
    "# Título y etiquetas del gráfico\n",
    "plt.title('Distribución de los ingresos por plan')\n",
    "plt.xlabel('Plan')\n",
    "plt.ylabel('Ingresos mensuales ($)')\n",
    "\n",
    "# Mostrar el gráfico\n",
    "plt.show()"
   ]
  },
  {
   "cell_type": "markdown",
   "metadata": {
    "id": "KAFidcXZ0q1P"
   },
   "source": [
    "[Elabora las conclusiones sobre cómo difiere el ingreso entre los planes.]"
   ]
  },
  {
   "cell_type": "markdown",
   "metadata": {
    "id": "ajJ7VKeI0q1Q"
   },
   "source": [
    "## Prueba las hipótesis estadísticas"
   ]
  },
  {
   "cell_type": "markdown",
   "metadata": {
    "id": "AdXAZ-yL0q1Q"
   },
   "source": [
    "[Prueba la hipótesis de que son diferentes los ingresos promedio procedentes de los usuarios de los planes de llamada Ultimate y Surf.]"
   ]
  },
  {
   "cell_type": "markdown",
   "metadata": {
    "id": "IQwa_hsh0q1Q"
   },
   "source": [
    "**Ho:** los ingresos promedio procedentes de los usuarios de los planes de llamada Ultimate y Surf son iguales\n",
    "\n",
    "**Ha:** los ingresos promedio procedentes de los usuarios de los planes de llamada Ultimate y Surf son diferentes.\n",
    "\n",
    "Se va a probar con un nivel de confianza del 95%, por lo cual, el valor alpha será de 5%\n",
    "\n",
    "La prueba utilizada será la hipótesis sobre la igualdad de las medias de dos poblaciones"
   ]
  },
  {
   "cell_type": "code",
   "execution_count": 57,
   "metadata": {
    "id": "nFoPNlPq0q1R",
    "trusted": false
   },
   "outputs": [
    {
     "name": "stdout",
     "output_type": "stream",
     "text": [
      "Estadístico t: -693.9900801041704\n",
      "Valor p: 0.0\n",
      "Rechazamos la hipótesis nula. Los ingresos promedio son significativamente diferentes.\n"
     ]
    }
   ],
   "source": [
    "# Prueba las hipótesis\n",
    "df_ultimate = df_merged[df_merged['plan_name'] == 'ultimate']['monthly_revenue']\n",
    "df_surf = df_merged[df_merged['plan_name'] == 'surf']['monthly_revenue']\n",
    "\n",
    "# Realizar la prueba t de Student para muestras independientes\n",
    "t_stat, p_value = stats.ttest_ind(df_ultimate, df_surf)\n",
    "\n",
    "# Imprimir los resultados\n",
    "print(f'Estadístico t: {t_stat}')\n",
    "print(f'Valor p: {p_value}')\n",
    "\n",
    "# Tomar la decisión basada en el valor p\n",
    "if p_value < 0.05:\n",
    "    print(\"Rechazamos la hipótesis nula. Los ingresos promedio son significativamente diferentes.\")\n",
    "else:\n",
    "    print(\"No rechazamos la hipótesis nula. No hay evidencia suficiente para afirmar que los ingresos promedio son diferentes.\")\n"
   ]
  },
  {
   "cell_type": "markdown",
   "metadata": {
    "id": "LsBgitqj0q1R"
   },
   "source": [
    "**Ho:** la hipótesis de que el ingreso promedio de los usuarios del área NY-NJ son iguales al de los usuarios de otras regiones\n",
    "\n",
    "**Ha:** la hipótesis de que el ingreso promedio de los usuarios del área NY-NJ es diferente al de los usuarios de otras regiones\n",
    "\n",
    "Se va a probar con un nivel de confianza del 95%, por lo cual, el valor alpha será de 5%\n",
    "\n",
    "La prueba utilizada será la hipótesis sobre la igualdad de las medias de dos poblaciones"
   ]
  },
  {
   "cell_type": "code",
   "execution_count": null,
   "metadata": {
    "trusted": false
   },
   "outputs": [],
   "source": [
    "city_counts = df_merged['city'].value_counts()\n",
    "\n",
    "# Imprimir los resultados\n",
    "print(city_counts)"
   ]
  },
  {
   "cell_type": "code",
   "execution_count": 69,
   "metadata": {
    "id": "Cqcj7wrZ0q1S",
    "trusted": false
   },
   "outputs": [
    {
     "name": "stdout",
     "output_type": "stream",
     "text": [
      "Estadístico t: 369.1930\n",
      "Valor p: 0.0000\n",
      "Rechazamos la hipótesis nula. Los ingresos promedio son significativamente diferentes entre las dos regiones.\n"
     ]
    }
   ],
   "source": [
    "# Prueba las hipótesis\n",
    "# Filtrar los datos para los usuarios de la región NY-NJ y otras regiones\n",
    "df_nynj = df_merged[df_merged['city'] == 'New York-Newark-Jersey City, NY-NJ-PA MSA']['monthly_revenue']\n",
    "df_otros = df_merged[df_merged['city'] != 'New York-Newark-Jersey City, NY-NJ-PA MSA']['monthly_revenue']\n",
    "\n",
    "# Realizar la prueba t de Student para muestras independientes\n",
    "t_stat, p_value = stats.ttest_ind(df_nynj, df_otros, equal_var=False)  # `equal_var=False` para varianzas diferentes\n",
    "\n",
    "# Imprimir los resultados\n",
    "print(f'Estadístico t: {t_stat:.4f}')\n",
    "print(f'Valor p: {p_value:.4f}')\n",
    "\n",
    "# Tomar la decisión basada en el valor p\n",
    "if p_value < 0.05:\n",
    "    print(\"Rechazamos la hipótesis nula. Los ingresos promedio son significativamente diferentes entre las dos regiones.\")\n",
    "else:\n",
    "    print(\"No rechazamos la hipótesis nula. No hay evidencia suficiente para afirmar que los ingresos promedio son diferentes.\")\n"
   ]
  },
  {
   "cell_type": "markdown",
   "metadata": {
    "id": "bbTR8UQO0q1T"
   },
   "source": [
    "## Conclusión general\n",
    "\n",
    "1. En principio, se pensó que la media para ambos planes iban hacer iguales pero después de realizar pruebas estadisticas, se evidención que no.\n",
    "2.  Se rechaza la hipótesis nula los ingreso promedio de los usuarios del área NY-NJ es diferente al de los usuarios de otras regiones, se debe hacer campañas sectorizadas para esta región"
   ]
  }
 ],
 "metadata": {
  "ExecuteTimeLog": [
   {
    "duration": 828,
    "start_time": "2021-11-16T09:21:11.304Z"
   },
   {
    "duration": 893,
    "start_time": "2021-11-16T09:21:17.728Z"
   },
   {
    "duration": 1150,
    "start_time": "2021-11-16T09:21:29.568Z"
   },
   {
    "duration": 3,
    "start_time": "2021-11-16T09:24:14.495Z"
   },
   {
    "duration": 120,
    "start_time": "2021-11-16T09:24:46.630Z"
   },
   {
    "duration": 3,
    "start_time": "2021-11-16T09:28:27.882Z"
   },
   {
    "duration": 4,
    "start_time": "2021-11-16T09:29:54.281Z"
   },
   {
    "duration": 3,
    "start_time": "2021-11-16T09:30:45.936Z"
   },
   {
    "duration": 4,
    "start_time": "2021-11-16T09:31:06.300Z"
   },
   {
    "duration": 113,
    "start_time": "2021-11-16T09:31:37.208Z"
   },
   {
    "duration": 143,
    "start_time": "2021-11-16T09:31:48.656Z"
   },
   {
    "duration": 98,
    "start_time": "2021-11-16T09:31:55.678Z"
   },
   {
    "duration": 3,
    "start_time": "2021-11-16T09:32:08.535Z"
   },
   {
    "duration": 111,
    "start_time": "2021-11-16T09:32:10.120Z"
   },
   {
    "duration": 3,
    "start_time": "2021-11-16T09:32:15.732Z"
   },
   {
    "duration": 4,
    "start_time": "2021-11-16T09:32:29.423Z"
   },
   {
    "duration": 3,
    "start_time": "2021-11-16T10:03:03.074Z"
   },
   {
    "duration": 3,
    "start_time": "2021-11-16T10:10:01.288Z"
   },
   {
    "duration": 3,
    "start_time": "2021-11-16T10:10:46.923Z"
   },
   {
    "duration": 121,
    "start_time": "2021-11-16T10:37:46.494Z"
   },
   {
    "duration": 125,
    "start_time": "2021-11-16T10:38:20.632Z"
   },
   {
    "duration": 112,
    "start_time": "2021-11-16T10:46:53.001Z"
   },
   {
    "duration": 110,
    "start_time": "2021-11-16T10:48:25.775Z"
   },
   {
    "duration": 3,
    "start_time": "2021-11-16T10:50:18.720Z"
   },
   {
    "duration": 4,
    "start_time": "2021-11-16T10:50:37.649Z"
   },
   {
    "duration": 2,
    "start_time": "2021-11-16T10:50:51.884Z"
   },
   {
    "duration": 3,
    "start_time": "2021-11-16T10:51:56.237Z"
   },
   {
    "duration": 101,
    "start_time": "2021-11-16T10:53:13.791Z"
   },
   {
    "duration": 3,
    "start_time": "2021-11-16T10:55:59.186Z"
   },
   {
    "duration": 3,
    "start_time": "2021-11-16T10:56:10.751Z"
   },
   {
    "duration": 3,
    "start_time": "2021-11-16T10:56:49.038Z"
   },
   {
    "duration": 3,
    "start_time": "2021-11-16T10:56:49.174Z"
   },
   {
    "duration": 4,
    "start_time": "2021-11-16T10:56:49.414Z"
   },
   {
    "duration": 3,
    "start_time": "2021-11-16T10:56:49.680Z"
   },
   {
    "duration": 3,
    "start_time": "2021-11-16T10:56:50.370Z"
   },
   {
    "duration": 114,
    "start_time": "2021-11-16T10:59:34.518Z"
   },
   {
    "duration": 3,
    "start_time": "2021-11-16T11:01:41.201Z"
   },
   {
    "duration": 116,
    "start_time": "2021-11-16T11:01:48.754Z"
   },
   {
    "duration": 3,
    "start_time": "2021-11-16T11:02:16.685Z"
   },
   {
    "duration": 3,
    "start_time": "2021-11-16T11:02:19.479Z"
   },
   {
    "duration": 3,
    "start_time": "2021-11-16T11:02:47.067Z"
   },
   {
    "duration": 3,
    "start_time": "2021-11-16T11:02:49.353Z"
   },
   {
    "duration": 3,
    "start_time": "2021-11-16T11:03:07.835Z"
   },
   {
    "duration": 3,
    "start_time": "2021-11-16T11:03:07.953Z"
   },
   {
    "duration": 112,
    "start_time": "2021-11-16T11:07:52.072Z"
   },
   {
    "duration": 187,
    "start_time": "2021-11-16T11:09:23.468Z"
   },
   {
    "duration": 4,
    "start_time": "2021-11-16T11:10:01.455Z"
   },
   {
    "duration": 3,
    "start_time": "2021-11-16T11:10:05.069Z"
   },
   {
    "duration": 4,
    "start_time": "2021-11-16T11:10:13.376Z"
   },
   {
    "duration": 3,
    "start_time": "2021-11-16T11:10:14.434Z"
   },
   {
    "duration": 3,
    "start_time": "2021-11-16T11:10:22.853Z"
   },
   {
    "duration": 4,
    "start_time": "2021-11-16T11:27:29.279Z"
   },
   {
    "duration": 4,
    "start_time": "2021-11-16T11:29:08.919Z"
   },
   {
    "duration": 118,
    "start_time": "2021-11-16T11:29:46.703Z"
   },
   {
    "duration": 437,
    "start_time": "2021-11-16T11:36:02.181Z"
   },
   {
    "duration": 157,
    "start_time": "2021-11-16T11:36:14.388Z"
   },
   {
    "duration": 207,
    "start_time": "2021-11-16T11:47:15.898Z"
   },
   {
    "duration": 3,
    "start_time": "2021-11-16T11:53:52.092Z"
   },
   {
    "duration": 3,
    "start_time": "2021-11-16T11:53:52.236Z"
   },
   {
    "duration": 3,
    "start_time": "2021-11-16T11:59:12.005Z"
   },
   {
    "duration": 112,
    "start_time": "2021-11-16T12:00:33.446Z"
   },
   {
    "duration": 3,
    "start_time": "2021-11-16T12:02:14.453Z"
   },
   {
    "duration": 3,
    "start_time": "2021-11-16T12:02:39.512Z"
   },
   {
    "duration": 106,
    "start_time": "2021-11-16T12:03:03.460Z"
   },
   {
    "duration": 3,
    "start_time": "2021-11-17T20:37:21.139Z"
   },
   {
    "duration": 3,
    "start_time": "2021-11-17T20:37:22.229Z"
   },
   {
    "duration": 3,
    "start_time": "2021-11-17T20:38:38.806Z"
   },
   {
    "duration": 3,
    "start_time": "2021-11-17T20:38:41.958Z"
   },
   {
    "duration": 3,
    "start_time": "2021-11-17T20:43:46.551Z"
   },
   {
    "duration": 4,
    "start_time": "2021-11-17T20:58:21.835Z"
   },
   {
    "duration": 3,
    "start_time": "2021-11-17T20:59:21.872Z"
   },
   {
    "duration": 4,
    "start_time": "2021-11-17T20:59:45.352Z"
   },
   {
    "duration": 4,
    "start_time": "2021-11-17T20:59:49.646Z"
   },
   {
    "duration": 159,
    "start_time": "2021-11-17T21:02:26.949Z"
   },
   {
    "duration": 3,
    "start_time": "2021-11-17T21:03:53.461Z"
   },
   {
    "duration": 3,
    "start_time": "2021-11-17T21:03:53.694Z"
   },
   {
    "duration": 3,
    "start_time": "2021-11-17T21:05:28.145Z"
   },
   {
    "duration": 116,
    "start_time": "2021-11-17T21:05:57.787Z"
   },
   {
    "duration": 3,
    "start_time": "2021-11-17T21:06:37.993Z"
   },
   {
    "duration": 3,
    "start_time": "2021-11-17T21:06:38.261Z"
   },
   {
    "duration": 3,
    "start_time": "2021-11-17T21:11:54.358Z"
   },
   {
    "duration": 3,
    "start_time": "2021-11-17T21:12:43.846Z"
   },
   {
    "duration": 4,
    "start_time": "2021-11-17T21:13:08.773Z"
   },
   {
    "duration": 3,
    "start_time": "2021-11-17T21:14:44.441Z"
   },
   {
    "duration": 3,
    "start_time": "2021-11-17T21:15:42.059Z"
   },
   {
    "duration": 4,
    "start_time": "2021-11-17T21:15:51.995Z"
   },
   {
    "duration": 3,
    "start_time": "2021-11-17T21:15:53.923Z"
   },
   {
    "duration": 3,
    "start_time": "2021-11-17T21:15:55.282Z"
   },
   {
    "duration": 3,
    "start_time": "2021-11-17T21:16:28.492Z"
   },
   {
    "duration": 3,
    "start_time": "2021-11-17T21:16:32.603Z"
   },
   {
    "duration": 3,
    "start_time": "2021-11-17T21:17:06.941Z"
   },
   {
    "duration": 98,
    "start_time": "2021-11-17T21:18:05.733Z"
   },
   {
    "duration": 4,
    "start_time": "2021-11-17T21:21:35.255Z"
   },
   {
    "duration": 3,
    "start_time": "2021-11-17T21:21:37.804Z"
   },
   {
    "duration": 4,
    "start_time": "2021-11-17T21:23:06.071Z"
   },
   {
    "duration": 3,
    "start_time": "2021-11-17T21:23:24.799Z"
   },
   {
    "duration": 3,
    "start_time": "2021-11-17T21:23:32.591Z"
   },
   {
    "duration": 98,
    "start_time": "2021-11-17T21:28:31.559Z"
   },
   {
    "duration": 3,
    "start_time": "2021-11-17T21:28:45.448Z"
   },
   {
    "duration": 3,
    "start_time": "2021-11-17T21:29:17.303Z"
   },
   {
    "duration": 3,
    "start_time": "2021-11-17T21:29:29.617Z"
   },
   {
    "duration": 3,
    "start_time": "2021-11-17T21:29:32.681Z"
   },
   {
    "duration": 3,
    "start_time": "2021-11-17T21:36:11.474Z"
   },
   {
    "duration": 3,
    "start_time": "2021-11-17T21:36:14.791Z"
   },
   {
    "duration": 3,
    "start_time": "2021-11-17T21:36:53.943Z"
   },
   {
    "duration": 3,
    "start_time": "2021-11-17T21:36:56.165Z"
   },
   {
    "duration": 4,
    "start_time": "2021-11-17T21:37:16.590Z"
   },
   {
    "duration": 3,
    "start_time": "2021-11-17T21:37:22.702Z"
   },
   {
    "duration": 4,
    "start_time": "2021-11-17T21:38:03.479Z"
   },
   {
    "duration": 3,
    "start_time": "2021-11-17T21:38:08.601Z"
   },
   {
    "duration": 3,
    "start_time": "2021-11-17T21:38:12.928Z"
   },
   {
    "duration": 3,
    "start_time": "2021-11-17T21:38:48.896Z"
   },
   {
    "duration": 2,
    "start_time": "2021-11-17T21:38:49.171Z"
   },
   {
    "duration": 4,
    "start_time": "2021-11-17T21:39:57.889Z"
   },
   {
    "duration": 3,
    "start_time": "2021-11-17T21:39:58.057Z"
   },
   {
    "duration": 3,
    "start_time": "2021-11-17T21:41:20.108Z"
   },
   {
    "duration": 3,
    "start_time": "2021-11-17T21:41:20.629Z"
   },
   {
    "duration": 3,
    "start_time": "2021-11-17T21:42:49.136Z"
   },
   {
    "duration": 3,
    "start_time": "2021-11-17T21:43:15.137Z"
   },
   {
    "duration": 4,
    "start_time": "2021-11-17T21:43:16.766Z"
   },
   {
    "duration": 4,
    "start_time": "2021-11-17T21:43:31.711Z"
   },
   {
    "duration": 3,
    "start_time": "2021-11-17T21:43:36.312Z"
   },
   {
    "duration": 4,
    "start_time": "2021-11-17T21:45:08.825Z"
   },
   {
    "duration": 4,
    "start_time": "2021-11-17T21:45:10.119Z"
   },
   {
    "duration": 4,
    "start_time": "2021-11-17T21:45:13.748Z"
   },
   {
    "duration": 3,
    "start_time": "2021-11-17T21:45:22.219Z"
   },
   {
    "duration": 3,
    "start_time": "2021-11-17T21:45:33.412Z"
   },
   {
    "duration": 2,
    "start_time": "2021-11-17T21:46:01.885Z"
   },
   {
    "duration": 3,
    "start_time": "2021-11-17T21:46:03.628Z"
   },
   {
    "duration": 107,
    "start_time": "2021-11-17T21:47:32.512Z"
   },
   {
    "duration": 103,
    "start_time": "2021-11-17T21:50:36.243Z"
   },
   {
    "duration": 3,
    "start_time": "2021-11-18T06:28:31.440Z"
   },
   {
    "duration": 3,
    "start_time": "2021-11-18T06:29:00.168Z"
   },
   {
    "duration": 3,
    "start_time": "2021-11-18T06:31:27.008Z"
   },
   {
    "duration": 2,
    "start_time": "2021-11-18T06:35:34.288Z"
   },
   {
    "duration": 2,
    "start_time": "2021-11-18T06:38:04.527Z"
   },
   {
    "duration": 2460,
    "start_time": "2024-11-09T19:09:23.934Z"
   },
   {
    "duration": 90,
    "start_time": "2024-11-09T19:11:06.165Z"
   },
   {
    "duration": 76,
    "start_time": "2024-11-09T19:12:09.282Z"
   },
   {
    "duration": 89,
    "start_time": "2024-11-09T19:13:08.318Z"
   },
   {
    "duration": 568,
    "start_time": "2024-11-09T19:14:07.935Z"
   },
   {
    "duration": 49,
    "start_time": "2024-11-09T19:14:32.724Z"
   },
   {
    "duration": 13,
    "start_time": "2024-11-09T19:15:29.934Z"
   },
   {
    "duration": 21,
    "start_time": "2024-11-09T19:16:26.131Z"
   },
   {
    "duration": 82,
    "start_time": "2024-11-09T19:17:20.334Z"
   },
   {
    "duration": 73,
    "start_time": "2024-11-09T19:17:42.299Z"
   },
   {
    "duration": 16,
    "start_time": "2024-11-09T19:20:43.731Z"
   },
   {
    "duration": 12,
    "start_time": "2024-11-09T19:22:43.106Z"
   },
   {
    "duration": 32,
    "start_time": "2024-11-09T19:22:53.624Z"
   },
   {
    "duration": 29,
    "start_time": "2024-11-09T19:23:04.633Z"
   },
   {
    "duration": 16,
    "start_time": "2024-11-09T19:24:40.985Z"
   },
   {
    "duration": 11,
    "start_time": "2024-11-09T19:24:56.532Z"
   },
   {
    "duration": 10,
    "start_time": "2024-11-09T19:25:03.219Z"
   },
   {
    "duration": 9,
    "start_time": "2024-11-09T19:28:38.365Z"
   },
   {
    "duration": 9,
    "start_time": "2024-11-09T19:28:53.953Z"
   },
   {
    "duration": 10,
    "start_time": "2024-11-09T19:29:00.719Z"
   },
   {
    "duration": 6,
    "start_time": "2024-11-09T19:31:15.225Z"
   },
   {
    "duration": 31,
    "start_time": "2024-11-09T19:32:41.110Z"
   },
   {
    "duration": 32,
    "start_time": "2024-11-09T19:32:46.265Z"
   },
   {
    "duration": 30,
    "start_time": "2024-11-09T19:34:29.963Z"
   },
   {
    "duration": 12,
    "start_time": "2024-11-09T19:37:08.684Z"
   },
   {
    "duration": 8,
    "start_time": "2024-11-09T19:37:26.045Z"
   },
   {
    "duration": 16,
    "start_time": "2024-11-09T19:37:52.489Z"
   },
   {
    "duration": 14,
    "start_time": "2024-11-09T19:38:53.682Z"
   },
   {
    "duration": 9,
    "start_time": "2024-11-09T19:39:00.560Z"
   },
   {
    "duration": 14,
    "start_time": "2024-11-09T19:40:10.657Z"
   },
   {
    "duration": 9,
    "start_time": "2024-11-09T19:40:28.923Z"
   },
   {
    "duration": 9,
    "start_time": "2024-11-09T19:40:50.111Z"
   },
   {
    "duration": 12,
    "start_time": "2024-11-09T19:41:19.079Z"
   },
   {
    "duration": 34,
    "start_time": "2024-11-09T19:41:28.619Z"
   },
   {
    "duration": 3,
    "start_time": "2024-11-09T19:44:38.047Z"
   },
   {
    "duration": 9,
    "start_time": "2024-11-09T19:47:39.549Z"
   },
   {
    "duration": 267,
    "start_time": "2024-11-09T19:47:59.492Z"
   },
   {
    "duration": 12,
    "start_time": "2024-11-09T19:48:09.209Z"
   },
   {
    "duration": 12,
    "start_time": "2024-11-09T19:53:57.300Z"
   },
   {
    "duration": 15,
    "start_time": "2024-11-09T19:54:20.888Z"
   },
   {
    "duration": 13,
    "start_time": "2024-11-09T19:54:30.588Z"
   },
   {
    "duration": 92,
    "start_time": "2024-11-09T19:55:30.189Z"
   },
   {
    "duration": 12,
    "start_time": "2024-11-09T19:55:51.522Z"
   },
   {
    "duration": 2,
    "start_time": "2024-11-09T19:56:30.718Z"
   },
   {
    "duration": 4,
    "start_time": "2024-11-09T19:56:43.377Z"
   },
   {
    "duration": 3,
    "start_time": "2024-11-09T19:56:52.278Z"
   },
   {
    "duration": 4,
    "start_time": "2024-11-09T19:57:13.275Z"
   },
   {
    "duration": 10,
    "start_time": "2024-11-09T19:57:19.886Z"
   },
   {
    "duration": 9,
    "start_time": "2024-11-09T19:58:37.764Z"
   },
   {
    "duration": 3,
    "start_time": "2024-11-09T20:08:51.994Z"
   },
   {
    "duration": 3,
    "start_time": "2024-11-09T20:09:02.800Z"
   },
   {
    "duration": 4,
    "start_time": "2024-11-09T20:09:11.131Z"
   },
   {
    "duration": 14,
    "start_time": "2024-11-09T20:13:34.688Z"
   },
   {
    "duration": 4,
    "start_time": "2024-11-09T20:13:46.209Z"
   },
   {
    "duration": 10,
    "start_time": "2024-11-09T20:13:57.451Z"
   },
   {
    "duration": 7,
    "start_time": "2024-11-09T20:16:26.320Z"
   },
   {
    "duration": 3,
    "start_time": "2024-11-09T20:16:45.442Z"
   },
   {
    "duration": 4,
    "start_time": "2024-11-09T20:17:01.702Z"
   },
   {
    "duration": 4,
    "start_time": "2024-11-09T20:17:48.706Z"
   },
   {
    "duration": 4,
    "start_time": "2024-11-09T20:18:18.553Z"
   },
   {
    "duration": 3,
    "start_time": "2024-11-09T20:18:33.667Z"
   },
   {
    "duration": 18,
    "start_time": "2024-11-09T20:18:54.640Z"
   },
   {
    "duration": 4,
    "start_time": "2024-11-09T20:19:11.751Z"
   },
   {
    "duration": 74,
    "start_time": "2024-11-09T20:19:45.915Z"
   },
   {
    "duration": 58,
    "start_time": "2024-11-09T20:19:57.944Z"
   },
   {
    "duration": 44,
    "start_time": "2024-11-09T20:20:08.985Z"
   },
   {
    "duration": 10,
    "start_time": "2024-11-09T20:20:20.102Z"
   },
   {
    "duration": 12,
    "start_time": "2024-11-09T20:20:32.322Z"
   },
   {
    "duration": 9,
    "start_time": "2024-11-09T20:20:42.551Z"
   },
   {
    "duration": 8,
    "start_time": "2024-11-09T20:20:50.092Z"
   },
   {
    "duration": 9,
    "start_time": "2024-11-09T20:21:15.427Z"
   },
   {
    "duration": 9,
    "start_time": "2024-11-09T20:21:23.842Z"
   },
   {
    "duration": 6,
    "start_time": "2024-11-09T20:21:32.939Z"
   },
   {
    "duration": 13,
    "start_time": "2024-11-09T20:21:48.539Z"
   },
   {
    "duration": 16,
    "start_time": "2024-11-09T20:21:57.528Z"
   },
   {
    "duration": 11,
    "start_time": "2024-11-09T20:22:04.860Z"
   },
   {
    "duration": 32,
    "start_time": "2024-11-09T20:22:14.579Z"
   },
   {
    "duration": 12,
    "start_time": "2024-11-09T20:22:26.791Z"
   },
   {
    "duration": 8,
    "start_time": "2024-11-09T20:22:33.865Z"
   },
   {
    "duration": 19,
    "start_time": "2024-11-09T20:22:42.379Z"
   },
   {
    "duration": 23,
    "start_time": "2024-11-09T20:23:01.974Z"
   },
   {
    "duration": 14,
    "start_time": "2024-11-09T20:23:11.815Z"
   },
   {
    "duration": 9,
    "start_time": "2024-11-09T20:23:20.123Z"
   },
   {
    "duration": 8,
    "start_time": "2024-11-09T20:25:58.985Z"
   },
   {
    "duration": 5,
    "start_time": "2024-11-09T20:27:50.660Z"
   },
   {
    "duration": 67,
    "start_time": "2024-11-09T20:28:04.998Z"
   },
   {
    "duration": 28,
    "start_time": "2024-11-09T20:28:21.208Z"
   },
   {
    "duration": 27,
    "start_time": "2024-11-09T20:28:59.884Z"
   },
   {
    "duration": 34,
    "start_time": "2024-11-09T20:34:27.154Z"
   },
   {
    "duration": 17,
    "start_time": "2024-11-09T20:36:00.859Z"
   },
   {
    "duration": 29,
    "start_time": "2024-11-09T20:36:12.752Z"
   },
   {
    "duration": 10,
    "start_time": "2024-11-09T20:36:28.013Z"
   },
   {
    "duration": 20,
    "start_time": "2024-11-09T20:37:43.852Z"
   },
   {
    "duration": 5,
    "start_time": "2024-11-09T20:39:05.173Z"
   },
   {
    "duration": 4,
    "start_time": "2024-11-09T20:39:15.151Z"
   },
   {
    "duration": 19,
    "start_time": "2024-11-09T20:39:46.716Z"
   },
   {
    "duration": 3,
    "start_time": "2024-11-09T20:40:07.099Z"
   },
   {
    "duration": 16,
    "start_time": "2024-11-09T20:40:14.588Z"
   },
   {
    "duration": 2,
    "start_time": "2024-11-09T20:40:28.387Z"
   },
   {
    "duration": 77,
    "start_time": "2024-11-09T20:40:28.393Z"
   },
   {
    "duration": 54,
    "start_time": "2024-11-09T20:40:28.472Z"
   },
   {
    "duration": 49,
    "start_time": "2024-11-09T20:40:28.528Z"
   },
   {
    "duration": 9,
    "start_time": "2024-11-09T20:40:28.579Z"
   },
   {
    "duration": 10,
    "start_time": "2024-11-09T20:40:28.591Z"
   },
   {
    "duration": 9,
    "start_time": "2024-11-09T20:40:28.602Z"
   },
   {
    "duration": 8,
    "start_time": "2024-11-09T20:40:28.612Z"
   },
   {
    "duration": 2,
    "start_time": "2024-11-09T20:40:28.622Z"
   },
   {
    "duration": 8,
    "start_time": "2024-11-09T20:40:28.626Z"
   },
   {
    "duration": 8,
    "start_time": "2024-11-09T20:40:28.671Z"
   },
   {
    "duration": 5,
    "start_time": "2024-11-09T20:40:28.681Z"
   },
   {
    "duration": 10,
    "start_time": "2024-11-09T20:40:28.687Z"
   },
   {
    "duration": 15,
    "start_time": "2024-11-09T20:40:28.698Z"
   },
   {
    "duration": 9,
    "start_time": "2024-11-09T20:40:28.717Z"
   },
   {
    "duration": 63,
    "start_time": "2024-11-09T20:40:28.727Z"
   },
   {
    "duration": 143,
    "start_time": "2024-11-09T20:40:28.792Z"
   },
   {
    "duration": 0,
    "start_time": "2024-11-09T20:40:28.937Z"
   },
   {
    "duration": 0,
    "start_time": "2024-11-09T20:40:28.938Z"
   },
   {
    "duration": 0,
    "start_time": "2024-11-09T20:40:28.939Z"
   },
   {
    "duration": 0,
    "start_time": "2024-11-09T20:40:28.941Z"
   },
   {
    "duration": 0,
    "start_time": "2024-11-09T20:40:28.942Z"
   },
   {
    "duration": 0,
    "start_time": "2024-11-09T20:40:28.944Z"
   },
   {
    "duration": 0,
    "start_time": "2024-11-09T20:40:28.945Z"
   },
   {
    "duration": 0,
    "start_time": "2024-11-09T20:40:28.946Z"
   },
   {
    "duration": 0,
    "start_time": "2024-11-09T20:40:28.947Z"
   },
   {
    "duration": 0,
    "start_time": "2024-11-09T20:40:28.948Z"
   },
   {
    "duration": 0,
    "start_time": "2024-11-09T20:40:28.971Z"
   },
   {
    "duration": 0,
    "start_time": "2024-11-09T20:40:28.972Z"
   },
   {
    "duration": 0,
    "start_time": "2024-11-09T20:40:28.973Z"
   },
   {
    "duration": 0,
    "start_time": "2024-11-09T20:40:28.974Z"
   },
   {
    "duration": 0,
    "start_time": "2024-11-09T20:40:28.975Z"
   },
   {
    "duration": 0,
    "start_time": "2024-11-09T20:40:28.976Z"
   },
   {
    "duration": 0,
    "start_time": "2024-11-09T20:40:28.977Z"
   },
   {
    "duration": 0,
    "start_time": "2024-11-09T20:40:28.978Z"
   },
   {
    "duration": 0,
    "start_time": "2024-11-09T20:40:28.980Z"
   },
   {
    "duration": 0,
    "start_time": "2024-11-09T20:40:28.981Z"
   },
   {
    "duration": 0,
    "start_time": "2024-11-09T20:40:28.981Z"
   },
   {
    "duration": 0,
    "start_time": "2024-11-09T20:40:28.983Z"
   },
   {
    "duration": 0,
    "start_time": "2024-11-09T20:40:28.984Z"
   },
   {
    "duration": 0,
    "start_time": "2024-11-09T20:40:28.984Z"
   },
   {
    "duration": 26,
    "start_time": "2024-11-09T20:40:45.608Z"
   },
   {
    "duration": 29,
    "start_time": "2024-11-09T20:41:14.807Z"
   },
   {
    "duration": 32,
    "start_time": "2024-11-09T20:42:47.982Z"
   },
   {
    "duration": 8,
    "start_time": "2024-11-09T20:44:47.837Z"
   },
   {
    "duration": 9,
    "start_time": "2024-11-09T20:45:07.405Z"
   },
   {
    "duration": 11,
    "start_time": "2024-11-09T20:45:21.911Z"
   },
   {
    "duration": 21,
    "start_time": "2024-11-09T20:46:06.497Z"
   },
   {
    "duration": 10,
    "start_time": "2024-11-09T20:46:20.658Z"
   },
   {
    "duration": 11,
    "start_time": "2024-11-09T20:47:17.764Z"
   },
   {
    "duration": 16,
    "start_time": "2024-11-09T20:47:36.553Z"
   },
   {
    "duration": 9,
    "start_time": "2024-11-09T20:48:40.421Z"
   },
   {
    "duration": 11,
    "start_time": "2024-11-09T20:50:17.095Z"
   },
   {
    "duration": 14,
    "start_time": "2024-11-09T20:51:36.878Z"
   },
   {
    "duration": 80,
    "start_time": "2024-11-09T20:52:04.347Z"
   },
   {
    "duration": 2,
    "start_time": "2024-11-09T20:52:14.459Z"
   },
   {
    "duration": 72,
    "start_time": "2024-11-09T20:52:18.075Z"
   },
   {
    "duration": 65,
    "start_time": "2024-11-09T20:52:20.934Z"
   },
   {
    "duration": 38,
    "start_time": "2024-11-09T20:52:23.907Z"
   },
   {
    "duration": 11,
    "start_time": "2024-11-09T20:52:26.787Z"
   },
   {
    "duration": 10,
    "start_time": "2024-11-09T20:52:31.727Z"
   },
   {
    "duration": 8,
    "start_time": "2024-11-09T20:52:35.144Z"
   },
   {
    "duration": 10,
    "start_time": "2024-11-09T20:52:48.148Z"
   },
   {
    "duration": 9,
    "start_time": "2024-11-09T20:52:57.289Z"
   },
   {
    "duration": 19,
    "start_time": "2024-11-09T20:53:04.002Z"
   },
   {
    "duration": 13,
    "start_time": "2024-11-09T20:53:27.576Z"
   },
   {
    "duration": 8,
    "start_time": "2024-11-09T20:53:33.900Z"
   },
   {
    "duration": 16,
    "start_time": "2024-11-09T20:53:36.820Z"
   },
   {
    "duration": 92,
    "start_time": "2024-11-09T20:53:46.488Z"
   },
   {
    "duration": 77,
    "start_time": "2024-11-09T20:54:06.073Z"
   },
   {
    "duration": 77,
    "start_time": "2024-11-09T20:54:45.799Z"
   },
   {
    "duration": 78,
    "start_time": "2024-11-09T20:54:57.323Z"
   },
   {
    "duration": 17,
    "start_time": "2024-11-09T20:55:40.416Z"
   },
   {
    "duration": 13,
    "start_time": "2024-11-09T20:55:58.208Z"
   },
   {
    "duration": 374,
    "start_time": "2024-11-09T20:56:42.135Z"
   },
   {
    "duration": 20,
    "start_time": "2024-11-09T20:57:29.838Z"
   },
   {
    "duration": 10,
    "start_time": "2024-11-09T20:59:13.577Z"
   },
   {
    "duration": 15,
    "start_time": "2024-11-09T20:59:43.794Z"
   },
   {
    "duration": 10,
    "start_time": "2024-11-09T21:00:57.716Z"
   },
   {
    "duration": 4,
    "start_time": "2024-11-09T21:01:30.567Z"
   },
   {
    "duration": 21,
    "start_time": "2024-11-09T21:01:56.030Z"
   },
   {
    "duration": 24,
    "start_time": "2024-11-09T21:04:45.804Z"
   },
   {
    "duration": 4,
    "start_time": "2024-11-09T21:12:12.693Z"
   },
   {
    "duration": 20,
    "start_time": "2024-11-09T21:12:39.529Z"
   },
   {
    "duration": 18,
    "start_time": "2024-11-09T21:12:53.131Z"
   },
   {
    "duration": 24,
    "start_time": "2024-11-09T21:15:27.338Z"
   },
   {
    "duration": 9,
    "start_time": "2024-11-09T21:15:59.685Z"
   },
   {
    "duration": 4,
    "start_time": "2024-11-09T21:16:05.739Z"
   },
   {
    "duration": 9,
    "start_time": "2024-11-09T21:16:09.820Z"
   },
   {
    "duration": 2607,
    "start_time": "2024-11-09T23:12:18.578Z"
   },
   {
    "duration": 95,
    "start_time": "2024-11-09T23:12:21.187Z"
   },
   {
    "duration": 75,
    "start_time": "2024-11-09T23:12:21.283Z"
   },
   {
    "duration": 55,
    "start_time": "2024-11-09T23:12:21.360Z"
   },
   {
    "duration": 13,
    "start_time": "2024-11-09T23:12:21.418Z"
   },
   {
    "duration": 12,
    "start_time": "2024-11-09T23:12:21.432Z"
   },
   {
    "duration": 14,
    "start_time": "2024-11-09T23:12:21.446Z"
   },
   {
    "duration": 13,
    "start_time": "2024-11-09T23:12:21.463Z"
   },
   {
    "duration": 2,
    "start_time": "2024-11-09T23:12:21.478Z"
   },
   {
    "duration": 11,
    "start_time": "2024-11-09T23:12:21.484Z"
   },
   {
    "duration": 11,
    "start_time": "2024-11-09T23:12:21.497Z"
   },
   {
    "duration": 6,
    "start_time": "2024-11-09T23:12:21.510Z"
   },
   {
    "duration": 313,
    "start_time": "2024-11-09T23:12:21.518Z"
   },
   {
    "duration": 0,
    "start_time": "2024-11-09T23:12:21.833Z"
   },
   {
    "duration": 0,
    "start_time": "2024-11-09T23:12:21.835Z"
   },
   {
    "duration": 0,
    "start_time": "2024-11-09T23:12:21.836Z"
   },
   {
    "duration": 0,
    "start_time": "2024-11-09T23:12:21.837Z"
   },
   {
    "duration": 0,
    "start_time": "2024-11-09T23:12:21.838Z"
   },
   {
    "duration": 0,
    "start_time": "2024-11-09T23:12:21.840Z"
   },
   {
    "duration": 0,
    "start_time": "2024-11-09T23:12:21.841Z"
   },
   {
    "duration": 0,
    "start_time": "2024-11-09T23:12:21.842Z"
   },
   {
    "duration": 0,
    "start_time": "2024-11-09T23:12:21.843Z"
   },
   {
    "duration": 0,
    "start_time": "2024-11-09T23:12:21.845Z"
   },
   {
    "duration": 0,
    "start_time": "2024-11-09T23:12:21.846Z"
   },
   {
    "duration": 0,
    "start_time": "2024-11-09T23:12:21.870Z"
   },
   {
    "duration": 0,
    "start_time": "2024-11-09T23:12:21.870Z"
   },
   {
    "duration": 0,
    "start_time": "2024-11-09T23:12:21.871Z"
   },
   {
    "duration": 0,
    "start_time": "2024-11-09T23:12:21.872Z"
   },
   {
    "duration": 0,
    "start_time": "2024-11-09T23:12:21.875Z"
   },
   {
    "duration": 0,
    "start_time": "2024-11-09T23:12:21.876Z"
   },
   {
    "duration": 0,
    "start_time": "2024-11-09T23:12:21.877Z"
   },
   {
    "duration": 0,
    "start_time": "2024-11-09T23:12:21.878Z"
   },
   {
    "duration": 0,
    "start_time": "2024-11-09T23:12:21.879Z"
   },
   {
    "duration": 0,
    "start_time": "2024-11-09T23:12:21.879Z"
   },
   {
    "duration": 0,
    "start_time": "2024-11-09T23:12:21.880Z"
   },
   {
    "duration": 0,
    "start_time": "2024-11-09T23:12:21.881Z"
   },
   {
    "duration": 0,
    "start_time": "2024-11-09T23:12:21.882Z"
   },
   {
    "duration": 0,
    "start_time": "2024-11-09T23:12:21.883Z"
   },
   {
    "duration": 0,
    "start_time": "2024-11-09T23:12:21.884Z"
   },
   {
    "duration": 0,
    "start_time": "2024-11-09T23:12:21.885Z"
   },
   {
    "duration": 0,
    "start_time": "2024-11-09T23:12:21.886Z"
   },
   {
    "duration": 0,
    "start_time": "2024-11-09T23:12:21.887Z"
   },
   {
    "duration": 0,
    "start_time": "2024-11-09T23:12:21.888Z"
   },
   {
    "duration": 0,
    "start_time": "2024-11-09T23:12:21.889Z"
   },
   {
    "duration": 5,
    "start_time": "2024-11-09T23:12:30.307Z"
   },
   {
    "duration": 80,
    "start_time": "2024-11-09T23:12:32.600Z"
   },
   {
    "duration": 59,
    "start_time": "2024-11-09T23:12:34.924Z"
   },
   {
    "duration": 59,
    "start_time": "2024-11-09T23:12:37.175Z"
   },
   {
    "duration": 10,
    "start_time": "2024-11-09T23:12:40.148Z"
   },
   {
    "duration": 9,
    "start_time": "2024-11-09T23:13:01.640Z"
   },
   {
    "duration": 9,
    "start_time": "2024-11-09T23:14:58.045Z"
   },
   {
    "duration": 13,
    "start_time": "2024-11-09T23:15:01.067Z"
   },
   {
    "duration": 5,
    "start_time": "2024-11-09T23:15:04.856Z"
   },
   {
    "duration": 18,
    "start_time": "2024-11-09T23:16:27.883Z"
   },
   {
    "duration": 6,
    "start_time": "2024-11-09T23:16:37.780Z"
   },
   {
    "duration": 10,
    "start_time": "2024-11-09T23:16:53.540Z"
   },
   {
    "duration": 13,
    "start_time": "2024-11-09T23:17:17.191Z"
   },
   {
    "duration": 15,
    "start_time": "2024-11-09T23:18:06.435Z"
   },
   {
    "duration": 11,
    "start_time": "2024-11-09T23:18:12.074Z"
   },
   {
    "duration": 43,
    "start_time": "2024-11-09T23:18:18.854Z"
   },
   {
    "duration": 244,
    "start_time": "2024-11-09T23:19:35.696Z"
   },
   {
    "duration": 34,
    "start_time": "2024-11-09T23:20:17.058Z"
   },
   {
    "duration": 15,
    "start_time": "2024-11-09T23:22:14.626Z"
   },
   {
    "duration": 17,
    "start_time": "2024-11-09T23:22:43.714Z"
   },
   {
    "duration": 2,
    "start_time": "2024-11-09T23:22:51.460Z"
   },
   {
    "duration": 87,
    "start_time": "2024-11-09T23:22:51.464Z"
   },
   {
    "duration": 80,
    "start_time": "2024-11-09T23:22:51.553Z"
   },
   {
    "duration": 47,
    "start_time": "2024-11-09T23:22:51.635Z"
   },
   {
    "duration": 23,
    "start_time": "2024-11-09T23:22:51.684Z"
   },
   {
    "duration": 19,
    "start_time": "2024-11-09T23:22:51.709Z"
   },
   {
    "duration": 8,
    "start_time": "2024-11-09T23:22:51.730Z"
   },
   {
    "duration": 8,
    "start_time": "2024-11-09T23:22:51.739Z"
   },
   {
    "duration": 30,
    "start_time": "2024-11-09T23:22:51.748Z"
   },
   {
    "duration": 11,
    "start_time": "2024-11-09T23:22:51.781Z"
   },
   {
    "duration": 5,
    "start_time": "2024-11-09T23:22:51.796Z"
   },
   {
    "duration": 13,
    "start_time": "2024-11-09T23:22:51.803Z"
   },
   {
    "duration": 11,
    "start_time": "2024-11-09T23:22:51.819Z"
   },
   {
    "duration": 53,
    "start_time": "2024-11-09T23:22:51.832Z"
   },
   {
    "duration": 12,
    "start_time": "2024-11-09T23:22:51.887Z"
   },
   {
    "duration": 38,
    "start_time": "2024-11-09T23:22:51.901Z"
   },
   {
    "duration": 29,
    "start_time": "2024-11-09T23:22:51.941Z"
   },
   {
    "duration": 15,
    "start_time": "2024-11-09T23:22:51.972Z"
   },
   {
    "duration": 9,
    "start_time": "2024-11-09T23:22:51.988Z"
   },
   {
    "duration": 23,
    "start_time": "2024-11-09T23:22:51.999Z"
   },
   {
    "duration": 19,
    "start_time": "2024-11-09T23:22:52.023Z"
   },
   {
    "duration": 20,
    "start_time": "2024-11-09T23:22:52.070Z"
   },
   {
    "duration": 11,
    "start_time": "2024-11-09T23:22:52.093Z"
   },
   {
    "duration": 40,
    "start_time": "2024-11-09T23:22:52.106Z"
   },
   {
    "duration": 47,
    "start_time": "2024-11-09T23:22:52.148Z"
   },
   {
    "duration": 10,
    "start_time": "2024-11-09T23:22:52.197Z"
   },
   {
    "duration": 28,
    "start_time": "2024-11-09T23:22:52.209Z"
   },
   {
    "duration": 0,
    "start_time": "2024-11-09T23:22:52.239Z"
   },
   {
    "duration": 0,
    "start_time": "2024-11-09T23:22:52.241Z"
   },
   {
    "duration": 0,
    "start_time": "2024-11-09T23:22:52.242Z"
   },
   {
    "duration": 0,
    "start_time": "2024-11-09T23:22:52.243Z"
   },
   {
    "duration": 0,
    "start_time": "2024-11-09T23:22:52.244Z"
   },
   {
    "duration": 0,
    "start_time": "2024-11-09T23:22:52.245Z"
   },
   {
    "duration": 0,
    "start_time": "2024-11-09T23:22:52.247Z"
   },
   {
    "duration": 0,
    "start_time": "2024-11-09T23:22:52.272Z"
   },
   {
    "duration": 0,
    "start_time": "2024-11-09T23:22:52.274Z"
   },
   {
    "duration": 0,
    "start_time": "2024-11-09T23:22:52.275Z"
   },
   {
    "duration": 0,
    "start_time": "2024-11-09T23:22:52.276Z"
   },
   {
    "duration": 0,
    "start_time": "2024-11-09T23:22:52.278Z"
   },
   {
    "duration": 0,
    "start_time": "2024-11-09T23:22:52.280Z"
   },
   {
    "duration": 0,
    "start_time": "2024-11-09T23:22:52.281Z"
   },
   {
    "duration": 0,
    "start_time": "2024-11-09T23:22:52.282Z"
   },
   {
    "duration": 0,
    "start_time": "2024-11-09T23:22:52.284Z"
   },
   {
    "duration": 19,
    "start_time": "2024-11-09T23:24:35.898Z"
   },
   {
    "duration": 14,
    "start_time": "2024-11-09T23:24:45.483Z"
   },
   {
    "duration": 17,
    "start_time": "2024-11-09T23:25:08.147Z"
   },
   {
    "duration": 13,
    "start_time": "2024-11-09T23:26:32.748Z"
   },
   {
    "duration": 26,
    "start_time": "2024-11-09T23:27:45.792Z"
   },
   {
    "duration": 17,
    "start_time": "2024-11-09T23:28:36.333Z"
   },
   {
    "duration": 25,
    "start_time": "2024-11-09T23:30:08.578Z"
   },
   {
    "duration": 5,
    "start_time": "2024-11-09T23:32:28.378Z"
   },
   {
    "duration": 3,
    "start_time": "2024-11-09T23:32:42.819Z"
   },
   {
    "duration": 4,
    "start_time": "2024-11-09T23:32:51.398Z"
   },
   {
    "duration": 3,
    "start_time": "2024-11-09T23:33:11.245Z"
   },
   {
    "duration": 9,
    "start_time": "2024-11-09T23:33:46.061Z"
   },
   {
    "duration": 28,
    "start_time": "2024-11-09T23:36:12.382Z"
   },
   {
    "duration": 32,
    "start_time": "2024-11-09T23:37:00.931Z"
   },
   {
    "duration": 30,
    "start_time": "2024-11-09T23:38:12.234Z"
   },
   {
    "duration": 131,
    "start_time": "2024-11-09T23:38:18.862Z"
   },
   {
    "duration": 2712,
    "start_time": "2024-11-09T23:39:52.738Z"
   },
   {
    "duration": 1533,
    "start_time": "2024-11-09T23:40:55.494Z"
   },
   {
    "duration": 1468,
    "start_time": "2024-11-09T23:41:31.153Z"
   },
   {
    "duration": 1504,
    "start_time": "2024-11-09T23:42:29.435Z"
   },
   {
    "duration": 173,
    "start_time": "2024-11-09T23:43:59.088Z"
   },
   {
    "duration": 832,
    "start_time": "2024-11-09T23:44:07.254Z"
   },
   {
    "duration": 145,
    "start_time": "2024-11-09T23:44:08.088Z"
   },
   {
    "duration": 78,
    "start_time": "2024-11-09T23:44:08.234Z"
   },
   {
    "duration": 49,
    "start_time": "2024-11-09T23:44:08.315Z"
   },
   {
    "duration": 11,
    "start_time": "2024-11-09T23:44:08.365Z"
   },
   {
    "duration": 12,
    "start_time": "2024-11-09T23:44:08.377Z"
   },
   {
    "duration": 10,
    "start_time": "2024-11-09T23:44:08.390Z"
   },
   {
    "duration": 6,
    "start_time": "2024-11-09T23:44:08.402Z"
   },
   {
    "duration": 8,
    "start_time": "2024-11-09T23:44:08.410Z"
   },
   {
    "duration": 8,
    "start_time": "2024-11-09T23:44:08.422Z"
   },
   {
    "duration": 38,
    "start_time": "2024-11-09T23:44:08.432Z"
   },
   {
    "duration": 8,
    "start_time": "2024-11-09T23:44:08.472Z"
   },
   {
    "duration": 9,
    "start_time": "2024-11-09T23:44:08.482Z"
   },
   {
    "duration": 15,
    "start_time": "2024-11-09T23:44:08.492Z"
   },
   {
    "duration": 9,
    "start_time": "2024-11-09T23:44:08.509Z"
   },
   {
    "duration": 63,
    "start_time": "2024-11-09T23:44:08.519Z"
   },
   {
    "duration": 24,
    "start_time": "2024-11-09T23:44:08.584Z"
   },
   {
    "duration": 14,
    "start_time": "2024-11-09T23:44:08.610Z"
   },
   {
    "duration": 12,
    "start_time": "2024-11-09T23:44:08.625Z"
   },
   {
    "duration": 9,
    "start_time": "2024-11-09T23:44:08.670Z"
   },
   {
    "duration": 17,
    "start_time": "2024-11-09T23:44:08.681Z"
   },
   {
    "duration": 17,
    "start_time": "2024-11-09T23:44:08.700Z"
   },
   {
    "duration": 11,
    "start_time": "2024-11-09T23:44:08.719Z"
   },
   {
    "duration": 50,
    "start_time": "2024-11-09T23:44:08.732Z"
   },
   {
    "duration": 10,
    "start_time": "2024-11-09T23:44:08.784Z"
   },
   {
    "duration": 35,
    "start_time": "2024-11-09T23:44:08.796Z"
   },
   {
    "duration": 45,
    "start_time": "2024-11-09T23:44:08.833Z"
   },
   {
    "duration": 12,
    "start_time": "2024-11-09T23:44:08.881Z"
   },
   {
    "duration": 10,
    "start_time": "2024-11-09T23:44:08.894Z"
   },
   {
    "duration": 9,
    "start_time": "2024-11-09T23:44:08.905Z"
   },
   {
    "duration": 2439,
    "start_time": "2024-11-09T23:44:08.916Z"
   },
   {
    "duration": 81,
    "start_time": "2024-11-09T23:44:11.357Z"
   },
   {
    "duration": 0,
    "start_time": "2024-11-09T23:44:11.440Z"
   },
   {
    "duration": 0,
    "start_time": "2024-11-09T23:44:11.441Z"
   },
   {
    "duration": 0,
    "start_time": "2024-11-09T23:44:11.442Z"
   },
   {
    "duration": 0,
    "start_time": "2024-11-09T23:44:11.443Z"
   },
   {
    "duration": 0,
    "start_time": "2024-11-09T23:44:11.444Z"
   },
   {
    "duration": 0,
    "start_time": "2024-11-09T23:44:11.445Z"
   },
   {
    "duration": 0,
    "start_time": "2024-11-09T23:44:11.446Z"
   },
   {
    "duration": 0,
    "start_time": "2024-11-09T23:44:11.446Z"
   },
   {
    "duration": 0,
    "start_time": "2024-11-09T23:44:11.450Z"
   },
   {
    "duration": 0,
    "start_time": "2024-11-09T23:44:11.470Z"
   },
   {
    "duration": 0,
    "start_time": "2024-11-09T23:44:11.471Z"
   },
   {
    "duration": 0,
    "start_time": "2024-11-09T23:44:11.472Z"
   },
   {
    "duration": 0,
    "start_time": "2024-11-09T23:44:11.473Z"
   },
   {
    "duration": 0,
    "start_time": "2024-11-09T23:44:11.474Z"
   },
   {
    "duration": 0,
    "start_time": "2024-11-09T23:44:11.476Z"
   },
   {
    "duration": 2484,
    "start_time": "2024-11-09T23:44:16.431Z"
   },
   {
    "duration": 8,
    "start_time": "2024-11-09T23:44:39.466Z"
   },
   {
    "duration": 14,
    "start_time": "2024-11-09T23:45:05.194Z"
   },
   {
    "duration": 230,
    "start_time": "2024-11-09T23:45:40.930Z"
   },
   {
    "duration": 235,
    "start_time": "2024-11-09T23:46:32.530Z"
   },
   {
    "duration": 239,
    "start_time": "2024-11-09T23:47:04.459Z"
   },
   {
    "duration": 230,
    "start_time": "2024-11-09T23:47:30.071Z"
   },
   {
    "duration": 454,
    "start_time": "2024-11-09T23:50:22.702Z"
   },
   {
    "duration": 4406,
    "start_time": "2024-11-09T23:51:43.555Z"
   },
   {
    "duration": 6,
    "start_time": "2024-11-09T23:52:05.155Z"
   },
   {
    "duration": 1616,
    "start_time": "2024-11-09T23:52:14.024Z"
   },
   {
    "duration": 853,
    "start_time": "2024-11-09T23:56:05.329Z"
   },
   {
    "duration": 98,
    "start_time": "2024-11-09T23:56:06.184Z"
   },
   {
    "duration": 87,
    "start_time": "2024-11-09T23:56:06.284Z"
   },
   {
    "duration": 50,
    "start_time": "2024-11-09T23:56:06.374Z"
   },
   {
    "duration": 11,
    "start_time": "2024-11-09T23:56:06.426Z"
   },
   {
    "duration": 11,
    "start_time": "2024-11-09T23:56:06.439Z"
   },
   {
    "duration": 19,
    "start_time": "2024-11-09T23:56:06.452Z"
   },
   {
    "duration": 10,
    "start_time": "2024-11-09T23:56:06.473Z"
   },
   {
    "duration": 11,
    "start_time": "2024-11-09T23:56:06.486Z"
   },
   {
    "duration": 12,
    "start_time": "2024-11-09T23:56:06.501Z"
   },
   {
    "duration": 6,
    "start_time": "2024-11-09T23:56:06.515Z"
   },
   {
    "duration": 12,
    "start_time": "2024-11-09T23:56:06.523Z"
   },
   {
    "duration": 39,
    "start_time": "2024-11-09T23:56:06.537Z"
   },
   {
    "duration": 20,
    "start_time": "2024-11-09T23:56:06.578Z"
   },
   {
    "duration": 10,
    "start_time": "2024-11-09T23:56:06.601Z"
   },
   {
    "duration": 59,
    "start_time": "2024-11-09T23:56:06.613Z"
   },
   {
    "duration": 30,
    "start_time": "2024-11-09T23:56:06.674Z"
   },
   {
    "duration": 14,
    "start_time": "2024-11-09T23:56:06.707Z"
   },
   {
    "duration": 12,
    "start_time": "2024-11-09T23:56:06.723Z"
   },
   {
    "duration": 9,
    "start_time": "2024-11-09T23:56:06.736Z"
   },
   {
    "duration": 23,
    "start_time": "2024-11-09T23:56:06.771Z"
   },
   {
    "duration": 17,
    "start_time": "2024-11-09T23:56:06.796Z"
   },
   {
    "duration": 12,
    "start_time": "2024-11-09T23:56:06.815Z"
   },
   {
    "duration": 40,
    "start_time": "2024-11-09T23:56:06.830Z"
   },
   {
    "duration": 12,
    "start_time": "2024-11-09T23:56:06.872Z"
   },
   {
    "duration": 37,
    "start_time": "2024-11-09T23:56:06.887Z"
   },
   {
    "duration": 43,
    "start_time": "2024-11-09T23:56:06.927Z"
   },
   {
    "duration": 16,
    "start_time": "2024-11-09T23:56:06.978Z"
   },
   {
    "duration": 9,
    "start_time": "2024-11-09T23:56:06.996Z"
   },
   {
    "duration": 10,
    "start_time": "2024-11-09T23:56:07.007Z"
   },
   {
    "duration": 163,
    "start_time": "2024-11-09T23:56:25.592Z"
   },
   {
    "duration": 13,
    "start_time": "2024-11-09T23:56:34.295Z"
   },
   {
    "duration": 900,
    "start_time": "2024-11-09T23:56:51.703Z"
   },
   {
    "duration": 176,
    "start_time": "2024-11-09T23:56:52.605Z"
   },
   {
    "duration": 80,
    "start_time": "2024-11-09T23:56:52.784Z"
   },
   {
    "duration": 49,
    "start_time": "2024-11-09T23:56:52.867Z"
   },
   {
    "duration": 13,
    "start_time": "2024-11-09T23:56:52.917Z"
   },
   {
    "duration": 13,
    "start_time": "2024-11-09T23:56:52.932Z"
   },
   {
    "duration": 11,
    "start_time": "2024-11-09T23:56:52.947Z"
   },
   {
    "duration": 19,
    "start_time": "2024-11-09T23:56:52.959Z"
   },
   {
    "duration": 10,
    "start_time": "2024-11-09T23:56:52.980Z"
   },
   {
    "duration": 12,
    "start_time": "2024-11-09T23:56:52.994Z"
   },
   {
    "duration": 6,
    "start_time": "2024-11-09T23:56:53.008Z"
   },
   {
    "duration": 9,
    "start_time": "2024-11-09T23:56:53.016Z"
   },
   {
    "duration": 44,
    "start_time": "2024-11-09T23:56:53.027Z"
   },
   {
    "duration": 20,
    "start_time": "2024-11-09T23:56:53.074Z"
   },
   {
    "duration": 13,
    "start_time": "2024-11-09T23:56:53.096Z"
   },
   {
    "duration": 36,
    "start_time": "2024-11-09T23:56:53.110Z"
   },
   {
    "duration": 54,
    "start_time": "2024-11-09T23:56:53.148Z"
   },
   {
    "duration": 16,
    "start_time": "2024-11-09T23:56:53.204Z"
   },
   {
    "duration": 13,
    "start_time": "2024-11-09T23:56:53.221Z"
   },
   {
    "duration": 9,
    "start_time": "2024-11-09T23:56:53.236Z"
   },
   {
    "duration": 27,
    "start_time": "2024-11-09T23:56:53.270Z"
   },
   {
    "duration": 25,
    "start_time": "2024-11-09T23:56:53.299Z"
   },
   {
    "duration": 15,
    "start_time": "2024-11-09T23:56:53.326Z"
   },
   {
    "duration": 37,
    "start_time": "2024-11-09T23:56:53.342Z"
   },
   {
    "duration": 11,
    "start_time": "2024-11-09T23:56:53.381Z"
   },
   {
    "duration": 37,
    "start_time": "2024-11-09T23:56:53.394Z"
   },
   {
    "duration": 43,
    "start_time": "2024-11-09T23:56:53.434Z"
   },
   {
    "duration": 13,
    "start_time": "2024-11-09T23:56:53.481Z"
   },
   {
    "duration": 10,
    "start_time": "2024-11-09T23:56:53.496Z"
   },
   {
    "duration": 9,
    "start_time": "2024-11-09T23:56:53.508Z"
   },
   {
    "duration": 839,
    "start_time": "2024-11-09T23:56:53.519Z"
   },
   {
    "duration": 0,
    "start_time": "2024-11-09T23:56:54.359Z"
   },
   {
    "duration": 0,
    "start_time": "2024-11-09T23:56:54.360Z"
   },
   {
    "duration": 0,
    "start_time": "2024-11-09T23:56:54.369Z"
   },
   {
    "duration": 0,
    "start_time": "2024-11-09T23:56:54.371Z"
   },
   {
    "duration": 0,
    "start_time": "2024-11-09T23:56:54.372Z"
   },
   {
    "duration": 0,
    "start_time": "2024-11-09T23:56:54.373Z"
   },
   {
    "duration": 0,
    "start_time": "2024-11-09T23:56:54.374Z"
   },
   {
    "duration": 0,
    "start_time": "2024-11-09T23:56:54.375Z"
   },
   {
    "duration": 0,
    "start_time": "2024-11-09T23:56:54.376Z"
   },
   {
    "duration": 0,
    "start_time": "2024-11-09T23:56:54.377Z"
   },
   {
    "duration": 0,
    "start_time": "2024-11-09T23:56:54.378Z"
   },
   {
    "duration": 0,
    "start_time": "2024-11-09T23:56:54.379Z"
   },
   {
    "duration": 0,
    "start_time": "2024-11-09T23:56:54.380Z"
   },
   {
    "duration": 0,
    "start_time": "2024-11-09T23:56:54.381Z"
   },
   {
    "duration": 0,
    "start_time": "2024-11-09T23:56:54.382Z"
   },
   {
    "duration": 0,
    "start_time": "2024-11-09T23:56:54.383Z"
   },
   {
    "duration": 792,
    "start_time": "2024-11-09T23:57:00.528Z"
   },
   {
    "duration": 3,
    "start_time": "2024-11-10T00:07:35.610Z"
   },
   {
    "duration": 79,
    "start_time": "2024-11-10T00:07:35.616Z"
   },
   {
    "duration": 75,
    "start_time": "2024-11-10T00:07:35.697Z"
   },
   {
    "duration": 54,
    "start_time": "2024-11-10T00:07:35.775Z"
   },
   {
    "duration": 10,
    "start_time": "2024-11-10T00:07:35.831Z"
   },
   {
    "duration": 11,
    "start_time": "2024-11-10T00:07:35.843Z"
   },
   {
    "duration": 20,
    "start_time": "2024-11-10T00:07:35.857Z"
   },
   {
    "duration": 10,
    "start_time": "2024-11-10T00:07:35.878Z"
   },
   {
    "duration": 13,
    "start_time": "2024-11-10T00:07:35.890Z"
   },
   {
    "duration": 11,
    "start_time": "2024-11-10T00:07:35.905Z"
   },
   {
    "duration": 6,
    "start_time": "2024-11-10T00:07:35.920Z"
   },
   {
    "duration": 8,
    "start_time": "2024-11-10T00:07:35.928Z"
   },
   {
    "duration": 13,
    "start_time": "2024-11-10T00:07:35.970Z"
   },
   {
    "duration": 22,
    "start_time": "2024-11-10T00:07:35.984Z"
   },
   {
    "duration": 11,
    "start_time": "2024-11-10T00:07:36.008Z"
   },
   {
    "duration": 49,
    "start_time": "2024-11-10T00:07:36.021Z"
   },
   {
    "duration": 36,
    "start_time": "2024-11-10T00:07:36.072Z"
   },
   {
    "duration": 19,
    "start_time": "2024-11-10T00:07:36.109Z"
   },
   {
    "duration": 12,
    "start_time": "2024-11-10T00:07:36.129Z"
   },
   {
    "duration": 36,
    "start_time": "2024-11-10T00:07:36.143Z"
   },
   {
    "duration": 24,
    "start_time": "2024-11-10T00:07:36.181Z"
   },
   {
    "duration": 22,
    "start_time": "2024-11-10T00:07:36.207Z"
   },
   {
    "duration": 11,
    "start_time": "2024-11-10T00:07:36.231Z"
   },
   {
    "duration": 32,
    "start_time": "2024-11-10T00:07:36.243Z"
   },
   {
    "duration": 14,
    "start_time": "2024-11-10T00:07:36.277Z"
   },
   {
    "duration": 40,
    "start_time": "2024-11-10T00:07:36.293Z"
   },
   {
    "duration": 46,
    "start_time": "2024-11-10T00:07:36.335Z"
   },
   {
    "duration": 16,
    "start_time": "2024-11-10T00:07:36.382Z"
   },
   {
    "duration": 9,
    "start_time": "2024-11-10T00:07:36.403Z"
   },
   {
    "duration": 8,
    "start_time": "2024-11-10T00:07:36.422Z"
   },
   {
    "duration": 883,
    "start_time": "2024-11-10T00:07:36.432Z"
   },
   {
    "duration": 0,
    "start_time": "2024-11-10T00:07:37.317Z"
   },
   {
    "duration": 0,
    "start_time": "2024-11-10T00:07:37.319Z"
   },
   {
    "duration": 0,
    "start_time": "2024-11-10T00:07:37.320Z"
   },
   {
    "duration": 0,
    "start_time": "2024-11-10T00:07:37.321Z"
   },
   {
    "duration": 0,
    "start_time": "2024-11-10T00:07:37.322Z"
   },
   {
    "duration": 0,
    "start_time": "2024-11-10T00:07:37.323Z"
   },
   {
    "duration": 0,
    "start_time": "2024-11-10T00:07:37.325Z"
   },
   {
    "duration": 0,
    "start_time": "2024-11-10T00:07:37.327Z"
   },
   {
    "duration": 0,
    "start_time": "2024-11-10T00:07:37.328Z"
   },
   {
    "duration": 0,
    "start_time": "2024-11-10T00:07:37.330Z"
   },
   {
    "duration": 0,
    "start_time": "2024-11-10T00:07:37.331Z"
   },
   {
    "duration": 0,
    "start_time": "2024-11-10T00:07:37.332Z"
   },
   {
    "duration": 0,
    "start_time": "2024-11-10T00:07:37.334Z"
   },
   {
    "duration": 0,
    "start_time": "2024-11-10T00:07:37.335Z"
   },
   {
    "duration": 0,
    "start_time": "2024-11-10T00:07:37.336Z"
   },
   {
    "duration": 0,
    "start_time": "2024-11-10T00:07:37.337Z"
   },
   {
    "duration": 787,
    "start_time": "2024-11-10T00:07:49.672Z"
   },
   {
    "duration": 915,
    "start_time": "2024-11-10T00:08:07.135Z"
   },
   {
    "duration": 125,
    "start_time": "2024-11-10T00:08:31.332Z"
   },
   {
    "duration": 2,
    "start_time": "2024-11-10T00:08:36.836Z"
   },
   {
    "duration": 103,
    "start_time": "2024-11-10T00:08:36.842Z"
   },
   {
    "duration": 92,
    "start_time": "2024-11-10T00:08:36.947Z"
   },
   {
    "duration": 54,
    "start_time": "2024-11-10T00:08:37.041Z"
   },
   {
    "duration": 10,
    "start_time": "2024-11-10T00:08:37.098Z"
   },
   {
    "duration": 10,
    "start_time": "2024-11-10T00:08:37.110Z"
   },
   {
    "duration": 10,
    "start_time": "2024-11-10T00:08:37.122Z"
   },
   {
    "duration": 9,
    "start_time": "2024-11-10T00:08:37.134Z"
   },
   {
    "duration": 36,
    "start_time": "2024-11-10T00:08:37.145Z"
   },
   {
    "duration": 16,
    "start_time": "2024-11-10T00:08:37.183Z"
   },
   {
    "duration": 7,
    "start_time": "2024-11-10T00:08:37.204Z"
   },
   {
    "duration": 11,
    "start_time": "2024-11-10T00:08:37.213Z"
   },
   {
    "duration": 11,
    "start_time": "2024-11-10T00:08:37.225Z"
   },
   {
    "duration": 33,
    "start_time": "2024-11-10T00:08:37.237Z"
   },
   {
    "duration": 10,
    "start_time": "2024-11-10T00:08:37.272Z"
   },
   {
    "duration": 28,
    "start_time": "2024-11-10T00:08:37.283Z"
   },
   {
    "duration": 24,
    "start_time": "2024-11-10T00:08:37.313Z"
   },
   {
    "duration": 40,
    "start_time": "2024-11-10T00:08:37.339Z"
   },
   {
    "duration": 15,
    "start_time": "2024-11-10T00:08:37.381Z"
   },
   {
    "duration": 8,
    "start_time": "2024-11-10T00:08:37.397Z"
   },
   {
    "duration": 16,
    "start_time": "2024-11-10T00:08:37.407Z"
   },
   {
    "duration": 17,
    "start_time": "2024-11-10T00:08:37.425Z"
   },
   {
    "duration": 15,
    "start_time": "2024-11-10T00:08:37.470Z"
   },
   {
    "duration": 15,
    "start_time": "2024-11-10T00:08:37.487Z"
   },
   {
    "duration": 8,
    "start_time": "2024-11-10T00:08:37.504Z"
   },
   {
    "duration": 57,
    "start_time": "2024-11-10T00:08:37.514Z"
   },
   {
    "duration": 20,
    "start_time": "2024-11-10T00:08:37.572Z"
   },
   {
    "duration": 15,
    "start_time": "2024-11-10T00:08:37.596Z"
   },
   {
    "duration": 11,
    "start_time": "2024-11-10T00:08:37.615Z"
   },
   {
    "duration": 11,
    "start_time": "2024-11-10T00:08:37.627Z"
   },
   {
    "duration": 87,
    "start_time": "2024-11-10T00:08:37.640Z"
   },
   {
    "duration": 0,
    "start_time": "2024-11-10T00:08:37.729Z"
   },
   {
    "duration": 0,
    "start_time": "2024-11-10T00:08:37.730Z"
   },
   {
    "duration": 0,
    "start_time": "2024-11-10T00:08:37.731Z"
   },
   {
    "duration": 0,
    "start_time": "2024-11-10T00:08:37.732Z"
   },
   {
    "duration": 0,
    "start_time": "2024-11-10T00:08:37.733Z"
   },
   {
    "duration": 0,
    "start_time": "2024-11-10T00:08:37.734Z"
   },
   {
    "duration": 0,
    "start_time": "2024-11-10T00:08:37.735Z"
   },
   {
    "duration": 0,
    "start_time": "2024-11-10T00:08:37.735Z"
   },
   {
    "duration": 0,
    "start_time": "2024-11-10T00:08:37.737Z"
   },
   {
    "duration": 0,
    "start_time": "2024-11-10T00:08:37.739Z"
   },
   {
    "duration": 0,
    "start_time": "2024-11-10T00:08:37.740Z"
   },
   {
    "duration": 0,
    "start_time": "2024-11-10T00:08:37.740Z"
   },
   {
    "duration": 0,
    "start_time": "2024-11-10T00:08:37.741Z"
   },
   {
    "duration": 0,
    "start_time": "2024-11-10T00:08:37.742Z"
   },
   {
    "duration": 0,
    "start_time": "2024-11-10T00:08:37.743Z"
   },
   {
    "duration": 0,
    "start_time": "2024-11-10T00:08:37.744Z"
   },
   {
    "duration": 20,
    "start_time": "2024-11-10T00:08:54.215Z"
   },
   {
    "duration": 2430,
    "start_time": "2024-11-10T00:09:32.218Z"
   },
   {
    "duration": 9,
    "start_time": "2024-11-10T00:12:09.123Z"
   },
   {
    "duration": 7,
    "start_time": "2024-11-10T00:12:17.975Z"
   },
   {
    "duration": 10,
    "start_time": "2024-11-10T00:12:25.105Z"
   },
   {
    "duration": 18,
    "start_time": "2024-11-10T00:12:52.171Z"
   },
   {
    "duration": 130,
    "start_time": "2024-11-10T00:13:01.792Z"
   },
   {
    "duration": 8,
    "start_time": "2024-11-10T00:25:34.722Z"
   },
   {
    "duration": 18,
    "start_time": "2024-11-10T00:26:33.102Z"
   },
   {
    "duration": 22,
    "start_time": "2024-11-10T00:28:34.178Z"
   },
   {
    "duration": 3,
    "start_time": "2024-11-10T00:29:07.579Z"
   },
   {
    "duration": 10,
    "start_time": "2024-11-10T00:29:54.403Z"
   },
   {
    "duration": 3,
    "start_time": "2024-11-10T00:30:02.781Z"
   },
   {
    "duration": 65,
    "start_time": "2024-11-10T00:30:02.786Z"
   },
   {
    "duration": 56,
    "start_time": "2024-11-10T00:30:02.853Z"
   },
   {
    "duration": 36,
    "start_time": "2024-11-10T00:30:02.911Z"
   },
   {
    "duration": 26,
    "start_time": "2024-11-10T00:30:02.950Z"
   },
   {
    "duration": 12,
    "start_time": "2024-11-10T00:30:02.979Z"
   },
   {
    "duration": 10,
    "start_time": "2024-11-10T00:30:02.993Z"
   },
   {
    "duration": 8,
    "start_time": "2024-11-10T00:30:03.005Z"
   },
   {
    "duration": 12,
    "start_time": "2024-11-10T00:30:03.015Z"
   },
   {
    "duration": 43,
    "start_time": "2024-11-10T00:30:03.028Z"
   },
   {
    "duration": 4,
    "start_time": "2024-11-10T00:30:03.074Z"
   },
   {
    "duration": 9,
    "start_time": "2024-11-10T00:30:03.080Z"
   },
   {
    "duration": 11,
    "start_time": "2024-11-10T00:30:03.091Z"
   },
   {
    "duration": 14,
    "start_time": "2024-11-10T00:30:03.104Z"
   },
   {
    "duration": 13,
    "start_time": "2024-11-10T00:30:03.120Z"
   },
   {
    "duration": 36,
    "start_time": "2024-11-10T00:30:03.135Z"
   },
   {
    "duration": 27,
    "start_time": "2024-11-10T00:30:03.172Z"
   },
   {
    "duration": 24,
    "start_time": "2024-11-10T00:30:03.201Z"
   },
   {
    "duration": 15,
    "start_time": "2024-11-10T00:30:03.227Z"
   },
   {
    "duration": 31,
    "start_time": "2024-11-10T00:30:03.244Z"
   },
   {
    "duration": 8,
    "start_time": "2024-11-10T00:30:03.276Z"
   },
   {
    "duration": 17,
    "start_time": "2024-11-10T00:30:03.285Z"
   },
   {
    "duration": 16,
    "start_time": "2024-11-10T00:30:03.303Z"
   },
   {
    "duration": 11,
    "start_time": "2024-11-10T00:30:03.321Z"
   },
   {
    "duration": 41,
    "start_time": "2024-11-10T00:30:03.334Z"
   },
   {
    "duration": 9,
    "start_time": "2024-11-10T00:30:03.377Z"
   },
   {
    "duration": 29,
    "start_time": "2024-11-10T00:30:03.387Z"
   },
   {
    "duration": 20,
    "start_time": "2024-11-10T00:30:03.418Z"
   },
   {
    "duration": 13,
    "start_time": "2024-11-10T00:30:03.469Z"
   },
   {
    "duration": 7,
    "start_time": "2024-11-10T00:30:03.484Z"
   },
   {
    "duration": 9,
    "start_time": "2024-11-10T00:30:03.493Z"
   },
   {
    "duration": 156,
    "start_time": "2024-11-10T00:30:20.909Z"
   },
   {
    "duration": 11,
    "start_time": "2024-11-10T00:30:34.702Z"
   },
   {
    "duration": 834,
    "start_time": "2024-11-10T00:30:39.173Z"
   },
   {
    "duration": 144,
    "start_time": "2024-11-10T00:30:40.010Z"
   },
   {
    "duration": 77,
    "start_time": "2024-11-10T00:30:40.155Z"
   },
   {
    "duration": 47,
    "start_time": "2024-11-10T00:30:40.235Z"
   },
   {
    "duration": 10,
    "start_time": "2024-11-10T00:30:40.284Z"
   },
   {
    "duration": 12,
    "start_time": "2024-11-10T00:30:40.296Z"
   },
   {
    "duration": 9,
    "start_time": "2024-11-10T00:30:40.309Z"
   },
   {
    "duration": 8,
    "start_time": "2024-11-10T00:30:40.319Z"
   },
   {
    "duration": 8,
    "start_time": "2024-11-10T00:30:40.328Z"
   },
   {
    "duration": 33,
    "start_time": "2024-11-10T00:30:40.340Z"
   },
   {
    "duration": 5,
    "start_time": "2024-11-10T00:30:40.374Z"
   },
   {
    "duration": 9,
    "start_time": "2024-11-10T00:30:40.381Z"
   },
   {
    "duration": 9,
    "start_time": "2024-11-10T00:30:40.392Z"
   },
   {
    "duration": 10,
    "start_time": "2024-11-10T00:30:40.402Z"
   },
   {
    "duration": 20,
    "start_time": "2024-11-10T00:30:40.414Z"
   },
   {
    "duration": 33,
    "start_time": "2024-11-10T00:30:40.445Z"
   },
   {
    "duration": 32,
    "start_time": "2024-11-10T00:30:40.480Z"
   },
   {
    "duration": 28,
    "start_time": "2024-11-10T00:30:40.513Z"
   },
   {
    "duration": 35,
    "start_time": "2024-11-10T00:30:40.542Z"
   },
   {
    "duration": 13,
    "start_time": "2024-11-10T00:30:40.579Z"
   },
   {
    "duration": 9,
    "start_time": "2024-11-10T00:30:40.596Z"
   },
   {
    "duration": 21,
    "start_time": "2024-11-10T00:30:40.607Z"
   },
   {
    "duration": 41,
    "start_time": "2024-11-10T00:30:40.631Z"
   },
   {
    "duration": 12,
    "start_time": "2024-11-10T00:30:40.674Z"
   },
   {
    "duration": 13,
    "start_time": "2024-11-10T00:30:40.687Z"
   },
   {
    "duration": 8,
    "start_time": "2024-11-10T00:30:40.702Z"
   },
   {
    "duration": 62,
    "start_time": "2024-11-10T00:30:40.712Z"
   },
   {
    "duration": 20,
    "start_time": "2024-11-10T00:30:40.779Z"
   },
   {
    "duration": 12,
    "start_time": "2024-11-10T00:30:40.801Z"
   },
   {
    "duration": 9,
    "start_time": "2024-11-10T00:30:40.814Z"
   },
   {
    "duration": 9,
    "start_time": "2024-11-10T00:30:40.824Z"
   },
   {
    "duration": 2386,
    "start_time": "2024-11-10T00:30:40.834Z"
   },
   {
    "duration": 8,
    "start_time": "2024-11-10T00:30:43.222Z"
   },
   {
    "duration": 242,
    "start_time": "2024-11-10T00:30:43.231Z"
   },
   {
    "duration": 231,
    "start_time": "2024-11-10T00:30:43.475Z"
   },
   {
    "duration": 249,
    "start_time": "2024-11-10T00:30:43.708Z"
   },
   {
    "duration": 238,
    "start_time": "2024-11-10T00:30:43.959Z"
   },
   {
    "duration": 2,
    "start_time": "2024-11-10T00:30:44.199Z"
   },
   {
    "duration": 8,
    "start_time": "2024-11-10T00:30:44.203Z"
   },
   {
    "duration": 93,
    "start_time": "2024-11-10T00:30:44.213Z"
   },
   {
    "duration": 0,
    "start_time": "2024-11-10T00:30:44.308Z"
   },
   {
    "duration": 0,
    "start_time": "2024-11-10T00:30:44.309Z"
   },
   {
    "duration": 0,
    "start_time": "2024-11-10T00:30:44.310Z"
   },
   {
    "duration": 0,
    "start_time": "2024-11-10T00:30:44.311Z"
   },
   {
    "duration": 1,
    "start_time": "2024-11-10T00:30:44.311Z"
   },
   {
    "duration": 0,
    "start_time": "2024-11-10T00:30:44.313Z"
   },
   {
    "duration": 0,
    "start_time": "2024-11-10T00:30:44.314Z"
   },
   {
    "duration": 0,
    "start_time": "2024-11-10T00:30:44.315Z"
   },
   {
    "duration": 0,
    "start_time": "2024-11-10T00:30:44.316Z"
   },
   {
    "duration": 15,
    "start_time": "2024-11-10T00:30:53.144Z"
   },
   {
    "duration": 4489,
    "start_time": "2024-11-10T00:31:21.420Z"
   },
   {
    "duration": 1750,
    "start_time": "2024-11-10T00:31:36.822Z"
   },
   {
    "duration": 209,
    "start_time": "2024-11-10T00:32:18.894Z"
   },
   {
    "duration": 945,
    "start_time": "2024-11-10T00:32:30.303Z"
   },
   {
    "duration": 154,
    "start_time": "2024-11-10T00:32:31.251Z"
   },
   {
    "duration": 89,
    "start_time": "2024-11-10T00:32:31.406Z"
   },
   {
    "duration": 56,
    "start_time": "2024-11-10T00:32:31.497Z"
   },
   {
    "duration": 10,
    "start_time": "2024-11-10T00:32:31.555Z"
   },
   {
    "duration": 12,
    "start_time": "2024-11-10T00:32:31.567Z"
   },
   {
    "duration": 13,
    "start_time": "2024-11-10T00:32:31.581Z"
   },
   {
    "duration": 8,
    "start_time": "2024-11-10T00:32:31.596Z"
   },
   {
    "duration": 8,
    "start_time": "2024-11-10T00:32:31.606Z"
   },
   {
    "duration": 9,
    "start_time": "2024-11-10T00:32:31.616Z"
   },
   {
    "duration": 8,
    "start_time": "2024-11-10T00:32:31.627Z"
   },
   {
    "duration": 37,
    "start_time": "2024-11-10T00:32:31.636Z"
   },
   {
    "duration": 13,
    "start_time": "2024-11-10T00:32:31.676Z"
   },
   {
    "duration": 14,
    "start_time": "2024-11-10T00:32:31.694Z"
   },
   {
    "duration": 17,
    "start_time": "2024-11-10T00:32:31.711Z"
   },
   {
    "duration": 10,
    "start_time": "2024-11-10T00:32:31.730Z"
   },
   {
    "duration": 69,
    "start_time": "2024-11-10T00:32:31.742Z"
   },
   {
    "duration": 29,
    "start_time": "2024-11-10T00:32:31.813Z"
   },
   {
    "duration": 32,
    "start_time": "2024-11-10T00:32:31.844Z"
   },
   {
    "duration": 15,
    "start_time": "2024-11-10T00:32:31.878Z"
   },
   {
    "duration": 12,
    "start_time": "2024-11-10T00:32:31.896Z"
   },
   {
    "duration": 24,
    "start_time": "2024-11-10T00:32:31.912Z"
   },
   {
    "duration": 36,
    "start_time": "2024-11-10T00:32:31.938Z"
   },
   {
    "duration": 19,
    "start_time": "2024-11-10T00:32:31.977Z"
   },
   {
    "duration": 18,
    "start_time": "2024-11-10T00:32:31.998Z"
   },
   {
    "duration": 11,
    "start_time": "2024-11-10T00:32:32.018Z"
   },
   {
    "duration": 70,
    "start_time": "2024-11-10T00:32:32.030Z"
   },
   {
    "duration": 28,
    "start_time": "2024-11-10T00:32:32.102Z"
   },
   {
    "duration": 13,
    "start_time": "2024-11-10T00:32:32.132Z"
   },
   {
    "duration": 24,
    "start_time": "2024-11-10T00:32:32.147Z"
   },
   {
    "duration": 11,
    "start_time": "2024-11-10T00:32:32.173Z"
   },
   {
    "duration": 2785,
    "start_time": "2024-11-10T00:32:32.186Z"
   },
   {
    "duration": 10,
    "start_time": "2024-11-10T00:32:34.973Z"
   },
   {
    "duration": 272,
    "start_time": "2024-11-10T00:32:34.986Z"
   },
   {
    "duration": 240,
    "start_time": "2024-11-10T00:32:35.260Z"
   },
   {
    "duration": 248,
    "start_time": "2024-11-10T00:32:35.502Z"
   },
   {
    "duration": 238,
    "start_time": "2024-11-10T00:32:35.752Z"
   },
   {
    "duration": 3,
    "start_time": "2024-11-10T00:32:35.992Z"
   },
   {
    "duration": 11,
    "start_time": "2024-11-10T00:32:35.997Z"
   },
   {
    "duration": 6540,
    "start_time": "2024-11-10T00:32:36.010Z"
   },
   {
    "duration": 3,
    "start_time": "2024-11-10T00:32:42.555Z"
   },
   {
    "duration": 13,
    "start_time": "2024-11-10T00:32:42.559Z"
   },
   {
    "duration": 6,
    "start_time": "2024-11-10T00:32:42.573Z"
   },
   {
    "duration": 2,
    "start_time": "2024-11-10T00:32:42.581Z"
   },
   {
    "duration": 2,
    "start_time": "2024-11-10T00:32:42.585Z"
   },
   {
    "duration": 6,
    "start_time": "2024-11-10T00:32:42.589Z"
   },
   {
    "duration": 2,
    "start_time": "2024-11-10T00:32:42.597Z"
   },
   {
    "duration": 8,
    "start_time": "2024-11-10T00:32:42.601Z"
   },
   {
    "duration": 2,
    "start_time": "2024-11-10T00:32:42.611Z"
   },
   {
    "duration": 195,
    "start_time": "2024-11-10T00:33:55.830Z"
   },
   {
    "duration": 771,
    "start_time": "2024-11-10T00:33:59.346Z"
   },
   {
    "duration": 161,
    "start_time": "2024-11-10T00:34:00.119Z"
   },
   {
    "duration": 78,
    "start_time": "2024-11-10T00:34:00.285Z"
   },
   {
    "duration": 60,
    "start_time": "2024-11-10T00:34:00.365Z"
   },
   {
    "duration": 10,
    "start_time": "2024-11-10T00:34:00.428Z"
   },
   {
    "duration": 11,
    "start_time": "2024-11-10T00:34:00.440Z"
   },
   {
    "duration": 9,
    "start_time": "2024-11-10T00:34:00.452Z"
   },
   {
    "duration": 13,
    "start_time": "2024-11-10T00:34:00.471Z"
   },
   {
    "duration": 9,
    "start_time": "2024-11-10T00:34:00.486Z"
   },
   {
    "duration": 10,
    "start_time": "2024-11-10T00:34:00.497Z"
   },
   {
    "duration": 5,
    "start_time": "2024-11-10T00:34:00.509Z"
   },
   {
    "duration": 10,
    "start_time": "2024-11-10T00:34:00.516Z"
   },
   {
    "duration": 11,
    "start_time": "2024-11-10T00:34:00.528Z"
   },
   {
    "duration": 13,
    "start_time": "2024-11-10T00:34:00.575Z"
   },
   {
    "duration": 25,
    "start_time": "2024-11-10T00:34:00.591Z"
   },
   {
    "duration": 10,
    "start_time": "2024-11-10T00:34:00.621Z"
   },
   {
    "duration": 46,
    "start_time": "2024-11-10T00:34:00.633Z"
   },
   {
    "duration": 46,
    "start_time": "2024-11-10T00:34:00.681Z"
   },
   {
    "duration": 16,
    "start_time": "2024-11-10T00:34:00.729Z"
   },
   {
    "duration": 26,
    "start_time": "2024-11-10T00:34:00.747Z"
   },
   {
    "duration": 10,
    "start_time": "2024-11-10T00:34:00.778Z"
   },
   {
    "duration": 29,
    "start_time": "2024-11-10T00:34:00.794Z"
   },
   {
    "duration": 18,
    "start_time": "2024-11-10T00:34:00.825Z"
   },
   {
    "duration": 13,
    "start_time": "2024-11-10T00:34:00.844Z"
   },
   {
    "duration": 25,
    "start_time": "2024-11-10T00:34:00.871Z"
   },
   {
    "duration": 16,
    "start_time": "2024-11-10T00:34:00.902Z"
   },
   {
    "duration": 36,
    "start_time": "2024-11-10T00:34:00.922Z"
   },
   {
    "duration": 45,
    "start_time": "2024-11-10T00:34:00.960Z"
   },
   {
    "duration": 18,
    "start_time": "2024-11-10T00:34:01.009Z"
   },
   {
    "duration": 8,
    "start_time": "2024-11-10T00:34:01.029Z"
   },
   {
    "duration": 8,
    "start_time": "2024-11-10T00:34:01.039Z"
   },
   {
    "duration": 2805,
    "start_time": "2024-11-10T00:34:01.048Z"
   },
   {
    "duration": 17,
    "start_time": "2024-11-10T00:34:03.855Z"
   },
   {
    "duration": 283,
    "start_time": "2024-11-10T00:34:03.874Z"
   },
   {
    "duration": 238,
    "start_time": "2024-11-10T00:34:04.159Z"
   },
   {
    "duration": 240,
    "start_time": "2024-11-10T00:34:04.399Z"
   },
   {
    "duration": 283,
    "start_time": "2024-11-10T00:34:04.641Z"
   },
   {
    "duration": 2,
    "start_time": "2024-11-10T00:34:04.926Z"
   },
   {
    "duration": 8,
    "start_time": "2024-11-10T00:34:04.929Z"
   },
   {
    "duration": 6466,
    "start_time": "2024-11-10T00:34:04.939Z"
   },
   {
    "duration": 4,
    "start_time": "2024-11-10T00:34:11.410Z"
   },
   {
    "duration": 3,
    "start_time": "2024-11-10T00:34:11.416Z"
   },
   {
    "duration": 2,
    "start_time": "2024-11-10T00:34:11.421Z"
   },
   {
    "duration": 3,
    "start_time": "2024-11-10T00:34:11.424Z"
   },
   {
    "duration": 3,
    "start_time": "2024-11-10T00:34:11.428Z"
   },
   {
    "duration": 2,
    "start_time": "2024-11-10T00:34:11.432Z"
   },
   {
    "duration": 2,
    "start_time": "2024-11-10T00:34:11.436Z"
   },
   {
    "duration": 34,
    "start_time": "2024-11-10T00:34:11.440Z"
   },
   {
    "duration": 5,
    "start_time": "2024-11-10T00:34:11.475Z"
   },
   {
    "duration": 4635,
    "start_time": "2024-11-10T00:38:59.689Z"
   },
   {
    "duration": 3,
    "start_time": "2024-11-10T00:40:09.955Z"
   },
   {
    "duration": 85,
    "start_time": "2024-11-10T00:40:09.961Z"
   },
   {
    "duration": 84,
    "start_time": "2024-11-10T00:40:10.048Z"
   },
   {
    "duration": 48,
    "start_time": "2024-11-10T00:40:10.134Z"
   },
   {
    "duration": 13,
    "start_time": "2024-11-10T00:40:10.184Z"
   },
   {
    "duration": 13,
    "start_time": "2024-11-10T00:40:10.199Z"
   },
   {
    "duration": 9,
    "start_time": "2024-11-10T00:40:10.214Z"
   },
   {
    "duration": 7,
    "start_time": "2024-11-10T00:40:10.225Z"
   },
   {
    "duration": 8,
    "start_time": "2024-11-10T00:40:10.234Z"
   },
   {
    "duration": 10,
    "start_time": "2024-11-10T00:40:10.275Z"
   },
   {
    "duration": 6,
    "start_time": "2024-11-10T00:40:10.290Z"
   },
   {
    "duration": 11,
    "start_time": "2024-11-10T00:40:10.298Z"
   },
   {
    "duration": 9,
    "start_time": "2024-11-10T00:40:10.311Z"
   },
   {
    "duration": 9,
    "start_time": "2024-11-10T00:40:10.324Z"
   },
   {
    "duration": 47,
    "start_time": "2024-11-10T00:40:10.334Z"
   },
   {
    "duration": 10,
    "start_time": "2024-11-10T00:40:10.383Z"
   },
   {
    "duration": 29,
    "start_time": "2024-11-10T00:40:10.396Z"
   },
   {
    "duration": 45,
    "start_time": "2024-11-10T00:40:10.427Z"
   },
   {
    "duration": 20,
    "start_time": "2024-11-10T00:40:10.475Z"
   },
   {
    "duration": 13,
    "start_time": "2024-11-10T00:40:10.498Z"
   },
   {
    "duration": 10,
    "start_time": "2024-11-10T00:40:10.513Z"
   },
   {
    "duration": 15,
    "start_time": "2024-11-10T00:40:10.524Z"
   },
   {
    "duration": 37,
    "start_time": "2024-11-10T00:40:10.541Z"
   },
   {
    "duration": 14,
    "start_time": "2024-11-10T00:40:10.580Z"
   },
   {
    "duration": 14,
    "start_time": "2024-11-10T00:40:10.598Z"
   },
   {
    "duration": 11,
    "start_time": "2024-11-10T00:40:10.614Z"
   },
   {
    "duration": 57,
    "start_time": "2024-11-10T00:40:10.626Z"
   },
   {
    "duration": 23,
    "start_time": "2024-11-10T00:40:10.685Z"
   },
   {
    "duration": 12,
    "start_time": "2024-11-10T00:40:10.713Z"
   },
   {
    "duration": 7,
    "start_time": "2024-11-10T00:40:10.727Z"
   },
   {
    "duration": 35,
    "start_time": "2024-11-10T00:40:10.736Z"
   },
   {
    "duration": 4549,
    "start_time": "2024-11-10T00:40:10.773Z"
   },
   {
    "duration": 7,
    "start_time": "2024-11-10T00:40:15.324Z"
   },
   {
    "duration": 282,
    "start_time": "2024-11-10T00:40:15.333Z"
   },
   {
    "duration": 284,
    "start_time": "2024-11-10T00:40:15.617Z"
   },
   {
    "duration": 291,
    "start_time": "2024-11-10T00:40:15.903Z"
   },
   {
    "duration": 313,
    "start_time": "2024-11-10T00:40:16.196Z"
   },
   {
    "duration": 9,
    "start_time": "2024-11-10T00:40:16.511Z"
   },
   {
    "duration": 3,
    "start_time": "2024-11-10T00:40:16.522Z"
   },
   {
    "duration": 4,
    "start_time": "2024-11-10T00:40:16.526Z"
   },
   {
    "duration": 5,
    "start_time": "2024-11-10T00:40:16.532Z"
   },
   {
    "duration": 2,
    "start_time": "2024-11-10T00:40:16.539Z"
   },
   {
    "duration": 3,
    "start_time": "2024-11-10T00:40:16.547Z"
   },
   {
    "duration": 2,
    "start_time": "2024-11-10T00:40:16.552Z"
   },
   {
    "duration": 2,
    "start_time": "2024-11-10T00:40:16.571Z"
   },
   {
    "duration": 2,
    "start_time": "2024-11-10T00:40:16.575Z"
   },
   {
    "duration": 226,
    "start_time": "2024-11-10T00:43:43.488Z"
   },
   {
    "duration": 289,
    "start_time": "2024-11-10T00:46:34.212Z"
   },
   {
    "duration": 284,
    "start_time": "2024-11-10T00:47:12.235Z"
   },
   {
    "duration": 287,
    "start_time": "2024-11-10T00:47:28.870Z"
   },
   {
    "duration": 276,
    "start_time": "2024-11-10T00:47:34.897Z"
   },
   {
    "duration": 394,
    "start_time": "2024-11-10T00:49:48.536Z"
   },
   {
    "duration": 19,
    "start_time": "2024-11-10T00:50:36.893Z"
   },
   {
    "duration": 15,
    "start_time": "2024-11-10T00:50:43.816Z"
   },
   {
    "duration": 274,
    "start_time": "2024-11-10T00:52:17.661Z"
   },
   {
    "duration": 283,
    "start_time": "2024-11-10T00:52:39.800Z"
   },
   {
    "duration": 235,
    "start_time": "2024-11-10T00:53:48.323Z"
   },
   {
    "duration": 520,
    "start_time": "2024-11-10T00:55:36.715Z"
   },
   {
    "duration": 2547,
    "start_time": "2024-11-10T18:14:37.489Z"
   },
   {
    "duration": 96,
    "start_time": "2024-11-10T18:14:40.039Z"
   },
   {
    "duration": 79,
    "start_time": "2024-11-10T18:14:40.136Z"
   },
   {
    "duration": 47,
    "start_time": "2024-11-10T18:14:40.218Z"
   },
   {
    "duration": 10,
    "start_time": "2024-11-10T18:14:40.268Z"
   },
   {
    "duration": 11,
    "start_time": "2024-11-10T18:14:40.279Z"
   },
   {
    "duration": 18,
    "start_time": "2024-11-10T18:14:40.291Z"
   },
   {
    "duration": 7,
    "start_time": "2024-11-10T18:14:40.311Z"
   },
   {
    "duration": 2,
    "start_time": "2024-11-10T18:14:40.320Z"
   },
   {
    "duration": 8,
    "start_time": "2024-11-10T18:14:40.324Z"
   },
   {
    "duration": 8,
    "start_time": "2024-11-10T18:14:40.334Z"
   },
   {
    "duration": 5,
    "start_time": "2024-11-10T18:14:40.343Z"
   },
   {
    "duration": 9,
    "start_time": "2024-11-10T18:14:40.350Z"
   },
   {
    "duration": 8,
    "start_time": "2024-11-10T18:14:40.362Z"
   },
   {
    "duration": 8,
    "start_time": "2024-11-10T18:14:40.410Z"
   },
   {
    "duration": 14,
    "start_time": "2024-11-10T18:14:40.420Z"
   },
   {
    "duration": 9,
    "start_time": "2024-11-10T18:14:40.436Z"
   },
   {
    "duration": 33,
    "start_time": "2024-11-10T18:14:40.447Z"
   },
   {
    "duration": 49,
    "start_time": "2024-11-10T18:14:40.481Z"
   },
   {
    "duration": 13,
    "start_time": "2024-11-10T18:14:40.532Z"
   },
   {
    "duration": 12,
    "start_time": "2024-11-10T18:14:40.546Z"
   },
   {
    "duration": 8,
    "start_time": "2024-11-10T18:14:40.560Z"
   },
   {
    "duration": 50,
    "start_time": "2024-11-10T18:14:40.570Z"
   },
   {
    "duration": 17,
    "start_time": "2024-11-10T18:14:40.622Z"
   },
   {
    "duration": 11,
    "start_time": "2024-11-10T18:14:40.641Z"
   },
   {
    "duration": 13,
    "start_time": "2024-11-10T18:14:40.654Z"
   },
   {
    "duration": 8,
    "start_time": "2024-11-10T18:14:40.669Z"
   },
   {
    "duration": 64,
    "start_time": "2024-11-10T18:14:40.679Z"
   },
   {
    "duration": 21,
    "start_time": "2024-11-10T18:14:40.744Z"
   },
   {
    "duration": 12,
    "start_time": "2024-11-10T18:14:40.768Z"
   },
   {
    "duration": 28,
    "start_time": "2024-11-10T18:14:40.782Z"
   },
   {
    "duration": 11,
    "start_time": "2024-11-10T18:14:40.811Z"
   },
   {
    "duration": 4142,
    "start_time": "2024-11-10T18:14:40.824Z"
   },
   {
    "duration": 8,
    "start_time": "2024-11-10T18:14:44.969Z"
   },
   {
    "duration": 245,
    "start_time": "2024-11-10T18:14:44.979Z"
   },
   {
    "duration": 234,
    "start_time": "2024-11-10T18:14:45.225Z"
   },
   {
    "duration": 432,
    "start_time": "2024-11-10T18:14:45.461Z"
   },
   {
    "duration": 236,
    "start_time": "2024-11-10T18:14:45.896Z"
   },
   {
    "duration": 4,
    "start_time": "2024-11-10T18:14:46.134Z"
   },
   {
    "duration": 2,
    "start_time": "2024-11-10T18:14:46.140Z"
   },
   {
    "duration": 2,
    "start_time": "2024-11-10T18:14:46.146Z"
   },
   {
    "duration": 2,
    "start_time": "2024-11-10T18:14:46.150Z"
   },
   {
    "duration": 3,
    "start_time": "2024-11-10T18:14:46.154Z"
   },
   {
    "duration": 3,
    "start_time": "2024-11-10T18:14:46.158Z"
   },
   {
    "duration": 2,
    "start_time": "2024-11-10T18:14:46.163Z"
   },
   {
    "duration": 3,
    "start_time": "2024-11-10T18:14:46.167Z"
   },
   {
    "duration": 37,
    "start_time": "2024-11-10T18:14:46.172Z"
   },
   {
    "duration": 12,
    "start_time": "2024-11-10T18:16:04.688Z"
   },
   {
    "duration": 0,
    "start_time": "2024-11-10T18:19:11.347Z"
   },
   {
    "duration": 0,
    "start_time": "2024-11-10T18:19:11.347Z"
   },
   {
    "duration": 0,
    "start_time": "2024-11-10T18:19:11.349Z"
   },
   {
    "duration": 0,
    "start_time": "2024-11-10T18:19:11.350Z"
   },
   {
    "duration": 0,
    "start_time": "2024-11-10T18:19:11.351Z"
   },
   {
    "duration": 0,
    "start_time": "2024-11-10T18:19:11.352Z"
   },
   {
    "duration": 0,
    "start_time": "2024-11-10T18:19:11.353Z"
   },
   {
    "duration": 0,
    "start_time": "2024-11-10T18:19:11.354Z"
   },
   {
    "duration": 0,
    "start_time": "2024-11-10T18:19:11.356Z"
   },
   {
    "duration": 0,
    "start_time": "2024-11-10T18:19:11.357Z"
   },
   {
    "duration": 0,
    "start_time": "2024-11-10T18:19:11.358Z"
   },
   {
    "duration": 0,
    "start_time": "2024-11-10T18:19:11.359Z"
   },
   {
    "duration": 0,
    "start_time": "2024-11-10T18:19:11.361Z"
   },
   {
    "duration": 0,
    "start_time": "2024-11-10T18:19:11.363Z"
   },
   {
    "duration": 0,
    "start_time": "2024-11-10T18:19:11.364Z"
   },
   {
    "duration": 0,
    "start_time": "2024-11-10T18:19:11.367Z"
   },
   {
    "duration": 0,
    "start_time": "2024-11-10T18:19:11.368Z"
   },
   {
    "duration": 0,
    "start_time": "2024-11-10T18:19:11.370Z"
   },
   {
    "duration": 0,
    "start_time": "2024-11-10T18:19:11.371Z"
   },
   {
    "duration": 0,
    "start_time": "2024-11-10T18:19:11.372Z"
   },
   {
    "duration": 0,
    "start_time": "2024-11-10T18:19:11.373Z"
   },
   {
    "duration": 0,
    "start_time": "2024-11-10T18:19:11.374Z"
   },
   {
    "duration": 0,
    "start_time": "2024-11-10T18:19:11.408Z"
   },
   {
    "duration": 0,
    "start_time": "2024-11-10T18:19:11.409Z"
   },
   {
    "duration": 0,
    "start_time": "2024-11-10T18:19:11.411Z"
   },
   {
    "duration": 0,
    "start_time": "2024-11-10T18:19:11.412Z"
   },
   {
    "duration": 0,
    "start_time": "2024-11-10T18:19:11.414Z"
   },
   {
    "duration": 0,
    "start_time": "2024-11-10T18:19:11.415Z"
   },
   {
    "duration": 0,
    "start_time": "2024-11-10T18:19:11.416Z"
   },
   {
    "duration": 0,
    "start_time": "2024-11-10T18:19:11.417Z"
   },
   {
    "duration": 0,
    "start_time": "2024-11-10T18:19:11.417Z"
   },
   {
    "duration": 0,
    "start_time": "2024-11-10T18:19:11.418Z"
   },
   {
    "duration": 0,
    "start_time": "2024-11-10T18:19:11.420Z"
   },
   {
    "duration": 0,
    "start_time": "2024-11-10T18:19:11.420Z"
   },
   {
    "duration": 0,
    "start_time": "2024-11-10T18:19:11.422Z"
   },
   {
    "duration": 0,
    "start_time": "2024-11-10T18:19:11.423Z"
   },
   {
    "duration": 0,
    "start_time": "2024-11-10T18:19:11.424Z"
   },
   {
    "duration": 0,
    "start_time": "2024-11-10T18:19:11.425Z"
   },
   {
    "duration": 0,
    "start_time": "2024-11-10T18:19:11.426Z"
   },
   {
    "duration": 0,
    "start_time": "2024-11-10T18:19:11.427Z"
   },
   {
    "duration": 0,
    "start_time": "2024-11-10T18:19:11.427Z"
   },
   {
    "duration": 0,
    "start_time": "2024-11-10T18:19:11.428Z"
   },
   {
    "duration": 0,
    "start_time": "2024-11-10T18:19:11.429Z"
   },
   {
    "duration": 0,
    "start_time": "2024-11-10T18:19:11.430Z"
   },
   {
    "duration": 0,
    "start_time": "2024-11-10T18:19:11.431Z"
   },
   {
    "duration": 0,
    "start_time": "2024-11-10T18:19:11.432Z"
   },
   {
    "duration": 0,
    "start_time": "2024-11-10T18:19:11.433Z"
   },
   {
    "duration": 2,
    "start_time": "2024-11-10T18:19:44.716Z"
   },
   {
    "duration": 70,
    "start_time": "2024-11-10T18:19:47.805Z"
   },
   {
    "duration": 55,
    "start_time": "2024-11-10T18:19:51.178Z"
   },
   {
    "duration": 35,
    "start_time": "2024-11-10T18:19:54.306Z"
   },
   {
    "duration": 11,
    "start_time": "2024-11-10T18:20:05.101Z"
   },
   {
    "duration": 11,
    "start_time": "2024-11-10T18:20:08.145Z"
   },
   {
    "duration": 8,
    "start_time": "2024-11-10T18:20:11.553Z"
   },
   {
    "duration": 8,
    "start_time": "2024-11-10T18:20:26.937Z"
   },
   {
    "duration": 9,
    "start_time": "2024-11-10T18:20:37.894Z"
   },
   {
    "duration": 9,
    "start_time": "2024-11-10T18:20:40.945Z"
   },
   {
    "duration": 6,
    "start_time": "2024-11-10T18:20:46.073Z"
   },
   {
    "duration": 10,
    "start_time": "2024-11-10T18:21:01.506Z"
   },
   {
    "duration": 12,
    "start_time": "2024-11-10T18:21:04.937Z"
   },
   {
    "duration": 13,
    "start_time": "2024-11-10T18:21:12.677Z"
   },
   {
    "duration": 10,
    "start_time": "2024-11-10T18:21:29.017Z"
   },
   {
    "duration": 15,
    "start_time": "2024-11-10T18:21:38.145Z"
   },
   {
    "duration": 9,
    "start_time": "2024-11-10T18:21:41.105Z"
   },
   {
    "duration": 24,
    "start_time": "2024-11-10T18:21:49.977Z"
   },
   {
    "duration": 14,
    "start_time": "2024-11-10T18:22:39.588Z"
   },
   {
    "duration": 12,
    "start_time": "2024-11-10T18:22:52.013Z"
   },
   {
    "duration": 7,
    "start_time": "2024-11-10T18:22:59.186Z"
   },
   {
    "duration": 15,
    "start_time": "2024-11-10T18:23:03.609Z"
   },
   {
    "duration": 16,
    "start_time": "2024-11-10T18:23:08.937Z"
   },
   {
    "duration": 12,
    "start_time": "2024-11-10T18:23:46.089Z"
   },
   {
    "duration": 14,
    "start_time": "2024-11-10T18:23:58.225Z"
   },
   {
    "duration": 9,
    "start_time": "2024-11-10T18:24:01.423Z"
   },
   {
    "duration": 29,
    "start_time": "2024-11-10T18:24:04.651Z"
   },
   {
    "duration": 21,
    "start_time": "2024-11-10T18:24:08.697Z"
   },
   {
    "duration": 12,
    "start_time": "2024-11-10T18:24:43.265Z"
   },
   {
    "duration": 9,
    "start_time": "2024-11-10T18:24:52.541Z"
   },
   {
    "duration": 9,
    "start_time": "2024-11-10T18:24:57.025Z"
   },
   {
    "duration": 477,
    "start_time": "2024-11-10T18:27:04.066Z"
   },
   {
    "duration": 29,
    "start_time": "2024-11-10T18:28:04.146Z"
   },
   {
    "duration": 48,
    "start_time": "2024-11-10T18:28:25.900Z"
   },
   {
    "duration": 24,
    "start_time": "2024-11-10T18:28:38.025Z"
   },
   {
    "duration": 45,
    "start_time": "2024-11-10T18:28:49.668Z"
   },
   {
    "duration": 48,
    "start_time": "2024-11-10T18:29:19.346Z"
   },
   {
    "duration": 8,
    "start_time": "2024-11-10T18:30:01.698Z"
   },
   {
    "duration": 13,
    "start_time": "2024-11-10T18:30:19.409Z"
   },
   {
    "duration": 13,
    "start_time": "2024-11-10T18:30:33.906Z"
   },
   {
    "duration": 18,
    "start_time": "2024-11-10T18:30:48.393Z"
   },
   {
    "duration": 3,
    "start_time": "2024-11-10T18:31:03.772Z"
   },
   {
    "duration": 69,
    "start_time": "2024-11-10T18:31:03.794Z"
   },
   {
    "duration": 58,
    "start_time": "2024-11-10T18:31:03.865Z"
   },
   {
    "duration": 36,
    "start_time": "2024-11-10T18:31:03.926Z"
   },
   {
    "duration": 10,
    "start_time": "2024-11-10T18:31:03.964Z"
   },
   {
    "duration": 10,
    "start_time": "2024-11-10T18:31:03.976Z"
   },
   {
    "duration": 25,
    "start_time": "2024-11-10T18:31:03.987Z"
   },
   {
    "duration": 7,
    "start_time": "2024-11-10T18:31:04.014Z"
   },
   {
    "duration": 3,
    "start_time": "2024-11-10T18:31:04.022Z"
   },
   {
    "duration": 9,
    "start_time": "2024-11-10T18:31:04.026Z"
   },
   {
    "duration": 8,
    "start_time": "2024-11-10T18:31:04.036Z"
   },
   {
    "duration": 5,
    "start_time": "2024-11-10T18:31:04.046Z"
   },
   {
    "duration": 9,
    "start_time": "2024-11-10T18:31:04.052Z"
   },
   {
    "duration": 49,
    "start_time": "2024-11-10T18:31:04.062Z"
   },
   {
    "duration": 8,
    "start_time": "2024-11-10T18:31:04.114Z"
   },
   {
    "duration": 15,
    "start_time": "2024-11-10T18:31:04.124Z"
   },
   {
    "duration": 9,
    "start_time": "2024-11-10T18:31:04.141Z"
   },
   {
    "duration": 58,
    "start_time": "2024-11-10T18:31:04.152Z"
   },
   {
    "duration": 24,
    "start_time": "2024-11-10T18:31:04.212Z"
   },
   {
    "duration": 14,
    "start_time": "2024-11-10T18:31:04.237Z"
   },
   {
    "duration": 11,
    "start_time": "2024-11-10T18:31:04.252Z"
   },
   {
    "duration": 8,
    "start_time": "2024-11-10T18:31:04.265Z"
   },
   {
    "duration": 45,
    "start_time": "2024-11-10T18:31:04.274Z"
   },
   {
    "duration": 17,
    "start_time": "2024-11-10T18:31:04.321Z"
   },
   {
    "duration": 10,
    "start_time": "2024-11-10T18:31:04.340Z"
   },
   {
    "duration": 13,
    "start_time": "2024-11-10T18:31:04.351Z"
   },
   {
    "duration": 9,
    "start_time": "2024-11-10T18:31:04.366Z"
   },
   {
    "duration": 68,
    "start_time": "2024-11-10T18:31:04.376Z"
   },
   {
    "duration": 20,
    "start_time": "2024-11-10T18:31:04.446Z"
   },
   {
    "duration": 11,
    "start_time": "2024-11-10T18:31:04.468Z"
   },
   {
    "duration": 8,
    "start_time": "2024-11-10T18:31:04.480Z"
   },
   {
    "duration": 8,
    "start_time": "2024-11-10T18:31:04.508Z"
   },
   {
    "duration": 11,
    "start_time": "2024-11-10T18:31:04.518Z"
   },
   {
    "duration": 18,
    "start_time": "2024-11-10T18:31:04.530Z"
   },
   {
    "duration": 63,
    "start_time": "2024-11-10T18:31:04.549Z"
   },
   {
    "duration": 0,
    "start_time": "2024-11-10T18:31:04.614Z"
   },
   {
    "duration": 0,
    "start_time": "2024-11-10T18:31:04.615Z"
   },
   {
    "duration": 0,
    "start_time": "2024-11-10T18:31:04.616Z"
   },
   {
    "duration": 0,
    "start_time": "2024-11-10T18:31:04.618Z"
   },
   {
    "duration": 0,
    "start_time": "2024-11-10T18:31:04.618Z"
   },
   {
    "duration": 0,
    "start_time": "2024-11-10T18:31:04.620Z"
   },
   {
    "duration": 0,
    "start_time": "2024-11-10T18:31:04.622Z"
   },
   {
    "duration": 0,
    "start_time": "2024-11-10T18:31:04.623Z"
   },
   {
    "duration": 0,
    "start_time": "2024-11-10T18:31:04.625Z"
   },
   {
    "duration": 0,
    "start_time": "2024-11-10T18:31:04.627Z"
   },
   {
    "duration": 0,
    "start_time": "2024-11-10T18:31:04.628Z"
   },
   {
    "duration": 1,
    "start_time": "2024-11-10T18:31:04.629Z"
   },
   {
    "duration": 0,
    "start_time": "2024-11-10T18:31:04.631Z"
   },
   {
    "duration": 0,
    "start_time": "2024-11-10T18:31:04.632Z"
   },
   {
    "duration": 0,
    "start_time": "2024-11-10T18:31:04.633Z"
   },
   {
    "duration": 19,
    "start_time": "2024-11-10T18:31:14.401Z"
   },
   {
    "duration": 6,
    "start_time": "2024-11-10T18:34:17.345Z"
   },
   {
    "duration": 11,
    "start_time": "2024-11-10T18:34:44.785Z"
   },
   {
    "duration": 39,
    "start_time": "2024-11-10T18:37:38.465Z"
   },
   {
    "duration": 20,
    "start_time": "2024-11-10T18:38:06.146Z"
   },
   {
    "duration": 3,
    "start_time": "2024-11-10T18:39:14.541Z"
   },
   {
    "duration": 5,
    "start_time": "2024-11-10T18:39:28.227Z"
   },
   {
    "duration": 406,
    "start_time": "2024-11-10T18:39:38.226Z"
   },
   {
    "duration": 41,
    "start_time": "2024-11-10T18:40:13.737Z"
   },
   {
    "duration": 40,
    "start_time": "2024-11-10T18:40:25.921Z"
   },
   {
    "duration": 3,
    "start_time": "2024-11-10T18:40:40.148Z"
   },
   {
    "duration": 67,
    "start_time": "2024-11-10T18:40:40.153Z"
   },
   {
    "duration": 53,
    "start_time": "2024-11-10T18:40:40.222Z"
   },
   {
    "duration": 46,
    "start_time": "2024-11-10T18:40:40.276Z"
   },
   {
    "duration": 9,
    "start_time": "2024-11-10T18:40:40.325Z"
   },
   {
    "duration": 10,
    "start_time": "2024-11-10T18:40:40.336Z"
   },
   {
    "duration": 9,
    "start_time": "2024-11-10T18:40:40.348Z"
   },
   {
    "duration": 8,
    "start_time": "2024-11-10T18:40:40.358Z"
   },
   {
    "duration": 2,
    "start_time": "2024-11-10T18:40:40.368Z"
   },
   {
    "duration": 40,
    "start_time": "2024-11-10T18:40:40.372Z"
   },
   {
    "duration": 8,
    "start_time": "2024-11-10T18:40:40.414Z"
   },
   {
    "duration": 5,
    "start_time": "2024-11-10T18:40:40.423Z"
   },
   {
    "duration": 9,
    "start_time": "2024-11-10T18:40:40.429Z"
   },
   {
    "duration": 8,
    "start_time": "2024-11-10T18:40:40.443Z"
   },
   {
    "duration": 8,
    "start_time": "2024-11-10T18:40:40.452Z"
   },
   {
    "duration": 50,
    "start_time": "2024-11-10T18:40:40.462Z"
   },
   {
    "duration": 10,
    "start_time": "2024-11-10T18:40:40.514Z"
   },
   {
    "duration": 26,
    "start_time": "2024-11-10T18:40:40.525Z"
   },
   {
    "duration": 23,
    "start_time": "2024-11-10T18:40:40.553Z"
   },
   {
    "duration": 40,
    "start_time": "2024-11-10T18:40:40.578Z"
   },
   {
    "duration": 11,
    "start_time": "2024-11-10T18:40:40.620Z"
   },
   {
    "duration": 7,
    "start_time": "2024-11-10T18:40:40.633Z"
   },
   {
    "duration": 15,
    "start_time": "2024-11-10T18:40:40.642Z"
   },
   {
    "duration": 16,
    "start_time": "2024-11-10T18:40:40.658Z"
   },
   {
    "duration": 40,
    "start_time": "2024-11-10T18:40:40.675Z"
   },
   {
    "duration": 12,
    "start_time": "2024-11-10T18:40:40.717Z"
   },
   {
    "duration": 9,
    "start_time": "2024-11-10T18:40:40.731Z"
   },
   {
    "duration": 32,
    "start_time": "2024-11-10T18:40:40.742Z"
   },
   {
    "duration": 47,
    "start_time": "2024-11-10T18:40:40.776Z"
   },
   {
    "duration": 11,
    "start_time": "2024-11-10T18:40:40.824Z"
   },
   {
    "duration": 8,
    "start_time": "2024-11-10T18:40:40.837Z"
   },
   {
    "duration": 8,
    "start_time": "2024-11-10T18:40:40.847Z"
   },
   {
    "duration": 20,
    "start_time": "2024-11-10T18:40:40.856Z"
   },
   {
    "duration": 0,
    "start_time": "2024-11-10T18:40:40.877Z"
   },
   {
    "duration": 0,
    "start_time": "2024-11-10T18:40:40.879Z"
   },
   {
    "duration": 0,
    "start_time": "2024-11-10T18:40:40.908Z"
   },
   {
    "duration": 0,
    "start_time": "2024-11-10T18:40:40.910Z"
   },
   {
    "duration": 0,
    "start_time": "2024-11-10T18:40:40.911Z"
   },
   {
    "duration": 0,
    "start_time": "2024-11-10T18:40:40.912Z"
   },
   {
    "duration": 0,
    "start_time": "2024-11-10T18:40:40.914Z"
   },
   {
    "duration": 0,
    "start_time": "2024-11-10T18:40:40.915Z"
   },
   {
    "duration": 0,
    "start_time": "2024-11-10T18:40:40.916Z"
   },
   {
    "duration": 0,
    "start_time": "2024-11-10T18:40:40.917Z"
   },
   {
    "duration": 0,
    "start_time": "2024-11-10T18:40:40.918Z"
   },
   {
    "duration": 0,
    "start_time": "2024-11-10T18:40:40.919Z"
   },
   {
    "duration": 0,
    "start_time": "2024-11-10T18:40:40.921Z"
   },
   {
    "duration": 10,
    "start_time": "2024-11-10T18:41:42.918Z"
   },
   {
    "duration": 6,
    "start_time": "2024-11-10T18:41:46.267Z"
   },
   {
    "duration": 9,
    "start_time": "2024-11-10T18:41:49.178Z"
   },
   {
    "duration": 8,
    "start_time": "2024-11-10T18:41:55.898Z"
   },
   {
    "duration": 10,
    "start_time": "2024-11-10T18:41:59.919Z"
   },
   {
    "duration": 13,
    "start_time": "2024-11-10T18:42:09.755Z"
   },
   {
    "duration": 41,
    "start_time": "2024-11-10T18:42:14.171Z"
   },
   {
    "duration": 3,
    "start_time": "2024-11-10T18:43:20.877Z"
   },
   {
    "duration": 41,
    "start_time": "2024-11-10T18:43:27.626Z"
   },
   {
    "duration": 39,
    "start_time": "2024-11-10T18:43:49.038Z"
   },
   {
    "duration": 3,
    "start_time": "2024-11-10T18:44:17.609Z"
   },
   {
    "duration": 12,
    "start_time": "2024-11-10T18:44:24.407Z"
   },
   {
    "duration": 21,
    "start_time": "2024-11-10T18:44:29.457Z"
   },
   {
    "duration": 38,
    "start_time": "2024-11-10T18:44:34.318Z"
   },
   {
    "duration": 0,
    "start_time": "2024-11-10T18:48:23.117Z"
   },
   {
    "duration": 0,
    "start_time": "2024-11-10T18:48:23.118Z"
   },
   {
    "duration": 0,
    "start_time": "2024-11-10T18:48:23.120Z"
   },
   {
    "duration": 0,
    "start_time": "2024-11-10T18:48:23.121Z"
   },
   {
    "duration": 0,
    "start_time": "2024-11-10T18:48:23.122Z"
   },
   {
    "duration": 0,
    "start_time": "2024-11-10T18:48:23.123Z"
   },
   {
    "duration": 0,
    "start_time": "2024-11-10T18:48:23.124Z"
   },
   {
    "duration": 0,
    "start_time": "2024-11-10T18:48:23.125Z"
   },
   {
    "duration": 0,
    "start_time": "2024-11-10T18:48:23.127Z"
   },
   {
    "duration": 0,
    "start_time": "2024-11-10T18:48:23.128Z"
   },
   {
    "duration": 0,
    "start_time": "2024-11-10T18:48:23.129Z"
   },
   {
    "duration": 0,
    "start_time": "2024-11-10T18:48:23.130Z"
   },
   {
    "duration": 0,
    "start_time": "2024-11-10T18:48:23.131Z"
   },
   {
    "duration": 0,
    "start_time": "2024-11-10T18:48:23.132Z"
   },
   {
    "duration": 0,
    "start_time": "2024-11-10T18:48:23.133Z"
   },
   {
    "duration": 0,
    "start_time": "2024-11-10T18:48:23.134Z"
   },
   {
    "duration": 0,
    "start_time": "2024-11-10T18:48:23.135Z"
   },
   {
    "duration": 0,
    "start_time": "2024-11-10T18:48:23.136Z"
   },
   {
    "duration": 0,
    "start_time": "2024-11-10T18:48:23.138Z"
   },
   {
    "duration": 0,
    "start_time": "2024-11-10T18:48:23.140Z"
   },
   {
    "duration": 0,
    "start_time": "2024-11-10T18:48:23.141Z"
   },
   {
    "duration": 0,
    "start_time": "2024-11-10T18:48:23.142Z"
   },
   {
    "duration": 0,
    "start_time": "2024-11-10T18:48:23.143Z"
   },
   {
    "duration": 0,
    "start_time": "2024-11-10T18:48:23.145Z"
   },
   {
    "duration": 0,
    "start_time": "2024-11-10T18:48:23.146Z"
   },
   {
    "duration": 0,
    "start_time": "2024-11-10T18:48:23.148Z"
   },
   {
    "duration": 0,
    "start_time": "2024-11-10T18:48:23.209Z"
   },
   {
    "duration": 0,
    "start_time": "2024-11-10T18:48:23.210Z"
   },
   {
    "duration": 0,
    "start_time": "2024-11-10T18:48:23.211Z"
   },
   {
    "duration": 0,
    "start_time": "2024-11-10T18:48:23.213Z"
   },
   {
    "duration": 0,
    "start_time": "2024-11-10T18:48:23.214Z"
   },
   {
    "duration": 0,
    "start_time": "2024-11-10T18:48:23.216Z"
   },
   {
    "duration": 0,
    "start_time": "2024-11-10T18:48:23.217Z"
   },
   {
    "duration": 0,
    "start_time": "2024-11-10T18:48:23.218Z"
   },
   {
    "duration": 0,
    "start_time": "2024-11-10T18:48:23.219Z"
   },
   {
    "duration": 0,
    "start_time": "2024-11-10T18:48:23.220Z"
   },
   {
    "duration": 0,
    "start_time": "2024-11-10T18:48:23.221Z"
   },
   {
    "duration": 0,
    "start_time": "2024-11-10T18:48:23.222Z"
   },
   {
    "duration": 0,
    "start_time": "2024-11-10T18:48:23.223Z"
   },
   {
    "duration": 0,
    "start_time": "2024-11-10T18:48:23.224Z"
   },
   {
    "duration": 4,
    "start_time": "2024-11-10T18:48:23.229Z"
   },
   {
    "duration": 2,
    "start_time": "2024-11-10T18:48:23.235Z"
   },
   {
    "duration": 2,
    "start_time": "2024-11-10T18:48:23.239Z"
   },
   {
    "duration": 2,
    "start_time": "2024-11-10T18:48:23.243Z"
   },
   {
    "duration": 2,
    "start_time": "2024-11-10T18:48:23.247Z"
   },
   {
    "duration": 4,
    "start_time": "2024-11-10T18:48:26.564Z"
   },
   {
    "duration": 63,
    "start_time": "2024-11-10T18:48:26.573Z"
   },
   {
    "duration": 56,
    "start_time": "2024-11-10T18:48:26.638Z"
   },
   {
    "duration": 40,
    "start_time": "2024-11-10T18:48:26.696Z"
   },
   {
    "duration": 11,
    "start_time": "2024-11-10T18:48:26.737Z"
   },
   {
    "duration": 11,
    "start_time": "2024-11-10T18:48:26.751Z"
   },
   {
    "duration": 10,
    "start_time": "2024-11-10T18:48:26.763Z"
   },
   {
    "duration": 34,
    "start_time": "2024-11-10T18:48:26.775Z"
   },
   {
    "duration": 8,
    "start_time": "2024-11-10T18:48:26.811Z"
   },
   {
    "duration": 9,
    "start_time": "2024-11-10T18:48:26.821Z"
   },
   {
    "duration": 5,
    "start_time": "2024-11-10T18:48:26.831Z"
   },
   {
    "duration": 9,
    "start_time": "2024-11-10T18:48:26.838Z"
   },
   {
    "duration": 9,
    "start_time": "2024-11-10T18:48:26.850Z"
   },
   {
    "duration": 8,
    "start_time": "2024-11-10T18:48:26.860Z"
   },
   {
    "duration": 14,
    "start_time": "2024-11-10T18:48:26.909Z"
   },
   {
    "duration": 9,
    "start_time": "2024-11-10T18:48:26.925Z"
   },
   {
    "duration": 28,
    "start_time": "2024-11-10T18:48:26.935Z"
   },
   {
    "duration": 3,
    "start_time": "2024-11-10T18:48:26.965Z"
   },
   {
    "duration": 0,
    "start_time": "2024-11-10T18:48:26.970Z"
   },
   {
    "duration": 0,
    "start_time": "2024-11-10T18:48:26.971Z"
   },
   {
    "duration": 0,
    "start_time": "2024-11-10T18:48:26.972Z"
   },
   {
    "duration": 0,
    "start_time": "2024-11-10T18:48:26.973Z"
   },
   {
    "duration": 0,
    "start_time": "2024-11-10T18:48:26.974Z"
   },
   {
    "duration": 0,
    "start_time": "2024-11-10T18:48:26.976Z"
   },
   {
    "duration": 0,
    "start_time": "2024-11-10T18:48:26.977Z"
   },
   {
    "duration": 0,
    "start_time": "2024-11-10T18:48:26.978Z"
   },
   {
    "duration": 0,
    "start_time": "2024-11-10T18:48:27.009Z"
   },
   {
    "duration": 0,
    "start_time": "2024-11-10T18:48:27.010Z"
   },
   {
    "duration": 0,
    "start_time": "2024-11-10T18:48:27.011Z"
   },
   {
    "duration": 0,
    "start_time": "2024-11-10T18:48:27.013Z"
   },
   {
    "duration": 0,
    "start_time": "2024-11-10T18:48:27.014Z"
   },
   {
    "duration": 0,
    "start_time": "2024-11-10T18:48:27.015Z"
   },
   {
    "duration": 0,
    "start_time": "2024-11-10T18:48:27.017Z"
   },
   {
    "duration": 0,
    "start_time": "2024-11-10T18:48:27.018Z"
   },
   {
    "duration": 0,
    "start_time": "2024-11-10T18:48:27.020Z"
   },
   {
    "duration": 0,
    "start_time": "2024-11-10T18:48:27.021Z"
   },
   {
    "duration": 0,
    "start_time": "2024-11-10T18:48:27.022Z"
   },
   {
    "duration": 0,
    "start_time": "2024-11-10T18:48:27.024Z"
   },
   {
    "duration": 0,
    "start_time": "2024-11-10T18:48:27.025Z"
   },
   {
    "duration": 0,
    "start_time": "2024-11-10T18:48:27.026Z"
   },
   {
    "duration": 0,
    "start_time": "2024-11-10T18:48:27.028Z"
   },
   {
    "duration": 0,
    "start_time": "2024-11-10T18:48:27.029Z"
   },
   {
    "duration": 0,
    "start_time": "2024-11-10T18:48:27.031Z"
   },
   {
    "duration": 0,
    "start_time": "2024-11-10T18:48:27.032Z"
   },
   {
    "duration": 0,
    "start_time": "2024-11-10T18:48:27.033Z"
   },
   {
    "duration": 3,
    "start_time": "2024-11-10T18:48:51.106Z"
   },
   {
    "duration": 237,
    "start_time": "2024-11-10T18:49:16.244Z"
   },
   {
    "duration": 24,
    "start_time": "2024-11-10T18:50:18.290Z"
   },
   {
    "duration": 15,
    "start_time": "2024-11-10T18:51:42.164Z"
   },
   {
    "duration": 8,
    "start_time": "2024-11-10T18:52:18.081Z"
   },
   {
    "duration": 18,
    "start_time": "2024-11-10T18:52:29.506Z"
   },
   {
    "duration": 13,
    "start_time": "2024-11-10T18:52:34.368Z"
   },
   {
    "duration": 9,
    "start_time": "2024-11-10T18:52:38.964Z"
   },
   {
    "duration": 16,
    "start_time": "2024-11-10T18:52:42.167Z"
   },
   {
    "duration": 18,
    "start_time": "2024-11-10T18:52:47.285Z"
   },
   {
    "duration": 43,
    "start_time": "2024-11-10T18:53:33.348Z"
   },
   {
    "duration": 13,
    "start_time": "2024-11-10T18:53:47.640Z"
   },
   {
    "duration": 14,
    "start_time": "2024-11-10T18:54:02.590Z"
   },
   {
    "duration": 9,
    "start_time": "2024-11-10T18:54:05.623Z"
   },
   {
    "duration": 30,
    "start_time": "2024-11-10T18:54:09.166Z"
   },
   {
    "duration": 20,
    "start_time": "2024-11-10T18:54:16.823Z"
   },
   {
    "duration": 15,
    "start_time": "2024-11-10T18:54:50.813Z"
   },
   {
    "duration": 8,
    "start_time": "2024-11-10T18:55:00.335Z"
   },
   {
    "duration": 9,
    "start_time": "2024-11-10T18:55:03.454Z"
   },
   {
    "duration": 40,
    "start_time": "2024-11-10T18:57:26.814Z"
   },
   {
    "duration": 48,
    "start_time": "2024-11-10T18:57:40.573Z"
   },
   {
    "duration": 9,
    "start_time": "2024-11-10T18:57:59.878Z"
   },
   {
    "duration": 13,
    "start_time": "2024-11-10T18:59:05.894Z"
   },
   {
    "duration": 160,
    "start_time": "2024-11-10T19:00:11.899Z"
   },
   {
    "duration": 13,
    "start_time": "2024-11-10T19:01:09.540Z"
   },
   {
    "duration": 826,
    "start_time": "2024-11-10T19:01:24.813Z"
   },
   {
    "duration": 146,
    "start_time": "2024-11-10T19:01:25.641Z"
   },
   {
    "duration": 77,
    "start_time": "2024-11-10T19:01:25.788Z"
   },
   {
    "duration": 49,
    "start_time": "2024-11-10T19:01:25.867Z"
   },
   {
    "duration": 10,
    "start_time": "2024-11-10T19:01:25.919Z"
   },
   {
    "duration": 11,
    "start_time": "2024-11-10T19:01:25.931Z"
   },
   {
    "duration": 12,
    "start_time": "2024-11-10T19:01:25.943Z"
   },
   {
    "duration": 11,
    "start_time": "2024-11-10T19:01:25.958Z"
   },
   {
    "duration": 11,
    "start_time": "2024-11-10T19:01:25.971Z"
   },
   {
    "duration": 31,
    "start_time": "2024-11-10T19:01:25.984Z"
   },
   {
    "duration": 5,
    "start_time": "2024-11-10T19:01:26.016Z"
   },
   {
    "duration": 9,
    "start_time": "2024-11-10T19:01:26.024Z"
   },
   {
    "duration": 10,
    "start_time": "2024-11-10T19:01:26.034Z"
   },
   {
    "duration": 10,
    "start_time": "2024-11-10T19:01:26.049Z"
   },
   {
    "duration": 52,
    "start_time": "2024-11-10T19:01:26.061Z"
   },
   {
    "duration": 10,
    "start_time": "2024-11-10T19:01:26.115Z"
   },
   {
    "duration": 35,
    "start_time": "2024-11-10T19:01:26.126Z"
   },
   {
    "duration": 26,
    "start_time": "2024-11-10T19:01:26.162Z"
   },
   {
    "duration": 33,
    "start_time": "2024-11-10T19:01:26.190Z"
   },
   {
    "duration": 12,
    "start_time": "2024-11-10T19:01:26.225Z"
   },
   {
    "duration": 8,
    "start_time": "2024-11-10T19:01:26.239Z"
   },
   {
    "duration": 17,
    "start_time": "2024-11-10T19:01:26.248Z"
   },
   {
    "duration": 50,
    "start_time": "2024-11-10T19:01:26.267Z"
   },
   {
    "duration": 13,
    "start_time": "2024-11-10T19:01:26.320Z"
   },
   {
    "duration": 15,
    "start_time": "2024-11-10T19:01:26.334Z"
   },
   {
    "duration": 9,
    "start_time": "2024-11-10T19:01:26.350Z"
   },
   {
    "duration": 71,
    "start_time": "2024-11-10T19:01:26.361Z"
   },
   {
    "duration": 21,
    "start_time": "2024-11-10T19:01:26.435Z"
   },
   {
    "duration": 13,
    "start_time": "2024-11-10T19:01:26.458Z"
   },
   {
    "duration": 7,
    "start_time": "2024-11-10T19:01:26.473Z"
   },
   {
    "duration": 32,
    "start_time": "2024-11-10T19:01:26.481Z"
   },
   {
    "duration": 4178,
    "start_time": "2024-11-10T19:01:26.515Z"
   },
   {
    "duration": 196,
    "start_time": "2024-11-10T19:01:30.694Z"
   },
   {
    "duration": 0,
    "start_time": "2024-11-10T19:01:30.892Z"
   },
   {
    "duration": 0,
    "start_time": "2024-11-10T19:01:30.893Z"
   },
   {
    "duration": 0,
    "start_time": "2024-11-10T19:01:30.894Z"
   },
   {
    "duration": 0,
    "start_time": "2024-11-10T19:01:30.896Z"
   },
   {
    "duration": 0,
    "start_time": "2024-11-10T19:01:30.909Z"
   },
   {
    "duration": 0,
    "start_time": "2024-11-10T19:01:30.910Z"
   },
   {
    "duration": 0,
    "start_time": "2024-11-10T19:01:30.911Z"
   },
   {
    "duration": 0,
    "start_time": "2024-11-10T19:01:30.913Z"
   },
   {
    "duration": 0,
    "start_time": "2024-11-10T19:01:30.914Z"
   },
   {
    "duration": 0,
    "start_time": "2024-11-10T19:01:30.915Z"
   },
   {
    "duration": 0,
    "start_time": "2024-11-10T19:01:30.916Z"
   },
   {
    "duration": 0,
    "start_time": "2024-11-10T19:01:30.917Z"
   },
   {
    "duration": 0,
    "start_time": "2024-11-10T19:01:30.918Z"
   },
   {
    "duration": 157,
    "start_time": "2024-11-10T19:02:30.812Z"
   },
   {
    "duration": 836,
    "start_time": "2024-11-10T19:03:38.504Z"
   },
   {
    "duration": 159,
    "start_time": "2024-11-10T19:03:41.780Z"
   },
   {
    "duration": 77,
    "start_time": "2024-11-10T19:03:45.539Z"
   },
   {
    "duration": 3,
    "start_time": "2024-11-10T19:04:00.344Z"
   },
   {
    "duration": 75,
    "start_time": "2024-11-10T19:04:00.349Z"
   },
   {
    "duration": 60,
    "start_time": "2024-11-10T19:04:00.425Z"
   },
   {
    "duration": 50,
    "start_time": "2024-11-10T19:04:00.487Z"
   },
   {
    "duration": 10,
    "start_time": "2024-11-10T19:04:00.538Z"
   },
   {
    "duration": 11,
    "start_time": "2024-11-10T19:04:00.550Z"
   },
   {
    "duration": 9,
    "start_time": "2024-11-10T19:04:00.563Z"
   },
   {
    "duration": 7,
    "start_time": "2024-11-10T19:04:00.574Z"
   },
   {
    "duration": 30,
    "start_time": "2024-11-10T19:04:00.583Z"
   },
   {
    "duration": 9,
    "start_time": "2024-11-10T19:04:00.615Z"
   },
   {
    "duration": 5,
    "start_time": "2024-11-10T19:04:00.626Z"
   },
   {
    "duration": 9,
    "start_time": "2024-11-10T19:04:00.633Z"
   },
   {
    "duration": 9,
    "start_time": "2024-11-10T19:04:00.643Z"
   },
   {
    "duration": 8,
    "start_time": "2024-11-10T19:04:00.653Z"
   },
   {
    "duration": 55,
    "start_time": "2024-11-10T19:04:00.663Z"
   },
   {
    "duration": 9,
    "start_time": "2024-11-10T19:04:00.720Z"
   },
   {
    "duration": 32,
    "start_time": "2024-11-10T19:04:00.731Z"
   },
   {
    "duration": 46,
    "start_time": "2024-11-10T19:04:00.765Z"
   },
   {
    "duration": 17,
    "start_time": "2024-11-10T19:04:00.813Z"
   },
   {
    "duration": 12,
    "start_time": "2024-11-10T19:04:00.831Z"
   },
   {
    "duration": 8,
    "start_time": "2024-11-10T19:04:00.845Z"
   },
   {
    "duration": 15,
    "start_time": "2024-11-10T19:04:00.854Z"
   },
   {
    "duration": 45,
    "start_time": "2024-11-10T19:04:00.871Z"
   },
   {
    "duration": 11,
    "start_time": "2024-11-10T19:04:00.920Z"
   },
   {
    "duration": 13,
    "start_time": "2024-11-10T19:04:00.933Z"
   },
   {
    "duration": 8,
    "start_time": "2024-11-10T19:04:00.948Z"
   },
   {
    "duration": 65,
    "start_time": "2024-11-10T19:04:00.958Z"
   },
   {
    "duration": 20,
    "start_time": "2024-11-10T19:04:01.025Z"
   },
   {
    "duration": 13,
    "start_time": "2024-11-10T19:04:01.046Z"
   },
   {
    "duration": 8,
    "start_time": "2024-11-10T19:04:01.061Z"
   },
   {
    "duration": 9,
    "start_time": "2024-11-10T19:04:01.070Z"
   },
   {
    "duration": 4174,
    "start_time": "2024-11-10T19:04:01.080Z"
   },
   {
    "duration": 196,
    "start_time": "2024-11-10T19:04:05.256Z"
   },
   {
    "duration": 0,
    "start_time": "2024-11-10T19:04:05.453Z"
   },
   {
    "duration": 0,
    "start_time": "2024-11-10T19:04:05.454Z"
   },
   {
    "duration": 0,
    "start_time": "2024-11-10T19:04:05.455Z"
   },
   {
    "duration": 0,
    "start_time": "2024-11-10T19:04:05.457Z"
   },
   {
    "duration": 0,
    "start_time": "2024-11-10T19:04:05.459Z"
   },
   {
    "duration": 0,
    "start_time": "2024-11-10T19:04:05.460Z"
   },
   {
    "duration": 0,
    "start_time": "2024-11-10T19:04:05.461Z"
   },
   {
    "duration": 0,
    "start_time": "2024-11-10T19:04:05.463Z"
   },
   {
    "duration": 0,
    "start_time": "2024-11-10T19:04:05.464Z"
   },
   {
    "duration": 0,
    "start_time": "2024-11-10T19:04:05.466Z"
   },
   {
    "duration": 0,
    "start_time": "2024-11-10T19:04:05.467Z"
   },
   {
    "duration": 0,
    "start_time": "2024-11-10T19:04:05.468Z"
   },
   {
    "duration": 0,
    "start_time": "2024-11-10T19:04:05.469Z"
   },
   {
    "duration": 13,
    "start_time": "2024-11-10T19:07:33.139Z"
   },
   {
    "duration": 228,
    "start_time": "2024-11-10T19:08:33.941Z"
   },
   {
    "duration": 230,
    "start_time": "2024-11-10T19:09:18.827Z"
   },
   {
    "duration": 421,
    "start_time": "2024-11-10T19:10:58.198Z"
   },
   {
    "duration": 229,
    "start_time": "2024-11-10T19:12:12.182Z"
   },
   {
    "duration": 232,
    "start_time": "2024-11-10T19:13:22.821Z"
   },
   {
    "duration": 424,
    "start_time": "2024-11-10T19:14:42.363Z"
   },
   {
    "duration": 14,
    "start_time": "2024-11-10T19:24:51.080Z"
   },
   {
    "duration": 12,
    "start_time": "2024-11-10T19:24:54.492Z"
   },
   {
    "duration": 23,
    "start_time": "2024-11-10T19:26:47.699Z"
   },
   {
    "duration": 20,
    "start_time": "2024-11-10T19:27:07.981Z"
   },
   {
    "duration": 14,
    "start_time": "2024-11-10T19:27:43.065Z"
   },
   {
    "duration": 18,
    "start_time": "2024-11-10T19:27:47.611Z"
   },
   {
    "duration": 17,
    "start_time": "2024-11-10T19:42:35.394Z"
   },
   {
    "duration": 440,
    "start_time": "2024-11-10T19:42:47.567Z"
   },
   {
    "duration": 431,
    "start_time": "2024-11-10T19:43:19.482Z"
   },
   {
    "duration": 61,
    "start_time": "2024-11-10T19:43:57.657Z"
   },
   {
    "duration": 230,
    "start_time": "2024-11-10T19:44:16.882Z"
   },
   {
    "duration": 16,
    "start_time": "2024-11-10T19:44:29.975Z"
   },
   {
    "duration": 246,
    "start_time": "2024-11-10T19:47:04.307Z"
   },
   {
    "duration": 231,
    "start_time": "2024-11-10T19:47:35.077Z"
   },
   {
    "duration": 12,
    "start_time": "2024-11-10T19:48:29.158Z"
   },
   {
    "duration": 227,
    "start_time": "2024-11-10T19:48:32.199Z"
   },
   {
    "duration": 237,
    "start_time": "2024-11-10T19:48:35.201Z"
   },
   {
    "duration": 229,
    "start_time": "2024-11-10T19:48:38.757Z"
   },
   {
    "duration": 17,
    "start_time": "2024-11-10T19:48:42.767Z"
   },
   {
    "duration": 45,
    "start_time": "2024-11-10T19:53:42.450Z"
   },
   {
    "duration": 48,
    "start_time": "2024-11-10T19:56:53.848Z"
   },
   {
    "duration": 52,
    "start_time": "2024-11-10T20:00:32.599Z"
   },
   {
    "duration": 53,
    "start_time": "2024-11-10T20:01:46.794Z"
   },
   {
    "duration": 56,
    "start_time": "2024-11-10T20:11:12.115Z"
   },
   {
    "duration": 59,
    "start_time": "2024-11-10T20:13:17.720Z"
   },
   {
    "duration": 18,
    "start_time": "2024-11-10T20:15:11.889Z"
   },
   {
    "duration": 52,
    "start_time": "2024-11-10T20:15:25.384Z"
   },
   {
    "duration": 17,
    "start_time": "2024-11-10T20:16:03.941Z"
   },
   {
    "duration": 3,
    "start_time": "2024-11-10T20:16:28.609Z"
   },
   {
    "duration": 73,
    "start_time": "2024-11-10T20:16:28.614Z"
   },
   {
    "duration": 70,
    "start_time": "2024-11-10T20:16:28.688Z"
   },
   {
    "duration": 49,
    "start_time": "2024-11-10T20:16:28.760Z"
   },
   {
    "duration": 10,
    "start_time": "2024-11-10T20:16:28.811Z"
   },
   {
    "duration": 11,
    "start_time": "2024-11-10T20:16:28.823Z"
   },
   {
    "duration": 9,
    "start_time": "2024-11-10T20:16:28.835Z"
   },
   {
    "duration": 7,
    "start_time": "2024-11-10T20:16:28.845Z"
   },
   {
    "duration": 9,
    "start_time": "2024-11-10T20:16:28.853Z"
   },
   {
    "duration": 9,
    "start_time": "2024-11-10T20:16:28.863Z"
   },
   {
    "duration": 5,
    "start_time": "2024-11-10T20:16:28.909Z"
   },
   {
    "duration": 9,
    "start_time": "2024-11-10T20:16:28.916Z"
   },
   {
    "duration": 8,
    "start_time": "2024-11-10T20:16:28.926Z"
   },
   {
    "duration": 8,
    "start_time": "2024-11-10T20:16:28.938Z"
   },
   {
    "duration": 15,
    "start_time": "2024-11-10T20:16:28.948Z"
   },
   {
    "duration": 45,
    "start_time": "2024-11-10T20:16:28.964Z"
   },
   {
    "duration": 27,
    "start_time": "2024-11-10T20:16:29.010Z"
   },
   {
    "duration": 24,
    "start_time": "2024-11-10T20:16:29.038Z"
   },
   {
    "duration": 17,
    "start_time": "2024-11-10T20:16:29.064Z"
   },
   {
    "duration": 32,
    "start_time": "2024-11-10T20:16:29.082Z"
   },
   {
    "duration": 7,
    "start_time": "2024-11-10T20:16:29.116Z"
   },
   {
    "duration": 15,
    "start_time": "2024-11-10T20:16:29.124Z"
   },
   {
    "duration": 16,
    "start_time": "2024-11-10T20:16:29.141Z"
   },
   {
    "duration": 13,
    "start_time": "2024-11-10T20:16:29.158Z"
   },
   {
    "duration": 46,
    "start_time": "2024-11-10T20:16:29.172Z"
   },
   {
    "duration": 9,
    "start_time": "2024-11-10T20:16:29.220Z"
   },
   {
    "duration": 28,
    "start_time": "2024-11-10T20:16:29.231Z"
   },
   {
    "duration": 20,
    "start_time": "2024-11-10T20:16:29.261Z"
   },
   {
    "duration": 35,
    "start_time": "2024-11-10T20:16:29.283Z"
   },
   {
    "duration": 6,
    "start_time": "2024-11-10T20:16:29.320Z"
   },
   {
    "duration": 9,
    "start_time": "2024-11-10T20:16:29.328Z"
   },
   {
    "duration": 163,
    "start_time": "2024-11-10T20:16:42.910Z"
   },
   {
    "duration": 12,
    "start_time": "2024-11-10T20:17:20.274Z"
   },
   {
    "duration": 15,
    "start_time": "2024-11-10T20:17:36.447Z"
   },
   {
    "duration": 840,
    "start_time": "2024-11-10T20:17:42.117Z"
   },
   {
    "duration": 148,
    "start_time": "2024-11-10T20:17:42.960Z"
   },
   {
    "duration": 77,
    "start_time": "2024-11-10T20:17:43.110Z"
   },
   {
    "duration": 47,
    "start_time": "2024-11-10T20:17:43.189Z"
   },
   {
    "duration": 10,
    "start_time": "2024-11-10T20:17:43.239Z"
   },
   {
    "duration": 12,
    "start_time": "2024-11-10T20:17:43.250Z"
   },
   {
    "duration": 9,
    "start_time": "2024-11-10T20:17:43.263Z"
   },
   {
    "duration": 8,
    "start_time": "2024-11-10T20:17:43.274Z"
   },
   {
    "duration": 30,
    "start_time": "2024-11-10T20:17:43.284Z"
   },
   {
    "duration": 9,
    "start_time": "2024-11-10T20:17:43.315Z"
   },
   {
    "duration": 6,
    "start_time": "2024-11-10T20:17:43.326Z"
   },
   {
    "duration": 9,
    "start_time": "2024-11-10T20:17:43.333Z"
   },
   {
    "duration": 9,
    "start_time": "2024-11-10T20:17:43.344Z"
   },
   {
    "duration": 11,
    "start_time": "2024-11-10T20:17:43.357Z"
   },
   {
    "duration": 47,
    "start_time": "2024-11-10T20:17:43.370Z"
   },
   {
    "duration": 9,
    "start_time": "2024-11-10T20:17:43.419Z"
   },
   {
    "duration": 33,
    "start_time": "2024-11-10T20:17:43.430Z"
   },
   {
    "duration": 49,
    "start_time": "2024-11-10T20:17:43.465Z"
   },
   {
    "duration": 17,
    "start_time": "2024-11-10T20:17:43.516Z"
   },
   {
    "duration": 11,
    "start_time": "2024-11-10T20:17:43.535Z"
   },
   {
    "duration": 8,
    "start_time": "2024-11-10T20:17:43.548Z"
   },
   {
    "duration": 18,
    "start_time": "2024-11-10T20:17:43.558Z"
   },
   {
    "duration": 45,
    "start_time": "2024-11-10T20:17:43.578Z"
   },
   {
    "duration": 12,
    "start_time": "2024-11-10T20:17:43.625Z"
   },
   {
    "duration": 34,
    "start_time": "2024-11-10T20:17:43.638Z"
   },
   {
    "duration": 34,
    "start_time": "2024-11-10T20:17:43.674Z"
   },
   {
    "duration": 65,
    "start_time": "2024-11-10T20:17:43.709Z"
   },
   {
    "duration": 22,
    "start_time": "2024-11-10T20:17:43.776Z"
   },
   {
    "duration": 15,
    "start_time": "2024-11-10T20:17:43.799Z"
   },
   {
    "duration": 9,
    "start_time": "2024-11-10T20:17:43.815Z"
   },
   {
    "duration": 9,
    "start_time": "2024-11-10T20:17:43.825Z"
   },
   {
    "duration": 4183,
    "start_time": "2024-11-10T20:17:43.836Z"
   },
   {
    "duration": 244,
    "start_time": "2024-11-10T20:17:48.021Z"
   },
   {
    "duration": 235,
    "start_time": "2024-11-10T20:17:48.267Z"
   },
   {
    "duration": 236,
    "start_time": "2024-11-10T20:17:48.504Z"
   },
   {
    "duration": 235,
    "start_time": "2024-11-10T20:17:48.742Z"
   },
   {
    "duration": 164,
    "start_time": "2024-11-10T20:17:48.979Z"
   },
   {
    "duration": 0,
    "start_time": "2024-11-10T20:17:49.145Z"
   },
   {
    "duration": 0,
    "start_time": "2024-11-10T20:17:49.147Z"
   },
   {
    "duration": 0,
    "start_time": "2024-11-10T20:17:49.148Z"
   },
   {
    "duration": 0,
    "start_time": "2024-11-10T20:17:49.149Z"
   },
   {
    "duration": 0,
    "start_time": "2024-11-10T20:17:49.151Z"
   },
   {
    "duration": 0,
    "start_time": "2024-11-10T20:17:49.155Z"
   },
   {
    "duration": 0,
    "start_time": "2024-11-10T20:17:49.156Z"
   },
   {
    "duration": 0,
    "start_time": "2024-11-10T20:17:49.157Z"
   },
   {
    "duration": 0,
    "start_time": "2024-11-10T20:17:49.158Z"
   },
   {
    "duration": 18,
    "start_time": "2024-11-10T20:17:57.873Z"
   },
   {
    "duration": 9,
    "start_time": "2024-11-10T20:18:08.840Z"
   },
   {
    "duration": 19,
    "start_time": "2024-11-10T20:19:19.950Z"
   },
   {
    "duration": 15,
    "start_time": "2024-11-10T20:19:38.450Z"
   },
   {
    "duration": 445,
    "start_time": "2024-11-10T20:20:17.826Z"
   },
   {
    "duration": 3,
    "start_time": "2024-11-10T20:21:35.842Z"
   },
   {
    "duration": 7,
    "start_time": "2024-11-10T20:21:41.546Z"
   },
   {
    "duration": 12,
    "start_time": "2024-11-10T20:21:54.918Z"
   },
   {
    "duration": 17,
    "start_time": "2024-11-10T20:22:07.394Z"
   },
   {
    "duration": 2,
    "start_time": "2024-11-10T20:22:18.517Z"
   },
   {
    "duration": 75,
    "start_time": "2024-11-10T20:22:18.521Z"
   },
   {
    "duration": 56,
    "start_time": "2024-11-10T20:22:18.609Z"
   },
   {
    "duration": 44,
    "start_time": "2024-11-10T20:22:18.667Z"
   },
   {
    "duration": 10,
    "start_time": "2024-11-10T20:22:18.714Z"
   },
   {
    "duration": 12,
    "start_time": "2024-11-10T20:22:18.725Z"
   },
   {
    "duration": 8,
    "start_time": "2024-11-10T20:22:18.739Z"
   },
   {
    "duration": 7,
    "start_time": "2024-11-10T20:22:18.748Z"
   },
   {
    "duration": 8,
    "start_time": "2024-11-10T20:22:18.757Z"
   },
   {
    "duration": 9,
    "start_time": "2024-11-10T20:22:18.767Z"
   },
   {
    "duration": 5,
    "start_time": "2024-11-10T20:22:18.810Z"
   },
   {
    "duration": 9,
    "start_time": "2024-11-10T20:22:18.818Z"
   },
   {
    "duration": 9,
    "start_time": "2024-11-10T20:22:18.828Z"
   },
   {
    "duration": 8,
    "start_time": "2024-11-10T20:22:18.841Z"
   },
   {
    "duration": 15,
    "start_time": "2024-11-10T20:22:18.851Z"
   },
   {
    "duration": 43,
    "start_time": "2024-11-10T20:22:18.867Z"
   },
   {
    "duration": 29,
    "start_time": "2024-11-10T20:22:18.912Z"
   },
   {
    "duration": 23,
    "start_time": "2024-11-10T20:22:18.942Z"
   },
   {
    "duration": 17,
    "start_time": "2024-11-10T20:22:18.967Z"
   },
   {
    "duration": 12,
    "start_time": "2024-11-10T20:22:19.009Z"
   },
   {
    "duration": 8,
    "start_time": "2024-11-10T20:22:19.022Z"
   },
   {
    "duration": 16,
    "start_time": "2024-11-10T20:22:19.032Z"
   },
   {
    "duration": 17,
    "start_time": "2024-11-10T20:22:19.049Z"
   },
   {
    "duration": 41,
    "start_time": "2024-11-10T20:22:19.068Z"
   },
   {
    "duration": 13,
    "start_time": "2024-11-10T20:22:19.110Z"
   },
   {
    "duration": 10,
    "start_time": "2024-11-10T20:22:19.125Z"
   },
   {
    "duration": 37,
    "start_time": "2024-11-10T20:22:19.136Z"
   },
   {
    "duration": 49,
    "start_time": "2024-11-10T20:22:19.174Z"
   },
   {
    "duration": 13,
    "start_time": "2024-11-10T20:22:19.225Z"
   },
   {
    "duration": 8,
    "start_time": "2024-11-10T20:22:19.240Z"
   },
   {
    "duration": 8,
    "start_time": "2024-11-10T20:22:19.249Z"
   },
   {
    "duration": 4143,
    "start_time": "2024-11-10T20:22:19.259Z"
   },
   {
    "duration": 229,
    "start_time": "2024-11-10T20:22:23.409Z"
   },
   {
    "duration": 233,
    "start_time": "2024-11-10T20:22:23.639Z"
   },
   {
    "duration": 248,
    "start_time": "2024-11-10T20:22:23.875Z"
   },
   {
    "duration": 234,
    "start_time": "2024-11-10T20:22:24.126Z"
   },
   {
    "duration": 16,
    "start_time": "2024-11-10T20:22:24.362Z"
   },
   {
    "duration": 5016,
    "start_time": "2024-11-10T20:22:24.380Z"
   },
   {
    "duration": 865,
    "start_time": "2024-11-10T20:22:29.399Z"
   },
   {
    "duration": 0,
    "start_time": "2024-11-10T20:22:30.266Z"
   },
   {
    "duration": 0,
    "start_time": "2024-11-10T20:22:30.267Z"
   },
   {
    "duration": 0,
    "start_time": "2024-11-10T20:22:30.268Z"
   },
   {
    "duration": 0,
    "start_time": "2024-11-10T20:22:30.269Z"
   },
   {
    "duration": 0,
    "start_time": "2024-11-10T20:22:30.270Z"
   },
   {
    "duration": 0,
    "start_time": "2024-11-10T20:22:30.273Z"
   },
   {
    "duration": 0,
    "start_time": "2024-11-10T20:22:30.273Z"
   },
   {
    "duration": 0,
    "start_time": "2024-11-10T20:22:30.274Z"
   },
   {
    "duration": 269,
    "start_time": "2024-11-10T20:22:49.955Z"
   },
   {
    "duration": 258,
    "start_time": "2024-11-10T20:22:54.878Z"
   },
   {
    "duration": 8,
    "start_time": "2024-11-10T20:24:30.339Z"
   },
   {
    "duration": 164,
    "start_time": "2024-11-10T20:25:14.043Z"
   },
   {
    "duration": 883,
    "start_time": "2024-11-10T20:25:24.118Z"
   },
   {
    "duration": 147,
    "start_time": "2024-11-10T20:25:25.003Z"
   },
   {
    "duration": 78,
    "start_time": "2024-11-10T20:25:25.151Z"
   },
   {
    "duration": 48,
    "start_time": "2024-11-10T20:25:25.230Z"
   },
   {
    "duration": 11,
    "start_time": "2024-11-10T20:25:25.281Z"
   },
   {
    "duration": 12,
    "start_time": "2024-11-10T20:25:25.293Z"
   },
   {
    "duration": 9,
    "start_time": "2024-11-10T20:25:25.306Z"
   },
   {
    "duration": 7,
    "start_time": "2024-11-10T20:25:25.317Z"
   },
   {
    "duration": 8,
    "start_time": "2024-11-10T20:25:25.327Z"
   },
   {
    "duration": 9,
    "start_time": "2024-11-10T20:25:25.337Z"
   },
   {
    "duration": 5,
    "start_time": "2024-11-10T20:25:25.348Z"
   },
   {
    "duration": 9,
    "start_time": "2024-11-10T20:25:25.355Z"
   },
   {
    "duration": 47,
    "start_time": "2024-11-10T20:25:25.367Z"
   },
   {
    "duration": 9,
    "start_time": "2024-11-10T20:25:25.418Z"
   },
   {
    "duration": 15,
    "start_time": "2024-11-10T20:25:25.428Z"
   },
   {
    "duration": 9,
    "start_time": "2024-11-10T20:25:25.444Z"
   },
   {
    "duration": 56,
    "start_time": "2024-11-10T20:25:25.455Z"
   },
   {
    "duration": 26,
    "start_time": "2024-11-10T20:25:25.513Z"
   },
   {
    "duration": 17,
    "start_time": "2024-11-10T20:25:25.540Z"
   },
   {
    "duration": 17,
    "start_time": "2024-11-10T20:25:25.559Z"
   },
   {
    "duration": 33,
    "start_time": "2024-11-10T20:25:25.577Z"
   },
   {
    "duration": 18,
    "start_time": "2024-11-10T20:25:25.612Z"
   },
   {
    "duration": 18,
    "start_time": "2024-11-10T20:25:25.631Z"
   },
   {
    "duration": 12,
    "start_time": "2024-11-10T20:25:25.651Z"
   },
   {
    "duration": 13,
    "start_time": "2024-11-10T20:25:25.667Z"
   },
   {
    "duration": 33,
    "start_time": "2024-11-10T20:25:25.682Z"
   },
   {
    "duration": 35,
    "start_time": "2024-11-10T20:25:25.717Z"
   },
   {
    "duration": 22,
    "start_time": "2024-11-10T20:25:25.754Z"
   },
   {
    "duration": 36,
    "start_time": "2024-11-10T20:25:25.778Z"
   },
   {
    "duration": 7,
    "start_time": "2024-11-10T20:25:25.816Z"
   },
   {
    "duration": 9,
    "start_time": "2024-11-10T20:25:25.824Z"
   },
   {
    "duration": 4232,
    "start_time": "2024-11-10T20:25:25.836Z"
   },
   {
    "duration": 234,
    "start_time": "2024-11-10T20:25:30.069Z"
   },
   {
    "duration": 233,
    "start_time": "2024-11-10T20:25:30.305Z"
   },
   {
    "duration": 239,
    "start_time": "2024-11-10T20:25:30.540Z"
   },
   {
    "duration": 256,
    "start_time": "2024-11-10T20:25:30.781Z"
   },
   {
    "duration": 16,
    "start_time": "2024-11-10T20:25:31.038Z"
   },
   {
    "duration": 5004,
    "start_time": "2024-11-10T20:25:31.056Z"
   },
   {
    "duration": 162,
    "start_time": "2024-11-10T20:31:36.810Z"
   },
   {
    "duration": 809,
    "start_time": "2024-11-10T20:31:44.994Z"
   },
   {
    "duration": 150,
    "start_time": "2024-11-10T20:31:45.805Z"
   },
   {
    "duration": 77,
    "start_time": "2024-11-10T20:31:45.957Z"
   },
   {
    "duration": 45,
    "start_time": "2024-11-10T20:31:46.036Z"
   },
   {
    "duration": 10,
    "start_time": "2024-11-10T20:31:46.084Z"
   },
   {
    "duration": 15,
    "start_time": "2024-11-10T20:31:46.095Z"
   },
   {
    "duration": 9,
    "start_time": "2024-11-10T20:31:46.112Z"
   },
   {
    "duration": 7,
    "start_time": "2024-11-10T20:31:46.122Z"
   },
   {
    "duration": 7,
    "start_time": "2024-11-10T20:31:46.131Z"
   },
   {
    "duration": 8,
    "start_time": "2024-11-10T20:31:46.140Z"
   },
   {
    "duration": 5,
    "start_time": "2024-11-10T20:31:46.150Z"
   },
   {
    "duration": 9,
    "start_time": "2024-11-10T20:31:46.157Z"
   },
   {
    "duration": 46,
    "start_time": "2024-11-10T20:31:46.169Z"
   },
   {
    "duration": 9,
    "start_time": "2024-11-10T20:31:46.220Z"
   },
   {
    "duration": 15,
    "start_time": "2024-11-10T20:31:46.231Z"
   },
   {
    "duration": 9,
    "start_time": "2024-11-10T20:31:46.248Z"
   },
   {
    "duration": 64,
    "start_time": "2024-11-10T20:31:46.258Z"
   },
   {
    "duration": 27,
    "start_time": "2024-11-10T20:31:46.323Z"
   },
   {
    "duration": 30,
    "start_time": "2024-11-10T20:31:46.352Z"
   },
   {
    "duration": 25,
    "start_time": "2024-11-10T20:31:46.384Z"
   },
   {
    "duration": 35,
    "start_time": "2024-11-10T20:31:46.412Z"
   },
   {
    "duration": 39,
    "start_time": "2024-11-10T20:31:46.449Z"
   },
   {
    "duration": 18,
    "start_time": "2024-11-10T20:31:46.490Z"
   },
   {
    "duration": 13,
    "start_time": "2024-11-10T20:31:46.510Z"
   },
   {
    "duration": 13,
    "start_time": "2024-11-10T20:31:46.524Z"
   },
   {
    "duration": 9,
    "start_time": "2024-11-10T20:31:46.539Z"
   },
   {
    "duration": 60,
    "start_time": "2024-11-10T20:31:46.549Z"
   },
   {
    "duration": 26,
    "start_time": "2024-11-10T20:31:46.612Z"
   },
   {
    "duration": 14,
    "start_time": "2024-11-10T20:31:46.639Z"
   },
   {
    "duration": 8,
    "start_time": "2024-11-10T20:31:46.655Z"
   },
   {
    "duration": 9,
    "start_time": "2024-11-10T20:31:46.665Z"
   },
   {
    "duration": 4182,
    "start_time": "2024-11-10T20:31:46.676Z"
   },
   {
    "duration": 236,
    "start_time": "2024-11-10T20:31:50.860Z"
   },
   {
    "duration": 243,
    "start_time": "2024-11-10T20:31:51.098Z"
   },
   {
    "duration": 243,
    "start_time": "2024-11-10T20:31:51.343Z"
   },
   {
    "duration": 231,
    "start_time": "2024-11-10T20:31:51.588Z"
   },
   {
    "duration": 16,
    "start_time": "2024-11-10T20:31:51.821Z"
   },
   {
    "duration": 4970,
    "start_time": "2024-11-10T20:31:51.839Z"
   },
   {
    "duration": 160,
    "start_time": "2024-11-10T20:32:20.355Z"
   },
   {
    "duration": 14,
    "start_time": "2024-11-10T20:32:25.730Z"
   },
   {
    "duration": 846,
    "start_time": "2024-11-10T20:37:07.878Z"
   },
   {
    "duration": 146,
    "start_time": "2024-11-10T20:37:08.726Z"
   },
   {
    "duration": 79,
    "start_time": "2024-11-10T20:37:08.874Z"
   },
   {
    "duration": 48,
    "start_time": "2024-11-10T20:37:08.955Z"
   },
   {
    "duration": 10,
    "start_time": "2024-11-10T20:37:09.005Z"
   },
   {
    "duration": 11,
    "start_time": "2024-11-10T20:37:09.017Z"
   },
   {
    "duration": 9,
    "start_time": "2024-11-10T20:37:09.030Z"
   },
   {
    "duration": 9,
    "start_time": "2024-11-10T20:37:09.041Z"
   },
   {
    "duration": 9,
    "start_time": "2024-11-10T20:37:09.051Z"
   },
   {
    "duration": 10,
    "start_time": "2024-11-10T20:37:09.064Z"
   },
   {
    "duration": 5,
    "start_time": "2024-11-10T20:37:09.077Z"
   },
   {
    "duration": 10,
    "start_time": "2024-11-10T20:37:09.109Z"
   },
   {
    "duration": 8,
    "start_time": "2024-11-10T20:37:09.121Z"
   },
   {
    "duration": 10,
    "start_time": "2024-11-10T20:37:09.130Z"
   },
   {
    "duration": 16,
    "start_time": "2024-11-10T20:37:09.141Z"
   },
   {
    "duration": 10,
    "start_time": "2024-11-10T20:37:09.159Z"
   },
   {
    "duration": 68,
    "start_time": "2024-11-10T20:37:09.170Z"
   },
   {
    "duration": 25,
    "start_time": "2024-11-10T20:37:09.240Z"
   },
   {
    "duration": 17,
    "start_time": "2024-11-10T20:37:09.266Z"
   },
   {
    "duration": 32,
    "start_time": "2024-11-10T20:37:09.284Z"
   },
   {
    "duration": 7,
    "start_time": "2024-11-10T20:37:09.318Z"
   },
   {
    "duration": 17,
    "start_time": "2024-11-10T20:37:09.326Z"
   },
   {
    "duration": 16,
    "start_time": "2024-11-10T20:37:09.344Z"
   },
   {
    "duration": 13,
    "start_time": "2024-11-10T20:37:09.362Z"
   },
   {
    "duration": 43,
    "start_time": "2024-11-10T20:37:09.376Z"
   },
   {
    "duration": 9,
    "start_time": "2024-11-10T20:37:09.421Z"
   },
   {
    "duration": 37,
    "start_time": "2024-11-10T20:37:09.432Z"
   },
   {
    "duration": 45,
    "start_time": "2024-11-10T20:37:09.474Z"
   },
   {
    "duration": 13,
    "start_time": "2024-11-10T20:37:09.521Z"
   },
   {
    "duration": 7,
    "start_time": "2024-11-10T20:37:09.536Z"
   },
   {
    "duration": 9,
    "start_time": "2024-11-10T20:37:09.544Z"
   },
   {
    "duration": 4154,
    "start_time": "2024-11-10T20:37:09.554Z"
   },
   {
    "duration": 229,
    "start_time": "2024-11-10T20:37:13.709Z"
   },
   {
    "duration": 237,
    "start_time": "2024-11-10T20:37:13.940Z"
   },
   {
    "duration": 244,
    "start_time": "2024-11-10T20:37:14.178Z"
   },
   {
    "duration": 233,
    "start_time": "2024-11-10T20:37:14.423Z"
   },
   {
    "duration": 16,
    "start_time": "2024-11-10T20:37:14.658Z"
   },
   {
    "duration": 4983,
    "start_time": "2024-11-10T20:37:14.675Z"
   },
   {
    "duration": 162,
    "start_time": "2024-11-10T20:37:22.422Z"
   },
   {
    "duration": 866,
    "start_time": "2024-11-10T20:37:28.926Z"
   },
   {
    "duration": 145,
    "start_time": "2024-11-10T20:37:29.794Z"
   },
   {
    "duration": 76,
    "start_time": "2024-11-10T20:37:29.941Z"
   },
   {
    "duration": 46,
    "start_time": "2024-11-10T20:37:30.019Z"
   },
   {
    "duration": 11,
    "start_time": "2024-11-10T20:37:30.067Z"
   },
   {
    "duration": 11,
    "start_time": "2024-11-10T20:37:30.080Z"
   },
   {
    "duration": 17,
    "start_time": "2024-11-10T20:37:30.093Z"
   },
   {
    "duration": 10,
    "start_time": "2024-11-10T20:37:30.112Z"
   },
   {
    "duration": 8,
    "start_time": "2024-11-10T20:37:30.124Z"
   },
   {
    "duration": 10,
    "start_time": "2024-11-10T20:37:30.134Z"
   },
   {
    "duration": 6,
    "start_time": "2024-11-10T20:37:30.146Z"
   },
   {
    "duration": 10,
    "start_time": "2024-11-10T20:37:30.154Z"
   },
   {
    "duration": 48,
    "start_time": "2024-11-10T20:37:30.166Z"
   },
   {
    "duration": 11,
    "start_time": "2024-11-10T20:37:30.219Z"
   },
   {
    "duration": 15,
    "start_time": "2024-11-10T20:37:30.232Z"
   },
   {
    "duration": 10,
    "start_time": "2024-11-10T20:37:30.249Z"
   },
   {
    "duration": 63,
    "start_time": "2024-11-10T20:37:30.261Z"
   },
   {
    "duration": 25,
    "start_time": "2024-11-10T20:37:30.326Z"
   },
   {
    "duration": 19,
    "start_time": "2024-11-10T20:37:30.353Z"
   },
   {
    "duration": 12,
    "start_time": "2024-11-10T20:37:30.373Z"
   },
   {
    "duration": 7,
    "start_time": "2024-11-10T20:37:30.410Z"
   },
   {
    "duration": 17,
    "start_time": "2024-11-10T20:37:30.419Z"
   },
   {
    "duration": 16,
    "start_time": "2024-11-10T20:37:30.437Z"
   },
   {
    "duration": 12,
    "start_time": "2024-11-10T20:37:30.455Z"
   },
   {
    "duration": 41,
    "start_time": "2024-11-10T20:37:30.469Z"
   },
   {
    "duration": 9,
    "start_time": "2024-11-10T20:37:30.512Z"
   },
   {
    "duration": 36,
    "start_time": "2024-11-10T20:37:30.522Z"
   },
   {
    "duration": 21,
    "start_time": "2024-11-10T20:37:30.560Z"
   },
   {
    "duration": 39,
    "start_time": "2024-11-10T20:37:30.583Z"
   },
   {
    "duration": 8,
    "start_time": "2024-11-10T20:37:30.624Z"
   },
   {
    "duration": 9,
    "start_time": "2024-11-10T20:37:30.635Z"
   },
   {
    "duration": 4151,
    "start_time": "2024-11-10T20:37:30.645Z"
   },
   {
    "duration": 230,
    "start_time": "2024-11-10T20:37:34.798Z"
   },
   {
    "duration": 240,
    "start_time": "2024-11-10T20:37:35.030Z"
   },
   {
    "duration": 245,
    "start_time": "2024-11-10T20:37:35.272Z"
   },
   {
    "duration": 236,
    "start_time": "2024-11-10T20:37:35.519Z"
   },
   {
    "duration": 17,
    "start_time": "2024-11-10T20:37:35.757Z"
   },
   {
    "duration": 5008,
    "start_time": "2024-11-10T20:37:35.776Z"
   },
   {
    "duration": 160,
    "start_time": "2024-11-10T20:39:13.571Z"
   },
   {
    "duration": 13,
    "start_time": "2024-11-10T20:39:19.653Z"
   },
   {
    "duration": 778,
    "start_time": "2024-11-10T20:39:24.768Z"
   },
   {
    "duration": 143,
    "start_time": "2024-11-10T20:39:25.549Z"
   },
   {
    "duration": 85,
    "start_time": "2024-11-10T20:39:25.694Z"
   },
   {
    "duration": 48,
    "start_time": "2024-11-10T20:39:25.781Z"
   },
   {
    "duration": 10,
    "start_time": "2024-11-10T20:39:25.832Z"
   },
   {
    "duration": 11,
    "start_time": "2024-11-10T20:39:25.844Z"
   },
   {
    "duration": 9,
    "start_time": "2024-11-10T20:39:25.856Z"
   },
   {
    "duration": 7,
    "start_time": "2024-11-10T20:39:25.867Z"
   },
   {
    "duration": 32,
    "start_time": "2024-11-10T20:39:25.876Z"
   },
   {
    "duration": 9,
    "start_time": "2024-11-10T20:39:25.910Z"
   },
   {
    "duration": 6,
    "start_time": "2024-11-10T20:39:25.921Z"
   },
   {
    "duration": 9,
    "start_time": "2024-11-10T20:39:25.929Z"
   },
   {
    "duration": 9,
    "start_time": "2024-11-10T20:39:25.939Z"
   },
   {
    "duration": 8,
    "start_time": "2024-11-10T20:39:25.952Z"
   },
   {
    "duration": 52,
    "start_time": "2024-11-10T20:39:25.961Z"
   },
   {
    "duration": 9,
    "start_time": "2024-11-10T20:39:26.015Z"
   },
   {
    "duration": 31,
    "start_time": "2024-11-10T20:39:26.026Z"
   },
   {
    "duration": 26,
    "start_time": "2024-11-10T20:39:26.059Z"
   },
   {
    "duration": 18,
    "start_time": "2024-11-10T20:39:26.108Z"
   },
   {
    "duration": 13,
    "start_time": "2024-11-10T20:39:26.128Z"
   },
   {
    "duration": 9,
    "start_time": "2024-11-10T20:39:26.142Z"
   },
   {
    "duration": 18,
    "start_time": "2024-11-10T20:39:26.152Z"
   },
   {
    "duration": 45,
    "start_time": "2024-11-10T20:39:26.172Z"
   },
   {
    "duration": 12,
    "start_time": "2024-11-10T20:39:26.219Z"
   },
   {
    "duration": 13,
    "start_time": "2024-11-10T20:39:26.233Z"
   },
   {
    "duration": 9,
    "start_time": "2024-11-10T20:39:26.247Z"
   },
   {
    "duration": 58,
    "start_time": "2024-11-10T20:39:26.258Z"
   },
   {
    "duration": 21,
    "start_time": "2024-11-10T20:39:26.318Z"
   },
   {
    "duration": 14,
    "start_time": "2024-11-10T20:39:26.341Z"
   },
   {
    "duration": 8,
    "start_time": "2024-11-10T20:39:26.356Z"
   },
   {
    "duration": 10,
    "start_time": "2024-11-10T20:39:26.365Z"
   },
   {
    "duration": 4157,
    "start_time": "2024-11-10T20:39:26.408Z"
   },
   {
    "duration": 232,
    "start_time": "2024-11-10T20:39:30.567Z"
   },
   {
    "duration": 242,
    "start_time": "2024-11-10T20:39:30.801Z"
   },
   {
    "duration": 242,
    "start_time": "2024-11-10T20:39:31.045Z"
   },
   {
    "duration": 242,
    "start_time": "2024-11-10T20:39:31.289Z"
   },
   {
    "duration": 16,
    "start_time": "2024-11-10T20:39:31.533Z"
   },
   {
    "duration": 4916,
    "start_time": "2024-11-10T20:39:31.551Z"
   },
   {
    "duration": 156,
    "start_time": "2024-11-10T20:42:06.366Z"
   },
   {
    "duration": 12,
    "start_time": "2024-11-10T20:42:37.986Z"
   },
   {
    "duration": 778,
    "start_time": "2024-11-10T20:42:58.368Z"
   },
   {
    "duration": 145,
    "start_time": "2024-11-10T20:42:59.148Z"
   },
   {
    "duration": 78,
    "start_time": "2024-11-10T20:42:59.295Z"
   },
   {
    "duration": 45,
    "start_time": "2024-11-10T20:42:59.375Z"
   },
   {
    "duration": 10,
    "start_time": "2024-11-10T20:42:59.423Z"
   },
   {
    "duration": 12,
    "start_time": "2024-11-10T20:42:59.434Z"
   },
   {
    "duration": 9,
    "start_time": "2024-11-10T20:42:59.447Z"
   },
   {
    "duration": 8,
    "start_time": "2024-11-10T20:42:59.457Z"
   },
   {
    "duration": 9,
    "start_time": "2024-11-10T20:42:59.466Z"
   },
   {
    "duration": 34,
    "start_time": "2024-11-10T20:42:59.476Z"
   },
   {
    "duration": 5,
    "start_time": "2024-11-10T20:42:59.512Z"
   },
   {
    "duration": 9,
    "start_time": "2024-11-10T20:42:59.518Z"
   },
   {
    "duration": 8,
    "start_time": "2024-11-10T20:42:59.529Z"
   },
   {
    "duration": 9,
    "start_time": "2024-11-10T20:42:59.542Z"
   },
   {
    "duration": 15,
    "start_time": "2024-11-10T20:42:59.552Z"
   },
   {
    "duration": 47,
    "start_time": "2024-11-10T20:42:59.569Z"
   },
   {
    "duration": 34,
    "start_time": "2024-11-10T20:42:59.617Z"
   },
   {
    "duration": 26,
    "start_time": "2024-11-10T20:42:59.653Z"
   },
   {
    "duration": 42,
    "start_time": "2024-11-10T20:42:59.681Z"
   },
   {
    "duration": 12,
    "start_time": "2024-11-10T20:42:59.725Z"
   },
   {
    "duration": 7,
    "start_time": "2024-11-10T20:42:59.739Z"
   },
   {
    "duration": 21,
    "start_time": "2024-11-10T20:42:59.748Z"
   },
   {
    "duration": 41,
    "start_time": "2024-11-10T20:42:59.771Z"
   },
   {
    "duration": 12,
    "start_time": "2024-11-10T20:42:59.813Z"
   },
   {
    "duration": 13,
    "start_time": "2024-11-10T20:42:59.827Z"
   },
   {
    "duration": 9,
    "start_time": "2024-11-10T20:42:59.842Z"
   },
   {
    "duration": 67,
    "start_time": "2024-11-10T20:42:59.853Z"
   },
   {
    "duration": 21,
    "start_time": "2024-11-10T20:42:59.923Z"
   },
   {
    "duration": 13,
    "start_time": "2024-11-10T20:42:59.945Z"
   },
   {
    "duration": 8,
    "start_time": "2024-11-10T20:42:59.960Z"
   },
   {
    "duration": 9,
    "start_time": "2024-11-10T20:42:59.969Z"
   },
   {
    "duration": 4183,
    "start_time": "2024-11-10T20:43:00.009Z"
   },
   {
    "duration": 251,
    "start_time": "2024-11-10T20:43:04.194Z"
   },
   {
    "duration": 240,
    "start_time": "2024-11-10T20:43:04.447Z"
   },
   {
    "duration": 239,
    "start_time": "2024-11-10T20:43:04.688Z"
   },
   {
    "duration": 233,
    "start_time": "2024-11-10T20:43:04.929Z"
   },
   {
    "duration": 16,
    "start_time": "2024-11-10T20:43:05.164Z"
   },
   {
    "duration": 5005,
    "start_time": "2024-11-10T20:43:05.183Z"
   },
   {
    "duration": 781,
    "start_time": "2024-11-10T20:43:34.059Z"
   },
   {
    "duration": 96,
    "start_time": "2024-11-10T20:43:34.843Z"
   },
   {
    "duration": 76,
    "start_time": "2024-11-10T20:43:34.941Z"
   },
   {
    "duration": 45,
    "start_time": "2024-11-10T20:43:35.019Z"
   },
   {
    "duration": 10,
    "start_time": "2024-11-10T20:43:35.067Z"
   },
   {
    "duration": 11,
    "start_time": "2024-11-10T20:43:35.078Z"
   },
   {
    "duration": 9,
    "start_time": "2024-11-10T20:43:35.091Z"
   },
   {
    "duration": 10,
    "start_time": "2024-11-10T20:43:35.109Z"
   },
   {
    "duration": 8,
    "start_time": "2024-11-10T20:43:35.120Z"
   },
   {
    "duration": 9,
    "start_time": "2024-11-10T20:43:35.130Z"
   },
   {
    "duration": 5,
    "start_time": "2024-11-10T20:43:35.140Z"
   },
   {
    "duration": 9,
    "start_time": "2024-11-10T20:43:35.147Z"
   },
   {
    "duration": 9,
    "start_time": "2024-11-10T20:43:35.157Z"
   },
   {
    "duration": 45,
    "start_time": "2024-11-10T20:43:35.170Z"
   },
   {
    "duration": 15,
    "start_time": "2024-11-10T20:43:35.217Z"
   },
   {
    "duration": 10,
    "start_time": "2024-11-10T20:43:35.233Z"
   },
   {
    "duration": 33,
    "start_time": "2024-11-10T20:43:35.245Z"
   },
   {
    "duration": 50,
    "start_time": "2024-11-10T20:43:35.280Z"
   },
   {
    "duration": 16,
    "start_time": "2024-11-10T20:43:35.332Z"
   },
   {
    "duration": 11,
    "start_time": "2024-11-10T20:43:35.350Z"
   },
   {
    "duration": 10,
    "start_time": "2024-11-10T20:43:35.362Z"
   },
   {
    "duration": 46,
    "start_time": "2024-11-10T20:43:35.373Z"
   },
   {
    "duration": 17,
    "start_time": "2024-11-10T20:43:35.421Z"
   },
   {
    "duration": 13,
    "start_time": "2024-11-10T20:43:35.439Z"
   },
   {
    "duration": 14,
    "start_time": "2024-11-10T20:43:35.453Z"
   },
   {
    "duration": 9,
    "start_time": "2024-11-10T20:43:35.469Z"
   },
   {
    "duration": 64,
    "start_time": "2024-11-10T20:43:35.479Z"
   },
   {
    "duration": 21,
    "start_time": "2024-11-10T20:43:35.545Z"
   },
   {
    "duration": 14,
    "start_time": "2024-11-10T20:43:35.569Z"
   },
   {
    "duration": 27,
    "start_time": "2024-11-10T20:43:35.584Z"
   },
   {
    "duration": 9,
    "start_time": "2024-11-10T20:43:35.613Z"
   },
   {
    "duration": 4148,
    "start_time": "2024-11-10T20:43:35.623Z"
   },
   {
    "duration": 232,
    "start_time": "2024-11-10T20:43:39.773Z"
   },
   {
    "duration": 233,
    "start_time": "2024-11-10T20:43:40.009Z"
   },
   {
    "duration": 236,
    "start_time": "2024-11-10T20:43:40.245Z"
   },
   {
    "duration": 233,
    "start_time": "2024-11-10T20:43:40.483Z"
   },
   {
    "duration": 15,
    "start_time": "2024-11-10T20:43:40.718Z"
   },
   {
    "duration": 4961,
    "start_time": "2024-11-10T20:43:40.734Z"
   },
   {
    "duration": 157,
    "start_time": "2024-11-10T20:44:03.568Z"
   },
   {
    "duration": 14,
    "start_time": "2024-11-10T20:44:43.406Z"
   },
   {
    "duration": 838,
    "start_time": "2024-11-10T20:45:09.797Z"
   },
   {
    "duration": 123,
    "start_time": "2024-11-10T20:45:16.369Z"
   },
   {
    "duration": 3,
    "start_time": "2024-11-10T20:45:23.751Z"
   },
   {
    "duration": 95,
    "start_time": "2024-11-10T20:45:23.756Z"
   },
   {
    "duration": 76,
    "start_time": "2024-11-10T20:45:23.852Z"
   },
   {
    "duration": 46,
    "start_time": "2024-11-10T20:45:23.929Z"
   },
   {
    "duration": 10,
    "start_time": "2024-11-10T20:45:23.979Z"
   },
   {
    "duration": 11,
    "start_time": "2024-11-10T20:45:23.990Z"
   },
   {
    "duration": 11,
    "start_time": "2024-11-10T20:45:24.003Z"
   },
   {
    "duration": 7,
    "start_time": "2024-11-10T20:45:24.016Z"
   },
   {
    "duration": 8,
    "start_time": "2024-11-10T20:45:24.024Z"
   },
   {
    "duration": 8,
    "start_time": "2024-11-10T20:45:24.034Z"
   },
   {
    "duration": 6,
    "start_time": "2024-11-10T20:45:24.043Z"
   },
   {
    "duration": 9,
    "start_time": "2024-11-10T20:45:24.050Z"
   },
   {
    "duration": 9,
    "start_time": "2024-11-10T20:45:24.061Z"
   },
   {
    "duration": 9,
    "start_time": "2024-11-10T20:45:24.110Z"
   },
   {
    "duration": 15,
    "start_time": "2024-11-10T20:45:24.120Z"
   },
   {
    "duration": 9,
    "start_time": "2024-11-10T20:45:24.137Z"
   },
   {
    "duration": 62,
    "start_time": "2024-11-10T20:45:24.148Z"
   },
   {
    "duration": 26,
    "start_time": "2024-11-10T20:45:24.211Z"
   },
   {
    "duration": 16,
    "start_time": "2024-11-10T20:45:24.239Z"
   },
   {
    "duration": 11,
    "start_time": "2024-11-10T20:45:24.257Z"
   },
   {
    "duration": 8,
    "start_time": "2024-11-10T20:45:24.270Z"
   },
   {
    "duration": 43,
    "start_time": "2024-11-10T20:45:24.279Z"
   },
   {
    "duration": 16,
    "start_time": "2024-11-10T20:45:24.324Z"
   },
   {
    "duration": 12,
    "start_time": "2024-11-10T20:45:24.342Z"
   },
   {
    "duration": 13,
    "start_time": "2024-11-10T20:45:24.356Z"
   },
   {
    "duration": 38,
    "start_time": "2024-11-10T20:45:24.371Z"
   },
   {
    "duration": 35,
    "start_time": "2024-11-10T20:45:24.411Z"
   },
   {
    "duration": 20,
    "start_time": "2024-11-10T20:45:24.448Z"
   },
   {
    "duration": 13,
    "start_time": "2024-11-10T20:45:24.470Z"
   },
   {
    "duration": 31,
    "start_time": "2024-11-10T20:45:24.484Z"
   },
   {
    "duration": 9,
    "start_time": "2024-11-10T20:45:24.517Z"
   },
   {
    "duration": 4194,
    "start_time": "2024-11-10T20:45:24.527Z"
   },
   {
    "duration": 238,
    "start_time": "2024-11-10T20:45:28.722Z"
   },
   {
    "duration": 237,
    "start_time": "2024-11-10T20:45:28.963Z"
   },
   {
    "duration": 247,
    "start_time": "2024-11-10T20:45:29.202Z"
   },
   {
    "duration": 241,
    "start_time": "2024-11-10T20:45:29.451Z"
   },
   {
    "duration": 23,
    "start_time": "2024-11-10T20:45:29.695Z"
   },
   {
    "duration": 4962,
    "start_time": "2024-11-10T20:45:29.720Z"
   },
   {
    "duration": 162,
    "start_time": "2024-11-10T20:46:00.454Z"
   },
   {
    "duration": 865,
    "start_time": "2024-11-10T20:46:06.606Z"
   },
   {
    "duration": 150,
    "start_time": "2024-11-10T20:46:07.474Z"
   },
   {
    "duration": 86,
    "start_time": "2024-11-10T20:46:07.627Z"
   },
   {
    "duration": 48,
    "start_time": "2024-11-10T20:46:07.716Z"
   },
   {
    "duration": 12,
    "start_time": "2024-11-10T20:46:07.766Z"
   },
   {
    "duration": 11,
    "start_time": "2024-11-10T20:46:07.779Z"
   },
   {
    "duration": 19,
    "start_time": "2024-11-10T20:46:07.792Z"
   },
   {
    "duration": 9,
    "start_time": "2024-11-10T20:46:07.813Z"
   },
   {
    "duration": 9,
    "start_time": "2024-11-10T20:46:07.824Z"
   },
   {
    "duration": 8,
    "start_time": "2024-11-10T20:46:07.837Z"
   },
   {
    "duration": 5,
    "start_time": "2024-11-10T20:46:07.847Z"
   },
   {
    "duration": 9,
    "start_time": "2024-11-10T20:46:07.854Z"
   },
   {
    "duration": 9,
    "start_time": "2024-11-10T20:46:07.864Z"
   },
   {
    "duration": 11,
    "start_time": "2024-11-10T20:46:07.909Z"
   },
   {
    "duration": 15,
    "start_time": "2024-11-10T20:46:07.921Z"
   },
   {
    "duration": 11,
    "start_time": "2024-11-10T20:46:07.938Z"
   },
   {
    "duration": 60,
    "start_time": "2024-11-10T20:46:07.950Z"
   },
   {
    "duration": 26,
    "start_time": "2024-11-10T20:46:08.012Z"
   },
   {
    "duration": 16,
    "start_time": "2024-11-10T20:46:08.040Z"
   },
   {
    "duration": 13,
    "start_time": "2024-11-10T20:46:08.058Z"
   },
   {
    "duration": 8,
    "start_time": "2024-11-10T20:46:08.072Z"
   },
   {
    "duration": 43,
    "start_time": "2024-11-10T20:46:08.081Z"
   },
   {
    "duration": 17,
    "start_time": "2024-11-10T20:46:08.126Z"
   },
   {
    "duration": 11,
    "start_time": "2024-11-10T20:46:08.145Z"
   },
   {
    "duration": 14,
    "start_time": "2024-11-10T20:46:08.158Z"
   },
   {
    "duration": 37,
    "start_time": "2024-11-10T20:46:08.174Z"
   },
   {
    "duration": 36,
    "start_time": "2024-11-10T20:46:08.212Z"
   },
   {
    "duration": 21,
    "start_time": "2024-11-10T20:46:08.252Z"
   },
   {
    "duration": 34,
    "start_time": "2024-11-10T20:46:08.275Z"
   },
   {
    "duration": 8,
    "start_time": "2024-11-10T20:46:08.311Z"
   },
   {
    "duration": 10,
    "start_time": "2024-11-10T20:46:08.321Z"
   },
   {
    "duration": 4123,
    "start_time": "2024-11-10T20:46:08.332Z"
   },
   {
    "duration": 236,
    "start_time": "2024-11-10T20:46:12.457Z"
   },
   {
    "duration": 232,
    "start_time": "2024-11-10T20:46:12.695Z"
   },
   {
    "duration": 242,
    "start_time": "2024-11-10T20:46:12.929Z"
   },
   {
    "duration": 236,
    "start_time": "2024-11-10T20:46:13.173Z"
   },
   {
    "duration": 14,
    "start_time": "2024-11-10T20:46:13.411Z"
   },
   {
    "duration": 5009,
    "start_time": "2024-11-10T20:46:13.427Z"
   },
   {
    "duration": 157,
    "start_time": "2024-11-10T20:46:27.879Z"
   },
   {
    "duration": 2,
    "start_time": "2024-11-10T20:46:28.126Z"
   },
   {
    "duration": 11,
    "start_time": "2024-11-10T20:46:35.651Z"
   },
   {
    "duration": 811,
    "start_time": "2024-11-10T20:46:42.439Z"
   },
   {
    "duration": 145,
    "start_time": "2024-11-10T20:46:45.165Z"
   },
   {
    "duration": 78,
    "start_time": "2024-11-10T20:46:48.209Z"
   },
   {
    "duration": 46,
    "start_time": "2024-11-10T20:46:51.007Z"
   },
   {
    "duration": 11,
    "start_time": "2024-11-10T20:46:53.488Z"
   },
   {
    "duration": 12,
    "start_time": "2024-11-10T20:46:56.280Z"
   },
   {
    "duration": 9,
    "start_time": "2024-11-10T20:46:58.933Z"
   },
   {
    "duration": 8,
    "start_time": "2024-11-10T20:47:05.022Z"
   },
   {
    "duration": 9,
    "start_time": "2024-11-10T20:47:12.287Z"
   },
   {
    "duration": 9,
    "start_time": "2024-11-10T20:47:16.758Z"
   },
   {
    "duration": 5,
    "start_time": "2024-11-10T20:47:20.130Z"
   },
   {
    "duration": 12,
    "start_time": "2024-11-10T20:47:22.977Z"
   },
   {
    "duration": 10,
    "start_time": "2024-11-10T20:47:25.962Z"
   },
   {
    "duration": 10,
    "start_time": "2024-11-10T20:47:29.256Z"
   },
   {
    "duration": 16,
    "start_time": "2024-11-10T20:47:34.126Z"
   },
   {
    "duration": 10,
    "start_time": "2024-11-10T20:47:39.329Z"
   },
   {
    "duration": 31,
    "start_time": "2024-11-10T20:47:43.398Z"
   },
   {
    "duration": 26,
    "start_time": "2024-11-10T20:47:46.758Z"
   },
   {
    "duration": 17,
    "start_time": "2024-11-10T20:47:50.688Z"
   },
   {
    "duration": 12,
    "start_time": "2024-11-10T20:47:54.128Z"
   },
   {
    "duration": 8,
    "start_time": "2024-11-10T20:47:57.252Z"
   },
   {
    "duration": 16,
    "start_time": "2024-11-10T20:48:01.246Z"
   },
   {
    "duration": 17,
    "start_time": "2024-11-10T20:48:04.601Z"
   },
   {
    "duration": 13,
    "start_time": "2024-11-10T20:48:08.921Z"
   },
   {
    "duration": 14,
    "start_time": "2024-11-10T20:48:11.973Z"
   },
   {
    "duration": 9,
    "start_time": "2024-11-10T20:48:15.006Z"
   },
   {
    "duration": 36,
    "start_time": "2024-11-10T20:48:18.046Z"
   },
   {
    "duration": 24,
    "start_time": "2024-11-10T20:48:22.293Z"
   },
   {
    "duration": 14,
    "start_time": "2024-11-10T20:48:25.485Z"
   },
   {
    "duration": 9,
    "start_time": "2024-11-10T20:48:29.646Z"
   },
   {
    "duration": 4155,
    "start_time": "2024-11-10T20:48:35.882Z"
   },
   {
    "duration": 227,
    "start_time": "2024-11-10T20:48:44.289Z"
   },
   {
    "duration": 230,
    "start_time": "2024-11-10T20:48:47.648Z"
   },
   {
    "duration": 227,
    "start_time": "2024-11-10T20:48:50.690Z"
   },
   {
    "duration": 227,
    "start_time": "2024-11-10T20:48:53.727Z"
   },
   {
    "duration": 17,
    "start_time": "2024-11-10T20:48:57.966Z"
   },
   {
    "duration": 4981,
    "start_time": "2024-11-10T20:49:06.599Z"
   },
   {
    "duration": 157,
    "start_time": "2024-11-10T20:50:21.886Z"
   },
   {
    "duration": 6,
    "start_time": "2024-11-10T20:50:40.038Z"
   },
   {
    "duration": 16,
    "start_time": "2024-11-10T20:53:43.751Z"
   },
   {
    "duration": 13,
    "start_time": "2024-11-10T20:53:52.288Z"
   },
   {
    "duration": 19,
    "start_time": "2024-11-10T20:53:57.168Z"
   },
   {
    "duration": 877,
    "start_time": "2024-11-10T20:54:00.852Z"
   },
   {
    "duration": 96,
    "start_time": "2024-11-10T20:54:01.732Z"
   },
   {
    "duration": 78,
    "start_time": "2024-11-10T20:54:01.830Z"
   },
   {
    "duration": 46,
    "start_time": "2024-11-10T20:54:01.910Z"
   },
   {
    "duration": 11,
    "start_time": "2024-11-10T20:54:01.958Z"
   },
   {
    "duration": 11,
    "start_time": "2024-11-10T20:54:01.971Z"
   },
   {
    "duration": 8,
    "start_time": "2024-11-10T20:54:01.984Z"
   },
   {
    "duration": 20,
    "start_time": "2024-11-10T20:54:01.994Z"
   },
   {
    "duration": 8,
    "start_time": "2024-11-10T20:54:02.016Z"
   },
   {
    "duration": 10,
    "start_time": "2024-11-10T20:54:02.025Z"
   },
   {
    "duration": 6,
    "start_time": "2024-11-10T20:54:02.036Z"
   },
   {
    "duration": 9,
    "start_time": "2024-11-10T20:54:02.044Z"
   },
   {
    "duration": 10,
    "start_time": "2024-11-10T20:54:02.054Z"
   },
   {
    "duration": 47,
    "start_time": "2024-11-10T20:54:02.068Z"
   },
   {
    "duration": 15,
    "start_time": "2024-11-10T20:54:02.117Z"
   },
   {
    "duration": 10,
    "start_time": "2024-11-10T20:54:02.133Z"
   },
   {
    "duration": 34,
    "start_time": "2024-11-10T20:54:02.144Z"
   },
   {
    "duration": 48,
    "start_time": "2024-11-10T20:54:02.180Z"
   },
   {
    "duration": 19,
    "start_time": "2024-11-10T20:54:02.231Z"
   },
   {
    "duration": 11,
    "start_time": "2024-11-10T20:54:02.252Z"
   },
   {
    "duration": 7,
    "start_time": "2024-11-10T20:54:02.265Z"
   },
   {
    "duration": 40,
    "start_time": "2024-11-10T20:54:02.274Z"
   },
   {
    "duration": 17,
    "start_time": "2024-11-10T20:54:02.316Z"
   },
   {
    "duration": 13,
    "start_time": "2024-11-10T20:54:02.335Z"
   },
   {
    "duration": 13,
    "start_time": "2024-11-10T20:54:02.349Z"
   },
   {
    "duration": 9,
    "start_time": "2024-11-10T20:54:02.364Z"
   },
   {
    "duration": 69,
    "start_time": "2024-11-10T20:54:02.375Z"
   },
   {
    "duration": 21,
    "start_time": "2024-11-10T20:54:02.446Z"
   },
   {
    "duration": 13,
    "start_time": "2024-11-10T20:54:02.469Z"
   },
   {
    "duration": 29,
    "start_time": "2024-11-10T20:54:02.484Z"
   },
   {
    "duration": 9,
    "start_time": "2024-11-10T20:54:02.515Z"
   },
   {
    "duration": 4126,
    "start_time": "2024-11-10T20:54:02.526Z"
   },
   {
    "duration": 232,
    "start_time": "2024-11-10T20:54:06.654Z"
   },
   {
    "duration": 228,
    "start_time": "2024-11-10T20:54:06.888Z"
   },
   {
    "duration": 256,
    "start_time": "2024-11-10T20:54:07.118Z"
   },
   {
    "duration": 258,
    "start_time": "2024-11-10T20:54:07.376Z"
   },
   {
    "duration": 15,
    "start_time": "2024-11-10T20:54:07.636Z"
   },
   {
    "duration": 5314,
    "start_time": "2024-11-10T20:54:07.653Z"
   },
   {
    "duration": 158,
    "start_time": "2024-11-10T20:54:18.518Z"
   },
   {
    "duration": 819,
    "start_time": "2024-11-10T20:54:22.535Z"
   },
   {
    "duration": 148,
    "start_time": "2024-11-10T20:54:23.357Z"
   },
   {
    "duration": 74,
    "start_time": "2024-11-10T20:54:23.506Z"
   },
   {
    "duration": 45,
    "start_time": "2024-11-10T20:54:23.583Z"
   },
   {
    "duration": 9,
    "start_time": "2024-11-10T20:54:23.631Z"
   },
   {
    "duration": 11,
    "start_time": "2024-11-10T20:54:23.641Z"
   },
   {
    "duration": 8,
    "start_time": "2024-11-10T20:54:23.654Z"
   },
   {
    "duration": 7,
    "start_time": "2024-11-10T20:54:23.664Z"
   },
   {
    "duration": 8,
    "start_time": "2024-11-10T20:54:23.672Z"
   },
   {
    "duration": 34,
    "start_time": "2024-11-10T20:54:23.682Z"
   },
   {
    "duration": 4,
    "start_time": "2024-11-10T20:54:23.718Z"
   },
   {
    "duration": 9,
    "start_time": "2024-11-10T20:54:23.724Z"
   },
   {
    "duration": 8,
    "start_time": "2024-11-10T20:54:23.735Z"
   },
   {
    "duration": 9,
    "start_time": "2024-11-10T20:54:23.746Z"
   },
   {
    "duration": 15,
    "start_time": "2024-11-10T20:54:23.756Z"
   },
   {
    "duration": 45,
    "start_time": "2024-11-10T20:54:23.772Z"
   },
   {
    "duration": 32,
    "start_time": "2024-11-10T20:54:23.818Z"
   },
   {
    "duration": 28,
    "start_time": "2024-11-10T20:54:23.852Z"
   },
   {
    "duration": 36,
    "start_time": "2024-11-10T20:54:23.882Z"
   },
   {
    "duration": 11,
    "start_time": "2024-11-10T20:54:23.920Z"
   },
   {
    "duration": 7,
    "start_time": "2024-11-10T20:54:23.933Z"
   },
   {
    "duration": 17,
    "start_time": "2024-11-10T20:54:23.942Z"
   },
   {
    "duration": 17,
    "start_time": "2024-11-10T20:54:23.960Z"
   },
   {
    "duration": 12,
    "start_time": "2024-11-10T20:54:24.008Z"
   },
   {
    "duration": 13,
    "start_time": "2024-11-10T20:54:24.022Z"
   },
   {
    "duration": 9,
    "start_time": "2024-11-10T20:54:24.036Z"
   },
   {
    "duration": 37,
    "start_time": "2024-11-10T20:54:24.046Z"
   },
   {
    "duration": 42,
    "start_time": "2024-11-10T20:54:24.084Z"
   },
   {
    "duration": 13,
    "start_time": "2024-11-10T20:54:24.127Z"
   },
   {
    "duration": 7,
    "start_time": "2024-11-10T20:54:24.142Z"
   },
   {
    "duration": 8,
    "start_time": "2024-11-10T20:54:24.152Z"
   },
   {
    "duration": 2823,
    "start_time": "2024-11-10T20:54:24.162Z"
   },
   {
    "duration": 245,
    "start_time": "2024-11-10T20:54:26.987Z"
   },
   {
    "duration": 244,
    "start_time": "2024-11-10T20:54:27.233Z"
   },
   {
    "duration": 252,
    "start_time": "2024-11-10T20:54:27.479Z"
   },
   {
    "duration": 243,
    "start_time": "2024-11-10T20:54:27.733Z"
   },
   {
    "duration": 15,
    "start_time": "2024-11-10T20:54:27.978Z"
   },
   {
    "duration": 1758,
    "start_time": "2024-11-10T20:54:27.994Z"
   },
   {
    "duration": 846,
    "start_time": "2024-11-10T20:54:35.176Z"
   },
   {
    "duration": 92,
    "start_time": "2024-11-10T20:54:36.024Z"
   },
   {
    "duration": 78,
    "start_time": "2024-11-10T20:54:36.118Z"
   },
   {
    "duration": 46,
    "start_time": "2024-11-10T20:54:36.197Z"
   },
   {
    "duration": 10,
    "start_time": "2024-11-10T20:54:36.245Z"
   },
   {
    "duration": 11,
    "start_time": "2024-11-10T20:54:36.257Z"
   },
   {
    "duration": 9,
    "start_time": "2024-11-10T20:54:36.269Z"
   },
   {
    "duration": 7,
    "start_time": "2024-11-10T20:54:36.280Z"
   },
   {
    "duration": 9,
    "start_time": "2024-11-10T20:54:36.308Z"
   },
   {
    "duration": 10,
    "start_time": "2024-11-10T20:54:36.319Z"
   },
   {
    "duration": 7,
    "start_time": "2024-11-10T20:54:36.330Z"
   },
   {
    "duration": 9,
    "start_time": "2024-11-10T20:54:36.339Z"
   },
   {
    "duration": 8,
    "start_time": "2024-11-10T20:54:36.350Z"
   },
   {
    "duration": 8,
    "start_time": "2024-11-10T20:54:36.362Z"
   },
   {
    "duration": 48,
    "start_time": "2024-11-10T20:54:36.372Z"
   },
   {
    "duration": 10,
    "start_time": "2024-11-10T20:54:36.422Z"
   },
   {
    "duration": 31,
    "start_time": "2024-11-10T20:54:36.433Z"
   },
   {
    "duration": 50,
    "start_time": "2024-11-10T20:54:36.466Z"
   },
   {
    "duration": 16,
    "start_time": "2024-11-10T20:54:36.518Z"
   },
   {
    "duration": 11,
    "start_time": "2024-11-10T20:54:36.536Z"
   },
   {
    "duration": 7,
    "start_time": "2024-11-10T20:54:36.549Z"
   },
   {
    "duration": 16,
    "start_time": "2024-11-10T20:54:36.558Z"
   },
   {
    "duration": 41,
    "start_time": "2024-11-10T20:54:36.575Z"
   },
   {
    "duration": 12,
    "start_time": "2024-11-10T20:54:36.618Z"
   },
   {
    "duration": 13,
    "start_time": "2024-11-10T20:54:36.631Z"
   },
   {
    "duration": 10,
    "start_time": "2024-11-10T20:54:36.645Z"
   },
   {
    "duration": 62,
    "start_time": "2024-11-10T20:54:36.656Z"
   },
   {
    "duration": 21,
    "start_time": "2024-11-10T20:54:36.720Z"
   },
   {
    "duration": 13,
    "start_time": "2024-11-10T20:54:36.743Z"
   },
   {
    "duration": 8,
    "start_time": "2024-11-10T20:54:36.757Z"
   },
   {
    "duration": 10,
    "start_time": "2024-11-10T20:54:36.767Z"
   },
   {
    "duration": 2792,
    "start_time": "2024-11-10T20:54:36.809Z"
   },
   {
    "duration": 243,
    "start_time": "2024-11-10T20:54:39.604Z"
   },
   {
    "duration": 240,
    "start_time": "2024-11-10T20:54:39.849Z"
   },
   {
    "duration": 252,
    "start_time": "2024-11-10T20:54:40.090Z"
   },
   {
    "duration": 238,
    "start_time": "2024-11-10T20:54:40.344Z"
   },
   {
    "duration": 25,
    "start_time": "2024-11-10T20:54:40.584Z"
   },
   {
    "duration": 1715,
    "start_time": "2024-11-10T20:54:40.611Z"
   },
   {
    "duration": 157,
    "start_time": "2024-11-10T20:54:49.406Z"
   },
   {
    "duration": 827,
    "start_time": "2024-11-10T20:54:57.408Z"
   },
   {
    "duration": 144,
    "start_time": "2024-11-10T20:54:58.238Z"
   },
   {
    "duration": 77,
    "start_time": "2024-11-10T20:54:58.383Z"
   },
   {
    "duration": 46,
    "start_time": "2024-11-10T20:54:58.463Z"
   },
   {
    "duration": 11,
    "start_time": "2024-11-10T20:54:58.510Z"
   },
   {
    "duration": 11,
    "start_time": "2024-11-10T20:54:58.523Z"
   },
   {
    "duration": 10,
    "start_time": "2024-11-10T20:54:59.005Z"
   },
   {
    "duration": 8,
    "start_time": "2024-11-10T20:54:59.164Z"
   },
   {
    "duration": 9,
    "start_time": "2024-11-10T20:55:00.366Z"
   },
   {
    "duration": 9,
    "start_time": "2024-11-10T20:55:00.530Z"
   },
   {
    "duration": 5,
    "start_time": "2024-11-10T20:55:00.686Z"
   },
   {
    "duration": 11,
    "start_time": "2024-11-10T20:55:01.566Z"
   },
   {
    "duration": 9,
    "start_time": "2024-11-10T20:55:01.806Z"
   },
   {
    "duration": 11,
    "start_time": "2024-11-10T20:55:02.213Z"
   },
   {
    "duration": 16,
    "start_time": "2024-11-10T20:55:02.761Z"
   },
   {
    "duration": 10,
    "start_time": "2024-11-10T20:55:02.937Z"
   },
   {
    "duration": 31,
    "start_time": "2024-11-10T20:55:03.173Z"
   },
   {
    "duration": 25,
    "start_time": "2024-11-10T20:55:03.982Z"
   },
   {
    "duration": 17,
    "start_time": "2024-11-10T20:55:04.526Z"
   },
   {
    "duration": 12,
    "start_time": "2024-11-10T20:55:04.931Z"
   },
   {
    "duration": 8,
    "start_time": "2024-11-10T20:55:05.081Z"
   },
   {
    "duration": 15,
    "start_time": "2024-11-10T20:55:05.326Z"
   },
   {
    "duration": 17,
    "start_time": "2024-11-10T20:55:05.808Z"
   },
   {
    "duration": 13,
    "start_time": "2024-11-10T20:55:06.282Z"
   },
   {
    "duration": 14,
    "start_time": "2024-11-10T20:55:06.680Z"
   },
   {
    "duration": 9,
    "start_time": "2024-11-10T20:55:06.855Z"
   },
   {
    "duration": 37,
    "start_time": "2024-11-10T20:55:07.080Z"
   },
   {
    "duration": 25,
    "start_time": "2024-11-10T20:55:07.727Z"
   },
   {
    "duration": 14,
    "start_time": "2024-11-10T20:55:08.130Z"
   },
   {
    "duration": 8,
    "start_time": "2024-11-10T20:55:09.006Z"
   },
   {
    "duration": 9,
    "start_time": "2024-11-10T20:55:09.161Z"
   },
   {
    "duration": 2766,
    "start_time": "2024-11-10T20:55:09.813Z"
   },
   {
    "duration": 244,
    "start_time": "2024-11-10T20:55:12.581Z"
   },
   {
    "duration": 233,
    "start_time": "2024-11-10T20:55:12.826Z"
   },
   {
    "duration": 236,
    "start_time": "2024-11-10T20:55:13.061Z"
   },
   {
    "duration": 234,
    "start_time": "2024-11-10T20:55:13.299Z"
   },
   {
    "duration": 14,
    "start_time": "2024-11-10T20:55:13.536Z"
   },
   {
    "duration": 1719,
    "start_time": "2024-11-10T20:55:13.553Z"
   },
   {
    "duration": 161,
    "start_time": "2024-11-10T20:55:20.371Z"
   },
   {
    "duration": 14,
    "start_time": "2024-11-10T20:55:25.327Z"
   },
   {
    "duration": 11,
    "start_time": "2024-11-10T20:55:37.240Z"
   },
   {
    "duration": 847,
    "start_time": "2024-11-10T20:56:48.853Z"
   },
   {
    "duration": 101,
    "start_time": "2024-11-10T20:56:49.702Z"
   },
   {
    "duration": 76,
    "start_time": "2024-11-10T20:56:49.805Z"
   },
   {
    "duration": 45,
    "start_time": "2024-11-10T20:56:49.883Z"
   },
   {
    "duration": 11,
    "start_time": "2024-11-10T20:56:49.931Z"
   },
   {
    "duration": 11,
    "start_time": "2024-11-10T20:56:49.943Z"
   },
   {
    "duration": 9,
    "start_time": "2024-11-10T20:56:49.955Z"
   },
   {
    "duration": 8,
    "start_time": "2024-11-10T20:56:49.966Z"
   },
   {
    "duration": 8,
    "start_time": "2024-11-10T20:56:49.976Z"
   },
   {
    "duration": 8,
    "start_time": "2024-11-10T20:56:50.009Z"
   },
   {
    "duration": 4,
    "start_time": "2024-11-10T20:56:50.020Z"
   },
   {
    "duration": 10,
    "start_time": "2024-11-10T20:56:50.026Z"
   },
   {
    "duration": 9,
    "start_time": "2024-11-10T20:56:50.037Z"
   },
   {
    "duration": 9,
    "start_time": "2024-11-10T20:56:50.050Z"
   },
   {
    "duration": 48,
    "start_time": "2024-11-10T20:56:50.061Z"
   },
   {
    "duration": 10,
    "start_time": "2024-11-10T20:56:50.110Z"
   },
   {
    "duration": 32,
    "start_time": "2024-11-10T20:56:50.122Z"
   },
   {
    "duration": 26,
    "start_time": "2024-11-10T20:56:50.156Z"
   },
   {
    "duration": 37,
    "start_time": "2024-11-10T20:56:50.184Z"
   },
   {
    "duration": 12,
    "start_time": "2024-11-10T20:56:50.223Z"
   },
   {
    "duration": 8,
    "start_time": "2024-11-10T20:56:50.237Z"
   },
   {
    "duration": 16,
    "start_time": "2024-11-10T20:56:50.246Z"
   },
   {
    "duration": 50,
    "start_time": "2024-11-10T20:56:50.264Z"
   },
   {
    "duration": 12,
    "start_time": "2024-11-10T20:56:50.316Z"
   },
   {
    "duration": 14,
    "start_time": "2024-11-10T20:56:50.329Z"
   },
   {
    "duration": 10,
    "start_time": "2024-11-10T20:56:50.344Z"
   },
   {
    "duration": 61,
    "start_time": "2024-11-10T20:56:50.355Z"
   },
   {
    "duration": 23,
    "start_time": "2024-11-10T20:56:50.418Z"
   },
   {
    "duration": 14,
    "start_time": "2024-11-10T20:56:50.443Z"
   },
   {
    "duration": 9,
    "start_time": "2024-11-10T20:56:50.459Z"
   },
   {
    "duration": 2788,
    "start_time": "2024-11-10T20:56:50.470Z"
   },
   {
    "duration": 234,
    "start_time": "2024-11-10T20:56:53.260Z"
   },
   {
    "duration": 234,
    "start_time": "2024-11-10T20:56:53.495Z"
   },
   {
    "duration": 239,
    "start_time": "2024-11-10T20:56:53.731Z"
   },
   {
    "duration": 237,
    "start_time": "2024-11-10T20:56:53.972Z"
   },
   {
    "duration": 14,
    "start_time": "2024-11-10T20:56:54.210Z"
   },
   {
    "duration": 1698,
    "start_time": "2024-11-10T20:56:54.226Z"
   },
   {
    "duration": 813,
    "start_time": "2024-11-10T20:57:11.496Z"
   },
   {
    "duration": 92,
    "start_time": "2024-11-10T20:57:12.918Z"
   },
   {
    "duration": 76,
    "start_time": "2024-11-10T20:57:13.478Z"
   },
   {
    "duration": 46,
    "start_time": "2024-11-10T20:57:14.068Z"
   },
   {
    "duration": 12,
    "start_time": "2024-11-10T20:57:14.687Z"
   },
   {
    "duration": 13,
    "start_time": "2024-11-10T20:57:15.486Z"
   },
   {
    "duration": 9,
    "start_time": "2024-11-10T20:57:18.848Z"
   },
   {
    "duration": 8,
    "start_time": "2024-11-10T20:57:19.486Z"
   },
   {
    "duration": 8,
    "start_time": "2024-11-10T20:57:23.033Z"
   },
   {
    "duration": 10,
    "start_time": "2024-11-10T20:57:23.499Z"
   },
   {
    "duration": 7,
    "start_time": "2024-11-10T20:57:23.970Z"
   },
   {
    "duration": 9,
    "start_time": "2024-11-10T20:57:25.650Z"
   },
   {
    "duration": 10,
    "start_time": "2024-11-10T20:57:25.978Z"
   },
   {
    "duration": 10,
    "start_time": "2024-11-10T20:57:26.733Z"
   },
   {
    "duration": 14,
    "start_time": "2024-11-10T20:57:27.976Z"
   },
   {
    "duration": 9,
    "start_time": "2024-11-10T20:57:28.209Z"
   },
   {
    "duration": 32,
    "start_time": "2024-11-10T20:57:29.090Z"
   },
   {
    "duration": 26,
    "start_time": "2024-11-10T20:57:30.988Z"
   },
   {
    "duration": 18,
    "start_time": "2024-11-10T20:57:33.326Z"
   },
   {
    "duration": 13,
    "start_time": "2024-11-10T20:57:34.446Z"
   },
   {
    "duration": 8,
    "start_time": "2024-11-10T20:57:34.678Z"
   },
   {
    "duration": 16,
    "start_time": "2024-11-10T20:57:34.918Z"
   },
   {
    "duration": 17,
    "start_time": "2024-11-10T20:57:35.913Z"
   },
   {
    "duration": 13,
    "start_time": "2024-11-10T20:57:36.288Z"
   },
   {
    "duration": 15,
    "start_time": "2024-11-10T20:57:36.841Z"
   },
   {
    "duration": 9,
    "start_time": "2024-11-10T20:57:37.079Z"
   },
   {
    "duration": 35,
    "start_time": "2024-11-10T20:57:37.239Z"
   },
   {
    "duration": 25,
    "start_time": "2024-11-10T20:57:37.810Z"
   },
   {
    "duration": 16,
    "start_time": "2024-11-10T20:57:38.363Z"
   },
   {
    "duration": 9,
    "start_time": "2024-11-10T20:57:39.406Z"
   },
   {
    "duration": 2823,
    "start_time": "2024-11-10T20:57:39.969Z"
   },
   {
    "duration": 225,
    "start_time": "2024-11-10T20:57:45.798Z"
   },
   {
    "duration": 253,
    "start_time": "2024-11-10T20:57:47.086Z"
   },
   {
    "duration": 231,
    "start_time": "2024-11-10T20:57:48.119Z"
   },
   {
    "duration": 228,
    "start_time": "2024-11-10T20:57:49.569Z"
   },
   {
    "duration": 16,
    "start_time": "2024-11-10T20:57:54.846Z"
   },
   {
    "duration": 1699,
    "start_time": "2024-11-10T20:57:58.210Z"
   },
   {
    "duration": 159,
    "start_time": "2024-11-10T20:58:09.181Z"
   },
   {
    "duration": 11,
    "start_time": "2024-11-10T20:59:26.926Z"
   },
   {
    "duration": 826,
    "start_time": "2024-11-10T21:00:55.009Z"
   },
   {
    "duration": 143,
    "start_time": "2024-11-10T21:00:55.837Z"
   },
   {
    "duration": 76,
    "start_time": "2024-11-10T21:00:55.981Z"
   },
   {
    "duration": 45,
    "start_time": "2024-11-10T21:00:56.058Z"
   },
   {
    "duration": 10,
    "start_time": "2024-11-10T21:00:56.106Z"
   },
   {
    "duration": 11,
    "start_time": "2024-11-10T21:00:56.117Z"
   },
   {
    "duration": 9,
    "start_time": "2024-11-10T21:00:56.129Z"
   },
   {
    "duration": 7,
    "start_time": "2024-11-10T21:00:56.139Z"
   },
   {
    "duration": 8,
    "start_time": "2024-11-10T21:00:56.147Z"
   },
   {
    "duration": 9,
    "start_time": "2024-11-10T21:00:56.156Z"
   },
   {
    "duration": 5,
    "start_time": "2024-11-10T21:00:56.167Z"
   },
   {
    "duration": 40,
    "start_time": "2024-11-10T21:00:56.174Z"
   },
   {
    "duration": 9,
    "start_time": "2024-11-10T21:00:56.216Z"
   },
   {
    "duration": 8,
    "start_time": "2024-11-10T21:00:56.228Z"
   },
   {
    "duration": 15,
    "start_time": "2024-11-10T21:00:56.238Z"
   },
   {
    "duration": 9,
    "start_time": "2024-11-10T21:00:56.254Z"
   },
   {
    "duration": 69,
    "start_time": "2024-11-10T21:00:56.265Z"
   },
   {
    "duration": 26,
    "start_time": "2024-11-10T21:00:56.335Z"
   },
   {
    "duration": 17,
    "start_time": "2024-11-10T21:00:56.363Z"
   },
   {
    "duration": 28,
    "start_time": "2024-11-10T21:00:56.381Z"
   },
   {
    "duration": 10,
    "start_time": "2024-11-10T21:00:56.412Z"
   },
   {
    "duration": 19,
    "start_time": "2024-11-10T21:00:56.424Z"
   },
   {
    "duration": 17,
    "start_time": "2024-11-10T21:00:56.446Z"
   },
   {
    "duration": 13,
    "start_time": "2024-11-10T21:00:56.465Z"
   },
   {
    "duration": 42,
    "start_time": "2024-11-10T21:00:56.479Z"
   },
   {
    "duration": 10,
    "start_time": "2024-11-10T21:00:56.523Z"
   },
   {
    "duration": 37,
    "start_time": "2024-11-10T21:00:56.534Z"
   },
   {
    "duration": 42,
    "start_time": "2024-11-10T21:00:56.573Z"
   },
   {
    "duration": 13,
    "start_time": "2024-11-10T21:00:56.617Z"
   },
   {
    "duration": 7,
    "start_time": "2024-11-10T21:00:56.632Z"
   },
   {
    "duration": 2812,
    "start_time": "2024-11-10T21:00:56.641Z"
   },
   {
    "duration": 239,
    "start_time": "2024-11-10T21:00:59.455Z"
   },
   {
    "duration": 238,
    "start_time": "2024-11-10T21:00:59.696Z"
   },
   {
    "duration": 243,
    "start_time": "2024-11-10T21:00:59.936Z"
   },
   {
    "duration": 236,
    "start_time": "2024-11-10T21:01:00.181Z"
   },
   {
    "duration": 14,
    "start_time": "2024-11-10T21:01:00.418Z"
   },
   {
    "duration": 1713,
    "start_time": "2024-11-10T21:01:00.434Z"
   },
   {
    "duration": 159,
    "start_time": "2024-11-10T21:01:10.364Z"
   },
   {
    "duration": 13,
    "start_time": "2024-11-10T21:01:15.890Z"
   },
   {
    "duration": 13,
    "start_time": "2024-11-10T21:01:17.567Z"
   },
   {
    "duration": 13,
    "start_time": "2024-11-10T21:01:17.808Z"
   },
   {
    "duration": 12,
    "start_time": "2024-11-10T21:01:18.286Z"
   },
   {
    "duration": 13,
    "start_time": "2024-11-10T21:01:18.527Z"
   },
   {
    "duration": 13,
    "start_time": "2024-11-10T21:01:18.683Z"
   },
   {
    "duration": 850,
    "start_time": "2024-11-10T21:01:55.172Z"
   },
   {
    "duration": 95,
    "start_time": "2024-11-10T21:01:56.024Z"
   },
   {
    "duration": 78,
    "start_time": "2024-11-10T21:01:56.121Z"
   },
   {
    "duration": 48,
    "start_time": "2024-11-10T21:01:56.200Z"
   },
   {
    "duration": 10,
    "start_time": "2024-11-10T21:01:56.251Z"
   },
   {
    "duration": 11,
    "start_time": "2024-11-10T21:01:56.263Z"
   },
   {
    "duration": 11,
    "start_time": "2024-11-10T21:01:56.276Z"
   },
   {
    "duration": 20,
    "start_time": "2024-11-10T21:01:56.289Z"
   },
   {
    "duration": 10,
    "start_time": "2024-11-10T21:01:56.311Z"
   },
   {
    "duration": 12,
    "start_time": "2024-11-10T21:01:56.323Z"
   },
   {
    "duration": 6,
    "start_time": "2024-11-10T21:01:56.338Z"
   },
   {
    "duration": 10,
    "start_time": "2024-11-10T21:01:56.345Z"
   },
   {
    "duration": 10,
    "start_time": "2024-11-10T21:01:56.356Z"
   },
   {
    "duration": 42,
    "start_time": "2024-11-10T21:01:56.369Z"
   },
   {
    "duration": 16,
    "start_time": "2024-11-10T21:01:56.413Z"
   },
   {
    "duration": 10,
    "start_time": "2024-11-10T21:01:56.431Z"
   },
   {
    "duration": 31,
    "start_time": "2024-11-10T21:01:56.442Z"
   },
   {
    "duration": 51,
    "start_time": "2024-11-10T21:01:56.475Z"
   },
   {
    "duration": 16,
    "start_time": "2024-11-10T21:01:56.528Z"
   },
   {
    "duration": 12,
    "start_time": "2024-11-10T21:01:56.546Z"
   },
   {
    "duration": 8,
    "start_time": "2024-11-10T21:01:56.559Z"
   },
   {
    "duration": 44,
    "start_time": "2024-11-10T21:01:56.568Z"
   },
   {
    "duration": 17,
    "start_time": "2024-11-10T21:01:56.614Z"
   },
   {
    "duration": 11,
    "start_time": "2024-11-10T21:01:56.633Z"
   },
   {
    "duration": 13,
    "start_time": "2024-11-10T21:01:56.646Z"
   },
   {
    "duration": 9,
    "start_time": "2024-11-10T21:01:56.660Z"
   },
   {
    "duration": 69,
    "start_time": "2024-11-10T21:01:56.670Z"
   },
   {
    "duration": 20,
    "start_time": "2024-11-10T21:01:56.741Z"
   },
   {
    "duration": 13,
    "start_time": "2024-11-10T21:01:56.763Z"
   },
   {
    "duration": 30,
    "start_time": "2024-11-10T21:01:56.778Z"
   },
   {
    "duration": 2800,
    "start_time": "2024-11-10T21:01:56.810Z"
   },
   {
    "duration": 240,
    "start_time": "2024-11-10T21:01:59.612Z"
   },
   {
    "duration": 235,
    "start_time": "2024-11-10T21:01:59.853Z"
   },
   {
    "duration": 249,
    "start_time": "2024-11-10T21:02:00.089Z"
   },
   {
    "duration": 240,
    "start_time": "2024-11-10T21:02:00.340Z"
   },
   {
    "duration": 16,
    "start_time": "2024-11-10T21:02:00.581Z"
   },
   {
    "duration": 1711,
    "start_time": "2024-11-10T21:02:00.598Z"
   },
   {
    "duration": 821,
    "start_time": "2024-11-10T21:02:29.157Z"
   },
   {
    "duration": 94,
    "start_time": "2024-11-10T21:02:29.981Z"
   },
   {
    "duration": 78,
    "start_time": "2024-11-10T21:02:30.077Z"
   },
   {
    "duration": 46,
    "start_time": "2024-11-10T21:02:30.158Z"
   },
   {
    "duration": 10,
    "start_time": "2024-11-10T21:02:30.206Z"
   },
   {
    "duration": 11,
    "start_time": "2024-11-10T21:02:30.218Z"
   },
   {
    "duration": 8,
    "start_time": "2024-11-10T21:02:30.231Z"
   },
   {
    "duration": 7,
    "start_time": "2024-11-10T21:02:30.241Z"
   },
   {
    "duration": 8,
    "start_time": "2024-11-10T21:02:30.250Z"
   },
   {
    "duration": 9,
    "start_time": "2024-11-10T21:02:30.262Z"
   },
   {
    "duration": 5,
    "start_time": "2024-11-10T21:02:30.309Z"
   },
   {
    "duration": 9,
    "start_time": "2024-11-10T21:02:30.316Z"
   },
   {
    "duration": 9,
    "start_time": "2024-11-10T21:02:30.327Z"
   },
   {
    "duration": 9,
    "start_time": "2024-11-10T21:02:30.338Z"
   },
   {
    "duration": 14,
    "start_time": "2024-11-10T21:02:30.349Z"
   },
   {
    "duration": 45,
    "start_time": "2024-11-10T21:02:30.365Z"
   },
   {
    "duration": 34,
    "start_time": "2024-11-10T21:02:30.412Z"
   },
   {
    "duration": 27,
    "start_time": "2024-11-10T21:02:30.448Z"
   },
   {
    "duration": 38,
    "start_time": "2024-11-10T21:02:30.476Z"
   },
   {
    "duration": 11,
    "start_time": "2024-11-10T21:02:30.516Z"
   },
   {
    "duration": 8,
    "start_time": "2024-11-10T21:02:30.529Z"
   },
   {
    "duration": 16,
    "start_time": "2024-11-10T21:02:30.539Z"
   },
   {
    "duration": 18,
    "start_time": "2024-11-10T21:02:30.556Z"
   },
   {
    "duration": 43,
    "start_time": "2024-11-10T21:02:30.576Z"
   },
   {
    "duration": 13,
    "start_time": "2024-11-10T21:02:30.620Z"
   },
   {
    "duration": 8,
    "start_time": "2024-11-10T21:02:30.635Z"
   },
   {
    "duration": 37,
    "start_time": "2024-11-10T21:02:30.645Z"
   },
   {
    "duration": 21,
    "start_time": "2024-11-10T21:02:30.711Z"
   },
   {
    "duration": 13,
    "start_time": "2024-11-10T21:02:30.734Z"
   },
   {
    "duration": 8,
    "start_time": "2024-11-10T21:02:30.749Z"
   },
   {
    "duration": 2808,
    "start_time": "2024-11-10T21:02:30.758Z"
   },
   {
    "duration": 245,
    "start_time": "2024-11-10T21:02:33.568Z"
   },
   {
    "duration": 236,
    "start_time": "2024-11-10T21:02:33.815Z"
   },
   {
    "duration": 244,
    "start_time": "2024-11-10T21:02:34.053Z"
   },
   {
    "duration": 236,
    "start_time": "2024-11-10T21:02:34.299Z"
   },
   {
    "duration": 15,
    "start_time": "2024-11-10T21:02:34.537Z"
   },
   {
    "duration": 1761,
    "start_time": "2024-11-10T21:02:34.554Z"
   },
   {
    "duration": 156,
    "start_time": "2024-11-10T21:02:57.008Z"
   },
   {
    "duration": 795,
    "start_time": "2024-11-10T21:25:21.255Z"
   },
   {
    "duration": 95,
    "start_time": "2024-11-10T21:25:24.769Z"
   },
   {
    "duration": 78,
    "start_time": "2024-11-10T21:25:27.817Z"
   },
   {
    "duration": 48,
    "start_time": "2024-11-10T21:25:30.855Z"
   },
   {
    "duration": 825,
    "start_time": "2024-11-10T21:30:32.613Z"
   },
   {
    "duration": 149,
    "start_time": "2024-11-10T21:30:33.440Z"
   },
   {
    "duration": 75,
    "start_time": "2024-11-10T21:30:33.591Z"
   },
   {
    "duration": 48,
    "start_time": "2024-11-10T21:30:33.668Z"
   },
   {
    "duration": 10,
    "start_time": "2024-11-10T21:30:33.718Z"
   },
   {
    "duration": 11,
    "start_time": "2024-11-10T21:30:33.730Z"
   },
   {
    "duration": 8,
    "start_time": "2024-11-10T21:30:33.742Z"
   },
   {
    "duration": 8,
    "start_time": "2024-11-10T21:30:33.752Z"
   },
   {
    "duration": 2,
    "start_time": "2024-11-10T21:30:33.762Z"
   },
   {
    "duration": 8,
    "start_time": "2024-11-10T21:30:33.766Z"
   },
   {
    "duration": 37,
    "start_time": "2024-11-10T21:30:33.776Z"
   },
   {
    "duration": 5,
    "start_time": "2024-11-10T21:30:33.815Z"
   },
   {
    "duration": 9,
    "start_time": "2024-11-10T21:30:33.821Z"
   },
   {
    "duration": 8,
    "start_time": "2024-11-10T21:30:33.835Z"
   },
   {
    "duration": 8,
    "start_time": "2024-11-10T21:30:33.845Z"
   },
   {
    "duration": 14,
    "start_time": "2024-11-10T21:30:33.855Z"
   },
   {
    "duration": 46,
    "start_time": "2024-11-10T21:30:33.871Z"
   },
   {
    "duration": 32,
    "start_time": "2024-11-10T21:30:33.919Z"
   },
   {
    "duration": 27,
    "start_time": "2024-11-10T21:30:33.953Z"
   },
   {
    "duration": 37,
    "start_time": "2024-11-10T21:30:33.981Z"
   },
   {
    "duration": 12,
    "start_time": "2024-11-10T21:30:34.020Z"
   },
   {
    "duration": 8,
    "start_time": "2024-11-10T21:30:34.033Z"
   },
   {
    "duration": 17,
    "start_time": "2024-11-10T21:30:34.042Z"
   },
   {
    "duration": 16,
    "start_time": "2024-11-10T21:30:34.061Z"
   },
   {
    "duration": 41,
    "start_time": "2024-11-10T21:30:34.079Z"
   },
   {
    "duration": 13,
    "start_time": "2024-11-10T21:30:34.123Z"
   },
   {
    "duration": 9,
    "start_time": "2024-11-10T21:30:34.137Z"
   },
   {
    "duration": 63,
    "start_time": "2024-11-10T21:30:34.148Z"
   },
   {
    "duration": 21,
    "start_time": "2024-11-10T21:30:34.213Z"
   },
   {
    "duration": 13,
    "start_time": "2024-11-10T21:30:34.236Z"
   },
   {
    "duration": 7,
    "start_time": "2024-11-10T21:30:34.251Z"
   },
   {
    "duration": 2810,
    "start_time": "2024-11-10T21:30:34.260Z"
   },
   {
    "duration": 251,
    "start_time": "2024-11-10T21:30:37.072Z"
   },
   {
    "duration": 239,
    "start_time": "2024-11-10T21:30:37.325Z"
   },
   {
    "duration": 256,
    "start_time": "2024-11-10T21:30:37.565Z"
   },
   {
    "duration": 239,
    "start_time": "2024-11-10T21:30:37.823Z"
   },
   {
    "duration": 14,
    "start_time": "2024-11-10T21:30:38.064Z"
   },
   {
    "duration": 1725,
    "start_time": "2024-11-10T21:30:38.080Z"
   },
   {
    "duration": 805,
    "start_time": "2024-11-10T21:31:31.556Z"
   },
   {
    "duration": 94,
    "start_time": "2024-11-10T21:31:32.363Z"
   },
   {
    "duration": 76,
    "start_time": "2024-11-10T21:31:32.459Z"
   },
   {
    "duration": 47,
    "start_time": "2024-11-10T21:31:32.537Z"
   },
   {
    "duration": 10,
    "start_time": "2024-11-10T21:31:32.587Z"
   },
   {
    "duration": 12,
    "start_time": "2024-11-10T21:31:32.598Z"
   },
   {
    "duration": 8,
    "start_time": "2024-11-10T21:31:32.611Z"
   },
   {
    "duration": 7,
    "start_time": "2024-11-10T21:31:32.621Z"
   },
   {
    "duration": 2,
    "start_time": "2024-11-10T21:31:32.630Z"
   },
   {
    "duration": 8,
    "start_time": "2024-11-10T21:31:32.634Z"
   },
   {
    "duration": 9,
    "start_time": "2024-11-10T21:31:32.643Z"
   },
   {
    "duration": 5,
    "start_time": "2024-11-10T21:31:32.654Z"
   },
   {
    "duration": 9,
    "start_time": "2024-11-10T21:31:32.661Z"
   },
   {
    "duration": 9,
    "start_time": "2024-11-10T21:31:32.712Z"
   },
   {
    "duration": 9,
    "start_time": "2024-11-10T21:31:32.723Z"
   },
   {
    "duration": 15,
    "start_time": "2024-11-10T21:31:32.734Z"
   },
   {
    "duration": 10,
    "start_time": "2024-11-10T21:31:32.750Z"
   },
   {
    "duration": 64,
    "start_time": "2024-11-10T21:31:32.761Z"
   },
   {
    "duration": 25,
    "start_time": "2024-11-10T21:31:32.827Z"
   },
   {
    "duration": 17,
    "start_time": "2024-11-10T21:31:32.853Z"
   },
   {
    "duration": 11,
    "start_time": "2024-11-10T21:31:32.872Z"
   },
   {
    "duration": 30,
    "start_time": "2024-11-10T21:31:32.885Z"
   },
   {
    "duration": 15,
    "start_time": "2024-11-10T21:31:32.917Z"
   },
   {
    "duration": 16,
    "start_time": "2024-11-10T21:31:32.933Z"
   },
   {
    "duration": 11,
    "start_time": "2024-11-10T21:31:32.951Z"
   },
   {
    "duration": 14,
    "start_time": "2024-11-10T21:31:32.964Z"
   },
   {
    "duration": 9,
    "start_time": "2024-11-10T21:31:33.008Z"
   },
   {
    "duration": 34,
    "start_time": "2024-11-10T21:31:33.018Z"
   },
   {
    "duration": 21,
    "start_time": "2024-11-10T21:31:33.054Z"
   },
   {
    "duration": 38,
    "start_time": "2024-11-10T21:31:33.076Z"
   },
   {
    "duration": 7,
    "start_time": "2024-11-10T21:31:33.116Z"
   },
   {
    "duration": 2878,
    "start_time": "2024-11-10T21:31:33.125Z"
   },
   {
    "duration": 231,
    "start_time": "2024-11-10T21:31:36.008Z"
   },
   {
    "duration": 238,
    "start_time": "2024-11-10T21:31:36.241Z"
   },
   {
    "duration": 237,
    "start_time": "2024-11-10T21:31:36.482Z"
   },
   {
    "duration": 233,
    "start_time": "2024-11-10T21:31:36.721Z"
   },
   {
    "duration": 287,
    "start_time": "2024-11-10T21:31:36.956Z"
   },
   {
    "duration": 0,
    "start_time": "2024-11-10T21:31:37.245Z"
   },
   {
    "duration": 0,
    "start_time": "2024-11-10T21:31:37.246Z"
   },
   {
    "duration": 0,
    "start_time": "2024-11-10T21:31:37.247Z"
   },
   {
    "duration": 0,
    "start_time": "2024-11-10T21:31:37.248Z"
   },
   {
    "duration": 0,
    "start_time": "2024-11-10T21:31:37.249Z"
   },
   {
    "duration": 0,
    "start_time": "2024-11-10T21:31:37.250Z"
   },
   {
    "duration": 0,
    "start_time": "2024-11-10T21:31:37.251Z"
   },
   {
    "duration": 0,
    "start_time": "2024-11-10T21:31:37.252Z"
   },
   {
    "duration": 0,
    "start_time": "2024-11-10T21:31:37.253Z"
   },
   {
    "duration": 1830,
    "start_time": "2024-11-10T21:31:52.606Z"
   },
   {
    "duration": 226,
    "start_time": "2024-11-10T21:35:05.863Z"
   },
   {
    "duration": 226,
    "start_time": "2024-11-10T21:35:27.829Z"
   },
   {
    "duration": 227,
    "start_time": "2024-11-10T21:36:12.149Z"
   },
   {
    "duration": 16,
    "start_time": "2024-11-10T21:36:47.766Z"
   },
   {
    "duration": 236,
    "start_time": "2024-11-10T21:37:05.290Z"
   },
   {
    "duration": 103,
    "start_time": "2024-11-10T21:37:21.845Z"
   },
   {
    "duration": 26,
    "start_time": "2024-11-10T21:38:05.470Z"
   },
   {
    "duration": 43,
    "start_time": "2024-11-10T21:38:21.087Z"
   },
   {
    "duration": 231,
    "start_time": "2024-11-10T21:38:29.358Z"
   },
   {
    "duration": 45,
    "start_time": "2024-11-10T21:39:54.730Z"
   },
   {
    "duration": 447,
    "start_time": "2024-11-10T21:43:05.606Z"
   },
   {
    "duration": 5139,
    "start_time": "2024-11-10T21:45:31.106Z"
   },
   {
    "duration": 158,
    "start_time": "2024-11-10T21:45:52.538Z"
   },
   {
    "duration": 13,
    "start_time": "2024-11-10T21:46:02.538Z"
   },
   {
    "duration": 12,
    "start_time": "2024-11-10T21:46:06.946Z"
   },
   {
    "duration": 13,
    "start_time": "2024-11-10T21:46:20.153Z"
   },
   {
    "duration": 895,
    "start_time": "2024-11-10T21:46:26.538Z"
   },
   {
    "duration": 98,
    "start_time": "2024-11-10T21:46:27.435Z"
   },
   {
    "duration": 82,
    "start_time": "2024-11-10T21:46:27.535Z"
   },
   {
    "duration": 47,
    "start_time": "2024-11-10T21:46:27.619Z"
   },
   {
    "duration": 12,
    "start_time": "2024-11-10T21:46:27.668Z"
   },
   {
    "duration": 12,
    "start_time": "2024-11-10T21:46:27.682Z"
   },
   {
    "duration": 9,
    "start_time": "2024-11-10T21:46:27.695Z"
   },
   {
    "duration": 8,
    "start_time": "2024-11-10T21:46:27.712Z"
   },
   {
    "duration": 3,
    "start_time": "2024-11-10T21:46:27.722Z"
   },
   {
    "duration": 9,
    "start_time": "2024-11-10T21:46:27.727Z"
   },
   {
    "duration": 9,
    "start_time": "2024-11-10T21:46:27.738Z"
   },
   {
    "duration": 5,
    "start_time": "2024-11-10T21:46:27.748Z"
   },
   {
    "duration": 9,
    "start_time": "2024-11-10T21:46:27.754Z"
   },
   {
    "duration": 47,
    "start_time": "2024-11-10T21:46:27.765Z"
   },
   {
    "duration": 9,
    "start_time": "2024-11-10T21:46:27.815Z"
   },
   {
    "duration": 18,
    "start_time": "2024-11-10T21:46:27.825Z"
   },
   {
    "duration": 11,
    "start_time": "2024-11-10T21:46:27.847Z"
   },
   {
    "duration": 62,
    "start_time": "2024-11-10T21:46:27.859Z"
   },
   {
    "duration": 26,
    "start_time": "2024-11-10T21:46:27.923Z"
   },
   {
    "duration": 17,
    "start_time": "2024-11-10T21:46:27.950Z"
   },
   {
    "duration": 12,
    "start_time": "2024-11-10T21:46:27.969Z"
   },
   {
    "duration": 28,
    "start_time": "2024-11-10T21:46:27.983Z"
   },
   {
    "duration": 15,
    "start_time": "2024-11-10T21:46:28.013Z"
   },
   {
    "duration": 16,
    "start_time": "2024-11-10T21:46:28.030Z"
   },
   {
    "duration": 13,
    "start_time": "2024-11-10T21:46:28.047Z"
   },
   {
    "duration": 13,
    "start_time": "2024-11-10T21:46:28.062Z"
   },
   {
    "duration": 38,
    "start_time": "2024-11-10T21:46:28.076Z"
   },
   {
    "duration": 35,
    "start_time": "2024-11-10T21:46:28.117Z"
   },
   {
    "duration": 22,
    "start_time": "2024-11-10T21:46:28.154Z"
   },
   {
    "duration": 36,
    "start_time": "2024-11-10T21:46:28.178Z"
   },
   {
    "duration": 8,
    "start_time": "2024-11-10T21:46:28.215Z"
   },
   {
    "duration": 2863,
    "start_time": "2024-11-10T21:46:28.224Z"
   },
   {
    "duration": 1900,
    "start_time": "2024-11-10T21:46:31.089Z"
   },
   {
    "duration": 238,
    "start_time": "2024-11-10T21:46:32.991Z"
   },
   {
    "duration": 240,
    "start_time": "2024-11-10T21:46:33.231Z"
   },
   {
    "duration": 237,
    "start_time": "2024-11-10T21:46:33.473Z"
   },
   {
    "duration": 1681,
    "start_time": "2024-11-10T21:46:33.712Z"
   },
   {
    "duration": 0,
    "start_time": "2024-11-10T21:46:35.395Z"
   },
   {
    "duration": 0,
    "start_time": "2024-11-10T21:46:35.397Z"
   },
   {
    "duration": 0,
    "start_time": "2024-11-10T21:46:35.398Z"
   },
   {
    "duration": 0,
    "start_time": "2024-11-10T21:46:35.399Z"
   },
   {
    "duration": 0,
    "start_time": "2024-11-10T21:46:35.400Z"
   },
   {
    "duration": 0,
    "start_time": "2024-11-10T21:46:35.409Z"
   },
   {
    "duration": 0,
    "start_time": "2024-11-10T21:46:35.410Z"
   },
   {
    "duration": 0,
    "start_time": "2024-11-10T21:46:35.411Z"
   },
   {
    "duration": 15,
    "start_time": "2024-11-10T21:47:56.465Z"
   },
   {
    "duration": 759,
    "start_time": "2024-11-10T21:50:47.344Z"
   },
   {
    "duration": 9,
    "start_time": "2024-11-10T21:51:13.671Z"
   },
   {
    "duration": 8,
    "start_time": "2024-11-10T21:52:41.416Z"
   },
   {
    "duration": 8,
    "start_time": "2024-11-10T21:53:30.233Z"
   },
   {
    "duration": 8,
    "start_time": "2024-11-10T21:53:45.832Z"
   },
   {
    "duration": 8,
    "start_time": "2024-11-10T21:53:56.472Z"
   },
   {
    "duration": 161,
    "start_time": "2024-11-10T21:54:10.633Z"
   },
   {
    "duration": 854,
    "start_time": "2024-11-10T21:54:30.305Z"
   },
   {
    "duration": 145,
    "start_time": "2024-11-10T21:54:31.162Z"
   },
   {
    "duration": 78,
    "start_time": "2024-11-10T21:54:31.309Z"
   },
   {
    "duration": 47,
    "start_time": "2024-11-10T21:54:31.388Z"
   },
   {
    "duration": 11,
    "start_time": "2024-11-10T21:54:31.437Z"
   },
   {
    "duration": 11,
    "start_time": "2024-11-10T21:54:31.449Z"
   },
   {
    "duration": 9,
    "start_time": "2024-11-10T21:54:31.462Z"
   },
   {
    "duration": 8,
    "start_time": "2024-11-10T21:54:31.472Z"
   },
   {
    "duration": 3,
    "start_time": "2024-11-10T21:54:31.482Z"
   },
   {
    "duration": 31,
    "start_time": "2024-11-10T21:54:31.486Z"
   },
   {
    "duration": 9,
    "start_time": "2024-11-10T21:54:31.519Z"
   },
   {
    "duration": 5,
    "start_time": "2024-11-10T21:54:31.529Z"
   },
   {
    "duration": 9,
    "start_time": "2024-11-10T21:54:31.536Z"
   },
   {
    "duration": 9,
    "start_time": "2024-11-10T21:54:31.549Z"
   },
   {
    "duration": 9,
    "start_time": "2024-11-10T21:54:31.560Z"
   },
   {
    "duration": 53,
    "start_time": "2024-11-10T21:54:31.570Z"
   },
   {
    "duration": 11,
    "start_time": "2024-11-10T21:54:31.625Z"
   },
   {
    "duration": 33,
    "start_time": "2024-11-10T21:54:31.637Z"
   },
   {
    "duration": 51,
    "start_time": "2024-11-10T21:54:31.671Z"
   },
   {
    "duration": 16,
    "start_time": "2024-11-10T21:54:31.724Z"
   },
   {
    "duration": 9,
    "start_time": "2024-11-10T21:54:31.742Z"
   },
   {
    "duration": 11,
    "start_time": "2024-11-10T21:54:31.752Z"
   },
   {
    "duration": 9,
    "start_time": "2024-11-10T21:54:31.764Z"
   },
   {
    "duration": 42,
    "start_time": "2024-11-10T21:54:31.774Z"
   },
   {
    "duration": 16,
    "start_time": "2024-11-10T21:54:31.818Z"
   },
   {
    "duration": 13,
    "start_time": "2024-11-10T21:54:31.836Z"
   },
   {
    "duration": 8,
    "start_time": "2024-11-10T21:54:31.850Z"
   },
   {
    "duration": 13,
    "start_time": "2024-11-10T21:54:31.860Z"
   },
   {
    "duration": 43,
    "start_time": "2024-11-10T21:54:31.875Z"
   },
   {
    "duration": 38,
    "start_time": "2024-11-10T21:54:31.920Z"
   },
   {
    "duration": 21,
    "start_time": "2024-11-10T21:54:31.960Z"
   },
   {
    "duration": 34,
    "start_time": "2024-11-10T21:54:31.983Z"
   },
   {
    "duration": 10,
    "start_time": "2024-11-10T21:54:32.018Z"
   },
   {
    "duration": 7,
    "start_time": "2024-11-10T21:54:32.030Z"
   },
   {
    "duration": 2833,
    "start_time": "2024-11-10T21:54:32.039Z"
   },
   {
    "duration": 83,
    "start_time": "2024-11-10T21:54:34.875Z"
   },
   {
    "duration": 0,
    "start_time": "2024-11-10T21:54:34.961Z"
   },
   {
    "duration": 0,
    "start_time": "2024-11-10T21:54:34.962Z"
   },
   {
    "duration": 0,
    "start_time": "2024-11-10T21:54:34.964Z"
   },
   {
    "duration": 0,
    "start_time": "2024-11-10T21:54:34.966Z"
   },
   {
    "duration": 0,
    "start_time": "2024-11-10T21:54:34.967Z"
   },
   {
    "duration": 0,
    "start_time": "2024-11-10T21:54:34.968Z"
   },
   {
    "duration": 0,
    "start_time": "2024-11-10T21:54:34.970Z"
   },
   {
    "duration": 0,
    "start_time": "2024-11-10T21:54:34.970Z"
   },
   {
    "duration": 0,
    "start_time": "2024-11-10T21:54:34.971Z"
   },
   {
    "duration": 0,
    "start_time": "2024-11-10T21:54:34.972Z"
   },
   {
    "duration": 0,
    "start_time": "2024-11-10T21:54:34.974Z"
   },
   {
    "duration": 0,
    "start_time": "2024-11-10T21:54:34.975Z"
   },
   {
    "duration": 3,
    "start_time": "2024-11-10T21:58:53.428Z"
   },
   {
    "duration": 427,
    "start_time": "2024-11-10T21:59:19.107Z"
   },
   {
    "duration": 228,
    "start_time": "2024-11-10T21:59:32.404Z"
   },
   {
    "duration": 423,
    "start_time": "2024-11-10T22:00:01.035Z"
   },
   {
    "duration": 229,
    "start_time": "2024-11-10T22:00:23.436Z"
   },
   {
    "duration": 1611,
    "start_time": "2024-11-10T22:00:36.477Z"
   },
   {
    "duration": 376,
    "start_time": "2024-11-10T22:03:12.657Z"
   },
   {
    "duration": 8,
    "start_time": "2024-11-10T22:03:25.860Z"
   },
   {
    "duration": 773,
    "start_time": "2024-11-10T22:03:36.861Z"
   },
   {
    "duration": 158,
    "start_time": "2024-11-10T22:05:49.296Z"
   },
   {
    "duration": 12,
    "start_time": "2024-11-10T22:06:21.315Z"
   },
   {
    "duration": 837,
    "start_time": "2024-11-10T22:06:28.889Z"
   },
   {
    "duration": 152,
    "start_time": "2024-11-10T22:06:29.728Z"
   },
   {
    "duration": 79,
    "start_time": "2024-11-10T22:06:29.882Z"
   },
   {
    "duration": 50,
    "start_time": "2024-11-10T22:06:29.962Z"
   },
   {
    "duration": 14,
    "start_time": "2024-11-10T22:06:30.014Z"
   },
   {
    "duration": 13,
    "start_time": "2024-11-10T22:06:30.030Z"
   },
   {
    "duration": 8,
    "start_time": "2024-11-10T22:06:30.045Z"
   },
   {
    "duration": 7,
    "start_time": "2024-11-10T22:06:30.055Z"
   },
   {
    "duration": 2,
    "start_time": "2024-11-10T22:06:30.064Z"
   },
   {
    "duration": 9,
    "start_time": "2024-11-10T22:06:30.068Z"
   },
   {
    "duration": 10,
    "start_time": "2024-11-10T22:06:30.108Z"
   },
   {
    "duration": 5,
    "start_time": "2024-11-10T22:06:30.120Z"
   },
   {
    "duration": 10,
    "start_time": "2024-11-10T22:06:30.127Z"
   },
   {
    "duration": 8,
    "start_time": "2024-11-10T22:06:30.141Z"
   },
   {
    "duration": 8,
    "start_time": "2024-11-10T22:06:30.151Z"
   },
   {
    "duration": 52,
    "start_time": "2024-11-10T22:06:30.161Z"
   },
   {
    "duration": 10,
    "start_time": "2024-11-10T22:06:30.215Z"
   },
   {
    "duration": 31,
    "start_time": "2024-11-10T22:06:30.227Z"
   },
   {
    "duration": 48,
    "start_time": "2024-11-10T22:06:30.260Z"
   },
   {
    "duration": 17,
    "start_time": "2024-11-10T22:06:30.310Z"
   },
   {
    "duration": 9,
    "start_time": "2024-11-10T22:06:30.329Z"
   },
   {
    "duration": 11,
    "start_time": "2024-11-10T22:06:30.339Z"
   },
   {
    "duration": 7,
    "start_time": "2024-11-10T22:06:30.352Z"
   },
   {
    "duration": 50,
    "start_time": "2024-11-10T22:06:30.361Z"
   },
   {
    "duration": 16,
    "start_time": "2024-11-10T22:06:30.413Z"
   },
   {
    "duration": 11,
    "start_time": "2024-11-10T22:06:30.431Z"
   },
   {
    "duration": 8,
    "start_time": "2024-11-10T22:06:30.443Z"
   },
   {
    "duration": 14,
    "start_time": "2024-11-10T22:06:30.452Z"
   },
   {
    "duration": 8,
    "start_time": "2024-11-10T22:06:30.468Z"
   },
   {
    "duration": 66,
    "start_time": "2024-11-10T22:06:30.477Z"
   },
   {
    "duration": 21,
    "start_time": "2024-11-10T22:06:30.544Z"
   },
   {
    "duration": 14,
    "start_time": "2024-11-10T22:06:30.567Z"
   },
   {
    "duration": 36,
    "start_time": "2024-11-10T22:06:30.582Z"
   },
   {
    "duration": 9,
    "start_time": "2024-11-10T22:06:30.619Z"
   },
   {
    "duration": 2956,
    "start_time": "2024-11-10T22:06:30.630Z"
   },
   {
    "duration": 500,
    "start_time": "2024-11-10T22:06:33.588Z"
   },
   {
    "duration": 0,
    "start_time": "2024-11-10T22:06:34.090Z"
   },
   {
    "duration": 0,
    "start_time": "2024-11-10T22:06:34.091Z"
   },
   {
    "duration": 0,
    "start_time": "2024-11-10T22:06:34.094Z"
   },
   {
    "duration": 0,
    "start_time": "2024-11-10T22:06:34.095Z"
   },
   {
    "duration": 0,
    "start_time": "2024-11-10T22:06:34.096Z"
   },
   {
    "duration": 0,
    "start_time": "2024-11-10T22:06:34.110Z"
   },
   {
    "duration": 0,
    "start_time": "2024-11-10T22:06:34.111Z"
   },
   {
    "duration": 0,
    "start_time": "2024-11-10T22:06:34.112Z"
   },
   {
    "duration": 0,
    "start_time": "2024-11-10T22:06:34.113Z"
   },
   {
    "duration": 0,
    "start_time": "2024-11-10T22:06:34.114Z"
   },
   {
    "duration": 0,
    "start_time": "2024-11-10T22:06:34.116Z"
   },
   {
    "duration": 0,
    "start_time": "2024-11-10T22:06:34.117Z"
   },
   {
    "duration": 0,
    "start_time": "2024-11-10T22:06:34.119Z"
   },
   {
    "duration": 431,
    "start_time": "2024-11-10T22:06:44.899Z"
   },
   {
    "duration": 431,
    "start_time": "2024-11-10T22:06:58.907Z"
   },
   {
    "duration": 437,
    "start_time": "2024-11-10T22:07:10.896Z"
   },
   {
    "duration": 422,
    "start_time": "2024-11-10T22:07:23.698Z"
   },
   {
    "duration": 14,
    "start_time": "2024-11-10T22:09:08.009Z"
   },
   {
    "duration": 239,
    "start_time": "2024-11-10T22:09:20.497Z"
   },
   {
    "duration": 417,
    "start_time": "2024-11-10T22:09:23.858Z"
   },
   {
    "duration": 233,
    "start_time": "2024-11-10T22:09:27.940Z"
   },
   {
    "duration": 13,
    "start_time": "2024-11-10T22:09:31.208Z"
   },
   {
    "duration": 3752,
    "start_time": "2024-11-10T22:10:56.596Z"
   },
   {
    "duration": 190,
    "start_time": "2024-11-10T22:12:21.335Z"
   },
   {
    "duration": 12,
    "start_time": "2024-11-10T22:12:47.568Z"
   },
   {
    "duration": 12,
    "start_time": "2024-11-10T22:13:55.086Z"
   },
   {
    "duration": 19,
    "start_time": "2024-11-10T22:14:09.490Z"
   },
   {
    "duration": 867,
    "start_time": "2024-11-10T22:14:15.246Z"
   },
   {
    "duration": 97,
    "start_time": "2024-11-10T22:14:16.115Z"
   },
   {
    "duration": 76,
    "start_time": "2024-11-10T22:14:16.214Z"
   },
   {
    "duration": 48,
    "start_time": "2024-11-10T22:14:16.292Z"
   },
   {
    "duration": 10,
    "start_time": "2024-11-10T22:14:16.342Z"
   },
   {
    "duration": 11,
    "start_time": "2024-11-10T22:14:16.353Z"
   },
   {
    "duration": 10,
    "start_time": "2024-11-10T22:14:16.365Z"
   },
   {
    "duration": 8,
    "start_time": "2024-11-10T22:14:16.377Z"
   },
   {
    "duration": 23,
    "start_time": "2024-11-10T22:14:16.386Z"
   },
   {
    "duration": 8,
    "start_time": "2024-11-10T22:14:16.413Z"
   },
   {
    "duration": 10,
    "start_time": "2024-11-10T22:14:16.422Z"
   },
   {
    "duration": 5,
    "start_time": "2024-11-10T22:14:16.433Z"
   },
   {
    "duration": 9,
    "start_time": "2024-11-10T22:14:16.440Z"
   },
   {
    "duration": 8,
    "start_time": "2024-11-10T22:14:16.451Z"
   },
   {
    "duration": 9,
    "start_time": "2024-11-10T22:14:16.461Z"
   },
   {
    "duration": 15,
    "start_time": "2024-11-10T22:14:16.509Z"
   },
   {
    "duration": 10,
    "start_time": "2024-11-10T22:14:16.525Z"
   },
   {
    "duration": 34,
    "start_time": "2024-11-10T22:14:16.536Z"
   },
   {
    "duration": 50,
    "start_time": "2024-11-10T22:14:16.572Z"
   },
   {
    "duration": 17,
    "start_time": "2024-11-10T22:14:16.623Z"
   },
   {
    "duration": 9,
    "start_time": "2024-11-10T22:14:16.642Z"
   },
   {
    "duration": 11,
    "start_time": "2024-11-10T22:14:16.653Z"
   },
   {
    "duration": 7,
    "start_time": "2024-11-10T22:14:16.666Z"
   },
   {
    "duration": 46,
    "start_time": "2024-11-10T22:14:16.675Z"
   },
   {
    "duration": 16,
    "start_time": "2024-11-10T22:14:16.723Z"
   },
   {
    "duration": 12,
    "start_time": "2024-11-10T22:14:16.740Z"
   },
   {
    "duration": 7,
    "start_time": "2024-11-10T22:14:16.754Z"
   },
   {
    "duration": 14,
    "start_time": "2024-11-10T22:14:16.765Z"
   },
   {
    "duration": 10,
    "start_time": "2024-11-10T22:14:16.809Z"
   },
   {
    "duration": 39,
    "start_time": "2024-11-10T22:14:16.820Z"
   },
   {
    "duration": 21,
    "start_time": "2024-11-10T22:14:16.861Z"
   },
   {
    "duration": 34,
    "start_time": "2024-11-10T22:14:16.884Z"
   },
   {
    "duration": 10,
    "start_time": "2024-11-10T22:14:16.920Z"
   },
   {
    "duration": 11,
    "start_time": "2024-11-10T22:14:16.931Z"
   },
   {
    "duration": 2853,
    "start_time": "2024-11-10T22:14:16.943Z"
   },
   {
    "duration": 448,
    "start_time": "2024-11-10T22:14:19.798Z"
   },
   {
    "duration": 238,
    "start_time": "2024-11-10T22:14:20.248Z"
   },
   {
    "duration": 426,
    "start_time": "2024-11-10T22:14:20.488Z"
   },
   {
    "duration": 243,
    "start_time": "2024-11-10T22:14:20.916Z"
   },
   {
    "duration": 13,
    "start_time": "2024-11-10T22:14:21.160Z"
   },
   {
    "duration": 3645,
    "start_time": "2024-11-10T22:14:21.175Z"
   },
   {
    "duration": 848,
    "start_time": "2024-11-10T22:14:52.922Z"
   },
   {
    "duration": 93,
    "start_time": "2024-11-10T22:14:53.773Z"
   },
   {
    "duration": 77,
    "start_time": "2024-11-10T22:14:53.868Z"
   },
   {
    "duration": 46,
    "start_time": "2024-11-10T22:14:53.947Z"
   },
   {
    "duration": 11,
    "start_time": "2024-11-10T22:14:53.997Z"
   },
   {
    "duration": 11,
    "start_time": "2024-11-10T22:14:54.009Z"
   },
   {
    "duration": 8,
    "start_time": "2024-11-10T22:14:54.022Z"
   },
   {
    "duration": 8,
    "start_time": "2024-11-10T22:14:54.031Z"
   },
   {
    "duration": 2,
    "start_time": "2024-11-10T22:14:54.040Z"
   },
   {
    "duration": 9,
    "start_time": "2024-11-10T22:14:54.044Z"
   },
   {
    "duration": 9,
    "start_time": "2024-11-10T22:14:54.054Z"
   },
   {
    "duration": 6,
    "start_time": "2024-11-10T22:14:54.064Z"
   },
   {
    "duration": 9,
    "start_time": "2024-11-10T22:14:54.109Z"
   },
   {
    "duration": 9,
    "start_time": "2024-11-10T22:14:54.122Z"
   },
   {
    "duration": 9,
    "start_time": "2024-11-10T22:14:54.132Z"
   },
   {
    "duration": 15,
    "start_time": "2024-11-10T22:14:54.142Z"
   },
   {
    "duration": 10,
    "start_time": "2024-11-10T22:14:54.158Z"
   },
   {
    "duration": 65,
    "start_time": "2024-11-10T22:14:54.170Z"
   },
   {
    "duration": 25,
    "start_time": "2024-11-10T22:14:54.237Z"
   },
   {
    "duration": 16,
    "start_time": "2024-11-10T22:14:54.264Z"
   },
   {
    "duration": 29,
    "start_time": "2024-11-10T22:14:54.282Z"
   },
   {
    "duration": 12,
    "start_time": "2024-11-10T22:14:54.312Z"
   },
   {
    "duration": 8,
    "start_time": "2024-11-10T22:14:54.325Z"
   },
   {
    "duration": 17,
    "start_time": "2024-11-10T22:14:54.334Z"
   },
   {
    "duration": 17,
    "start_time": "2024-11-10T22:14:54.352Z"
   },
   {
    "duration": 41,
    "start_time": "2024-11-10T22:14:54.370Z"
   },
   {
    "duration": 8,
    "start_time": "2024-11-10T22:14:54.412Z"
   },
   {
    "duration": 14,
    "start_time": "2024-11-10T22:14:54.422Z"
   },
   {
    "duration": 8,
    "start_time": "2024-11-10T22:14:54.437Z"
   },
   {
    "duration": 62,
    "start_time": "2024-11-10T22:14:54.447Z"
   },
   {
    "duration": 20,
    "start_time": "2024-11-10T22:14:54.512Z"
   },
   {
    "duration": 13,
    "start_time": "2024-11-10T22:14:54.534Z"
   },
   {
    "duration": 10,
    "start_time": "2024-11-10T22:14:54.549Z"
   },
   {
    "duration": 8,
    "start_time": "2024-11-10T22:14:54.562Z"
   },
   {
    "duration": 2852,
    "start_time": "2024-11-10T22:14:54.572Z"
   },
   {
    "duration": 438,
    "start_time": "2024-11-10T22:14:57.425Z"
   },
   {
    "duration": 244,
    "start_time": "2024-11-10T22:14:57.865Z"
   },
   {
    "duration": 432,
    "start_time": "2024-11-10T22:14:58.111Z"
   },
   {
    "duration": 235,
    "start_time": "2024-11-10T22:14:58.545Z"
   },
   {
    "duration": 13,
    "start_time": "2024-11-10T22:14:58.781Z"
   },
   {
    "duration": 3695,
    "start_time": "2024-11-10T22:14:58.810Z"
   },
   {
    "duration": 810,
    "start_time": "2024-11-10T22:23:22.864Z"
   },
   {
    "duration": 97,
    "start_time": "2024-11-10T22:23:23.676Z"
   },
   {
    "duration": 82,
    "start_time": "2024-11-10T22:23:23.775Z"
   },
   {
    "duration": 50,
    "start_time": "2024-11-10T22:23:23.859Z"
   },
   {
    "duration": 14,
    "start_time": "2024-11-10T22:23:23.911Z"
   },
   {
    "duration": 14,
    "start_time": "2024-11-10T22:23:23.926Z"
   },
   {
    "duration": 8,
    "start_time": "2024-11-10T22:23:23.942Z"
   },
   {
    "duration": 8,
    "start_time": "2024-11-10T22:23:23.951Z"
   },
   {
    "duration": 2,
    "start_time": "2024-11-10T22:23:23.960Z"
   },
   {
    "duration": 9,
    "start_time": "2024-11-10T22:23:23.965Z"
   },
   {
    "duration": 33,
    "start_time": "2024-11-10T22:23:23.976Z"
   },
   {
    "duration": 5,
    "start_time": "2024-11-10T22:23:24.011Z"
   },
   {
    "duration": 9,
    "start_time": "2024-11-10T22:23:24.017Z"
   },
   {
    "duration": 8,
    "start_time": "2024-11-10T22:23:24.029Z"
   },
   {
    "duration": 9,
    "start_time": "2024-11-10T22:23:24.039Z"
   },
   {
    "duration": 15,
    "start_time": "2024-11-10T22:23:24.049Z"
   },
   {
    "duration": 44,
    "start_time": "2024-11-10T22:23:24.066Z"
   },
   {
    "duration": 34,
    "start_time": "2024-11-10T22:23:24.111Z"
   },
   {
    "duration": 27,
    "start_time": "2024-11-10T22:23:24.147Z"
   },
   {
    "duration": 37,
    "start_time": "2024-11-10T22:23:24.176Z"
   },
   {
    "duration": 9,
    "start_time": "2024-11-10T22:23:24.215Z"
   },
   {
    "duration": 12,
    "start_time": "2024-11-10T22:23:24.225Z"
   },
   {
    "duration": 8,
    "start_time": "2024-11-10T22:23:24.239Z"
   },
   {
    "duration": 18,
    "start_time": "2024-11-10T22:23:24.248Z"
   },
   {
    "duration": 44,
    "start_time": "2024-11-10T22:23:24.268Z"
   },
   {
    "duration": 13,
    "start_time": "2024-11-10T22:23:24.314Z"
   },
   {
    "duration": 8,
    "start_time": "2024-11-10T22:23:24.329Z"
   },
   {
    "duration": 13,
    "start_time": "2024-11-10T22:23:24.338Z"
   },
   {
    "duration": 8,
    "start_time": "2024-11-10T22:23:24.353Z"
   },
   {
    "duration": 72,
    "start_time": "2024-11-10T22:23:24.363Z"
   },
   {
    "duration": 20,
    "start_time": "2024-11-10T22:23:24.436Z"
   },
   {
    "duration": 14,
    "start_time": "2024-11-10T22:23:24.457Z"
   },
   {
    "duration": 8,
    "start_time": "2024-11-10T22:23:24.473Z"
   },
   {
    "duration": 30,
    "start_time": "2024-11-10T22:23:24.484Z"
   },
   {
    "duration": 2808,
    "start_time": "2024-11-10T22:23:24.516Z"
   },
   {
    "duration": 453,
    "start_time": "2024-11-10T22:23:27.326Z"
   },
   {
    "duration": 329,
    "start_time": "2024-11-10T22:23:27.781Z"
   },
   {
    "duration": 679,
    "start_time": "2024-11-10T22:23:28.112Z"
   },
   {
    "duration": 234,
    "start_time": "2024-11-10T22:23:28.793Z"
   },
   {
    "duration": 14,
    "start_time": "2024-11-10T22:23:29.028Z"
   },
   {
    "duration": 3681,
    "start_time": "2024-11-10T22:23:29.046Z"
   },
   {
    "duration": 160,
    "start_time": "2024-11-10T22:23:55.898Z"
   },
   {
    "duration": 826,
    "start_time": "2024-11-10T22:24:00.232Z"
   },
   {
    "duration": 155,
    "start_time": "2024-11-10T22:24:01.060Z"
   },
   {
    "duration": 79,
    "start_time": "2024-11-10T22:24:01.217Z"
   },
   {
    "duration": 46,
    "start_time": "2024-11-10T22:24:01.297Z"
   },
   {
    "duration": 11,
    "start_time": "2024-11-10T22:24:01.347Z"
   },
   {
    "duration": 14,
    "start_time": "2024-11-10T22:24:01.359Z"
   },
   {
    "duration": 9,
    "start_time": "2024-11-10T22:24:01.374Z"
   },
   {
    "duration": 24,
    "start_time": "2024-11-10T22:24:01.385Z"
   },
   {
    "duration": 3,
    "start_time": "2024-11-10T22:24:01.411Z"
   },
   {
    "duration": 9,
    "start_time": "2024-11-10T22:24:01.416Z"
   },
   {
    "duration": 10,
    "start_time": "2024-11-10T22:24:01.426Z"
   },
   {
    "duration": 5,
    "start_time": "2024-11-10T22:24:01.438Z"
   },
   {
    "duration": 8,
    "start_time": "2024-11-10T22:24:01.445Z"
   },
   {
    "duration": 9,
    "start_time": "2024-11-10T22:24:01.456Z"
   },
   {
    "duration": 42,
    "start_time": "2024-11-10T22:24:01.467Z"
   },
   {
    "duration": 15,
    "start_time": "2024-11-10T22:24:01.510Z"
   },
   {
    "duration": 10,
    "start_time": "2024-11-10T22:24:01.526Z"
   },
   {
    "duration": 32,
    "start_time": "2024-11-10T22:24:01.538Z"
   },
   {
    "duration": 51,
    "start_time": "2024-11-10T22:24:01.571Z"
   },
   {
    "duration": 18,
    "start_time": "2024-11-10T22:24:01.624Z"
   },
   {
    "duration": 8,
    "start_time": "2024-11-10T22:24:01.644Z"
   },
   {
    "duration": 11,
    "start_time": "2024-11-10T22:24:01.654Z"
   },
   {
    "duration": 9,
    "start_time": "2024-11-10T22:24:01.667Z"
   },
   {
    "duration": 48,
    "start_time": "2024-11-10T22:24:01.678Z"
   },
   {
    "duration": 17,
    "start_time": "2024-11-10T22:24:01.729Z"
   },
   {
    "duration": 13,
    "start_time": "2024-11-10T22:24:01.748Z"
   },
   {
    "duration": 9,
    "start_time": "2024-11-10T22:24:01.763Z"
   },
   {
    "duration": 43,
    "start_time": "2024-11-10T22:24:01.774Z"
   },
   {
    "duration": 9,
    "start_time": "2024-11-10T22:24:01.819Z"
   },
   {
    "duration": 36,
    "start_time": "2024-11-10T22:24:01.829Z"
   },
   {
    "duration": 42,
    "start_time": "2024-11-10T22:24:01.867Z"
   },
   {
    "duration": 13,
    "start_time": "2024-11-10T22:24:01.910Z"
   },
   {
    "duration": 10,
    "start_time": "2024-11-10T22:24:01.925Z"
   },
   {
    "duration": 8,
    "start_time": "2024-11-10T22:24:01.937Z"
   },
   {
    "duration": 2829,
    "start_time": "2024-11-10T22:24:01.947Z"
   },
   {
    "duration": 426,
    "start_time": "2024-11-10T22:24:04.778Z"
   },
   {
    "duration": 233,
    "start_time": "2024-11-10T22:24:05.209Z"
   },
   {
    "duration": 666,
    "start_time": "2024-11-10T22:24:05.443Z"
   },
   {
    "duration": 383,
    "start_time": "2024-11-10T22:24:06.111Z"
   },
   {
    "duration": 20,
    "start_time": "2024-11-10T22:24:06.496Z"
   },
   {
    "duration": 3736,
    "start_time": "2024-11-10T22:24:06.521Z"
   },
   {
    "duration": 160,
    "start_time": "2024-11-10T22:24:19.503Z"
   },
   {
    "duration": 828,
    "start_time": "2024-11-10T22:24:23.517Z"
   },
   {
    "duration": 144,
    "start_time": "2024-11-10T22:24:24.347Z"
   },
   {
    "duration": 79,
    "start_time": "2024-11-10T22:24:24.493Z"
   },
   {
    "duration": 47,
    "start_time": "2024-11-10T22:24:24.575Z"
   },
   {
    "duration": 11,
    "start_time": "2024-11-10T22:24:24.625Z"
   },
   {
    "duration": 12,
    "start_time": "2024-11-10T22:24:24.637Z"
   },
   {
    "duration": 9,
    "start_time": "2024-11-10T22:24:24.650Z"
   },
   {
    "duration": 8,
    "start_time": "2024-11-10T22:24:24.661Z"
   },
   {
    "duration": 2,
    "start_time": "2024-11-10T22:24:24.671Z"
   },
   {
    "duration": 36,
    "start_time": "2024-11-10T22:24:24.675Z"
   },
   {
    "duration": 9,
    "start_time": "2024-11-10T22:24:24.712Z"
   },
   {
    "duration": 6,
    "start_time": "2024-11-10T22:24:24.723Z"
   },
   {
    "duration": 9,
    "start_time": "2024-11-10T22:24:24.730Z"
   },
   {
    "duration": 8,
    "start_time": "2024-11-10T22:24:24.744Z"
   },
   {
    "duration": 8,
    "start_time": "2024-11-10T22:24:24.754Z"
   },
   {
    "duration": 52,
    "start_time": "2024-11-10T22:24:24.764Z"
   },
   {
    "duration": 10,
    "start_time": "2024-11-10T22:24:24.818Z"
   },
   {
    "duration": 33,
    "start_time": "2024-11-10T22:24:24.829Z"
   },
   {
    "duration": 51,
    "start_time": "2024-11-10T22:24:24.864Z"
   },
   {
    "duration": 17,
    "start_time": "2024-11-10T22:24:24.917Z"
   },
   {
    "duration": 8,
    "start_time": "2024-11-10T22:24:24.935Z"
   },
   {
    "duration": 11,
    "start_time": "2024-11-10T22:24:24.945Z"
   },
   {
    "duration": 7,
    "start_time": "2024-11-10T22:24:24.958Z"
   },
   {
    "duration": 43,
    "start_time": "2024-11-10T22:24:24.967Z"
   },
   {
    "duration": 16,
    "start_time": "2024-11-10T22:24:25.013Z"
   },
   {
    "duration": 12,
    "start_time": "2024-11-10T22:24:25.031Z"
   },
   {
    "duration": 7,
    "start_time": "2024-11-10T22:24:25.045Z"
   },
   {
    "duration": 13,
    "start_time": "2024-11-10T22:24:25.054Z"
   },
   {
    "duration": 40,
    "start_time": "2024-11-10T22:24:25.069Z"
   },
   {
    "duration": 37,
    "start_time": "2024-11-10T22:24:25.110Z"
   },
   {
    "duration": 22,
    "start_time": "2024-11-10T22:24:25.149Z"
   },
   {
    "duration": 13,
    "start_time": "2024-11-10T22:24:25.173Z"
   },
   {
    "duration": 30,
    "start_time": "2024-11-10T22:24:25.187Z"
   },
   {
    "duration": 8,
    "start_time": "2024-11-10T22:24:25.219Z"
   },
   {
    "duration": 2844,
    "start_time": "2024-11-10T22:24:25.229Z"
   },
   {
    "duration": 438,
    "start_time": "2024-11-10T22:24:28.075Z"
   },
   {
    "duration": 264,
    "start_time": "2024-11-10T22:24:28.515Z"
   },
   {
    "duration": 491,
    "start_time": "2024-11-10T22:24:28.780Z"
   },
   {
    "duration": 238,
    "start_time": "2024-11-10T22:24:29.273Z"
   },
   {
    "duration": 14,
    "start_time": "2024-11-10T22:24:29.513Z"
   },
   {
    "duration": 3660,
    "start_time": "2024-11-10T22:24:29.533Z"
   },
   {
    "duration": 860,
    "start_time": "2024-11-10T22:26:12.624Z"
   },
   {
    "duration": 95,
    "start_time": "2024-11-10T22:26:13.487Z"
   },
   {
    "duration": 81,
    "start_time": "2024-11-10T22:26:13.584Z"
   },
   {
    "duration": 47,
    "start_time": "2024-11-10T22:26:13.667Z"
   },
   {
    "duration": 9,
    "start_time": "2024-11-10T22:26:13.717Z"
   },
   {
    "duration": 11,
    "start_time": "2024-11-10T22:26:13.727Z"
   },
   {
    "duration": 33,
    "start_time": "2024-11-10T22:26:13.739Z"
   },
   {
    "duration": 39,
    "start_time": "2024-11-10T22:26:13.773Z"
   },
   {
    "duration": 36,
    "start_time": "2024-11-10T22:26:13.813Z"
   },
   {
    "duration": 46,
    "start_time": "2024-11-10T22:26:13.851Z"
   },
   {
    "duration": 18,
    "start_time": "2024-11-10T22:26:13.899Z"
   },
   {
    "duration": 11,
    "start_time": "2024-11-10T22:26:13.919Z"
   },
   {
    "duration": 10,
    "start_time": "2024-11-10T22:26:13.932Z"
   },
   {
    "duration": 8,
    "start_time": "2024-11-10T22:26:13.945Z"
   },
   {
    "duration": 10,
    "start_time": "2024-11-10T22:26:13.954Z"
   },
   {
    "duration": 15,
    "start_time": "2024-11-10T22:26:13.966Z"
   },
   {
    "duration": 30,
    "start_time": "2024-11-10T22:26:13.983Z"
   },
   {
    "duration": 33,
    "start_time": "2024-11-10T22:26:14.015Z"
   },
   {
    "duration": 26,
    "start_time": "2024-11-10T22:26:14.050Z"
   },
   {
    "duration": 40,
    "start_time": "2024-11-10T22:26:14.078Z"
   },
   {
    "duration": 8,
    "start_time": "2024-11-10T22:26:14.121Z"
   },
   {
    "duration": 11,
    "start_time": "2024-11-10T22:26:14.130Z"
   },
   {
    "duration": 7,
    "start_time": "2024-11-10T22:26:14.143Z"
   },
   {
    "duration": 16,
    "start_time": "2024-11-10T22:26:14.152Z"
   },
   {
    "duration": 44,
    "start_time": "2024-11-10T22:26:14.170Z"
   },
   {
    "duration": 13,
    "start_time": "2024-11-10T22:26:14.216Z"
   },
   {
    "duration": 7,
    "start_time": "2024-11-10T22:26:14.231Z"
   },
   {
    "duration": 13,
    "start_time": "2024-11-10T22:26:14.239Z"
   },
   {
    "duration": 8,
    "start_time": "2024-11-10T22:26:14.254Z"
   },
   {
    "duration": 73,
    "start_time": "2024-11-10T22:26:14.263Z"
   },
   {
    "duration": 21,
    "start_time": "2024-11-10T22:26:14.337Z"
   },
   {
    "duration": 15,
    "start_time": "2024-11-10T22:26:14.360Z"
   },
   {
    "duration": 13,
    "start_time": "2024-11-10T22:26:14.376Z"
   },
   {
    "duration": 8,
    "start_time": "2024-11-10T22:26:14.409Z"
   },
   {
    "duration": 2795,
    "start_time": "2024-11-10T22:26:14.419Z"
   },
   {
    "duration": 463,
    "start_time": "2024-11-10T22:26:17.216Z"
   },
   {
    "duration": 255,
    "start_time": "2024-11-10T22:26:17.681Z"
   },
   {
    "duration": 429,
    "start_time": "2024-11-10T22:26:17.938Z"
   },
   {
    "duration": 236,
    "start_time": "2024-11-10T22:26:18.368Z"
   },
   {
    "duration": 14,
    "start_time": "2024-11-10T22:26:18.606Z"
   },
   {
    "duration": 3652,
    "start_time": "2024-11-10T22:26:18.625Z"
   },
   {
    "duration": 158,
    "start_time": "2024-11-10T22:26:35.958Z"
   },
   {
    "duration": 835,
    "start_time": "2024-11-10T22:27:25.616Z"
   },
   {
    "duration": 93,
    "start_time": "2024-11-10T22:27:26.453Z"
   },
   {
    "duration": 76,
    "start_time": "2024-11-10T22:27:26.548Z"
   },
   {
    "duration": 46,
    "start_time": "2024-11-10T22:27:26.627Z"
   },
   {
    "duration": 10,
    "start_time": "2024-11-10T22:27:26.675Z"
   },
   {
    "duration": 11,
    "start_time": "2024-11-10T22:27:26.687Z"
   },
   {
    "duration": 13,
    "start_time": "2024-11-10T22:27:26.699Z"
   },
   {
    "duration": 7,
    "start_time": "2024-11-10T22:27:26.714Z"
   },
   {
    "duration": 4,
    "start_time": "2024-11-10T22:27:26.723Z"
   },
   {
    "duration": 8,
    "start_time": "2024-11-10T22:27:26.731Z"
   },
   {
    "duration": 9,
    "start_time": "2024-11-10T22:27:26.741Z"
   },
   {
    "duration": 8,
    "start_time": "2024-11-10T22:27:26.751Z"
   },
   {
    "duration": 10,
    "start_time": "2024-11-10T22:27:26.760Z"
   },
   {
    "duration": 44,
    "start_time": "2024-11-10T22:27:26.771Z"
   },
   {
    "duration": 9,
    "start_time": "2024-11-10T22:27:26.817Z"
   },
   {
    "duration": 14,
    "start_time": "2024-11-10T22:27:26.828Z"
   },
   {
    "duration": 9,
    "start_time": "2024-11-10T22:27:26.844Z"
   },
   {
    "duration": 62,
    "start_time": "2024-11-10T22:27:26.855Z"
   },
   {
    "duration": 25,
    "start_time": "2024-11-10T22:27:26.919Z"
   },
   {
    "duration": 16,
    "start_time": "2024-11-10T22:27:26.946Z"
   },
   {
    "duration": 9,
    "start_time": "2024-11-10T22:27:26.964Z"
   },
   {
    "duration": 36,
    "start_time": "2024-11-10T22:27:26.975Z"
   },
   {
    "duration": 8,
    "start_time": "2024-11-10T22:27:27.012Z"
   },
   {
    "duration": 16,
    "start_time": "2024-11-10T22:27:27.021Z"
   },
   {
    "duration": 17,
    "start_time": "2024-11-10T22:27:27.039Z"
   },
   {
    "duration": 13,
    "start_time": "2024-11-10T22:27:27.057Z"
   },
   {
    "duration": 40,
    "start_time": "2024-11-10T22:27:27.072Z"
   },
   {
    "duration": 13,
    "start_time": "2024-11-10T22:27:27.116Z"
   },
   {
    "duration": 9,
    "start_time": "2024-11-10T22:27:27.130Z"
   },
   {
    "duration": 41,
    "start_time": "2024-11-10T22:27:27.142Z"
   },
   {
    "duration": 43,
    "start_time": "2024-11-10T22:27:27.186Z"
   },
   {
    "duration": 13,
    "start_time": "2024-11-10T22:27:27.231Z"
   },
   {
    "duration": 8,
    "start_time": "2024-11-10T22:27:27.246Z"
   },
   {
    "duration": 8,
    "start_time": "2024-11-10T22:27:27.256Z"
   },
   {
    "duration": 2843,
    "start_time": "2024-11-10T22:27:27.266Z"
   },
   {
    "duration": 533,
    "start_time": "2024-11-10T22:27:30.111Z"
   },
   {
    "duration": 463,
    "start_time": "2024-11-10T22:27:30.645Z"
   },
   {
    "duration": 422,
    "start_time": "2024-11-10T22:27:31.111Z"
   },
   {
    "duration": 234,
    "start_time": "2024-11-10T22:27:31.535Z"
   },
   {
    "duration": 13,
    "start_time": "2024-11-10T22:27:31.771Z"
   },
   {
    "duration": 3671,
    "start_time": "2024-11-10T22:27:31.786Z"
   },
   {
    "duration": 166,
    "start_time": "2024-11-10T22:29:37.673Z"
   },
   {
    "duration": 819,
    "start_time": "2024-11-10T22:29:42.267Z"
   },
   {
    "duration": 146,
    "start_time": "2024-11-10T22:29:43.088Z"
   },
   {
    "duration": 76,
    "start_time": "2024-11-10T22:29:43.236Z"
   },
   {
    "duration": 47,
    "start_time": "2024-11-10T22:29:43.314Z"
   },
   {
    "duration": 12,
    "start_time": "2024-11-10T22:29:43.363Z"
   },
   {
    "duration": 12,
    "start_time": "2024-11-10T22:29:43.377Z"
   },
   {
    "duration": 9,
    "start_time": "2024-11-10T22:29:43.391Z"
   },
   {
    "duration": 8,
    "start_time": "2024-11-10T22:29:43.409Z"
   },
   {
    "duration": 2,
    "start_time": "2024-11-10T22:29:43.419Z"
   },
   {
    "duration": 9,
    "start_time": "2024-11-10T22:29:43.423Z"
   },
   {
    "duration": 9,
    "start_time": "2024-11-10T22:29:43.433Z"
   },
   {
    "duration": 5,
    "start_time": "2024-11-10T22:29:43.443Z"
   },
   {
    "duration": 8,
    "start_time": "2024-11-10T22:29:43.451Z"
   },
   {
    "duration": 50,
    "start_time": "2024-11-10T22:29:43.464Z"
   },
   {
    "duration": 8,
    "start_time": "2024-11-10T22:29:43.516Z"
   },
   {
    "duration": 15,
    "start_time": "2024-11-10T22:29:43.526Z"
   },
   {
    "duration": 10,
    "start_time": "2024-11-10T22:29:43.542Z"
   },
   {
    "duration": 57,
    "start_time": "2024-11-10T22:29:43.553Z"
   },
   {
    "duration": 26,
    "start_time": "2024-11-10T22:29:43.611Z"
   },
   {
    "duration": 16,
    "start_time": "2024-11-10T22:29:43.639Z"
   },
   {
    "duration": 9,
    "start_time": "2024-11-10T22:29:43.657Z"
   },
   {
    "duration": 12,
    "start_time": "2024-11-10T22:29:43.668Z"
   },
   {
    "duration": 36,
    "start_time": "2024-11-10T22:29:43.681Z"
   },
   {
    "duration": 15,
    "start_time": "2024-11-10T22:29:43.719Z"
   },
   {
    "duration": 17,
    "start_time": "2024-11-10T22:29:43.736Z"
   },
   {
    "duration": 12,
    "start_time": "2024-11-10T22:29:43.754Z"
   },
   {
    "duration": 42,
    "start_time": "2024-11-10T22:29:43.768Z"
   },
   {
    "duration": 17,
    "start_time": "2024-11-10T22:29:43.812Z"
   },
   {
    "duration": 12,
    "start_time": "2024-11-10T22:29:43.831Z"
   },
   {
    "duration": 67,
    "start_time": "2024-11-10T22:29:43.845Z"
   },
   {
    "duration": 21,
    "start_time": "2024-11-10T22:29:43.914Z"
   },
   {
    "duration": 14,
    "start_time": "2024-11-10T22:29:43.936Z"
   },
   {
    "duration": 10,
    "start_time": "2024-11-10T22:29:43.952Z"
   },
   {
    "duration": 8,
    "start_time": "2024-11-10T22:29:43.963Z"
   },
   {
    "duration": 2837,
    "start_time": "2024-11-10T22:29:43.973Z"
   },
   {
    "duration": 452,
    "start_time": "2024-11-10T22:29:46.812Z"
   },
   {
    "duration": 254,
    "start_time": "2024-11-10T22:29:47.266Z"
   },
   {
    "duration": 447,
    "start_time": "2024-11-10T22:29:47.523Z"
   },
   {
    "duration": 238,
    "start_time": "2024-11-10T22:29:47.972Z"
   },
   {
    "duration": 12,
    "start_time": "2024-11-10T22:29:48.212Z"
   },
   {
    "duration": 3685,
    "start_time": "2024-11-10T22:29:48.228Z"
   },
   {
    "duration": 156,
    "start_time": "2024-11-10T22:30:06.054Z"
   },
   {
    "duration": 11,
    "start_time": "2024-11-10T22:30:25.135Z"
   },
   {
    "duration": 843,
    "start_time": "2024-11-10T22:30:32.714Z"
   },
   {
    "duration": 142,
    "start_time": "2024-11-10T22:30:33.559Z"
   },
   {
    "duration": 83,
    "start_time": "2024-11-10T22:30:33.703Z"
   },
   {
    "duration": 49,
    "start_time": "2024-11-10T22:30:33.788Z"
   },
   {
    "duration": 10,
    "start_time": "2024-11-10T22:30:33.838Z"
   },
   {
    "duration": 11,
    "start_time": "2024-11-10T22:30:33.850Z"
   },
   {
    "duration": 9,
    "start_time": "2024-11-10T22:30:33.863Z"
   },
   {
    "duration": 7,
    "start_time": "2024-11-10T22:30:33.874Z"
   },
   {
    "duration": 27,
    "start_time": "2024-11-10T22:30:33.882Z"
   },
   {
    "duration": 8,
    "start_time": "2024-11-10T22:30:33.913Z"
   },
   {
    "duration": 9,
    "start_time": "2024-11-10T22:30:33.922Z"
   },
   {
    "duration": 4,
    "start_time": "2024-11-10T22:30:33.933Z"
   },
   {
    "duration": 8,
    "start_time": "2024-11-10T22:30:33.939Z"
   },
   {
    "duration": 9,
    "start_time": "2024-11-10T22:30:33.949Z"
   },
   {
    "duration": 10,
    "start_time": "2024-11-10T22:30:33.960Z"
   },
   {
    "duration": 51,
    "start_time": "2024-11-10T22:30:33.972Z"
   },
   {
    "duration": 10,
    "start_time": "2024-11-10T22:30:34.025Z"
   },
   {
    "duration": 36,
    "start_time": "2024-11-10T22:30:34.037Z"
   },
   {
    "duration": 49,
    "start_time": "2024-11-10T22:30:34.075Z"
   },
   {
    "duration": 16,
    "start_time": "2024-11-10T22:30:34.126Z"
   },
   {
    "duration": 9,
    "start_time": "2024-11-10T22:30:34.144Z"
   },
   {
    "duration": 11,
    "start_time": "2024-11-10T22:30:34.154Z"
   },
   {
    "duration": 8,
    "start_time": "2024-11-10T22:30:34.167Z"
   },
   {
    "duration": 47,
    "start_time": "2024-11-10T22:30:34.177Z"
   },
   {
    "duration": 17,
    "start_time": "2024-11-10T22:30:34.226Z"
   },
   {
    "duration": 12,
    "start_time": "2024-11-10T22:30:34.244Z"
   },
   {
    "duration": 7,
    "start_time": "2024-11-10T22:30:34.258Z"
   },
   {
    "duration": 39,
    "start_time": "2024-11-10T22:30:34.271Z"
   },
   {
    "duration": 9,
    "start_time": "2024-11-10T22:30:34.312Z"
   },
   {
    "duration": 38,
    "start_time": "2024-11-10T22:30:34.323Z"
   },
   {
    "duration": 22,
    "start_time": "2024-11-10T22:30:34.362Z"
   },
   {
    "duration": 12,
    "start_time": "2024-11-10T22:30:34.409Z"
   },
   {
    "duration": 9,
    "start_time": "2024-11-10T22:30:34.423Z"
   },
   {
    "duration": 8,
    "start_time": "2024-11-10T22:30:34.434Z"
   },
   {
    "duration": 19,
    "start_time": "2024-11-10T22:30:34.444Z"
   },
   {
    "duration": 9,
    "start_time": "2024-11-10T22:30:34.466Z"
   },
   {
    "duration": 38,
    "start_time": "2024-11-10T22:30:34.476Z"
   },
   {
    "duration": 181,
    "start_time": "2024-11-10T22:30:34.516Z"
   },
   {
    "duration": 0,
    "start_time": "2024-11-10T22:30:34.699Z"
   },
   {
    "duration": 0,
    "start_time": "2024-11-10T22:30:34.700Z"
   },
   {
    "duration": 0,
    "start_time": "2024-11-10T22:30:34.701Z"
   },
   {
    "duration": 0,
    "start_time": "2024-11-10T22:30:34.702Z"
   },
   {
    "duration": 0,
    "start_time": "2024-11-10T22:30:34.702Z"
   },
   {
    "duration": 0,
    "start_time": "2024-11-10T22:30:34.703Z"
   },
   {
    "duration": 0,
    "start_time": "2024-11-10T22:30:34.703Z"
   },
   {
    "duration": 0,
    "start_time": "2024-11-10T22:30:34.708Z"
   },
   {
    "duration": 0,
    "start_time": "2024-11-10T22:30:34.710Z"
   },
   {
    "duration": 0,
    "start_time": "2024-11-10T22:30:34.710Z"
   },
   {
    "duration": 0,
    "start_time": "2024-11-10T22:30:34.712Z"
   },
   {
    "duration": 0,
    "start_time": "2024-11-10T22:30:34.713Z"
   },
   {
    "duration": 45,
    "start_time": "2024-11-10T22:30:49.252Z"
   },
   {
    "duration": 1546,
    "start_time": "2024-11-10T22:31:11.620Z"
   },
   {
    "duration": 168,
    "start_time": "2024-11-10T22:31:16.956Z"
   },
   {
    "duration": 11,
    "start_time": "2024-11-10T22:31:36.011Z"
   },
   {
    "duration": 820,
    "start_time": "2024-11-10T22:31:38.521Z"
   },
   {
    "duration": 143,
    "start_time": "2024-11-10T22:31:39.343Z"
   },
   {
    "duration": 80,
    "start_time": "2024-11-10T22:31:39.488Z"
   },
   {
    "duration": 49,
    "start_time": "2024-11-10T22:31:39.569Z"
   },
   {
    "duration": 12,
    "start_time": "2024-11-10T22:31:39.620Z"
   },
   {
    "duration": 11,
    "start_time": "2024-11-10T22:31:39.633Z"
   },
   {
    "duration": 9,
    "start_time": "2024-11-10T22:31:39.645Z"
   },
   {
    "duration": 45,
    "start_time": "2024-11-10T22:31:39.655Z"
   },
   {
    "duration": 33,
    "start_time": "2024-11-10T22:31:39.701Z"
   },
   {
    "duration": 39,
    "start_time": "2024-11-10T22:31:39.736Z"
   },
   {
    "duration": 35,
    "start_time": "2024-11-10T22:31:39.777Z"
   },
   {
    "duration": 15,
    "start_time": "2024-11-10T22:31:39.814Z"
   },
   {
    "duration": 13,
    "start_time": "2024-11-10T22:31:39.830Z"
   },
   {
    "duration": 10,
    "start_time": "2024-11-10T22:31:39.847Z"
   },
   {
    "duration": 9,
    "start_time": "2024-11-10T22:31:39.859Z"
   },
   {
    "duration": 14,
    "start_time": "2024-11-10T22:31:39.870Z"
   },
   {
    "duration": 9,
    "start_time": "2024-11-10T22:31:39.886Z"
   },
   {
    "duration": 43,
    "start_time": "2024-11-10T22:31:39.896Z"
   },
   {
    "duration": 25,
    "start_time": "2024-11-10T22:31:39.940Z"
   },
   {
    "duration": 17,
    "start_time": "2024-11-10T22:31:39.967Z"
   },
   {
    "duration": 29,
    "start_time": "2024-11-10T22:31:39.986Z"
   },
   {
    "duration": 12,
    "start_time": "2024-11-10T22:31:40.017Z"
   },
   {
    "duration": 7,
    "start_time": "2024-11-10T22:31:40.030Z"
   },
   {
    "duration": 17,
    "start_time": "2024-11-10T22:31:40.039Z"
   },
   {
    "duration": 16,
    "start_time": "2024-11-10T22:31:40.058Z"
   },
   {
    "duration": 12,
    "start_time": "2024-11-10T22:31:40.108Z"
   },
   {
    "duration": 8,
    "start_time": "2024-11-10T22:31:40.121Z"
   },
   {
    "duration": 13,
    "start_time": "2024-11-10T22:31:40.130Z"
   },
   {
    "duration": 7,
    "start_time": "2024-11-10T22:31:40.145Z"
   },
   {
    "duration": 64,
    "start_time": "2024-11-10T22:31:40.154Z"
   },
   {
    "duration": 21,
    "start_time": "2024-11-10T22:31:40.220Z"
   },
   {
    "duration": 13,
    "start_time": "2024-11-10T22:31:40.242Z"
   },
   {
    "duration": 10,
    "start_time": "2024-11-10T22:31:40.257Z"
   },
   {
    "duration": 8,
    "start_time": "2024-11-10T22:31:40.268Z"
   },
   {
    "duration": 48,
    "start_time": "2024-11-10T22:31:40.278Z"
   },
   {
    "duration": 46,
    "start_time": "2024-11-10T22:31:40.327Z"
   },
   {
    "duration": 1142,
    "start_time": "2024-11-10T22:31:40.375Z"
   },
   {
    "duration": 1583,
    "start_time": "2024-11-10T22:31:41.519Z"
   },
   {
    "duration": 12,
    "start_time": "2024-11-10T22:31:43.104Z"
   },
   {
    "duration": 430,
    "start_time": "2024-11-10T22:31:43.118Z"
   },
   {
    "duration": 237,
    "start_time": "2024-11-10T22:31:43.552Z"
   },
   {
    "duration": 429,
    "start_time": "2024-11-10T22:31:43.791Z"
   },
   {
    "duration": 249,
    "start_time": "2024-11-10T22:31:44.222Z"
   },
   {
    "duration": 12,
    "start_time": "2024-11-10T22:31:44.473Z"
   },
   {
    "duration": 3705,
    "start_time": "2024-11-10T22:31:44.487Z"
   },
   {
    "duration": 174,
    "start_time": "2024-11-10T22:31:55.955Z"
   },
   {
    "duration": 0,
    "start_time": "2024-11-10T22:31:56.131Z"
   },
   {
    "duration": 12,
    "start_time": "2024-11-10T22:32:07.982Z"
   },
   {
    "duration": 12,
    "start_time": "2024-11-10T22:32:13.154Z"
   },
   {
    "duration": 862,
    "start_time": "2024-11-10T22:32:22.228Z"
   },
   {
    "duration": 94,
    "start_time": "2024-11-10T22:32:23.092Z"
   },
   {
    "duration": 79,
    "start_time": "2024-11-10T22:32:23.188Z"
   },
   {
    "duration": 46,
    "start_time": "2024-11-10T22:32:23.269Z"
   },
   {
    "duration": 10,
    "start_time": "2024-11-10T22:32:23.319Z"
   },
   {
    "duration": 12,
    "start_time": "2024-11-10T22:32:23.330Z"
   },
   {
    "duration": 8,
    "start_time": "2024-11-10T22:32:23.344Z"
   },
   {
    "duration": 12,
    "start_time": "2024-11-10T22:32:23.354Z"
   },
   {
    "duration": 2,
    "start_time": "2024-11-10T22:32:23.371Z"
   },
   {
    "duration": 10,
    "start_time": "2024-11-10T22:32:23.375Z"
   },
   {
    "duration": 9,
    "start_time": "2024-11-10T22:32:23.409Z"
   },
   {
    "duration": 5,
    "start_time": "2024-11-10T22:32:23.420Z"
   },
   {
    "duration": 9,
    "start_time": "2024-11-10T22:32:23.427Z"
   },
   {
    "duration": 8,
    "start_time": "2024-11-10T22:32:23.441Z"
   },
   {
    "duration": 8,
    "start_time": "2024-11-10T22:32:23.451Z"
   },
   {
    "duration": 54,
    "start_time": "2024-11-10T22:32:23.460Z"
   },
   {
    "duration": 9,
    "start_time": "2024-11-10T22:32:23.516Z"
   },
   {
    "duration": 32,
    "start_time": "2024-11-10T22:32:23.527Z"
   },
   {
    "duration": 26,
    "start_time": "2024-11-10T22:32:23.561Z"
   },
   {
    "duration": 17,
    "start_time": "2024-11-10T22:32:23.609Z"
   },
   {
    "duration": 9,
    "start_time": "2024-11-10T22:32:23.628Z"
   },
   {
    "duration": 12,
    "start_time": "2024-11-10T22:32:23.638Z"
   },
   {
    "duration": 7,
    "start_time": "2024-11-10T22:32:23.652Z"
   },
   {
    "duration": 15,
    "start_time": "2024-11-10T22:32:23.661Z"
   },
   {
    "duration": 16,
    "start_time": "2024-11-10T22:32:23.709Z"
   },
   {
    "duration": 13,
    "start_time": "2024-11-10T22:32:23.727Z"
   },
   {
    "duration": 8,
    "start_time": "2024-11-10T22:32:23.741Z"
   },
   {
    "duration": 14,
    "start_time": "2024-11-10T22:32:23.751Z"
   },
   {
    "duration": 9,
    "start_time": "2024-11-10T22:32:23.767Z"
   },
   {
    "duration": 39,
    "start_time": "2024-11-10T22:32:23.808Z"
   },
   {
    "duration": 21,
    "start_time": "2024-11-10T22:32:23.849Z"
   },
   {
    "duration": 14,
    "start_time": "2024-11-10T22:32:23.872Z"
   },
   {
    "duration": 31,
    "start_time": "2024-11-10T22:32:23.887Z"
   },
   {
    "duration": 9,
    "start_time": "2024-11-10T22:32:23.919Z"
   },
   {
    "duration": 20,
    "start_time": "2024-11-10T22:32:23.930Z"
   },
   {
    "duration": 65,
    "start_time": "2024-11-10T22:32:23.952Z"
   },
   {
    "duration": 1145,
    "start_time": "2024-11-10T22:32:24.019Z"
   },
   {
    "duration": 1587,
    "start_time": "2024-11-10T22:32:25.165Z"
   },
   {
    "duration": 9,
    "start_time": "2024-11-10T22:32:26.753Z"
   },
   {
    "duration": 442,
    "start_time": "2024-11-10T22:32:26.763Z"
   },
   {
    "duration": 250,
    "start_time": "2024-11-10T22:32:27.210Z"
   },
   {
    "duration": 450,
    "start_time": "2024-11-10T22:32:27.462Z"
   },
   {
    "duration": 239,
    "start_time": "2024-11-10T22:32:27.914Z"
   },
   {
    "duration": 13,
    "start_time": "2024-11-10T22:32:28.155Z"
   },
   {
    "duration": 3672,
    "start_time": "2024-11-10T22:32:28.170Z"
   },
   {
    "duration": 819,
    "start_time": "2024-11-10T22:33:10.658Z"
   },
   {
    "duration": 93,
    "start_time": "2024-11-10T22:33:11.480Z"
   },
   {
    "duration": 76,
    "start_time": "2024-11-10T22:33:11.575Z"
   },
   {
    "duration": 46,
    "start_time": "2024-11-10T22:33:11.654Z"
   },
   {
    "duration": 10,
    "start_time": "2024-11-10T22:33:11.702Z"
   },
   {
    "duration": 11,
    "start_time": "2024-11-10T22:33:11.714Z"
   },
   {
    "duration": 8,
    "start_time": "2024-11-10T22:33:11.726Z"
   },
   {
    "duration": 7,
    "start_time": "2024-11-10T22:33:11.736Z"
   },
   {
    "duration": 2,
    "start_time": "2024-11-10T22:33:11.744Z"
   },
   {
    "duration": 7,
    "start_time": "2024-11-10T22:33:11.750Z"
   },
   {
    "duration": 8,
    "start_time": "2024-11-10T22:33:11.759Z"
   },
   {
    "duration": 41,
    "start_time": "2024-11-10T22:33:11.769Z"
   },
   {
    "duration": 11,
    "start_time": "2024-11-10T22:33:11.812Z"
   },
   {
    "duration": 10,
    "start_time": "2024-11-10T22:33:11.824Z"
   },
   {
    "duration": 8,
    "start_time": "2024-11-10T22:33:11.838Z"
   },
   {
    "duration": 15,
    "start_time": "2024-11-10T22:33:11.848Z"
   },
   {
    "duration": 9,
    "start_time": "2024-11-10T22:33:11.866Z"
   },
   {
    "duration": 62,
    "start_time": "2024-11-10T22:33:11.876Z"
   },
   {
    "duration": 25,
    "start_time": "2024-11-10T22:33:11.940Z"
   },
   {
    "duration": 16,
    "start_time": "2024-11-10T22:33:11.967Z"
   },
   {
    "duration": 27,
    "start_time": "2024-11-10T22:33:11.985Z"
   },
   {
    "duration": 13,
    "start_time": "2024-11-10T22:33:12.014Z"
   },
   {
    "duration": 8,
    "start_time": "2024-11-10T22:33:12.029Z"
   },
   {
    "duration": 15,
    "start_time": "2024-11-10T22:33:12.038Z"
   },
   {
    "duration": 16,
    "start_time": "2024-11-10T22:33:12.055Z"
   },
   {
    "duration": 41,
    "start_time": "2024-11-10T22:33:12.073Z"
   },
   {
    "duration": 7,
    "start_time": "2024-11-10T22:33:12.115Z"
   },
   {
    "duration": 13,
    "start_time": "2024-11-10T22:33:12.127Z"
   },
   {
    "duration": 9,
    "start_time": "2024-11-10T22:33:12.142Z"
   },
   {
    "duration": 62,
    "start_time": "2024-11-10T22:33:12.152Z"
   },
   {
    "duration": 21,
    "start_time": "2024-11-10T22:33:12.216Z"
   },
   {
    "duration": 14,
    "start_time": "2024-11-10T22:33:12.238Z"
   },
   {
    "duration": 9,
    "start_time": "2024-11-10T22:33:12.253Z"
   },
   {
    "duration": 7,
    "start_time": "2024-11-10T22:33:12.264Z"
   },
   {
    "duration": 53,
    "start_time": "2024-11-10T22:33:12.273Z"
   },
   {
    "duration": 47,
    "start_time": "2024-11-10T22:33:12.328Z"
   },
   {
    "duration": 1144,
    "start_time": "2024-11-10T22:33:12.377Z"
   },
   {
    "duration": 1587,
    "start_time": "2024-11-10T22:33:13.523Z"
   },
   {
    "duration": 8,
    "start_time": "2024-11-10T22:33:15.111Z"
   },
   {
    "duration": 442,
    "start_time": "2024-11-10T22:33:15.121Z"
   },
   {
    "duration": 232,
    "start_time": "2024-11-10T22:33:15.565Z"
   },
   {
    "duration": 425,
    "start_time": "2024-11-10T22:33:15.800Z"
   },
   {
    "duration": 233,
    "start_time": "2024-11-10T22:33:16.227Z"
   },
   {
    "duration": 12,
    "start_time": "2024-11-10T22:33:16.462Z"
   },
   {
    "duration": 4047,
    "start_time": "2024-11-10T22:33:16.475Z"
   },
   {
    "duration": 211,
    "start_time": "2024-11-10T22:33:45.320Z"
   },
   {
    "duration": 793,
    "start_time": "2024-11-10T22:33:50.251Z"
   },
   {
    "duration": 141,
    "start_time": "2024-11-10T22:33:51.045Z"
   },
   {
    "duration": 77,
    "start_time": "2024-11-10T22:33:51.188Z"
   },
   {
    "duration": 46,
    "start_time": "2024-11-10T22:33:51.267Z"
   },
   {
    "duration": 10,
    "start_time": "2024-11-10T22:33:51.314Z"
   },
   {
    "duration": 11,
    "start_time": "2024-11-10T22:33:51.326Z"
   },
   {
    "duration": 9,
    "start_time": "2024-11-10T22:33:51.338Z"
   },
   {
    "duration": 7,
    "start_time": "2024-11-10T22:33:51.349Z"
   },
   {
    "duration": 3,
    "start_time": "2024-11-10T22:33:51.357Z"
   },
   {
    "duration": 9,
    "start_time": "2024-11-10T22:33:51.364Z"
   },
   {
    "duration": 37,
    "start_time": "2024-11-10T22:33:51.374Z"
   },
   {
    "duration": 5,
    "start_time": "2024-11-10T22:33:51.413Z"
   },
   {
    "duration": 9,
    "start_time": "2024-11-10T22:33:51.420Z"
   },
   {
    "duration": 8,
    "start_time": "2024-11-10T22:33:51.431Z"
   },
   {
    "duration": 9,
    "start_time": "2024-11-10T22:33:51.441Z"
   },
   {
    "duration": 15,
    "start_time": "2024-11-10T22:33:51.452Z"
   },
   {
    "duration": 10,
    "start_time": "2024-11-10T22:33:51.509Z"
   },
   {
    "duration": 32,
    "start_time": "2024-11-10T22:33:51.521Z"
   },
   {
    "duration": 25,
    "start_time": "2024-11-10T22:33:51.555Z"
   },
   {
    "duration": 38,
    "start_time": "2024-11-10T22:33:51.582Z"
   },
   {
    "duration": 8,
    "start_time": "2024-11-10T22:33:51.622Z"
   },
   {
    "duration": 11,
    "start_time": "2024-11-10T22:33:51.632Z"
   },
   {
    "duration": 8,
    "start_time": "2024-11-10T22:33:51.645Z"
   },
   {
    "duration": 16,
    "start_time": "2024-11-10T22:33:51.654Z"
   },
   {
    "duration": 49,
    "start_time": "2024-11-10T22:33:51.672Z"
   },
   {
    "duration": 12,
    "start_time": "2024-11-10T22:33:51.723Z"
   },
   {
    "duration": 9,
    "start_time": "2024-11-10T22:33:51.737Z"
   },
   {
    "duration": 13,
    "start_time": "2024-11-10T22:33:51.750Z"
   },
   {
    "duration": 9,
    "start_time": "2024-11-10T22:33:51.764Z"
   },
   {
    "duration": 67,
    "start_time": "2024-11-10T22:33:51.774Z"
   },
   {
    "duration": 24,
    "start_time": "2024-11-10T22:33:51.845Z"
   },
   {
    "duration": 14,
    "start_time": "2024-11-10T22:33:51.871Z"
   },
   {
    "duration": 31,
    "start_time": "2024-11-10T22:33:51.886Z"
   },
   {
    "duration": 8,
    "start_time": "2024-11-10T22:33:51.919Z"
   },
   {
    "duration": 20,
    "start_time": "2024-11-10T22:33:51.929Z"
   },
   {
    "duration": 67,
    "start_time": "2024-11-10T22:33:51.951Z"
   },
   {
    "duration": 1122,
    "start_time": "2024-11-10T22:33:52.020Z"
   },
   {
    "duration": 1589,
    "start_time": "2024-11-10T22:33:53.144Z"
   },
   {
    "duration": 8,
    "start_time": "2024-11-10T22:33:54.735Z"
   },
   {
    "duration": 451,
    "start_time": "2024-11-10T22:33:54.745Z"
   },
   {
    "duration": 237,
    "start_time": "2024-11-10T22:33:55.198Z"
   },
   {
    "duration": 431,
    "start_time": "2024-11-10T22:33:55.437Z"
   },
   {
    "duration": 247,
    "start_time": "2024-11-10T22:33:55.870Z"
   },
   {
    "duration": 12,
    "start_time": "2024-11-10T22:33:56.119Z"
   },
   {
    "duration": 3691,
    "start_time": "2024-11-10T22:33:56.133Z"
   },
   {
    "duration": 164,
    "start_time": "2024-11-10T22:34:07.581Z"
   },
   {
    "duration": 0,
    "start_time": "2024-11-10T22:34:07.747Z"
   },
   {
    "duration": 0,
    "start_time": "2024-11-10T22:34:07.748Z"
   },
   {
    "duration": 0,
    "start_time": "2024-11-10T22:34:07.749Z"
   },
   {
    "duration": 0,
    "start_time": "2024-11-10T22:34:07.750Z"
   },
   {
    "duration": 0,
    "start_time": "2024-11-10T22:34:07.752Z"
   },
   {
    "duration": 0,
    "start_time": "2024-11-10T22:34:07.753Z"
   },
   {
    "duration": 11,
    "start_time": "2024-11-10T22:34:08.190Z"
   },
   {
    "duration": 12,
    "start_time": "2024-11-10T22:34:12.348Z"
   },
   {
    "duration": 12,
    "start_time": "2024-11-10T22:34:13.908Z"
   },
   {
    "duration": 10,
    "start_time": "2024-11-10T22:34:15.698Z"
   },
   {
    "duration": 846,
    "start_time": "2024-11-10T22:34:23.786Z"
   },
   {
    "duration": 97,
    "start_time": "2024-11-10T22:34:25.339Z"
   },
   {
    "duration": 77,
    "start_time": "2024-11-10T22:34:25.769Z"
   },
   {
    "duration": 46,
    "start_time": "2024-11-10T22:34:26.733Z"
   },
   {
    "duration": 13,
    "start_time": "2024-11-10T22:34:27.388Z"
   },
   {
    "duration": 14,
    "start_time": "2024-11-10T22:34:28.174Z"
   },
   {
    "duration": 9,
    "start_time": "2024-11-10T22:34:29.844Z"
   },
   {
    "duration": 8,
    "start_time": "2024-11-10T22:34:30.338Z"
   },
   {
    "duration": 2,
    "start_time": "2024-11-10T22:34:32.980Z"
   },
   {
    "duration": 8,
    "start_time": "2024-11-10T22:34:34.556Z"
   },
   {
    "duration": 10,
    "start_time": "2024-11-10T22:34:35.127Z"
   },
   {
    "duration": 6,
    "start_time": "2024-11-10T22:34:36.698Z"
   },
   {
    "duration": 9,
    "start_time": "2024-11-10T22:34:39.806Z"
   },
   {
    "duration": 10,
    "start_time": "2024-11-10T22:34:40.501Z"
   },
   {
    "duration": 11,
    "start_time": "2024-11-10T22:34:41.869Z"
   },
   {
    "duration": 16,
    "start_time": "2024-11-10T22:34:43.267Z"
   },
   {
    "duration": 12,
    "start_time": "2024-11-10T22:34:43.860Z"
   },
   {
    "duration": 31,
    "start_time": "2024-11-10T22:34:44.521Z"
   },
   {
    "duration": 31,
    "start_time": "2024-11-10T22:34:47.501Z"
   },
   {
    "duration": 18,
    "start_time": "2024-11-10T22:34:48.910Z"
   },
   {
    "duration": 9,
    "start_time": "2024-11-10T22:34:49.617Z"
   },
   {
    "duration": 12,
    "start_time": "2024-11-10T22:34:53.812Z"
   },
   {
    "duration": 7,
    "start_time": "2024-11-10T22:34:54.747Z"
   },
   {
    "duration": 15,
    "start_time": "2024-11-10T22:34:55.423Z"
   },
   {
    "duration": 17,
    "start_time": "2024-11-10T22:34:57.571Z"
   },
   {
    "duration": 13,
    "start_time": "2024-11-10T22:34:58.805Z"
   },
   {
    "duration": 8,
    "start_time": "2024-11-10T22:34:59.418Z"
   },
   {
    "duration": 15,
    "start_time": "2024-11-10T22:35:00.624Z"
   },
   {
    "duration": 9,
    "start_time": "2024-11-10T22:35:01.129Z"
   },
   {
    "duration": 38,
    "start_time": "2024-11-10T22:35:01.715Z"
   },
   {
    "duration": 20,
    "start_time": "2024-11-10T22:35:03.222Z"
   },
   {
    "duration": 18,
    "start_time": "2024-11-10T22:35:04.046Z"
   },
   {
    "duration": 12,
    "start_time": "2024-11-10T22:35:04.358Z"
   },
   {
    "duration": 7,
    "start_time": "2024-11-10T22:35:05.987Z"
   },
   {
    "duration": 20,
    "start_time": "2024-11-10T22:35:07.994Z"
   },
   {
    "duration": 46,
    "start_time": "2024-11-10T22:35:08.836Z"
   },
   {
    "duration": 1114,
    "start_time": "2024-11-10T22:35:10.019Z"
   },
   {
    "duration": 1582,
    "start_time": "2024-11-10T22:35:11.135Z"
   },
   {
    "duration": 9,
    "start_time": "2024-11-10T22:35:12.720Z"
   },
   {
    "duration": 417,
    "start_time": "2024-11-10T22:35:20.778Z"
   },
   {
    "duration": 226,
    "start_time": "2024-11-10T22:35:23.156Z"
   },
   {
    "duration": 415,
    "start_time": "2024-11-10T22:35:25.910Z"
   },
   {
    "duration": 224,
    "start_time": "2024-11-10T22:35:28.769Z"
   },
   {
    "duration": 14,
    "start_time": "2024-11-10T22:35:29.769Z"
   },
   {
    "duration": 3888,
    "start_time": "2024-11-10T22:35:42.613Z"
   },
   {
    "duration": 2577,
    "start_time": "2024-11-10T22:35:53.521Z"
   },
   {
    "duration": 156,
    "start_time": "2024-11-10T22:36:22.874Z"
   },
   {
    "duration": 12,
    "start_time": "2024-11-10T22:36:44.350Z"
   },
   {
    "duration": 2,
    "start_time": "2024-11-10T22:37:11.494Z"
   },
   {
    "duration": 20,
    "start_time": "2024-11-10T22:38:28.172Z"
   }
  ],
  "colab": {
   "provenance": []
  },
  "kernelspec": {
   "display_name": "Python 3 (ipykernel)",
   "language": "python",
   "name": "python3"
  },
  "language_info": {
   "codemirror_mode": {
    "name": "ipython",
    "version": 3
   },
   "file_extension": ".py",
   "mimetype": "text/x-python",
   "name": "python",
   "nbconvert_exporter": "python",
   "pygments_lexer": "ipython3",
   "version": "3.9.19"
  },
  "toc": {
   "base_numbering": 1,
   "nav_menu": {},
   "number_sections": true,
   "sideBar": true,
   "skip_h1_title": false,
   "title_cell": "Table of Contents",
   "title_sidebar": "Contents",
   "toc_cell": false,
   "toc_position": {},
   "toc_section_display": true,
   "toc_window_display": true
  }
 },
 "nbformat": 4,
 "nbformat_minor": 1
}
