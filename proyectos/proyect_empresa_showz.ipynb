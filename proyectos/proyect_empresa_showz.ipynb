{
 "cells": [
  {
   "cell_type": "markdown",
   "metadata": {},
   "source": [
    "   # Análisis de venta de entradas de eventos para la empresa Showz"
   ]
  },
  {
   "cell_type": "markdown",
   "metadata": {},
   "source": [
    "**Descripción:** se cuenta con registros del servidor con datos sobre las visitas a Showz desde enero de 2017 hasta diciembre de 2018\n",
    "\n",
    "**Objetivo:** optimizar los gastos de marketing"
   ]
  },
  {
   "cell_type": "code",
   "execution_count": 39,
   "metadata": {
    "trusted": true
   },
   "outputs": [],
   "source": [
    "#Importar librerias a utilizar\n",
    "import pandas as pd\n",
    "import seaborn as sns\n",
    "import matplotlib.pyplot as plt\n",
    "import numpy as np"
   ]
  },
  {
   "cell_type": "code",
   "execution_count": 40,
   "metadata": {
    "trusted": true
   },
   "outputs": [],
   "source": [
    "visits_log_us=pd.read_csv('/datasets/visits_log_us.csv')\n",
    "orders_log_us=pd.read_csv('/datasets/orders_log_us.csv')\n",
    "costs_us=pd.read_csv('/datasets/costs_us.csv')"
   ]
  },
  {
   "cell_type": "code",
   "execution_count": 41,
   "metadata": {
    "trusted": true
   },
   "outputs": [
    {
     "data": {
      "text/html": [
       "<div>\n",
       "<style scoped>\n",
       "    .dataframe tbody tr th:only-of-type {\n",
       "        vertical-align: middle;\n",
       "    }\n",
       "\n",
       "    .dataframe tbody tr th {\n",
       "        vertical-align: top;\n",
       "    }\n",
       "\n",
       "    .dataframe thead th {\n",
       "        text-align: right;\n",
       "    }\n",
       "</style>\n",
       "<table border=\"1\" class=\"dataframe\">\n",
       "  <thead>\n",
       "    <tr style=\"text-align: right;\">\n",
       "      <th></th>\n",
       "      <th>Device</th>\n",
       "      <th>End Ts</th>\n",
       "      <th>Source Id</th>\n",
       "      <th>Start Ts</th>\n",
       "      <th>Uid</th>\n",
       "    </tr>\n",
       "  </thead>\n",
       "  <tbody>\n",
       "    <tr>\n",
       "      <th>0</th>\n",
       "      <td>touch</td>\n",
       "      <td>2017-12-20 17:38:00</td>\n",
       "      <td>4</td>\n",
       "      <td>2017-12-20 17:20:00</td>\n",
       "      <td>16879256277535980062</td>\n",
       "    </tr>\n",
       "    <tr>\n",
       "      <th>1</th>\n",
       "      <td>desktop</td>\n",
       "      <td>2018-02-19 17:21:00</td>\n",
       "      <td>2</td>\n",
       "      <td>2018-02-19 16:53:00</td>\n",
       "      <td>104060357244891740</td>\n",
       "    </tr>\n",
       "    <tr>\n",
       "      <th>2</th>\n",
       "      <td>touch</td>\n",
       "      <td>2017-07-01 01:54:00</td>\n",
       "      <td>5</td>\n",
       "      <td>2017-07-01 01:54:00</td>\n",
       "      <td>7459035603376831527</td>\n",
       "    </tr>\n",
       "    <tr>\n",
       "      <th>3</th>\n",
       "      <td>desktop</td>\n",
       "      <td>2018-05-20 11:23:00</td>\n",
       "      <td>9</td>\n",
       "      <td>2018-05-20 10:59:00</td>\n",
       "      <td>16174680259334210214</td>\n",
       "    </tr>\n",
       "    <tr>\n",
       "      <th>4</th>\n",
       "      <td>desktop</td>\n",
       "      <td>2017-12-27 14:06:00</td>\n",
       "      <td>3</td>\n",
       "      <td>2017-12-27 14:06:00</td>\n",
       "      <td>9969694820036681168</td>\n",
       "    </tr>\n",
       "  </tbody>\n",
       "</table>\n",
       "</div>"
      ],
      "text/plain": [
       "    Device               End Ts  Source Id             Start Ts  \\\n",
       "0    touch  2017-12-20 17:38:00          4  2017-12-20 17:20:00   \n",
       "1  desktop  2018-02-19 17:21:00          2  2018-02-19 16:53:00   \n",
       "2    touch  2017-07-01 01:54:00          5  2017-07-01 01:54:00   \n",
       "3  desktop  2018-05-20 11:23:00          9  2018-05-20 10:59:00   \n",
       "4  desktop  2017-12-27 14:06:00          3  2017-12-27 14:06:00   \n",
       "\n",
       "                    Uid  \n",
       "0  16879256277535980062  \n",
       "1    104060357244891740  \n",
       "2   7459035603376831527  \n",
       "3  16174680259334210214  \n",
       "4   9969694820036681168  "
      ]
     },
     "execution_count": 41,
     "metadata": {},
     "output_type": "execute_result"
    }
   ],
   "source": [
    "#Visualizar base de datos visits_log_us\n",
    "visits_log_us.head()"
   ]
  },
  {
   "cell_type": "code",
   "execution_count": 42,
   "metadata": {
    "trusted": true
   },
   "outputs": [
    {
     "name": "stdout",
     "output_type": "stream",
     "text": [
      "<class 'pandas.core.frame.DataFrame'>\n",
      "RangeIndex: 359400 entries, 0 to 359399\n",
      "Data columns (total 5 columns):\n",
      " #   Column     Non-Null Count   Dtype \n",
      "---  ------     --------------   ----- \n",
      " 0   Device     359400 non-null  object\n",
      " 1   End Ts     359400 non-null  object\n",
      " 2   Source Id  359400 non-null  int64 \n",
      " 3   Start Ts   359400 non-null  object\n",
      " 4   Uid        359400 non-null  uint64\n",
      "dtypes: int64(1), object(3), uint64(1)\n",
      "memory usage: 13.7+ MB\n"
     ]
    }
   ],
   "source": [
    "visits_log_us.info()"
   ]
  },
  {
   "cell_type": "code",
   "execution_count": 43,
   "metadata": {
    "trusted": true
   },
   "outputs": [
    {
     "data": {
      "text/html": [
       "<div>\n",
       "<style scoped>\n",
       "    .dataframe tbody tr th:only-of-type {\n",
       "        vertical-align: middle;\n",
       "    }\n",
       "\n",
       "    .dataframe tbody tr th {\n",
       "        vertical-align: top;\n",
       "    }\n",
       "\n",
       "    .dataframe thead th {\n",
       "        text-align: right;\n",
       "    }\n",
       "</style>\n",
       "<table border=\"1\" class=\"dataframe\">\n",
       "  <thead>\n",
       "    <tr style=\"text-align: right;\">\n",
       "      <th></th>\n",
       "      <th>Buy Ts</th>\n",
       "      <th>Revenue</th>\n",
       "      <th>Uid</th>\n",
       "    </tr>\n",
       "  </thead>\n",
       "  <tbody>\n",
       "    <tr>\n",
       "      <th>0</th>\n",
       "      <td>2017-06-01 00:10:00</td>\n",
       "      <td>17.00</td>\n",
       "      <td>10329302124590727494</td>\n",
       "    </tr>\n",
       "    <tr>\n",
       "      <th>1</th>\n",
       "      <td>2017-06-01 00:25:00</td>\n",
       "      <td>0.55</td>\n",
       "      <td>11627257723692907447</td>\n",
       "    </tr>\n",
       "    <tr>\n",
       "      <th>2</th>\n",
       "      <td>2017-06-01 00:27:00</td>\n",
       "      <td>0.37</td>\n",
       "      <td>17903680561304213844</td>\n",
       "    </tr>\n",
       "    <tr>\n",
       "      <th>3</th>\n",
       "      <td>2017-06-01 00:29:00</td>\n",
       "      <td>0.55</td>\n",
       "      <td>16109239769442553005</td>\n",
       "    </tr>\n",
       "    <tr>\n",
       "      <th>4</th>\n",
       "      <td>2017-06-01 07:58:00</td>\n",
       "      <td>0.37</td>\n",
       "      <td>14200605875248379450</td>\n",
       "    </tr>\n",
       "  </tbody>\n",
       "</table>\n",
       "</div>"
      ],
      "text/plain": [
       "                Buy Ts  Revenue                   Uid\n",
       "0  2017-06-01 00:10:00    17.00  10329302124590727494\n",
       "1  2017-06-01 00:25:00     0.55  11627257723692907447\n",
       "2  2017-06-01 00:27:00     0.37  17903680561304213844\n",
       "3  2017-06-01 00:29:00     0.55  16109239769442553005\n",
       "4  2017-06-01 07:58:00     0.37  14200605875248379450"
      ]
     },
     "execution_count": 43,
     "metadata": {},
     "output_type": "execute_result"
    }
   ],
   "source": [
    "#Visualizar base de datos orders_log_us\n",
    "orders_log_us.head()"
   ]
  },
  {
   "cell_type": "code",
   "execution_count": 44,
   "metadata": {
    "trusted": true
   },
   "outputs": [
    {
     "name": "stdout",
     "output_type": "stream",
     "text": [
      "<class 'pandas.core.frame.DataFrame'>\n",
      "RangeIndex: 50415 entries, 0 to 50414\n",
      "Data columns (total 3 columns):\n",
      " #   Column   Non-Null Count  Dtype  \n",
      "---  ------   --------------  -----  \n",
      " 0   Buy Ts   50415 non-null  object \n",
      " 1   Revenue  50415 non-null  float64\n",
      " 2   Uid      50415 non-null  uint64 \n",
      "dtypes: float64(1), object(1), uint64(1)\n",
      "memory usage: 1.2+ MB\n"
     ]
    }
   ],
   "source": [
    "orders_log_us.info()"
   ]
  },
  {
   "cell_type": "code",
   "execution_count": 45,
   "metadata": {
    "trusted": true
   },
   "outputs": [
    {
     "data": {
      "text/html": [
       "<div>\n",
       "<style scoped>\n",
       "    .dataframe tbody tr th:only-of-type {\n",
       "        vertical-align: middle;\n",
       "    }\n",
       "\n",
       "    .dataframe tbody tr th {\n",
       "        vertical-align: top;\n",
       "    }\n",
       "\n",
       "    .dataframe thead th {\n",
       "        text-align: right;\n",
       "    }\n",
       "</style>\n",
       "<table border=\"1\" class=\"dataframe\">\n",
       "  <thead>\n",
       "    <tr style=\"text-align: right;\">\n",
       "      <th></th>\n",
       "      <th>source_id</th>\n",
       "      <th>dt</th>\n",
       "      <th>costs</th>\n",
       "    </tr>\n",
       "  </thead>\n",
       "  <tbody>\n",
       "    <tr>\n",
       "      <th>0</th>\n",
       "      <td>1</td>\n",
       "      <td>2017-06-01</td>\n",
       "      <td>75.20</td>\n",
       "    </tr>\n",
       "    <tr>\n",
       "      <th>1</th>\n",
       "      <td>1</td>\n",
       "      <td>2017-06-02</td>\n",
       "      <td>62.25</td>\n",
       "    </tr>\n",
       "    <tr>\n",
       "      <th>2</th>\n",
       "      <td>1</td>\n",
       "      <td>2017-06-03</td>\n",
       "      <td>36.53</td>\n",
       "    </tr>\n",
       "    <tr>\n",
       "      <th>3</th>\n",
       "      <td>1</td>\n",
       "      <td>2017-06-04</td>\n",
       "      <td>55.00</td>\n",
       "    </tr>\n",
       "    <tr>\n",
       "      <th>4</th>\n",
       "      <td>1</td>\n",
       "      <td>2017-06-05</td>\n",
       "      <td>57.08</td>\n",
       "    </tr>\n",
       "  </tbody>\n",
       "</table>\n",
       "</div>"
      ],
      "text/plain": [
       "   source_id          dt  costs\n",
       "0          1  2017-06-01  75.20\n",
       "1          1  2017-06-02  62.25\n",
       "2          1  2017-06-03  36.53\n",
       "3          1  2017-06-04  55.00\n",
       "4          1  2017-06-05  57.08"
      ]
     },
     "execution_count": 45,
     "metadata": {},
     "output_type": "execute_result"
    }
   ],
   "source": [
    "#Visualizar base de datos costs_us\n",
    "costs_us.head()"
   ]
  },
  {
   "cell_type": "code",
   "execution_count": 46,
   "metadata": {
    "trusted": true
   },
   "outputs": [
    {
     "name": "stdout",
     "output_type": "stream",
     "text": [
      "<class 'pandas.core.frame.DataFrame'>\n",
      "RangeIndex: 2542 entries, 0 to 2541\n",
      "Data columns (total 3 columns):\n",
      " #   Column     Non-Null Count  Dtype  \n",
      "---  ------     --------------  -----  \n",
      " 0   source_id  2542 non-null   int64  \n",
      " 1   dt         2542 non-null   object \n",
      " 2   costs      2542 non-null   float64\n",
      "dtypes: float64(1), int64(1), object(1)\n",
      "memory usage: 59.7+ KB\n"
     ]
    }
   ],
   "source": [
    "costs_us.info()"
   ]
  },
  {
   "cell_type": "markdown",
   "metadata": {},
   "source": [
    "# Procedimietos\n",
    "-Convertir a snake_case\n",
    "\n",
    "\n",
    "-Convertir los datos de tiempo al formato datetime\n",
    "\n",
    "\n",
    "-No hay valores nulos, no trabajar esta parte"
   ]
  },
  {
   "cell_type": "code",
   "execution_count": 47,
   "metadata": {
    "trusted": true
   },
   "outputs": [
    {
     "name": "stdout",
     "output_type": "stream",
     "text": [
      "Index(['device', 'end_ts', 'source_id', 'start_ts', 'uid'], dtype='object')\n",
      "Index(['buy_ts', 'revenue', 'uid'], dtype='object')\n",
      "Index(['source_id', 'dt', 'costs'], dtype='object')\n"
     ]
    }
   ],
   "source": [
    "#Crear una función para convertir los nombres de las columnas en snake_case\n",
    "def snake_case(df):\n",
    "    df.columns=df.columns.str.lower().str.replace(' ', '_')\n",
    "    return df\n",
    "visits_log_us = snake_case(visits_log_us)\n",
    "orders_log_us = snake_case(orders_log_us)\n",
    "costs_us = snake_case(costs_us)\n",
    "\n",
    "# Verificar los cambios\n",
    "print(visits_log_us.columns)\n",
    "print(orders_log_us.columns)\n",
    "print(costs_us.columns)\n"
   ]
  },
  {
   "cell_type": "code",
   "execution_count": 48,
   "metadata": {
    "trusted": true
   },
   "outputs": [],
   "source": [
    "#Convertir los datos de tiempo al formato datetime\n",
    "# 1. Cambiar a formato datetime\n",
    "# Convertir a datetime primero\n",
    "visits_log_us['end_ts'] = pd.to_datetime(visits_log_us['end_ts'], format=\"%Y-%m-%d\")\n",
    "visits_log_us['start_ts'] = pd.to_datetime(visits_log_us['start_ts'], format=\"%Y-%m-%d\")\n",
    "orders_log_us['buy_ts'] = pd.to_datetime(orders_log_us['buy_ts'], format=\"%Y-%m-%d\")\n",
    "costs_us['dt'] = pd.to_datetime(costs_us['dt'], format=\"%Y-%m-%d\")"
   ]
  },
  {
   "cell_type": "markdown",
   "metadata": {},
   "source": [
    "# Calcular métricas "
   ]
  },
  {
   "cell_type": "markdown",
   "metadata": {},
   "source": [
    "# 1. Visitas"
   ]
  },
  {
   "cell_type": "code",
   "execution_count": 49,
   "metadata": {
    "trusted": true
   },
   "outputs": [],
   "source": [
    "#¿Cuántas personas lo usan cada día, semana y mes?\n",
    "# Crear columnas para día, semana y mes\n",
    "visits_log_us['day'] = visits_log_us['start_ts'].dt.date\n",
    "visits_log_us['week'] = visits_log_us['start_ts'].dt.isocalendar().week\n",
    "visits_log_us['month'] = visits_log_us['start_ts'].dt.month"
   ]
  },
  {
   "cell_type": "code",
   "execution_count": 50,
   "metadata": {
    "trusted": true
   },
   "outputs": [
    {
     "name": "stdout",
     "output_type": "stream",
     "text": [
      "Usuarios promedio por día (DAU): 908\n"
     ]
    }
   ],
   "source": [
    "# Calcular los usuarios por días(DAU)\n",
    "daily_users = visits_log_us.groupby('day')['uid'].nunique().reset_index(name='unique_users')\n",
    "\n",
    "# Calcular el DAU promedio\n",
    "dau_avg = daily_users['unique_users'].mean()\n",
    "print(f\"Usuarios promedio por día (DAU): {dau_avg:.0f}\")"
   ]
  },
  {
   "cell_type": "code",
   "execution_count": 51,
   "metadata": {
    "trusted": true
   },
   "outputs": [
    {
     "data": {
      "image/png": "[encoded data removed]",
      "text/plain": [
       "<Figure size 1000x500 with 1 Axes>"
      ]
     },
     "metadata": {},
     "output_type": "display_data"
    }
   ],
   "source": [
    "# Graficar\n",
    "plt.figure(figsize=(10, 5))\n",
    "plt.plot(daily_users['day'], daily_users['unique_users'], marker='o', linestyle='-', color='red')\n",
    "plt.xlabel('Día')\n",
    "plt.ylabel('Usuarios Únicos')\n",
    "plt.title('Número de usuarios por día')\n",
    "plt.grid(True)\n",
    "plt.xticks(rotation=45)\n",
    "plt.show()"
   ]
  },
  {
   "cell_type": "code",
   "execution_count": 52,
   "metadata": {
    "trusted": true
   },
   "outputs": [
    {
     "name": "stdout",
     "output_type": "stream",
     "text": [
      "Usuarios promedio por semana (WAU): 5825\n"
     ]
    }
   ],
   "source": [
    "#Calcular los usuarios por semanas \n",
    "weekly_users = visits_log_us.groupby('week')['uid'].nunique().reset_index(name='unique_users')\n",
    "\n",
    "# Calcular el WAU promedio\n",
    "wau_avg = weekly_users['unique_users'].mean()\n",
    "print(f\"Usuarios promedio por semana (WAU): {wau_avg:.0f}\")"
   ]
  },
  {
   "cell_type": "code",
   "execution_count": 53,
   "metadata": {
    "trusted": true
   },
   "outputs": [
    {
     "data": {
      "image/png": "[encoded data removed]",
      "text/plain": [
       "<Figure size 1000x500 with 1 Axes>"
      ]
     },
     "metadata": {},
     "output_type": "display_data"
    }
   ],
   "source": [
    "# Graficar\n",
    "plt.figure(figsize=(10, 5))\n",
    "plt.plot(weekly_users['week'], weekly_users['unique_users'], marker='o', linestyle='-', color='red')\n",
    "plt.xlabel('Semana')\n",
    "plt.ylabel('Usuarios Únicos')\n",
    "plt.title('Número de usuarios por semana')\n",
    "plt.grid(True)\n",
    "plt.xticks(rotation=45)\n",
    "plt.show()"
   ]
  },
  {
   "cell_type": "code",
   "execution_count": 54,
   "metadata": {
    "trusted": true
   },
   "outputs": [
    {
     "name": "stdout",
     "output_type": "stream",
     "text": [
      "Usuarios promedio por mes (MAU): 23228\n"
     ]
    }
   ],
   "source": [
    "#Calcular los usuarios por mes\n",
    "monthly_users = visits_log_us.groupby('month')['uid'].nunique().reset_index(name='unique_users')\n",
    "# Calcular el MAU promedio\n",
    "mau_avg = monthly_users['unique_users'].mean()\n",
    "print(f\"Usuarios promedio por mes (MAU): {mau_avg:.0f}\")"
   ]
  },
  {
   "cell_type": "code",
   "execution_count": 55,
   "metadata": {
    "trusted": true
   },
   "outputs": [
    {
     "data": {
      "image/png": "[encoded data removed]",
      "text/plain": [
       "<Figure size 1000x500 with 1 Axes>"
      ]
     },
     "metadata": {},
     "output_type": "display_data"
    }
   ],
   "source": [
    "# Graficar\n",
    "plt.figure(figsize=(10, 5))\n",
    "plt.plot(monthly_users['month'], monthly_users['unique_users'], marker='o', linestyle='-', color='red')\n",
    "plt.xlabel('Mes')\n",
    "plt.ylabel('Usuarios Únicos')\n",
    "plt.title('Número de usuarios por mes')\n",
    "plt.grid(True)\n",
    "plt.xticks(rotation=45)\n",
    "plt.show()"
   ]
  },
  {
   "cell_type": "markdown",
   "metadata": {},
   "source": [
    "**Conclusión:** Se puede observar que el aumento de las visitas empiezan a partir del mes de agosto, el promedio por visitas por dias es de 908, semanal es de 5825 y mensual es de 23228."
   ]
  },
  {
   "cell_type": "code",
   "execution_count": 56,
   "metadata": {
    "trusted": true
   },
   "outputs": [
    {
     "data": {
      "image/png": "[encoded data removed]",
      "text/plain": [
       "<Figure size 640x480 with 1 Axes>"
      ]
     },
     "metadata": {},
     "output_type": "display_data"
    }
   ],
   "source": [
    "#2.¿Cuántas sesiones hay por día? (Un usuario puede tener más de una sesión).\n",
    "sessions_per_day = visits_log_us.groupby('day')['uid'].count().reset_index(name='sessions')\n",
    "sessions_per_day.plot(\n",
    "x='day',\n",
    "color='red',\n",
    "title='Número de sesiones por día')\n",
    "plt.show()"
   ]
  },
  {
   "cell_type": "code",
   "execution_count": 152,
   "metadata": {
    "trusted": true
   },
   "outputs": [
    {
     "data": {
      "text/plain": [
       "<AxesSubplot:>"
      ]
     },
     "execution_count": 152,
     "metadata": {},
     "output_type": "execute_result"
    },
    {
     "data": {
      "image/png": "[encoded data removed]",
      "text/plain": [
       "<Figure size 640x480 with 1 Axes>"
      ]
     },
     "metadata": {},
     "output_type": "display_data"
    }
   ],
   "source": [
    "#3. ¿Cuál es la duración de cada sesión?\n",
    "visits_log_us['session_duration_sec'] = (\n",
    "   visits_log_us['end_ts'] - visits_log_us['start_ts']\n",
    ").dt.seconds\n",
    "visits_log_us['session_duration_sec'].hist(bins=100, color='red')"
   ]
  },
  {
   "cell_type": "code",
   "execution_count": 58,
   "metadata": {
    "trusted": true
   },
   "outputs": [
    {
     "name": "stdout",
     "output_type": "stream",
     "text": [
      "La duración más común de las sesiones es de 0    60\n",
      "dtype: int64\n"
     ]
    }
   ],
   "source": [
    "#4. ¿Con qué frecuencia los usuarios regresan?\n",
    "print(f\"La duración más común de las sesiones es de {visits_log_us['session_duration_sec'].mode()}\")"
   ]
  },
  {
   "cell_type": "markdown",
   "metadata": {},
   "source": [
    "**Observación:** los datos no se distribuye de forma normal, entonces no es recomendable calcular la frecuencia de visita de usurio con la media y la mediana, se decide calcular con la moda. La duración más común de las sesiones es de 60 segundo, es decir un minutos."
   ]
  },
  {
   "cell_type": "markdown",
   "metadata": {},
   "source": [
    "# Ventas"
   ]
  },
  {
   "cell_type": "code",
   "execution_count": 118,
   "metadata": {
    "trusted": true
   },
   "outputs": [
    {
     "data": {
      "image/png": "[encoded data removed]",
      "text/plain": [
       "<Figure size 640x480 with 1 Axes>"
      ]
     },
     "metadata": {},
     "output_type": "display_data"
    }
   ],
   "source": [
    "# 1. ¿Cuándo empieza la gente a comprar?\n",
    "# Obtener la fecha de registro de cada usuario (primera visita)\n",
    "first_visit = visits_log_us.groupby('uid')['start_ts'].min().reset_index()\n",
    "first_visit.rename(columns={'start_ts': 'registration_date'}, inplace=True)\n",
    "orders_log_us_copy=orders_log_us.copy()\n",
    "orders_log_us_2=orders_log_us.copy()\n",
    "# Obtener la fecha de la primera compra de cada usuario\n",
    "first_purchase = orders_log_us_copy.groupby('uid')['buy_ts'].min().reset_index()\n",
    "first_purchase.rename(columns={'buy_ts': 'first_purchase_date'}, inplace=True)\n",
    "\n",
    "# Unir las tablas en base al 'uid'\n",
    "conversion_data = first_visit.merge(first_purchase, on='uid', how='left')\n",
    "\n",
    "# Calcular la diferencia en días entre el registro y la primera compra\n",
    "conversion_data['conversion_days'] = (conversion_data['first_purchase_date'] - conversion_data['registration_date']).dt.days\n",
    "\n",
    "# Clasificar en categorías (0d, 1d, 2d, etc.)\n",
    "conversion_data['conversion_category'] = 'Conversion ' + conversion_data['conversion_days'].astype(str) + 'd'\n",
    "\n",
    "# Crear un gráfico de barra\n",
    "conversion_data['conversion_days'].hist(bins=30, edgecolor='black', color='red')\n",
    "plt.xlabel('Días hasta la primera compra')\n",
    "plt.ylabel('Número de usuarios')\n",
    "plt.title('Distribución de conversiones')\n",
    "plt.show()"
   ]
  },
  {
   "cell_type": "markdown",
   "metadata": {},
   "source": [
    "La mayoria de los usurios compran los servicios de eventos los primeros 5 días después de registrados."
   ]
  },
  {
   "cell_type": "code",
   "execution_count": 60,
   "metadata": {
    "trusted": true
   },
   "outputs": [
    {
     "name": "stdout",
     "output_type": "stream",
     "text": [
      "         date  orders\n",
      "0  2017-06-01      96\n",
      "1  2017-06-02     111\n",
      "2  2017-06-03      67\n",
      "3  2017-06-04      66\n",
      "4  2017-06-05     161\n"
     ]
    }
   ],
   "source": [
    "#2.¿Cuántos pedidos hacen durante un período de tiempo dado?\n",
    "orders_per_day = orders_log_us_copy.groupby(orders_log_us_copy['buy_ts'].dt.date)['uid'].count().reset_index()\n",
    "orders_per_day.rename(columns={'buy_ts': 'date', 'uid': 'orders'}, inplace=True)\n",
    "print(orders_per_day.head())"
   ]
  },
  {
   "cell_type": "code",
   "execution_count": 61,
   "metadata": {
    "trusted": true
   },
   "outputs": [
    {
     "data": {
      "image/png": "[encoded data removed]",
      "text/plain": [
       "<Figure size 1200x500 with 1 Axes>"
      ]
     },
     "metadata": {},
     "output_type": "display_data"
    }
   ],
   "source": [
    "# Filtrar solo los datos del año 2018\n",
    "orders_per_day['date'] = pd.to_datetime(orders_per_day['date'])\n",
    "\n",
    "orders_2018 = orders_per_day[orders_per_day['date'].dt.year == 2018]\n",
    "\n",
    "# Graficar solo los pedidos de 2018\n",
    "plt.figure(figsize=(12,5))\n",
    "plt.plot(orders_2018['date'], orders_2018['orders'], marker='o', linestyle='-', color='red')\n",
    "plt.xlabel('Fecha')\n",
    "plt.ylabel('Cantidad de Pedidos')\n",
    "plt.title('Pedidos por Día en 2018')\n",
    "plt.xticks(rotation=45)\n",
    "plt.show()"
   ]
  },
  {
   "cell_type": "code",
   "execution_count": 62,
   "metadata": {
    "trusted": true
   },
   "outputs": [
    {
     "name": "stdout",
     "output_type": "stream",
     "text": [
      "El tamaño promedio de compra es: $6.90\n"
     ]
    }
   ],
   "source": [
    "# 3. ¿Cuál es el tamaño promedio de compra?\n",
    "average_order_value = orders_log_us_copy['revenue'].sum() / orders_log_us_copy['uid'].nunique()\n",
    "\n",
    "print(f\"El tamaño promedio de compra es: ${average_order_value:.2f}\")"
   ]
  },
  {
   "cell_type": "code",
   "execution_count": 72,
   "metadata": {
    "scrolled": true,
    "trusted": true
   },
   "outputs": [
    {
     "name": "stdout",
     "output_type": "stream",
     "text": [
      "  first_order_month order_month  revenue   uid\n",
      "0        2017-06-01  2017-06-01  9557.49  2023\n",
      "1        2017-06-01  2017-07-01   981.82    61\n",
      "2        2017-06-01  2017-08-01   885.34    50\n",
      "3        2017-06-01  2017-09-01  1931.30    54\n",
      "4        2017-06-01  2017-10-01  2068.58    88\n"
     ]
    }
   ],
   "source": [
    "# Calcular LTV\n",
    "orders_log_us['buy_ts'] = pd.to_datetime(orders_log_us['buy_ts'])\n",
    "\n",
    "# Calcular la primera fecha de compra por usuario\n",
    "first_order_date_by_customers = orders_log_us.groupby('uid')['buy_ts'].min().reset_index()\n",
    "first_order_date_by_customers.rename(columns={'buy_ts': 'first_order_date'}, inplace=True)\n",
    "\n",
    "# Fusionar la primera fecha de compra con orders_log_us\n",
    "orders_log_us = orders_log_us.merge(first_order_date_by_customers, on='uid', how='left')\n",
    "\n",
    "# Extraer el mes de la primera compra y de cada compra\n",
    "orders_log_us['first_order_month'] = orders_log_us['first_order_date'].astype('datetime64[M]')\n",
    "orders_log_us['order_month'] = orders_log_us['buy_ts'].astype('datetime64[M]')\n",
    "\n",
    "# Agrupar por cohortes y calcular el ingreso total y número de usuarios únicos por mes\n",
    "orders_grouped_by_cohorts = orders_log_us.groupby(\n",
    "    ['first_order_month', 'order_month']\n",
    ").agg({'revenue': 'sum', 'uid': 'nunique'}).reset_index()\n",
    "\n",
    "print(orders_grouped_by_cohorts.head())\n"
   ]
  },
  {
   "cell_type": "code",
   "execution_count": 74,
   "metadata": {
    "trusted": true
   },
   "outputs": [
    {
     "data": {
      "text/html": [
       "<div>\n",
       "<style scoped>\n",
       "    .dataframe tbody tr th:only-of-type {\n",
       "        vertical-align: middle;\n",
       "    }\n",
       "\n",
       "    .dataframe tbody tr th {\n",
       "        vertical-align: top;\n",
       "    }\n",
       "\n",
       "    .dataframe thead th {\n",
       "        text-align: right;\n",
       "    }\n",
       "</style>\n",
       "<table border=\"1\" class=\"dataframe\">\n",
       "  <thead>\n",
       "    <tr style=\"text-align: right;\">\n",
       "      <th>order_month</th>\n",
       "      <th>2017-06-01</th>\n",
       "      <th>2017-07-01</th>\n",
       "      <th>2017-08-01</th>\n",
       "      <th>2017-09-01</th>\n",
       "      <th>2017-10-01</th>\n",
       "      <th>2017-11-01</th>\n",
       "      <th>2017-12-01</th>\n",
       "      <th>2018-01-01</th>\n",
       "      <th>2018-02-01</th>\n",
       "      <th>2018-03-01</th>\n",
       "      <th>2018-04-01</th>\n",
       "      <th>2018-05-01</th>\n",
       "      <th>2018-06-01</th>\n",
       "    </tr>\n",
       "    <tr>\n",
       "      <th>first_order_month</th>\n",
       "      <th></th>\n",
       "      <th></th>\n",
       "      <th></th>\n",
       "      <th></th>\n",
       "      <th></th>\n",
       "      <th></th>\n",
       "      <th></th>\n",
       "      <th></th>\n",
       "      <th></th>\n",
       "      <th></th>\n",
       "      <th></th>\n",
       "      <th></th>\n",
       "      <th></th>\n",
       "    </tr>\n",
       "  </thead>\n",
       "  <tbody>\n",
       "    <tr>\n",
       "      <th>2017-06-01</th>\n",
       "      <td>4.724414</td>\n",
       "      <td>16.095410</td>\n",
       "      <td>17.706800</td>\n",
       "      <td>35.764815</td>\n",
       "      <td>23.506591</td>\n",
       "      <td>22.207761</td>\n",
       "      <td>31.011935</td>\n",
       "      <td>25.033191</td>\n",
       "      <td>19.295690</td>\n",
       "      <td>27.233556</td>\n",
       "      <td>25.681333</td>\n",
       "      <td>9.804151</td>\n",
       "      <td>NaN</td>\n",
       "    </tr>\n",
       "    <tr>\n",
       "      <th>2017-07-01</th>\n",
       "      <td>NaN</td>\n",
       "      <td>6.010218</td>\n",
       "      <td>12.396346</td>\n",
       "      <td>21.035965</td>\n",
       "      <td>10.786094</td>\n",
       "      <td>6.938163</td>\n",
       "      <td>7.896842</td>\n",
       "      <td>6.421111</td>\n",
       "      <td>6.992821</td>\n",
       "      <td>7.382143</td>\n",
       "      <td>12.861818</td>\n",
       "      <td>11.513846</td>\n",
       "      <td>NaN</td>\n",
       "    </tr>\n",
       "    <tr>\n",
       "      <th>2017-08-01</th>\n",
       "      <td>NaN</td>\n",
       "      <td>NaN</td>\n",
       "      <td>5.276518</td>\n",
       "      <td>11.148793</td>\n",
       "      <td>11.851321</td>\n",
       "      <td>12.182955</td>\n",
       "      <td>16.921250</td>\n",
       "      <td>12.139063</td>\n",
       "      <td>9.620333</td>\n",
       "      <td>12.610455</td>\n",
       "      <td>21.070000</td>\n",
       "      <td>8.307419</td>\n",
       "      <td>NaN</td>\n",
       "    </tr>\n",
       "    <tr>\n",
       "      <th>2017-09-01</th>\n",
       "      <td>NaN</td>\n",
       "      <td>NaN</td>\n",
       "      <td>NaN</td>\n",
       "      <td>5.644529</td>\n",
       "      <td>22.188385</td>\n",
       "      <td>13.445200</td>\n",
       "      <td>138.669189</td>\n",
       "      <td>19.881538</td>\n",
       "      <td>26.095000</td>\n",
       "      <td>27.437121</td>\n",
       "      <td>16.961351</td>\n",
       "      <td>11.044651</td>\n",
       "      <td>NaN</td>\n",
       "    </tr>\n",
       "    <tr>\n",
       "      <th>2017-10-01</th>\n",
       "      <td>NaN</td>\n",
       "      <td>NaN</td>\n",
       "      <td>NaN</td>\n",
       "      <td>NaN</td>\n",
       "      <td>5.003733</td>\n",
       "      <td>11.287427</td>\n",
       "      <td>6.753252</td>\n",
       "      <td>7.413152</td>\n",
       "      <td>7.072796</td>\n",
       "      <td>7.255139</td>\n",
       "      <td>6.573214</td>\n",
       "      <td>7.479701</td>\n",
       "      <td>NaN</td>\n",
       "    </tr>\n",
       "    <tr>\n",
       "      <th>2017-11-01</th>\n",
       "      <td>NaN</td>\n",
       "      <td>NaN</td>\n",
       "      <td>NaN</td>\n",
       "      <td>NaN</td>\n",
       "      <td>NaN</td>\n",
       "      <td>5.154683</td>\n",
       "      <td>7.339054</td>\n",
       "      <td>6.786583</td>\n",
       "      <td>12.510660</td>\n",
       "      <td>7.457284</td>\n",
       "      <td>4.580833</td>\n",
       "      <td>7.564839</td>\n",
       "      <td>NaN</td>\n",
       "    </tr>\n",
       "    <tr>\n",
       "      <th>2017-12-01</th>\n",
       "      <td>NaN</td>\n",
       "      <td>NaN</td>\n",
       "      <td>NaN</td>\n",
       "      <td>NaN</td>\n",
       "      <td>NaN</td>\n",
       "      <td>NaN</td>\n",
       "      <td>4.738191</td>\n",
       "      <td>7.816575</td>\n",
       "      <td>39.366019</td>\n",
       "      <td>48.135052</td>\n",
       "      <td>27.431400</td>\n",
       "      <td>23.518413</td>\n",
       "      <td>NaN</td>\n",
       "    </tr>\n",
       "    <tr>\n",
       "      <th>2018-01-01</th>\n",
       "      <td>NaN</td>\n",
       "      <td>NaN</td>\n",
       "      <td>NaN</td>\n",
       "      <td>NaN</td>\n",
       "      <td>NaN</td>\n",
       "      <td>NaN</td>\n",
       "      <td>NaN</td>\n",
       "      <td>4.135636</td>\n",
       "      <td>8.721228</td>\n",
       "      <td>12.365542</td>\n",
       "      <td>11.199767</td>\n",
       "      <td>4.699556</td>\n",
       "      <td>NaN</td>\n",
       "    </tr>\n",
       "    <tr>\n",
       "      <th>2018-02-01</th>\n",
       "      <td>NaN</td>\n",
       "      <td>NaN</td>\n",
       "      <td>NaN</td>\n",
       "      <td>NaN</td>\n",
       "      <td>NaN</td>\n",
       "      <td>NaN</td>\n",
       "      <td>NaN</td>\n",
       "      <td>NaN</td>\n",
       "      <td>4.156987</td>\n",
       "      <td>8.610000</td>\n",
       "      <td>4.942414</td>\n",
       "      <td>6.941026</td>\n",
       "      <td>NaN</td>\n",
       "    </tr>\n",
       "    <tr>\n",
       "      <th>2018-03-01</th>\n",
       "      <td>NaN</td>\n",
       "      <td>NaN</td>\n",
       "      <td>NaN</td>\n",
       "      <td>NaN</td>\n",
       "      <td>NaN</td>\n",
       "      <td>NaN</td>\n",
       "      <td>NaN</td>\n",
       "      <td>NaN</td>\n",
       "      <td>NaN</td>\n",
       "      <td>4.838803</td>\n",
       "      <td>11.811667</td>\n",
       "      <td>19.221897</td>\n",
       "      <td>NaN</td>\n",
       "    </tr>\n",
       "    <tr>\n",
       "      <th>2018-04-01</th>\n",
       "      <td>NaN</td>\n",
       "      <td>NaN</td>\n",
       "      <td>NaN</td>\n",
       "      <td>NaN</td>\n",
       "      <td>NaN</td>\n",
       "      <td>NaN</td>\n",
       "      <td>NaN</td>\n",
       "      <td>NaN</td>\n",
       "      <td>NaN</td>\n",
       "      <td>NaN</td>\n",
       "      <td>4.657597</td>\n",
       "      <td>17.535072</td>\n",
       "      <td>NaN</td>\n",
       "    </tr>\n",
       "    <tr>\n",
       "      <th>2018-05-01</th>\n",
       "      <td>NaN</td>\n",
       "      <td>NaN</td>\n",
       "      <td>NaN</td>\n",
       "      <td>NaN</td>\n",
       "      <td>NaN</td>\n",
       "      <td>NaN</td>\n",
       "      <td>NaN</td>\n",
       "      <td>NaN</td>\n",
       "      <td>NaN</td>\n",
       "      <td>NaN</td>\n",
       "      <td>NaN</td>\n",
       "      <td>4.660562</td>\n",
       "      <td>NaN</td>\n",
       "    </tr>\n",
       "    <tr>\n",
       "      <th>2018-06-01</th>\n",
       "      <td>NaN</td>\n",
       "      <td>NaN</td>\n",
       "      <td>NaN</td>\n",
       "      <td>NaN</td>\n",
       "      <td>NaN</td>\n",
       "      <td>NaN</td>\n",
       "      <td>NaN</td>\n",
       "      <td>NaN</td>\n",
       "      <td>NaN</td>\n",
       "      <td>NaN</td>\n",
       "      <td>NaN</td>\n",
       "      <td>NaN</td>\n",
       "      <td>3.42</td>\n",
       "    </tr>\n",
       "  </tbody>\n",
       "</table>\n",
       "</div>"
      ],
      "text/plain": [
       "order_month        2017-06-01  2017-07-01  2017-08-01  2017-09-01  2017-10-01  \\\n",
       "first_order_month                                                               \n",
       "2017-06-01           4.724414   16.095410   17.706800   35.764815   23.506591   \n",
       "2017-07-01                NaN    6.010218   12.396346   21.035965   10.786094   \n",
       "2017-08-01                NaN         NaN    5.276518   11.148793   11.851321   \n",
       "2017-09-01                NaN         NaN         NaN    5.644529   22.188385   \n",
       "2017-10-01                NaN         NaN         NaN         NaN    5.003733   \n",
       "2017-11-01                NaN         NaN         NaN         NaN         NaN   \n",
       "2017-12-01                NaN         NaN         NaN         NaN         NaN   \n",
       "2018-01-01                NaN         NaN         NaN         NaN         NaN   \n",
       "2018-02-01                NaN         NaN         NaN         NaN         NaN   \n",
       "2018-03-01                NaN         NaN         NaN         NaN         NaN   \n",
       "2018-04-01                NaN         NaN         NaN         NaN         NaN   \n",
       "2018-05-01                NaN         NaN         NaN         NaN         NaN   \n",
       "2018-06-01                NaN         NaN         NaN         NaN         NaN   \n",
       "\n",
       "order_month        2017-11-01  2017-12-01  2018-01-01  2018-02-01  2018-03-01  \\\n",
       "first_order_month                                                               \n",
       "2017-06-01          22.207761   31.011935   25.033191   19.295690   27.233556   \n",
       "2017-07-01           6.938163    7.896842    6.421111    6.992821    7.382143   \n",
       "2017-08-01          12.182955   16.921250   12.139063    9.620333   12.610455   \n",
       "2017-09-01          13.445200  138.669189   19.881538   26.095000   27.437121   \n",
       "2017-10-01          11.287427    6.753252    7.413152    7.072796    7.255139   \n",
       "2017-11-01           5.154683    7.339054    6.786583   12.510660    7.457284   \n",
       "2017-12-01                NaN    4.738191    7.816575   39.366019   48.135052   \n",
       "2018-01-01                NaN         NaN    4.135636    8.721228   12.365542   \n",
       "2018-02-01                NaN         NaN         NaN    4.156987    8.610000   \n",
       "2018-03-01                NaN         NaN         NaN         NaN    4.838803   \n",
       "2018-04-01                NaN         NaN         NaN         NaN         NaN   \n",
       "2018-05-01                NaN         NaN         NaN         NaN         NaN   \n",
       "2018-06-01                NaN         NaN         NaN         NaN         NaN   \n",
       "\n",
       "order_month        2018-04-01  2018-05-01  2018-06-01  \n",
       "first_order_month                                      \n",
       "2017-06-01          25.681333    9.804151         NaN  \n",
       "2017-07-01          12.861818   11.513846         NaN  \n",
       "2017-08-01          21.070000    8.307419         NaN  \n",
       "2017-09-01          16.961351   11.044651         NaN  \n",
       "2017-10-01           6.573214    7.479701         NaN  \n",
       "2017-11-01           4.580833    7.564839         NaN  \n",
       "2017-12-01          27.431400   23.518413         NaN  \n",
       "2018-01-01          11.199767    4.699556         NaN  \n",
       "2018-02-01           4.942414    6.941026         NaN  \n",
       "2018-03-01          11.811667   19.221897         NaN  \n",
       "2018-04-01           4.657597   17.535072         NaN  \n",
       "2018-05-01                NaN    4.660562         NaN  \n",
       "2018-06-01                NaN         NaN        3.42  "
      ]
     },
     "execution_count": 74,
     "metadata": {},
     "output_type": "execute_result"
    }
   ],
   "source": [
    "# Dividir revenue entre la cantidad de valores customer_id para calcular el revenue_per_user\n",
    "orders_grouped_by_cohorts['revenue_per_user'] = (orders_grouped_by_cohorts['revenue']/ orders_grouped_by_cohorts['uid']\n",
    ")\n",
    "\n",
    "orders_grouped_by_cohorts.pivot_table(\n",
    "    index='first_order_month',\n",
    "    columns='order_month',\n",
    "    values='revenue_per_user',\n",
    "    aggfunc='mean',\n",
    ")"
   ]
  },
  {
   "cell_type": "code",
   "execution_count": 75,
   "metadata": {
    "trusted": true
   },
   "outputs": [
    {
     "data": {
      "text/plain": [
       "0     0 days\n",
       "1    30 days\n",
       "2    61 days\n",
       "3    92 days\n",
       "4   122 days\n",
       "Name: cohort_lifetime, dtype: timedelta64[ns]"
      ]
     },
     "execution_count": 75,
     "metadata": {},
     "output_type": "execute_result"
    }
   ],
   "source": [
    "#Encontrar el ciclo de vida de la cohorte\n",
    "orders_grouped_by_cohorts = orders_grouped_by_cohorts.reset_index()\n",
    "orders_grouped_by_cohorts['cohort_lifetime'] = (\n",
    "    orders_grouped_by_cohorts['order_month']\n",
    "    - orders_grouped_by_cohorts['first_order_month']\n",
    ")\n",
    "orders_grouped_by_cohorts['cohort_lifetime'].head()"
   ]
  },
  {
   "cell_type": "code",
   "execution_count": 76,
   "metadata": {
    "trusted": true
   },
   "outputs": [
    {
     "name": "stdout",
     "output_type": "stream",
     "text": [
      "0    0.000000\n",
      "1    0.985647\n",
      "2    2.004148\n",
      "3    3.022649\n",
      "4    4.008296\n",
      "Name: cohort_lifetime, dtype: float64\n"
     ]
    }
   ],
   "source": [
    "orders_grouped_by_cohorts['cohort_lifetime'] = orders_grouped_by_cohorts[\n",
    "    'cohort_lifetime'\n",
    "] / np.timedelta64(1, 'M')\n",
    "print(orders_grouped_by_cohorts['cohort_lifetime'].head())"
   ]
  },
  {
   "cell_type": "code",
   "execution_count": null,
   "metadata": {
    "trusted": true
   },
   "outputs": [],
   "source": [
    "orders_grouped_by_cohorts['cohort_lifetime'] = orders_grouped_by_cohorts[\n",
    "    'cohort_lifetime'\n",
    "] / np.timedelta64(1, 'M')\n",
    "print(orders_grouped_by_cohorts['cohort_lifetime'].head())"
   ]
  },
  {
   "cell_type": "code",
   "execution_count": 77,
   "metadata": {
    "trusted": true
   },
   "outputs": [
    {
     "name": "stdout",
     "output_type": "stream",
     "text": [
      "  first_order_month order_month  cohort_lifetime\n",
      "0        2017-06-01  2017-06-01                0\n",
      "1        2017-06-01  2017-07-01                1\n",
      "2        2017-06-01  2017-08-01                2\n",
      "3        2017-06-01  2017-09-01                3\n",
      "4        2017-06-01  2017-10-01                4\n",
      "   first_order_month order_month  cohort_lifetime\n",
      "74        2018-03-01  2018-05-01                2\n",
      "75        2018-04-01  2018-04-01                0\n",
      "76        2018-04-01  2018-05-01                1\n",
      "77        2018-05-01  2018-05-01                0\n",
      "78        2018-06-01  2018-06-01                0\n"
     ]
    }
   ],
   "source": [
    "orders_grouped_by_cohorts['cohort_lifetime'] = (\n",
    "    orders_grouped_by_cohorts['cohort_lifetime'].round().astype('int')\n",
    ")\n",
    "print(\n",
    "    orders_grouped_by_cohorts[\n",
    "        ['first_order_month', 'order_month', 'cohort_lifetime']\n",
    "    ].head()\n",
    ")\n",
    "print(\n",
    "    orders_grouped_by_cohorts[\n",
    "        ['first_order_month', 'order_month', 'cohort_lifetime']\n",
    "    ].tail()\n",
    ")"
   ]
  },
  {
   "cell_type": "code",
   "execution_count": 78,
   "metadata": {
    "trusted": true
   },
   "outputs": [
    {
     "data": {
      "text/plain": [
       "0     01.06.2017\n",
       "1     01.06.2017\n",
       "2     01.06.2017\n",
       "3     01.06.2017\n",
       "4     01.06.2017\n",
       "         ...    \n",
       "74    01.03.2018\n",
       "75    01.04.2018\n",
       "76    01.04.2018\n",
       "77    01.05.2018\n",
       "78    01.06.2018\n",
       "Name: first_order_month, Length: 79, dtype: object"
      ]
     },
     "execution_count": 78,
     "metadata": {},
     "output_type": "execute_result"
    }
   ],
   "source": [
    "#Convertir los objetos Series de tipo datetime en strings en formato de date.\n",
    "orders_grouped_by_cohorts['first_order_month'].dt.strftime('%d.%m.%Y')"
   ]
  },
  {
   "cell_type": "code",
   "execution_count": 81,
   "metadata": {
    "trusted": true
   },
   "outputs": [
    {
     "name": "stdout",
     "output_type": "stream",
     "text": [
      "cohort_lifetime          0          1          2           3          4   \\\n",
      "first_order_month                                                          \n",
      "2017-06            4.724414  16.095410  17.706800   35.764815  23.506591   \n",
      "2017-07            6.010218  12.396346  21.035965   10.786094   6.938163   \n",
      "2017-08            5.276518  11.148793  11.851321   12.182955  16.921250   \n",
      "2017-09            5.644529  22.188385  13.445200  138.669189  19.881538   \n",
      "2017-10            5.003733  11.287427   6.753252    7.413152   7.072796   \n",
      "2017-11            5.154683   7.339054   6.786583   12.510660   7.457284   \n",
      "2017-12            4.738191   7.816575  39.366019   48.135052  27.431400   \n",
      "2018-01            4.135636   8.721228  12.365542   11.199767   4.699556   \n",
      "2018-02            4.156987   8.610000   4.942414    6.941026        NaN   \n",
      "2018-03            4.838803  11.811667  19.221897         NaN        NaN   \n",
      "2018-04            4.657597  17.535072        NaN         NaN        NaN   \n",
      "2018-05            4.660562        NaN        NaN         NaN        NaN   \n",
      "2018-06            3.420000        NaN        NaN         NaN        NaN   \n",
      "\n",
      "cohort_lifetime           5          6          7          8          9   \\\n",
      "first_order_month                                                          \n",
      "2017-06            22.207761  31.011935  25.033191  19.295690  27.233556   \n",
      "2017-07             7.896842   6.421111   6.992821   7.382143  12.861818   \n",
      "2017-08            12.139063   9.620333  12.610455  21.070000   8.307419   \n",
      "2017-09            26.095000  27.437121  16.961351  11.044651        NaN   \n",
      "2017-10             7.255139   6.573214   7.479701        NaN        NaN   \n",
      "2017-11             4.580833   7.564839        NaN        NaN        NaN   \n",
      "2017-12            23.518413        NaN        NaN        NaN        NaN   \n",
      "2018-01                  NaN        NaN        NaN        NaN        NaN   \n",
      "2018-02                  NaN        NaN        NaN        NaN        NaN   \n",
      "2018-03                  NaN        NaN        NaN        NaN        NaN   \n",
      "2018-04                  NaN        NaN        NaN        NaN        NaN   \n",
      "2018-05                  NaN        NaN        NaN        NaN        NaN   \n",
      "2018-06                  NaN        NaN        NaN        NaN        NaN   \n",
      "\n",
      "cohort_lifetime           10        11  \n",
      "first_order_month                       \n",
      "2017-06            25.681333  9.804151  \n",
      "2017-07            11.513846       NaN  \n",
      "2017-08                  NaN       NaN  \n",
      "2017-09                  NaN       NaN  \n",
      "2017-10                  NaN       NaN  \n",
      "2017-11                  NaN       NaN  \n",
      "2017-12                  NaN       NaN  \n",
      "2018-01                  NaN       NaN  \n",
      "2018-02                  NaN       NaN  \n",
      "2018-03                  NaN       NaN  \n",
      "2018-04                  NaN       NaN  \n",
      "2018-05                  NaN       NaN  \n",
      "2018-06                  NaN       NaN  \n"
     ]
    }
   ],
   "source": [
    "orders_grouped_by_cohorts['first_order_month'] = pd.to_datetime(orders_grouped_by_cohorts['first_order_month'])\n",
    "\n",
    "# Convertir a formato Año-Mes\n",
    "orders_grouped_by_cohorts['first_order_month'] = orders_grouped_by_cohorts['first_order_month'].dt.strftime('%Y-%m')\n",
    "\n",
    "# Crear tabla dinámica\n",
    "revenue_per_user_pivot = orders_grouped_by_cohorts.pivot_table(\n",
    "    index='first_order_month',\n",
    "    columns='cohort_lifetime',\n",
    "    values='revenue_per_user',\n",
    "    aggfunc='mean'\n",
    ")\n",
    "\n",
    "print(revenue_per_user_pivot)"
   ]
  },
  {
   "cell_type": "code",
   "execution_count": 83,
   "metadata": {
    "trusted": true
   },
   "outputs": [
    {
     "data": {
      "text/plain": [
       "<AxesSubplot:title={'center':'Tamaño promedio de compra del cliente'}, xlabel='cohort_lifetime', ylabel='first_order_month'>"
      ]
     },
     "execution_count": 83,
     "metadata": {},
     "output_type": "execute_result"
    },
    {
     "data": {
      "image/png": "[encoded data removed]",
      "text/plain": [
       "<Figure size 1300x900 with 2 Axes>"
      ]
     },
     "metadata": {},
     "output_type": "display_data"
    }
   ],
   "source": [
    "#Gráfico de mapa de calor\n",
    "plt.figure(figsize=(13, 9))\n",
    "plt.title('Tamaño promedio de compra del cliente')\n",
    "sns.heatmap(\n",
    "    revenue_per_user_pivot,\n",
    "    annot=True,\n",
    "    fmt='.1f',\n",
    "    linewidths=1,\n",
    "    linecolor='gray',\n",
    ")"
   ]
  },
  {
   "cell_type": "markdown",
   "metadata": {},
   "source": [
    "**Observación:** El tamaño de compra promedio de la cohorte de septiembre de 2017 es la que más se destaca, al igual que el cohorte de diciembre del 2017."
   ]
  },
  {
   "cell_type": "markdown",
   "metadata": {},
   "source": [
    "<div class=\"alert alert-block alert-danger\">\n",
    "<b>Comentario del revisor (1ra Iteracion)</b> <a class=“tocSkip”></a>\n",
    "\n",
    "Para complementar el análisis deberías mostrar el resultado en una gráfica tipo mapa de calor y debes redactar tus interpretaciones de esta sección\n",
    "    \n",
    "</div>"
   ]
  },
  {
   "cell_type": "markdown",
   "metadata": {},
   "source": [
    "# Marketing"
   ]
  },
  {
   "cell_type": "code",
   "execution_count": 86,
   "metadata": {
    "trusted": true
   },
   "outputs": [
    {
     "data": {
      "text/plain": [
       "<AxesSubplot:xlabel='buy_ts', ylabel='Count'>"
      ]
     },
     "execution_count": 86,
     "metadata": {},
     "output_type": "execute_result"
    },
    {
     "data": {
      "image/png": "[encoded data removed]",
      "text/plain": [
       "<Figure size 640x480 with 1 Axes>"
      ]
     },
     "metadata": {},
     "output_type": "display_data"
    }
   ],
   "source": [
    "#Gráficar por número de orden el DF orders_log_us\n",
    "plt.xticks(rotation=45)\n",
    "sns.histplot(orders_log_us['buy_ts'].astype(\"datetime64\"), bins=10, kde=True)"
   ]
  },
  {
   "cell_type": "markdown",
   "metadata": {},
   "source": [
    "Los meses de septiembre, octubre, noviembre y diciembre son los que más destacan en número de pedidos."
   ]
  },
  {
   "cell_type": "code",
   "execution_count": 88,
   "metadata": {
    "trusted": true
   },
   "outputs": [
    {
     "data": {
      "text/plain": [
       "<AxesSubplot:xlabel='dt', ylabel='Count'>"
      ]
     },
     "execution_count": 88,
     "metadata": {},
     "output_type": "execute_result"
    },
    {
     "data": {
      "image/png": "[encoded data removed]",
      "text/plain": [
       "<Figure size 640x480 with 1 Axes>"
      ]
     },
     "metadata": {},
     "output_type": "display_data"
    }
   ],
   "source": [
    "#Gráficar por count costs para el DF costs_us\n",
    "plt.xticks(rotation=45) #gira las etiquetas en el eje X  \n",
    "sns.histplot(costs_us['dt'].astype(\"datetime64\"), bins=10)"
   ]
  },
  {
   "cell_type": "markdown",
   "metadata": {},
   "source": [
    "**LVT**"
   ]
  },
  {
   "cell_type": "code",
   "execution_count": 119,
   "metadata": {
    "trusted": true
   },
   "outputs": [
    {
     "data": {
      "text/html": [
       "<div>\n",
       "<style scoped>\n",
       "    .dataframe tbody tr th:only-of-type {\n",
       "        vertical-align: middle;\n",
       "    }\n",
       "\n",
       "    .dataframe tbody tr th {\n",
       "        vertical-align: top;\n",
       "    }\n",
       "\n",
       "    .dataframe thead th {\n",
       "        text-align: right;\n",
       "    }\n",
       "</style>\n",
       "<table border=\"1\" class=\"dataframe\">\n",
       "  <thead>\n",
       "    <tr style=\"text-align: right;\">\n",
       "      <th></th>\n",
       "      <th>uid</th>\n",
       "      <th>first_order_month</th>\n",
       "    </tr>\n",
       "  </thead>\n",
       "  <tbody>\n",
       "    <tr>\n",
       "      <th>0</th>\n",
       "      <td>313578113262317</td>\n",
       "      <td>2018-01-01</td>\n",
       "    </tr>\n",
       "    <tr>\n",
       "      <th>1</th>\n",
       "      <td>1575281904278712</td>\n",
       "      <td>2017-06-01</td>\n",
       "    </tr>\n",
       "    <tr>\n",
       "      <th>2</th>\n",
       "      <td>2429014661409475</td>\n",
       "      <td>2017-10-01</td>\n",
       "    </tr>\n",
       "    <tr>\n",
       "      <th>3</th>\n",
       "      <td>2464366381792757</td>\n",
       "      <td>2018-01-01</td>\n",
       "    </tr>\n",
       "    <tr>\n",
       "      <th>4</th>\n",
       "      <td>2551852515556206</td>\n",
       "      <td>2017-11-01</td>\n",
       "    </tr>\n",
       "  </tbody>\n",
       "</table>\n",
       "</div>"
      ],
      "text/plain": [
       "                uid first_order_month\n",
       "0   313578113262317        2018-01-01\n",
       "1  1575281904278712        2017-06-01\n",
       "2  2429014661409475        2017-10-01\n",
       "3  2464366381792757        2018-01-01\n",
       "4  2551852515556206        2017-11-01"
      ]
     },
     "execution_count": 119,
     "metadata": {},
     "output_type": "execute_result"
    }
   ],
   "source": [
    "orders_log_us_2['order_month'] = orders_log_us_2['buy_ts'].astype('datetime64[M]')\n",
    "costs_us['month'] = costs_us['dt'].astype('datetime64[M]')\n",
    "first_orders = orders_log_us.groupby('uid').agg({'order_month': 'min'}).reset_index()\n",
    "first_orders.columns = ['uid', 'first_order_month']\n",
    "first_orders.head()"
   ]
  },
  {
   "cell_type": "code",
   "execution_count": 120,
   "metadata": {
    "trusted": true
   },
   "outputs": [
    {
     "data": {
      "text/html": [
       "<div>\n",
       "<style scoped>\n",
       "    .dataframe tbody tr th:only-of-type {\n",
       "        vertical-align: middle;\n",
       "    }\n",
       "\n",
       "    .dataframe tbody tr th {\n",
       "        vertical-align: top;\n",
       "    }\n",
       "\n",
       "    .dataframe thead th {\n",
       "        text-align: right;\n",
       "    }\n",
       "</style>\n",
       "<table border=\"1\" class=\"dataframe\">\n",
       "  <thead>\n",
       "    <tr style=\"text-align: right;\">\n",
       "      <th></th>\n",
       "      <th>first_order_month</th>\n",
       "      <th>n_buyers</th>\n",
       "    </tr>\n",
       "  </thead>\n",
       "  <tbody>\n",
       "    <tr>\n",
       "      <th>0</th>\n",
       "      <td>2017-06-01</td>\n",
       "      <td>2023</td>\n",
       "    </tr>\n",
       "    <tr>\n",
       "      <th>1</th>\n",
       "      <td>2017-07-01</td>\n",
       "      <td>1923</td>\n",
       "    </tr>\n",
       "    <tr>\n",
       "      <th>2</th>\n",
       "      <td>2017-08-01</td>\n",
       "      <td>1370</td>\n",
       "    </tr>\n",
       "    <tr>\n",
       "      <th>3</th>\n",
       "      <td>2017-09-01</td>\n",
       "      <td>2581</td>\n",
       "    </tr>\n",
       "    <tr>\n",
       "      <th>4</th>\n",
       "      <td>2017-10-01</td>\n",
       "      <td>4340</td>\n",
       "    </tr>\n",
       "  </tbody>\n",
       "</table>\n",
       "</div>"
      ],
      "text/plain": [
       "  first_order_month  n_buyers\n",
       "0        2017-06-01      2023\n",
       "1        2017-07-01      1923\n",
       "2        2017-08-01      1370\n",
       "3        2017-09-01      2581\n",
       "4        2017-10-01      4340"
      ]
     },
     "execution_count": 120,
     "metadata": {},
     "output_type": "execute_result"
    }
   ],
   "source": [
    "cohort_sizes = first_orders.groupby('first_order_month').agg({'uid': 'nunique'}).reset_index()\n",
    "cohort_sizes.columns = ['first_order_month', 'n_buyers']\n",
    "cohort_sizes.head()"
   ]
  },
  {
   "cell_type": "code",
   "execution_count": 133,
   "metadata": {
    "trusted": true
   },
   "outputs": [
    {
     "data": {
      "text/html": [
       "<div>\n",
       "<style scoped>\n",
       "    .dataframe tbody tr th:only-of-type {\n",
       "        vertical-align: middle;\n",
       "    }\n",
       "\n",
       "    .dataframe tbody tr th {\n",
       "        vertical-align: top;\n",
       "    }\n",
       "\n",
       "    .dataframe thead th {\n",
       "        text-align: right;\n",
       "    }\n",
       "</style>\n",
       "<table border=\"1\" class=\"dataframe\">\n",
       "  <thead>\n",
       "    <tr style=\"text-align: right;\">\n",
       "      <th></th>\n",
       "      <th>buy_ts</th>\n",
       "      <th>revenue</th>\n",
       "      <th>uid</th>\n",
       "      <th>first_order_date</th>\n",
       "      <th>first_order_month</th>\n",
       "      <th>order_month</th>\n",
       "      <th>first_order_date</th>\n",
       "      <th>first_order_date</th>\n",
       "    </tr>\n",
       "  </thead>\n",
       "  <tbody>\n",
       "    <tr>\n",
       "      <th>0</th>\n",
       "      <td>2017-06-01 00:10:00</td>\n",
       "      <td>17.00</td>\n",
       "      <td>10329302124590727494</td>\n",
       "      <td>2017-06-01 00:10:00</td>\n",
       "      <td>2017-06-01</td>\n",
       "      <td>2017-06-01</td>\n",
       "      <td>2017-06-01 00:10:00</td>\n",
       "      <td>2017-06-01 00:10:00</td>\n",
       "    </tr>\n",
       "    <tr>\n",
       "      <th>1</th>\n",
       "      <td>2017-06-01 00:25:00</td>\n",
       "      <td>0.55</td>\n",
       "      <td>11627257723692907447</td>\n",
       "      <td>2017-06-01 00:25:00</td>\n",
       "      <td>2017-06-01</td>\n",
       "      <td>2017-06-01</td>\n",
       "      <td>2017-06-01 00:25:00</td>\n",
       "      <td>2017-06-01 00:25:00</td>\n",
       "    </tr>\n",
       "    <tr>\n",
       "      <th>2</th>\n",
       "      <td>2017-06-01 00:27:00</td>\n",
       "      <td>0.37</td>\n",
       "      <td>17903680561304213844</td>\n",
       "      <td>2017-06-01 00:27:00</td>\n",
       "      <td>2017-06-01</td>\n",
       "      <td>2017-06-01</td>\n",
       "      <td>2017-06-01 00:27:00</td>\n",
       "      <td>2017-06-01 00:27:00</td>\n",
       "    </tr>\n",
       "    <tr>\n",
       "      <th>3</th>\n",
       "      <td>2017-06-01 00:29:00</td>\n",
       "      <td>0.55</td>\n",
       "      <td>16109239769442553005</td>\n",
       "      <td>2017-06-01 00:29:00</td>\n",
       "      <td>2017-06-01</td>\n",
       "      <td>2017-06-01</td>\n",
       "      <td>2017-06-01 00:29:00</td>\n",
       "      <td>2017-06-01 00:29:00</td>\n",
       "    </tr>\n",
       "    <tr>\n",
       "      <th>4</th>\n",
       "      <td>2017-06-01 07:58:00</td>\n",
       "      <td>0.37</td>\n",
       "      <td>14200605875248379450</td>\n",
       "      <td>2017-06-01 07:58:00</td>\n",
       "      <td>2017-06-01</td>\n",
       "      <td>2017-06-01</td>\n",
       "      <td>2017-06-01 07:58:00</td>\n",
       "      <td>2017-06-01 07:58:00</td>\n",
       "    </tr>\n",
       "  </tbody>\n",
       "</table>\n",
       "</div>"
      ],
      "text/plain": [
       "               buy_ts  revenue                   uid    first_order_date  \\\n",
       "0 2017-06-01 00:10:00    17.00  10329302124590727494 2017-06-01 00:10:00   \n",
       "1 2017-06-01 00:25:00     0.55  11627257723692907447 2017-06-01 00:25:00   \n",
       "2 2017-06-01 00:27:00     0.37  17903680561304213844 2017-06-01 00:27:00   \n",
       "3 2017-06-01 00:29:00     0.55  16109239769442553005 2017-06-01 00:29:00   \n",
       "4 2017-06-01 07:58:00     0.37  14200605875248379450 2017-06-01 07:58:00   \n",
       "\n",
       "  first_order_month order_month    first_order_date    first_order_date  \n",
       "0        2017-06-01  2017-06-01 2017-06-01 00:10:00 2017-06-01 00:10:00  \n",
       "1        2017-06-01  2017-06-01 2017-06-01 00:25:00 2017-06-01 00:25:00  \n",
       "2        2017-06-01  2017-06-01 2017-06-01 00:27:00 2017-06-01 00:27:00  \n",
       "3        2017-06-01  2017-06-01 2017-06-01 00:29:00 2017-06-01 00:29:00  \n",
       "4        2017-06-01  2017-06-01 2017-06-01 07:58:00 2017-06-01 07:58:00  "
      ]
     },
     "execution_count": 133,
     "metadata": {},
     "output_type": "execute_result"
    }
   ],
   "source": [
    "orders_ = pd.merge(orders_log_us_2, first_orders, on=['uid', 'first_order_month'])\n",
    "orders_.head()"
   ]
  },
  {
   "cell_type": "code",
   "execution_count": 134,
   "metadata": {
    "trusted": true
   },
   "outputs": [
    {
     "data": {
      "text/html": [
       "<div>\n",
       "<style scoped>\n",
       "    .dataframe tbody tr th:only-of-type {\n",
       "        vertical-align: middle;\n",
       "    }\n",
       "\n",
       "    .dataframe tbody tr th {\n",
       "        vertical-align: top;\n",
       "    }\n",
       "\n",
       "    .dataframe thead th {\n",
       "        text-align: right;\n",
       "    }\n",
       "</style>\n",
       "<table border=\"1\" class=\"dataframe\">\n",
       "  <thead>\n",
       "    <tr style=\"text-align: right;\">\n",
       "      <th></th>\n",
       "      <th>first_order_month</th>\n",
       "      <th>order_month</th>\n",
       "      <th>revenue</th>\n",
       "    </tr>\n",
       "  </thead>\n",
       "  <tbody>\n",
       "    <tr>\n",
       "      <th>0</th>\n",
       "      <td>2017-06-01</td>\n",
       "      <td>2017-06-01</td>\n",
       "      <td>9557.49</td>\n",
       "    </tr>\n",
       "    <tr>\n",
       "      <th>1</th>\n",
       "      <td>2017-06-01</td>\n",
       "      <td>2017-07-01</td>\n",
       "      <td>981.82</td>\n",
       "    </tr>\n",
       "    <tr>\n",
       "      <th>2</th>\n",
       "      <td>2017-06-01</td>\n",
       "      <td>2017-08-01</td>\n",
       "      <td>885.34</td>\n",
       "    </tr>\n",
       "    <tr>\n",
       "      <th>3</th>\n",
       "      <td>2017-06-01</td>\n",
       "      <td>2017-09-01</td>\n",
       "      <td>1931.30</td>\n",
       "    </tr>\n",
       "    <tr>\n",
       "      <th>4</th>\n",
       "      <td>2017-06-01</td>\n",
       "      <td>2017-10-01</td>\n",
       "      <td>2068.58</td>\n",
       "    </tr>\n",
       "  </tbody>\n",
       "</table>\n",
       "</div>"
      ],
      "text/plain": [
       "  first_order_month order_month  revenue\n",
       "0        2017-06-01  2017-06-01  9557.49\n",
       "1        2017-06-01  2017-07-01   981.82\n",
       "2        2017-06-01  2017-08-01   885.34\n",
       "3        2017-06-01  2017-09-01  1931.30\n",
       "4        2017-06-01  2017-10-01  2068.58"
      ]
     },
     "execution_count": 134,
     "metadata": {},
     "output_type": "execute_result"
    }
   ],
   "source": [
    "cohorts = orders_.groupby(['first_order_month','order_month']).agg({'revenue': 'sum'}).reset_index()\n",
    "cohorts.head()"
   ]
  },
  {
   "cell_type": "code",
   "execution_count": 135,
   "metadata": {
    "trusted": true
   },
   "outputs": [
    {
     "data": {
      "text/html": [
       "<div>\n",
       "<style scoped>\n",
       "    .dataframe tbody tr th:only-of-type {\n",
       "        vertical-align: middle;\n",
       "    }\n",
       "\n",
       "    .dataframe tbody tr th {\n",
       "        vertical-align: top;\n",
       "    }\n",
       "\n",
       "    .dataframe thead th {\n",
       "        text-align: right;\n",
       "    }\n",
       "</style>\n",
       "<table border=\"1\" class=\"dataframe\">\n",
       "  <thead>\n",
       "    <tr style=\"text-align: right;\">\n",
       "      <th></th>\n",
       "      <th>first_order_month</th>\n",
       "      <th>n_buyers</th>\n",
       "      <th>order_month</th>\n",
       "      <th>revenue</th>\n",
       "    </tr>\n",
       "  </thead>\n",
       "  <tbody>\n",
       "    <tr>\n",
       "      <th>0</th>\n",
       "      <td>2017-06-01</td>\n",
       "      <td>2023</td>\n",
       "      <td>2017-06-01</td>\n",
       "      <td>9557.49</td>\n",
       "    </tr>\n",
       "    <tr>\n",
       "      <th>1</th>\n",
       "      <td>2017-06-01</td>\n",
       "      <td>2023</td>\n",
       "      <td>2017-07-01</td>\n",
       "      <td>981.82</td>\n",
       "    </tr>\n",
       "    <tr>\n",
       "      <th>2</th>\n",
       "      <td>2017-06-01</td>\n",
       "      <td>2023</td>\n",
       "      <td>2017-08-01</td>\n",
       "      <td>885.34</td>\n",
       "    </tr>\n",
       "    <tr>\n",
       "      <th>3</th>\n",
       "      <td>2017-06-01</td>\n",
       "      <td>2023</td>\n",
       "      <td>2017-09-01</td>\n",
       "      <td>1931.30</td>\n",
       "    </tr>\n",
       "    <tr>\n",
       "      <th>4</th>\n",
       "      <td>2017-06-01</td>\n",
       "      <td>2023</td>\n",
       "      <td>2017-10-01</td>\n",
       "      <td>2068.58</td>\n",
       "    </tr>\n",
       "  </tbody>\n",
       "</table>\n",
       "</div>"
      ],
      "text/plain": [
       "  first_order_month  n_buyers order_month  revenue\n",
       "0        2017-06-01      2023  2017-06-01  9557.49\n",
       "1        2017-06-01      2023  2017-07-01   981.82\n",
       "2        2017-06-01      2023  2017-08-01   885.34\n",
       "3        2017-06-01      2023  2017-09-01  1931.30\n",
       "4        2017-06-01      2023  2017-10-01  2068.58"
      ]
     },
     "execution_count": 135,
     "metadata": {},
     "output_type": "execute_result"
    }
   ],
   "source": [
    "report = pd.merge(cohort_sizes, cohorts, on='first_order_month')\n",
    "report.head()"
   ]
  },
  {
   "cell_type": "code",
   "execution_count": 136,
   "metadata": {
    "trusted": true
   },
   "outputs": [
    {
     "data": {
      "text/html": [
       "<div>\n",
       "<style scoped>\n",
       "    .dataframe tbody tr th:only-of-type {\n",
       "        vertical-align: middle;\n",
       "    }\n",
       "\n",
       "    .dataframe tbody tr th {\n",
       "        vertical-align: top;\n",
       "    }\n",
       "\n",
       "    .dataframe thead th {\n",
       "        text-align: right;\n",
       "    }\n",
       "</style>\n",
       "<table border=\"1\" class=\"dataframe\">\n",
       "  <thead>\n",
       "    <tr style=\"text-align: right;\">\n",
       "      <th></th>\n",
       "      <th>first_order_month</th>\n",
       "      <th>n_buyers</th>\n",
       "      <th>order_month</th>\n",
       "      <th>revenue</th>\n",
       "      <th>gp</th>\n",
       "      <th>age</th>\n",
       "    </tr>\n",
       "  </thead>\n",
       "  <tbody>\n",
       "    <tr>\n",
       "      <th>0</th>\n",
       "      <td>2017-06-01</td>\n",
       "      <td>2023</td>\n",
       "      <td>2017-06-01</td>\n",
       "      <td>9557.49</td>\n",
       "      <td>4778.745</td>\n",
       "      <td>0</td>\n",
       "    </tr>\n",
       "    <tr>\n",
       "      <th>1</th>\n",
       "      <td>2017-06-01</td>\n",
       "      <td>2023</td>\n",
       "      <td>2017-07-01</td>\n",
       "      <td>981.82</td>\n",
       "      <td>490.910</td>\n",
       "      <td>1</td>\n",
       "    </tr>\n",
       "    <tr>\n",
       "      <th>2</th>\n",
       "      <td>2017-06-01</td>\n",
       "      <td>2023</td>\n",
       "      <td>2017-08-01</td>\n",
       "      <td>885.34</td>\n",
       "      <td>442.670</td>\n",
       "      <td>2</td>\n",
       "    </tr>\n",
       "    <tr>\n",
       "      <th>3</th>\n",
       "      <td>2017-06-01</td>\n",
       "      <td>2023</td>\n",
       "      <td>2017-09-01</td>\n",
       "      <td>1931.30</td>\n",
       "      <td>965.650</td>\n",
       "      <td>3</td>\n",
       "    </tr>\n",
       "    <tr>\n",
       "      <th>4</th>\n",
       "      <td>2017-06-01</td>\n",
       "      <td>2023</td>\n",
       "      <td>2017-10-01</td>\n",
       "      <td>2068.58</td>\n",
       "      <td>1034.290</td>\n",
       "      <td>4</td>\n",
       "    </tr>\n",
       "  </tbody>\n",
       "</table>\n",
       "</div>"
      ],
      "text/plain": [
       "  first_order_month  n_buyers order_month  revenue        gp  age\n",
       "0        2017-06-01      2023  2017-06-01  9557.49  4778.745    0\n",
       "1        2017-06-01      2023  2017-07-01   981.82   490.910    1\n",
       "2        2017-06-01      2023  2017-08-01   885.34   442.670    2\n",
       "3        2017-06-01      2023  2017-09-01  1931.30   965.650    3\n",
       "4        2017-06-01      2023  2017-10-01  2068.58  1034.290    4"
      ]
     },
     "execution_count": 136,
     "metadata": {},
     "output_type": "execute_result"
    }
   ],
   "source": [
    "margin_rate = 0.5\n",
    "\n",
    "report['gp'] = report['revenue'] * margin_rate\n",
    "report['age'] = (\n",
    "    report['order_month'] - report['first_order_month']\n",
    ") / np.timedelta64(1, 'M')\n",
    "report['age'] = report['age'].round().astype('int')\n",
    "\n",
    "report.head()"
   ]
  },
  {
   "cell_type": "code",
   "execution_count": 137,
   "metadata": {
    "trusted": true
   },
   "outputs": [
    {
     "data": {
      "text/html": [
       "<div>\n",
       "<style scoped>\n",
       "    .dataframe tbody tr th:only-of-type {\n",
       "        vertical-align: middle;\n",
       "    }\n",
       "\n",
       "    .dataframe tbody tr th {\n",
       "        vertical-align: top;\n",
       "    }\n",
       "\n",
       "    .dataframe thead th {\n",
       "        text-align: right;\n",
       "    }\n",
       "</style>\n",
       "<table border=\"1\" class=\"dataframe\">\n",
       "  <thead>\n",
       "    <tr style=\"text-align: right;\">\n",
       "      <th>age</th>\n",
       "      <th>0</th>\n",
       "      <th>1</th>\n",
       "      <th>2</th>\n",
       "      <th>3</th>\n",
       "      <th>4</th>\n",
       "      <th>5</th>\n",
       "      <th>6</th>\n",
       "      <th>7</th>\n",
       "      <th>8</th>\n",
       "      <th>9</th>\n",
       "      <th>10</th>\n",
       "      <th>11</th>\n",
       "    </tr>\n",
       "    <tr>\n",
       "      <th>first_order_month</th>\n",
       "      <th></th>\n",
       "      <th></th>\n",
       "      <th></th>\n",
       "      <th></th>\n",
       "      <th></th>\n",
       "      <th></th>\n",
       "      <th></th>\n",
       "      <th></th>\n",
       "      <th></th>\n",
       "      <th></th>\n",
       "      <th></th>\n",
       "      <th></th>\n",
       "    </tr>\n",
       "  </thead>\n",
       "  <tbody>\n",
       "    <tr>\n",
       "      <th>2017-06-01</th>\n",
       "      <td>2.0</td>\n",
       "      <td>0.0</td>\n",
       "      <td>0.0</td>\n",
       "      <td>0.0</td>\n",
       "      <td>1.0</td>\n",
       "      <td>0.0</td>\n",
       "      <td>0.0</td>\n",
       "      <td>0.0</td>\n",
       "      <td>0.0</td>\n",
       "      <td>0.0</td>\n",
       "      <td>0.0</td>\n",
       "      <td>0.0</td>\n",
       "    </tr>\n",
       "    <tr>\n",
       "      <th>2017-07-01</th>\n",
       "      <td>3.0</td>\n",
       "      <td>0.0</td>\n",
       "      <td>0.0</td>\n",
       "      <td>0.0</td>\n",
       "      <td>0.0</td>\n",
       "      <td>0.0</td>\n",
       "      <td>0.0</td>\n",
       "      <td>0.0</td>\n",
       "      <td>0.0</td>\n",
       "      <td>0.0</td>\n",
       "      <td>0.0</td>\n",
       "      <td></td>\n",
       "    </tr>\n",
       "    <tr>\n",
       "      <th>2017-08-01</th>\n",
       "      <td>3.0</td>\n",
       "      <td>0.0</td>\n",
       "      <td>0.0</td>\n",
       "      <td>0.0</td>\n",
       "      <td>0.0</td>\n",
       "      <td>0.0</td>\n",
       "      <td>0.0</td>\n",
       "      <td>0.0</td>\n",
       "      <td>0.0</td>\n",
       "      <td>0.0</td>\n",
       "      <td></td>\n",
       "      <td></td>\n",
       "    </tr>\n",
       "    <tr>\n",
       "      <th>2017-09-01</th>\n",
       "      <td>3.0</td>\n",
       "      <td>1.0</td>\n",
       "      <td>0.0</td>\n",
       "      <td>2.0</td>\n",
       "      <td>0.0</td>\n",
       "      <td>0.0</td>\n",
       "      <td>0.0</td>\n",
       "      <td>0.0</td>\n",
       "      <td>0.0</td>\n",
       "      <td></td>\n",
       "      <td></td>\n",
       "      <td></td>\n",
       "    </tr>\n",
       "    <tr>\n",
       "      <th>2017-10-01</th>\n",
       "      <td>3.0</td>\n",
       "      <td>0.0</td>\n",
       "      <td>0.0</td>\n",
       "      <td>0.0</td>\n",
       "      <td>0.0</td>\n",
       "      <td>0.0</td>\n",
       "      <td>0.0</td>\n",
       "      <td>0.0</td>\n",
       "      <td></td>\n",
       "      <td></td>\n",
       "      <td></td>\n",
       "      <td></td>\n",
       "    </tr>\n",
       "    <tr>\n",
       "      <th>2017-11-01</th>\n",
       "      <td>3.0</td>\n",
       "      <td>0.0</td>\n",
       "      <td>0.0</td>\n",
       "      <td>0.0</td>\n",
       "      <td>0.0</td>\n",
       "      <td>0.0</td>\n",
       "      <td>0.0</td>\n",
       "      <td></td>\n",
       "      <td></td>\n",
       "      <td></td>\n",
       "      <td></td>\n",
       "      <td></td>\n",
       "    </tr>\n",
       "    <tr>\n",
       "      <th>2017-12-01</th>\n",
       "      <td>2.0</td>\n",
       "      <td>0.0</td>\n",
       "      <td>0.0</td>\n",
       "      <td>1.0</td>\n",
       "      <td>0.0</td>\n",
       "      <td>0.0</td>\n",
       "      <td></td>\n",
       "      <td></td>\n",
       "      <td></td>\n",
       "      <td></td>\n",
       "      <td></td>\n",
       "      <td></td>\n",
       "    </tr>\n",
       "    <tr>\n",
       "      <th>2018-01-01</th>\n",
       "      <td>2.0</td>\n",
       "      <td>0.0</td>\n",
       "      <td>0.0</td>\n",
       "      <td>0.0</td>\n",
       "      <td>0.0</td>\n",
       "      <td></td>\n",
       "      <td></td>\n",
       "      <td></td>\n",
       "      <td></td>\n",
       "      <td></td>\n",
       "      <td></td>\n",
       "      <td></td>\n",
       "    </tr>\n",
       "    <tr>\n",
       "      <th>2018-02-01</th>\n",
       "      <td>2.0</td>\n",
       "      <td>0.0</td>\n",
       "      <td>0.0</td>\n",
       "      <td>0.0</td>\n",
       "      <td></td>\n",
       "      <td></td>\n",
       "      <td></td>\n",
       "      <td></td>\n",
       "      <td></td>\n",
       "      <td></td>\n",
       "      <td></td>\n",
       "      <td></td>\n",
       "    </tr>\n",
       "    <tr>\n",
       "      <th>2018-03-01</th>\n",
       "      <td>2.0</td>\n",
       "      <td>0.0</td>\n",
       "      <td>0.0</td>\n",
       "      <td></td>\n",
       "      <td></td>\n",
       "      <td></td>\n",
       "      <td></td>\n",
       "      <td></td>\n",
       "      <td></td>\n",
       "      <td></td>\n",
       "      <td></td>\n",
       "      <td></td>\n",
       "    </tr>\n",
       "    <tr>\n",
       "      <th>2018-04-01</th>\n",
       "      <td>2.0</td>\n",
       "      <td>0.0</td>\n",
       "      <td></td>\n",
       "      <td></td>\n",
       "      <td></td>\n",
       "      <td></td>\n",
       "      <td></td>\n",
       "      <td></td>\n",
       "      <td></td>\n",
       "      <td></td>\n",
       "      <td></td>\n",
       "      <td></td>\n",
       "    </tr>\n",
       "    <tr>\n",
       "      <th>2018-05-01</th>\n",
       "      <td>2.0</td>\n",
       "      <td></td>\n",
       "      <td></td>\n",
       "      <td></td>\n",
       "      <td></td>\n",
       "      <td></td>\n",
       "      <td></td>\n",
       "      <td></td>\n",
       "      <td></td>\n",
       "      <td></td>\n",
       "      <td></td>\n",
       "      <td></td>\n",
       "    </tr>\n",
       "    <tr>\n",
       "      <th>2018-06-01</th>\n",
       "      <td>2.0</td>\n",
       "      <td></td>\n",
       "      <td></td>\n",
       "      <td></td>\n",
       "      <td></td>\n",
       "      <td></td>\n",
       "      <td></td>\n",
       "      <td></td>\n",
       "      <td></td>\n",
       "      <td></td>\n",
       "      <td></td>\n",
       "      <td></td>\n",
       "    </tr>\n",
       "  </tbody>\n",
       "</table>\n",
       "</div>"
      ],
      "text/plain": [
       "age                 0    1    2    3    4    5    6    7    8    9    10   11\n",
       "first_order_month                                                            \n",
       "2017-06-01         2.0  0.0  0.0  0.0  1.0  0.0  0.0  0.0  0.0  0.0  0.0  0.0\n",
       "2017-07-01         3.0  0.0  0.0  0.0  0.0  0.0  0.0  0.0  0.0  0.0  0.0     \n",
       "2017-08-01         3.0  0.0  0.0  0.0  0.0  0.0  0.0  0.0  0.0  0.0          \n",
       "2017-09-01         3.0  1.0  0.0  2.0  0.0  0.0  0.0  0.0  0.0               \n",
       "2017-10-01         3.0  0.0  0.0  0.0  0.0  0.0  0.0  0.0                    \n",
       "2017-11-01         3.0  0.0  0.0  0.0  0.0  0.0  0.0                         \n",
       "2017-12-01         2.0  0.0  0.0  1.0  0.0  0.0                              \n",
       "2018-01-01         2.0  0.0  0.0  0.0  0.0                                   \n",
       "2018-02-01         2.0  0.0  0.0  0.0                                        \n",
       "2018-03-01         2.0  0.0  0.0                                             \n",
       "2018-04-01         2.0  0.0                                                  \n",
       "2018-05-01         2.0                                                       \n",
       "2018-06-01         2.0                                                       "
      ]
     },
     "execution_count": 137,
     "metadata": {},
     "output_type": "execute_result"
    }
   ],
   "source": [
    "report['ltv'] = report['gp'] / report['n_buyers']\n",
    "\n",
    "output = report.pivot_table(\n",
    "    index='first_order_month', \n",
    "    columns='age', \n",
    "    values='ltv', \n",
    "    aggfunc='mean').round()\n",
    "\n",
    "output.fillna('')"
   ]
  },
  {
   "cell_type": "code",
   "execution_count": 151,
   "metadata": {
    "trusted": true
   },
   "outputs": [
    {
     "data": {
      "text/plain": [
       "<AxesSubplot:title={'center':'Ciclo de vida'}, xlabel='age', ylabel='first_order_month'>"
      ]
     },
     "execution_count": 151,
     "metadata": {},
     "output_type": "execute_result"
    },
    {
     "data": {
      "image/png": "[encoded data removed]",
      "text/plain": [
       "<Figure size 1300x900 with 2 Axes>"
      ]
     },
     "metadata": {},
     "output_type": "display_data"
    }
   ],
   "source": [
    "#Gráfico de mapa de calor\n",
    "plt.figure(figsize=(13, 9))\n",
    "plt.title('Ciclo de vida')\n",
    "sns.heatmap(\n",
    "    output,\n",
    "    annot=True,\n",
    "    fmt='.1f',\n",
    "    linewidths=1,\n",
    "    linecolor='gray',\n",
    ")"
   ]
  },
  {
   "cell_type": "code",
   "execution_count": null,
   "metadata": {
    "trusted": true
   },
   "outputs": [],
   "source": []
  },
  {
   "cell_type": "code",
   "execution_count": 145,
   "metadata": {
    "trusted": true
   },
   "outputs": [
    {
     "name": "stdout",
     "output_type": "stream",
     "text": [
      "CAC = 8.905091448344043\n",
      "LTV = 3.0\n"
     ]
    }
   ],
   "source": [
    "cohort_201706 = report[report['first_order_month'] == '2017-06-01']\n",
    "\n",
    "# calcular los costos para el mes de la cohorte\n",
    "costs_201706 = costs_us[costs_us['month'] == '2017-06-01']['costs'].sum()\n",
    "\n",
    "n_buyers_201706 = cohort_201712['n_buyers'][0]\n",
    "cac_201706= costs_201706 / n_buyers_201706\n",
    "ltv_201706 = output.loc['2017-06-01'].sum()\n",
    "\n",
    "print('CAC =', cac_201706)\n",
    "print('LTV =', ltv_201706)"
   ]
  },
  {
   "cell_type": "markdown",
   "metadata": {},
   "source": [
    "Adquirir cada cliente le costó a la empresa un promedio de $8.90, mientras que cada cliente generó $3. Por lo tanto, la inversión en la adquisición de clientes no resultó como se esperaba, generó perdidas."
   ]
  },
  {
   "cell_type": "code",
   "execution_count": 147,
   "metadata": {
    "trusted": true
   },
   "outputs": [
    {
     "data": {
      "text/html": [
       "<div>\n",
       "<style scoped>\n",
       "    .dataframe tbody tr th:only-of-type {\n",
       "        vertical-align: middle;\n",
       "    }\n",
       "\n",
       "    .dataframe tbody tr th {\n",
       "        vertical-align: top;\n",
       "    }\n",
       "\n",
       "    .dataframe thead th {\n",
       "        text-align: right;\n",
       "    }\n",
       "</style>\n",
       "<table border=\"1\" class=\"dataframe\">\n",
       "  <thead>\n",
       "    <tr style=\"text-align: right;\">\n",
       "      <th></th>\n",
       "      <th>source_id</th>\n",
       "      <th>costs</th>\n",
       "    </tr>\n",
       "    <tr>\n",
       "      <th>month</th>\n",
       "      <th></th>\n",
       "      <th></th>\n",
       "    </tr>\n",
       "  </thead>\n",
       "  <tbody>\n",
       "    <tr>\n",
       "      <th>2017-06-01</th>\n",
       "      <td>1020</td>\n",
       "      <td>18015.00</td>\n",
       "    </tr>\n",
       "    <tr>\n",
       "      <th>2017-07-01</th>\n",
       "      <td>1054</td>\n",
       "      <td>18240.59</td>\n",
       "    </tr>\n",
       "    <tr>\n",
       "      <th>2017-08-01</th>\n",
       "      <td>1054</td>\n",
       "      <td>14790.54</td>\n",
       "    </tr>\n",
       "    <tr>\n",
       "      <th>2017-09-01</th>\n",
       "      <td>1020</td>\n",
       "      <td>24368.91</td>\n",
       "    </tr>\n",
       "    <tr>\n",
       "      <th>2017-10-01</th>\n",
       "      <td>1054</td>\n",
       "      <td>36322.88</td>\n",
       "    </tr>\n",
       "  </tbody>\n",
       "</table>\n",
       "</div>"
      ],
      "text/plain": [
       "            source_id     costs\n",
       "month                          \n",
       "2017-06-01       1020  18015.00\n",
       "2017-07-01       1054  18240.59\n",
       "2017-08-01       1054  14790.54\n",
       "2017-09-01       1020  24368.91\n",
       "2017-10-01       1054  36322.88"
      ]
     },
     "execution_count": 147,
     "metadata": {},
     "output_type": "execute_result"
    }
   ],
   "source": [
    "# calcular los costos por mes\n",
    "monthly_costs = costs_us.groupby('month').sum()\n",
    "monthly_costs.head()"
   ]
  },
  {
   "cell_type": "code",
   "execution_count": 148,
   "metadata": {
    "trusted": true
   },
   "outputs": [
    {
     "data": {
      "text/html": [
       "<div>\n",
       "<style scoped>\n",
       "    .dataframe tbody tr th:only-of-type {\n",
       "        vertical-align: middle;\n",
       "    }\n",
       "\n",
       "    .dataframe tbody tr th {\n",
       "        vertical-align: top;\n",
       "    }\n",
       "\n",
       "    .dataframe thead th {\n",
       "        text-align: right;\n",
       "    }\n",
       "</style>\n",
       "<table border=\"1\" class=\"dataframe\">\n",
       "  <thead>\n",
       "    <tr style=\"text-align: right;\">\n",
       "      <th></th>\n",
       "      <th>first_order_month</th>\n",
       "      <th>n_buyers</th>\n",
       "      <th>order_month</th>\n",
       "      <th>revenue</th>\n",
       "      <th>gp</th>\n",
       "      <th>age</th>\n",
       "      <th>ltv</th>\n",
       "      <th>source_id</th>\n",
       "      <th>costs</th>\n",
       "      <th>cac</th>\n",
       "    </tr>\n",
       "  </thead>\n",
       "  <tbody>\n",
       "    <tr>\n",
       "      <th>0</th>\n",
       "      <td>2017-06-01</td>\n",
       "      <td>2023</td>\n",
       "      <td>2017-06-01</td>\n",
       "      <td>9557.49</td>\n",
       "      <td>4778.745</td>\n",
       "      <td>0</td>\n",
       "      <td>2.362207</td>\n",
       "      <td>1020</td>\n",
       "      <td>18015.0</td>\n",
       "      <td>8.905091</td>\n",
       "    </tr>\n",
       "    <tr>\n",
       "      <th>1</th>\n",
       "      <td>2017-06-01</td>\n",
       "      <td>2023</td>\n",
       "      <td>2017-07-01</td>\n",
       "      <td>981.82</td>\n",
       "      <td>490.910</td>\n",
       "      <td>1</td>\n",
       "      <td>0.242664</td>\n",
       "      <td>1020</td>\n",
       "      <td>18015.0</td>\n",
       "      <td>8.905091</td>\n",
       "    </tr>\n",
       "    <tr>\n",
       "      <th>2</th>\n",
       "      <td>2017-06-01</td>\n",
       "      <td>2023</td>\n",
       "      <td>2017-08-01</td>\n",
       "      <td>885.34</td>\n",
       "      <td>442.670</td>\n",
       "      <td>2</td>\n",
       "      <td>0.218819</td>\n",
       "      <td>1020</td>\n",
       "      <td>18015.0</td>\n",
       "      <td>8.905091</td>\n",
       "    </tr>\n",
       "    <tr>\n",
       "      <th>3</th>\n",
       "      <td>2017-06-01</td>\n",
       "      <td>2023</td>\n",
       "      <td>2017-09-01</td>\n",
       "      <td>1931.30</td>\n",
       "      <td>965.650</td>\n",
       "      <td>3</td>\n",
       "      <td>0.477336</td>\n",
       "      <td>1020</td>\n",
       "      <td>18015.0</td>\n",
       "      <td>8.905091</td>\n",
       "    </tr>\n",
       "    <tr>\n",
       "      <th>4</th>\n",
       "      <td>2017-06-01</td>\n",
       "      <td>2023</td>\n",
       "      <td>2017-10-01</td>\n",
       "      <td>2068.58</td>\n",
       "      <td>1034.290</td>\n",
       "      <td>4</td>\n",
       "      <td>0.511265</td>\n",
       "      <td>1020</td>\n",
       "      <td>18015.0</td>\n",
       "      <td>8.905091</td>\n",
       "    </tr>\n",
       "  </tbody>\n",
       "</table>\n",
       "</div>"
      ],
      "text/plain": [
       "  first_order_month  n_buyers order_month  revenue        gp  age       ltv  \\\n",
       "0        2017-06-01      2023  2017-06-01  9557.49  4778.745    0  2.362207   \n",
       "1        2017-06-01      2023  2017-07-01   981.82   490.910    1  0.242664   \n",
       "2        2017-06-01      2023  2017-08-01   885.34   442.670    2  0.218819   \n",
       "3        2017-06-01      2023  2017-09-01  1931.30   965.650    3  0.477336   \n",
       "4        2017-06-01      2023  2017-10-01  2068.58  1034.290    4  0.511265   \n",
       "\n",
       "   source_id    costs       cac  \n",
       "0       1020  18015.0  8.905091  \n",
       "1       1020  18015.0  8.905091  \n",
       "2       1020  18015.0  8.905091  \n",
       "3       1020  18015.0  8.905091  \n",
       "4       1020  18015.0  8.905091  "
      ]
     },
     "execution_count": 148,
     "metadata": {},
     "output_type": "execute_result"
    }
   ],
   "source": [
    "report_ = pd.merge(report, monthly_costs, left_on='first_order_month', right_on='month')\n",
    "report_['cac'] = report_['costs'] / report_['n_buyers']\n",
    "report_.head()"
   ]
  },
  {
   "cell_type": "markdown",
   "metadata": {},
   "source": [
    "**ROMI (retorno de la inversión en marketing)**"
   ]
  },
  {
   "cell_type": "code",
   "execution_count": 149,
   "metadata": {
    "trusted": true
   },
   "outputs": [
    {
     "data": {
      "text/html": [
       "<div>\n",
       "<style scoped>\n",
       "    .dataframe tbody tr th:only-of-type {\n",
       "        vertical-align: middle;\n",
       "    }\n",
       "\n",
       "    .dataframe tbody tr th {\n",
       "        vertical-align: top;\n",
       "    }\n",
       "\n",
       "    .dataframe thead th {\n",
       "        text-align: right;\n",
       "    }\n",
       "</style>\n",
       "<table border=\"1\" class=\"dataframe\">\n",
       "  <thead>\n",
       "    <tr style=\"text-align: right;\">\n",
       "      <th>age</th>\n",
       "      <th>0</th>\n",
       "      <th>1</th>\n",
       "      <th>2</th>\n",
       "      <th>3</th>\n",
       "      <th>4</th>\n",
       "      <th>5</th>\n",
       "      <th>6</th>\n",
       "      <th>7</th>\n",
       "      <th>8</th>\n",
       "      <th>9</th>\n",
       "      <th>10</th>\n",
       "      <th>11</th>\n",
       "    </tr>\n",
       "    <tr>\n",
       "      <th>first_order_month</th>\n",
       "      <th></th>\n",
       "      <th></th>\n",
       "      <th></th>\n",
       "      <th></th>\n",
       "      <th></th>\n",
       "      <th></th>\n",
       "      <th></th>\n",
       "      <th></th>\n",
       "      <th></th>\n",
       "      <th></th>\n",
       "      <th></th>\n",
       "      <th></th>\n",
       "    </tr>\n",
       "  </thead>\n",
       "  <tbody>\n",
       "    <tr>\n",
       "      <th>2017-06-01</th>\n",
       "      <td>0.27</td>\n",
       "      <td>0.29</td>\n",
       "      <td>0.32</td>\n",
       "      <td>0.37</td>\n",
       "      <td>0.43</td>\n",
       "      <td>0.47</td>\n",
       "      <td>0.52</td>\n",
       "      <td>0.56</td>\n",
       "      <td>0.59</td>\n",
       "      <td>0.62</td>\n",
       "      <td>0.65</td>\n",
       "      <td>0.67</td>\n",
       "    </tr>\n",
       "    <tr>\n",
       "      <th>2017-07-01</th>\n",
       "      <td>0.32</td>\n",
       "      <td>0.33</td>\n",
       "      <td>0.37</td>\n",
       "      <td>0.39</td>\n",
       "      <td>0.40</td>\n",
       "      <td>0.40</td>\n",
       "      <td>0.41</td>\n",
       "      <td>0.42</td>\n",
       "      <td>0.43</td>\n",
       "      <td>0.43</td>\n",
       "      <td>0.44</td>\n",
       "      <td>NaN</td>\n",
       "    </tr>\n",
       "    <tr>\n",
       "      <th>2017-08-01</th>\n",
       "      <td>0.24</td>\n",
       "      <td>0.27</td>\n",
       "      <td>0.29</td>\n",
       "      <td>0.31</td>\n",
       "      <td>0.33</td>\n",
       "      <td>0.34</td>\n",
       "      <td>0.35</td>\n",
       "      <td>0.37</td>\n",
       "      <td>0.38</td>\n",
       "      <td>0.39</td>\n",
       "      <td>NaN</td>\n",
       "      <td>NaN</td>\n",
       "    </tr>\n",
       "    <tr>\n",
       "      <th>2017-09-01</th>\n",
       "      <td>0.30</td>\n",
       "      <td>0.36</td>\n",
       "      <td>0.39</td>\n",
       "      <td>0.60</td>\n",
       "      <td>0.62</td>\n",
       "      <td>0.65</td>\n",
       "      <td>0.69</td>\n",
       "      <td>0.70</td>\n",
       "      <td>0.71</td>\n",
       "      <td>NaN</td>\n",
       "      <td>NaN</td>\n",
       "      <td>NaN</td>\n",
       "    </tr>\n",
       "    <tr>\n",
       "      <th>2017-10-01</th>\n",
       "      <td>0.30</td>\n",
       "      <td>0.33</td>\n",
       "      <td>0.34</td>\n",
       "      <td>0.35</td>\n",
       "      <td>0.36</td>\n",
       "      <td>0.37</td>\n",
       "      <td>0.37</td>\n",
       "      <td>0.38</td>\n",
       "      <td>NaN</td>\n",
       "      <td>NaN</td>\n",
       "      <td>NaN</td>\n",
       "      <td>NaN</td>\n",
       "    </tr>\n",
       "    <tr>\n",
       "      <th>2017-11-01</th>\n",
       "      <td>0.28</td>\n",
       "      <td>0.30</td>\n",
       "      <td>0.31</td>\n",
       "      <td>0.33</td>\n",
       "      <td>0.34</td>\n",
       "      <td>0.34</td>\n",
       "      <td>0.34</td>\n",
       "      <td>NaN</td>\n",
       "      <td>NaN</td>\n",
       "      <td>NaN</td>\n",
       "      <td>NaN</td>\n",
       "      <td>NaN</td>\n",
       "    </tr>\n",
       "    <tr>\n",
       "      <th>2017-12-01</th>\n",
       "      <td>0.27</td>\n",
       "      <td>0.29</td>\n",
       "      <td>0.34</td>\n",
       "      <td>0.40</td>\n",
       "      <td>0.42</td>\n",
       "      <td>0.44</td>\n",
       "      <td>NaN</td>\n",
       "      <td>NaN</td>\n",
       "      <td>NaN</td>\n",
       "      <td>NaN</td>\n",
       "      <td>NaN</td>\n",
       "      <td>NaN</td>\n",
       "    </tr>\n",
       "    <tr>\n",
       "      <th>2018-01-01</th>\n",
       "      <td>0.21</td>\n",
       "      <td>0.22</td>\n",
       "      <td>0.24</td>\n",
       "      <td>0.25</td>\n",
       "      <td>0.25</td>\n",
       "      <td>NaN</td>\n",
       "      <td>NaN</td>\n",
       "      <td>NaN</td>\n",
       "      <td>NaN</td>\n",
       "      <td>NaN</td>\n",
       "      <td>NaN</td>\n",
       "      <td>NaN</td>\n",
       "    </tr>\n",
       "    <tr>\n",
       "      <th>2018-02-01</th>\n",
       "      <td>0.23</td>\n",
       "      <td>0.25</td>\n",
       "      <td>0.25</td>\n",
       "      <td>0.26</td>\n",
       "      <td>NaN</td>\n",
       "      <td>NaN</td>\n",
       "      <td>NaN</td>\n",
       "      <td>NaN</td>\n",
       "      <td>NaN</td>\n",
       "      <td>NaN</td>\n",
       "      <td>NaN</td>\n",
       "      <td>NaN</td>\n",
       "    </tr>\n",
       "    <tr>\n",
       "      <th>2018-03-01</th>\n",
       "      <td>0.28</td>\n",
       "      <td>0.30</td>\n",
       "      <td>0.32</td>\n",
       "      <td>NaN</td>\n",
       "      <td>NaN</td>\n",
       "      <td>NaN</td>\n",
       "      <td>NaN</td>\n",
       "      <td>NaN</td>\n",
       "      <td>NaN</td>\n",
       "      <td>NaN</td>\n",
       "      <td>NaN</td>\n",
       "      <td>NaN</td>\n",
       "    </tr>\n",
       "    <tr>\n",
       "      <th>2018-04-01</th>\n",
       "      <td>0.24</td>\n",
       "      <td>0.26</td>\n",
       "      <td>NaN</td>\n",
       "      <td>NaN</td>\n",
       "      <td>NaN</td>\n",
       "      <td>NaN</td>\n",
       "      <td>NaN</td>\n",
       "      <td>NaN</td>\n",
       "      <td>NaN</td>\n",
       "      <td>NaN</td>\n",
       "      <td>NaN</td>\n",
       "      <td>NaN</td>\n",
       "    </tr>\n",
       "    <tr>\n",
       "      <th>2018-05-01</th>\n",
       "      <td>0.31</td>\n",
       "      <td>NaN</td>\n",
       "      <td>NaN</td>\n",
       "      <td>NaN</td>\n",
       "      <td>NaN</td>\n",
       "      <td>NaN</td>\n",
       "      <td>NaN</td>\n",
       "      <td>NaN</td>\n",
       "      <td>NaN</td>\n",
       "      <td>NaN</td>\n",
       "      <td>NaN</td>\n",
       "      <td>NaN</td>\n",
       "    </tr>\n",
       "  </tbody>\n",
       "</table>\n",
       "</div>"
      ],
      "text/plain": [
       "age                  0     1     2     3     4     5     6     7     8     9   \\\n",
       "first_order_month                                                               \n",
       "2017-06-01         0.27  0.29  0.32  0.37  0.43  0.47  0.52  0.56  0.59  0.62   \n",
       "2017-07-01         0.32  0.33  0.37  0.39  0.40  0.40  0.41  0.42  0.43  0.43   \n",
       "2017-08-01         0.24  0.27  0.29  0.31  0.33  0.34  0.35  0.37  0.38  0.39   \n",
       "2017-09-01         0.30  0.36  0.39  0.60  0.62  0.65  0.69  0.70  0.71   NaN   \n",
       "2017-10-01         0.30  0.33  0.34  0.35  0.36  0.37  0.37  0.38   NaN   NaN   \n",
       "2017-11-01         0.28  0.30  0.31  0.33  0.34  0.34  0.34   NaN   NaN   NaN   \n",
       "2017-12-01         0.27  0.29  0.34  0.40  0.42  0.44   NaN   NaN   NaN   NaN   \n",
       "2018-01-01         0.21  0.22  0.24  0.25  0.25   NaN   NaN   NaN   NaN   NaN   \n",
       "2018-02-01         0.23  0.25  0.25  0.26   NaN   NaN   NaN   NaN   NaN   NaN   \n",
       "2018-03-01         0.28  0.30  0.32   NaN   NaN   NaN   NaN   NaN   NaN   NaN   \n",
       "2018-04-01         0.24  0.26   NaN   NaN   NaN   NaN   NaN   NaN   NaN   NaN   \n",
       "2018-05-01         0.31   NaN   NaN   NaN   NaN   NaN   NaN   NaN   NaN   NaN   \n",
       "\n",
       "age                  10    11  \n",
       "first_order_month              \n",
       "2017-06-01         0.65  0.67  \n",
       "2017-07-01         0.44   NaN  \n",
       "2017-08-01          NaN   NaN  \n",
       "2017-09-01          NaN   NaN  \n",
       "2017-10-01          NaN   NaN  \n",
       "2017-11-01          NaN   NaN  \n",
       "2017-12-01          NaN   NaN  \n",
       "2018-01-01          NaN   NaN  \n",
       "2018-02-01          NaN   NaN  \n",
       "2018-03-01          NaN   NaN  \n",
       "2018-04-01          NaN   NaN  \n",
       "2018-05-01          NaN   NaN  "
      ]
     },
     "execution_count": 149,
     "metadata": {},
     "output_type": "execute_result"
    }
   ],
   "source": [
    "report_['romi'] = report_['ltv'] / report_['cac']\n",
    "output = report_.pivot_table(\n",
    "    index='first_order_month', \n",
    "    columns='age', \n",
    "    values='romi', \n",
    "    aggfunc='mean')\n",
    "\n",
    "output.cumsum(axis=1).round(2)"
   ]
  },
  {
   "cell_type": "code",
   "execution_count": 150,
   "metadata": {
    "trusted": true
   },
   "outputs": [
    {
     "data": {
      "text/plain": [
       "age\n",
       "0     0.270408\n",
       "1     0.290992\n",
       "2     0.315535\n",
       "3     0.359870\n",
       "4     0.391473\n",
       "5     0.429938\n",
       "6     0.448410\n",
       "7     0.484976\n",
       "8     0.526936\n",
       "9     0.482244\n",
       "10    0.547329\n",
       "11    0.666991\n",
       "dtype: float64"
      ]
     },
     "execution_count": 150,
     "metadata": {},
     "output_type": "execute_result"
    }
   ],
   "source": [
    "output.cumsum(axis=1).mean(axis=0)"
   ]
  },
  {
   "cell_type": "code",
   "execution_count": 153,
   "metadata": {
    "trusted": true
   },
   "outputs": [
    {
     "name": "stdout",
     "output_type": "stream",
     "text": [
      "   source_id      costs\n",
      "2          3  141321.63\n",
      "3          4   61073.60\n",
      "4          5   51757.10\n",
      "1          2   42806.04\n",
      "0          1   20833.27\n",
      "6         10    5822.49\n",
      "5          9    5517.49\n"
     ]
    }
   ],
   "source": [
    "costos_por_fuente = costs_us.groupby('source_id')['costs'].sum().reset_index()\n",
    "\n",
    "# Ordenar de mayor a menor para ver las fuentes con mayores costos\n",
    "costos_por_fuente = costos_por_fuente.sort_values(by='costs', ascending=False)\n",
    "\n",
    "# Ver el resumen de costos por fuente\n",
    "print(costos_por_fuente)"
   ]
  },
  {
   "cell_type": "code",
   "execution_count": 158,
   "metadata": {
    "trusted": true
   },
   "outputs": [
    {
     "name": "stdout",
     "output_type": "stream",
     "text": [
      "Index(['source_id', 'dt', 'costs', 'month'], dtype='object')\n",
      "Index(['buy_ts', 'revenue', 'uid', 'first_order_date_x', 'first_order_month',\n",
      "       'order_month', 'first_order_date_y', 'first_order_date'],\n",
      "      dtype='object')\n"
     ]
    }
   ],
   "source": [
    "print(costs_us.columns)\n",
    "print(orders_log_us.columns)"
   ]
  },
  {
   "cell_type": "code",
   "execution_count": 165,
   "metadata": {
    "trusted": true
   },
   "outputs": [],
   "source": [
    "# Renombrar las columnas de fecha en ambos DataFrames para que coincidan\n",
    "costs_us = costs_us.rename(columns={'dt': 'date'})\n",
    "orders_log_us = orders_log_us.rename(columns={'buy_ts': 'date'})\n",
    "revenue_vs_cost = pd.merge(costs_us, orders_log_us, on='date')"
   ]
  },
  {
   "cell_type": "code",
   "execution_count": 166,
   "metadata": {
    "trusted": true
   },
   "outputs": [
    {
     "name": "stdout",
     "output_type": "stream",
     "text": [
      "Index(['source_id', 'date', 'costs', 'month', 'revenue', 'uid',\n",
      "       'first_order_date_x', 'first_order_month', 'order_month',\n",
      "       'first_order_date_y', 'first_order_date'],\n",
      "      dtype='object')\n"
     ]
    }
   ],
   "source": [
    "print(revenue_vs_cost.columns)"
   ]
  },
  {
   "cell_type": "code",
   "execution_count": 170,
   "metadata": {
    "trusted": true
   },
   "outputs": [
    {
     "name": "stdout",
     "output_type": "stream",
     "text": [
      "   source_id       roi\n",
      "5          9  0.270685\n",
      "6         10  0.249293\n",
      "0          1  0.075520\n",
      "1          2  0.037369\n",
      "4          5  0.030324\n",
      "3          4  0.023946\n",
      "2          3  0.012363\n"
     ]
    }
   ],
   "source": [
    "costos_con_ingresos = revenue_vs_cost.groupby('source_id').agg({'costs': 'sum', 'revenue': 'sum'}).reset_index()\n",
    "costos_con_ingresos['roi'] = costos_con_ingresos['revenue'] / costos_con_ingresos['costs']\n",
    "costos_con_ingresos = costos_con_ingresos.sort_values(by='roi', ascending=False)\n",
    "print(costos_con_ingresos[['source_id', 'roi']])"
   ]
  },
  {
   "cell_type": "markdown",
   "metadata": {},
   "source": [
    "**Conclusión:** \n",
    "- Se evidencia que la empresa Showz no es rentable ya que el CAC es mayor al LTV, los usuarios solo compran eventos cuando es necesario por lo cual no hay permanecia de más de un mes en la página. \n",
    "- Ningún cohorte  valió la pena porque ninguno es uno o mayor que uno.\n",
    "-El tamaño promedio de compra es: $6.90\n",
    "- Adquirir cada cliente le costó a la empresa un promedio de $8.90, mientras que cada cliente generó $3. Por lo tanto, la inversión en la adquisición de clientes no resultó como se esperaba, generó perdidas.\n",
    "- Los meses de septiembre, octubre, noviembre y diciembre son los que más destacan en número de pedidos.\n",
    "- Las fuentes más costosas son la 3 y la 4 y no es tan rentable como las fuentes 9 y 10.\n",
    "- Recomiendo cambiar el plan de markenting, invertiendo más en las fuentes 9 y 10, y haciendo más promociones en los meses de julio hasta diciembre. También es recomendable, hacer una estrategia para los meses con bajas compras."
   ]
  }
 ],
 "metadata": {
  "ExecuteTimeLog": [
   {
    "duration": 156,
    "start_time": "2025-01-30T00:45:27.242Z"
   },
   {
    "duration": 12,
    "start_time": "2025-01-30T00:46:30.776Z"
   },
   {
    "duration": 2587,
    "start_time": "2025-01-30T00:47:50.562Z"
   },
   {
    "duration": 408,
    "start_time": "2025-01-30T00:47:53.151Z"
   },
   {
    "duration": 10,
    "start_time": "2025-01-30T00:48:40.146Z"
   },
   {
    "duration": 50,
    "start_time": "2025-01-30T00:49:03.079Z"
   },
   {
    "duration": 6,
    "start_time": "2025-01-30T00:50:06.090Z"
   },
   {
    "duration": 16,
    "start_time": "2025-01-30T00:50:36.964Z"
   },
   {
    "duration": 12,
    "start_time": "2025-01-30T00:50:57.038Z"
   },
   {
    "duration": 42,
    "start_time": "2025-01-30T00:51:16.015Z"
   },
   {
    "duration": 8,
    "start_time": "2025-01-30T00:54:17.019Z"
   },
   {
    "duration": 9,
    "start_time": "2025-01-30T00:54:58.501Z"
   },
   {
    "duration": 157,
    "start_time": "2025-01-31T00:41:46.972Z"
   },
   {
    "duration": 5,
    "start_time": "2025-01-31T00:41:51.197Z"
   },
   {
    "duration": 2622,
    "start_time": "2025-01-31T00:41:54.893Z"
   },
   {
    "duration": 417,
    "start_time": "2025-01-31T00:41:57.518Z"
   },
   {
    "duration": 9,
    "start_time": "2025-01-31T00:41:57.937Z"
   },
   {
    "duration": 74,
    "start_time": "2025-01-31T00:41:57.948Z"
   },
   {
    "duration": 8,
    "start_time": "2025-01-31T00:41:58.025Z"
   },
   {
    "duration": 11,
    "start_time": "2025-01-31T00:41:58.035Z"
   },
   {
    "duration": 6,
    "start_time": "2025-01-31T00:41:58.048Z"
   },
   {
    "duration": 8,
    "start_time": "2025-01-31T00:41:58.056Z"
   },
   {
    "duration": 2,
    "start_time": "2025-01-31T00:41:58.066Z"
   },
   {
    "duration": 106,
    "start_time": "2025-01-31T00:41:58.071Z"
   },
   {
    "duration": 0,
    "start_time": "2025-01-31T00:41:58.178Z"
   },
   {
    "duration": 0,
    "start_time": "2025-01-31T00:41:58.180Z"
   },
   {
    "duration": 24,
    "start_time": "2025-01-31T00:46:21.154Z"
   },
   {
    "duration": 7,
    "start_time": "2025-01-31T00:47:12.227Z"
   },
   {
    "duration": 4,
    "start_time": "2025-01-31T00:47:12.442Z"
   },
   {
    "duration": 2554,
    "start_time": "2025-02-01T16:56:29.095Z"
   },
   {
    "duration": 414,
    "start_time": "2025-02-01T16:56:31.660Z"
   },
   {
    "duration": 10,
    "start_time": "2025-02-01T16:56:32.076Z"
   },
   {
    "duration": 38,
    "start_time": "2025-02-01T16:56:32.088Z"
   },
   {
    "duration": 6,
    "start_time": "2025-02-01T16:56:32.129Z"
   },
   {
    "duration": 9,
    "start_time": "2025-02-01T16:56:32.136Z"
   },
   {
    "duration": 6,
    "start_time": "2025-02-01T16:56:32.146Z"
   },
   {
    "duration": 7,
    "start_time": "2025-02-01T16:56:32.154Z"
   },
   {
    "duration": 2,
    "start_time": "2025-02-01T16:56:32.163Z"
   },
   {
    "duration": 7,
    "start_time": "2025-02-01T16:56:32.167Z"
   },
   {
    "duration": 37,
    "start_time": "2025-02-01T16:56:32.175Z"
   },
   {
    "duration": 0,
    "start_time": "2025-02-01T16:56:32.214Z"
   },
   {
    "duration": 122,
    "start_time": "2025-02-01T17:04:03.130Z"
   },
   {
    "duration": 5,
    "start_time": "2025-02-01T17:05:24.459Z"
   },
   {
    "duration": 23,
    "start_time": "2025-02-01T17:05:35.138Z"
   },
   {
    "duration": 20,
    "start_time": "2025-02-01T17:06:29.243Z"
   },
   {
    "duration": 661,
    "start_time": "2025-02-01T17:10:31.549Z"
   },
   {
    "duration": 100,
    "start_time": "2025-02-01T17:11:00.700Z"
   },
   {
    "duration": 115,
    "start_time": "2025-02-01T17:11:55.212Z"
   },
   {
    "duration": 209,
    "start_time": "2025-02-01T17:12:16.282Z"
   },
   {
    "duration": 232,
    "start_time": "2025-02-01T17:12:36.341Z"
   },
   {
    "duration": 281,
    "start_time": "2025-02-01T17:13:53.158Z"
   },
   {
    "duration": 264,
    "start_time": "2025-02-01T17:15:26.183Z"
   },
   {
    "duration": 4,
    "start_time": "2025-02-01T17:15:53.643Z"
   },
   {
    "duration": 5,
    "start_time": "2025-02-01T17:15:56.445Z"
   },
   {
    "duration": 175,
    "start_time": "2025-02-01T17:17:39.863Z"
   },
   {
    "duration": 175,
    "start_time": "2025-02-01T17:18:07.506Z"
   },
   {
    "duration": 180,
    "start_time": "2025-02-01T17:20:11.252Z"
   },
   {
    "duration": 76,
    "start_time": "2025-02-01T17:23:35.198Z"
   },
   {
    "duration": 55,
    "start_time": "2025-02-01T17:23:40.606Z"
   },
   {
    "duration": 25,
    "start_time": "2025-02-01T17:23:56.503Z"
   },
   {
    "duration": 53,
    "start_time": "2025-02-01T17:24:15.568Z"
   },
   {
    "duration": 105,
    "start_time": "2025-02-01T17:25:15.574Z"
   },
   {
    "duration": 21,
    "start_time": "2025-02-01T17:32:42.018Z"
   },
   {
    "duration": 6,
    "start_time": "2025-02-01T17:33:59.835Z"
   },
   {
    "duration": 21,
    "start_time": "2025-02-01T17:34:42.758Z"
   },
   {
    "duration": 104,
    "start_time": "2025-02-01T17:35:22.505Z"
   },
   {
    "duration": 107,
    "start_time": "2025-02-01T17:49:28.210Z"
   },
   {
    "duration": 75,
    "start_time": "2025-02-01T17:50:53.819Z"
   },
   {
    "duration": 57,
    "start_time": "2025-02-01T17:51:06.351Z"
   },
   {
    "duration": 53,
    "start_time": "2025-02-01T17:51:18.984Z"
   },
   {
    "duration": 20,
    "start_time": "2025-02-01T17:53:34.977Z"
   },
   {
    "duration": 5,
    "start_time": "2025-02-01T17:53:44.153Z"
   },
   {
    "duration": 4,
    "start_time": "2025-02-01T17:54:00.558Z"
   },
   {
    "duration": 231,
    "start_time": "2025-02-01T17:55:38.368Z"
   },
   {
    "duration": 23,
    "start_time": "2025-02-01T17:55:49.939Z"
   },
   {
    "duration": 18,
    "start_time": "2025-02-01T18:00:27.258Z"
   },
   {
    "duration": 14,
    "start_time": "2025-02-01T18:00:38.902Z"
   },
   {
    "duration": 194,
    "start_time": "2025-02-01T18:00:51.780Z"
   },
   {
    "duration": 3,
    "start_time": "2025-02-01T18:02:10.780Z"
   },
   {
    "duration": 16,
    "start_time": "2025-02-01T18:18:35.319Z"
   },
   {
    "duration": 7,
    "start_time": "2025-02-01T18:19:09.782Z"
   },
   {
    "duration": 56,
    "start_time": "2025-02-01T18:26:02.630Z"
   },
   {
    "duration": 63,
    "start_time": "2025-02-01T18:26:23.711Z"
   },
   {
    "duration": 206,
    "start_time": "2025-02-01T18:28:38.454Z"
   },
   {
    "duration": 136,
    "start_time": "2025-02-01T18:29:55.180Z"
   },
   {
    "duration": 319,
    "start_time": "2025-02-01T18:30:40.406Z"
   },
   {
    "duration": 28,
    "start_time": "2025-02-01T18:42:05.607Z"
   },
   {
    "duration": 18,
    "start_time": "2025-02-01T18:42:30.292Z"
   },
   {
    "duration": 46,
    "start_time": "2025-02-01T18:42:58.118Z"
   },
   {
    "duration": 166,
    "start_time": "2025-02-01T18:43:45.655Z"
   },
   {
    "duration": 45,
    "start_time": "2025-02-01T18:44:07.934Z"
   },
   {
    "duration": 146,
    "start_time": "2025-02-01T18:45:04.968Z"
   },
   {
    "duration": 5,
    "start_time": "2025-02-01T18:48:35.038Z"
   },
   {
    "duration": 193,
    "start_time": "2025-02-01T19:11:30.338Z"
   },
   {
    "duration": 239,
    "start_time": "2025-02-01T19:12:33.549Z"
   },
   {
    "duration": 175,
    "start_time": "2025-02-01T19:13:06.396Z"
   },
   {
    "duration": 186,
    "start_time": "2025-02-01T19:14:17.218Z"
   },
   {
    "duration": 130,
    "start_time": "2025-02-01T19:17:47.758Z"
   },
   {
    "duration": 362,
    "start_time": "2025-02-01T19:22:08.924Z"
   },
   {
    "duration": 29,
    "start_time": "2025-02-01T19:29:23.291Z"
   },
   {
    "duration": 196,
    "start_time": "2025-02-01T19:29:35.106Z"
   },
   {
    "duration": 2,
    "start_time": "2025-02-01T19:29:40.662Z"
   },
   {
    "duration": 337,
    "start_time": "2025-02-01T19:29:40.670Z"
   },
   {
    "duration": 6,
    "start_time": "2025-02-01T19:29:41.010Z"
   },
   {
    "duration": 37,
    "start_time": "2025-02-01T19:29:41.018Z"
   },
   {
    "duration": 6,
    "start_time": "2025-02-01T19:29:41.056Z"
   },
   {
    "duration": 9,
    "start_time": "2025-02-01T19:29:41.066Z"
   },
   {
    "duration": 32,
    "start_time": "2025-02-01T19:29:41.078Z"
   },
   {
    "duration": 11,
    "start_time": "2025-02-01T19:29:41.112Z"
   },
   {
    "duration": 7,
    "start_time": "2025-02-01T19:29:41.124Z"
   },
   {
    "duration": 125,
    "start_time": "2025-02-01T19:29:41.134Z"
   },
   {
    "duration": 102,
    "start_time": "2025-02-01T19:29:41.261Z"
   },
   {
    "duration": 200,
    "start_time": "2025-02-01T19:29:41.366Z"
   },
   {
    "duration": 161,
    "start_time": "2025-02-01T19:29:41.568Z"
   },
   {
    "duration": 151,
    "start_time": "2025-02-01T19:29:41.731Z"
   },
   {
    "duration": 159,
    "start_time": "2025-02-01T19:29:41.886Z"
   },
   {
    "duration": 183,
    "start_time": "2025-02-01T19:29:42.047Z"
   },
   {
    "duration": 5,
    "start_time": "2025-02-01T19:29:42.231Z"
   },
   {
    "duration": 317,
    "start_time": "2025-02-01T19:29:42.238Z"
   },
   {
    "duration": 3,
    "start_time": "2025-02-01T19:29:42.557Z"
   },
   {
    "duration": 18,
    "start_time": "2025-02-01T19:29:42.562Z"
   },
   {
    "duration": 162,
    "start_time": "2025-02-01T19:29:42.582Z"
   },
   {
    "duration": 5,
    "start_time": "2025-02-01T19:29:42.746Z"
   },
   {
    "duration": 131,
    "start_time": "2025-02-01T19:29:42.752Z"
   },
   {
    "duration": 107,
    "start_time": "2025-02-01T19:29:57.602Z"
   },
   {
    "duration": 103,
    "start_time": "2025-02-01T19:30:14.582Z"
   },
   {
    "duration": 14,
    "start_time": "2025-02-01T19:42:20.219Z"
   },
   {
    "duration": 18,
    "start_time": "2025-02-01T19:42:26.812Z"
   },
   {
    "duration": 43,
    "start_time": "2025-02-01T19:42:39.337Z"
   },
   {
    "duration": 44,
    "start_time": "2025-02-01T19:42:46.885Z"
   },
   {
    "duration": 17,
    "start_time": "2025-02-01T19:43:44.661Z"
   },
   {
    "duration": 7,
    "start_time": "2025-02-01T19:43:55.084Z"
   },
   {
    "duration": 20,
    "start_time": "2025-02-01T19:45:17.559Z"
   },
   {
    "duration": 37,
    "start_time": "2025-02-01T19:46:22.828Z"
   },
   {
    "duration": 44,
    "start_time": "2025-02-01T19:48:16.773Z"
   },
   {
    "duration": 24,
    "start_time": "2025-02-01T19:53:21.477Z"
   },
   {
    "duration": 18,
    "start_time": "2025-02-01T19:55:07.633Z"
   },
   {
    "duration": 50,
    "start_time": "2025-02-01T19:56:15.257Z"
   },
   {
    "duration": 202,
    "start_time": "2025-02-01T19:56:39.222Z"
   },
   {
    "duration": 11,
    "start_time": "2025-02-01T19:57:39.682Z"
   },
   {
    "duration": 33,
    "start_time": "2025-02-01T19:59:07.273Z"
   },
   {
    "duration": 29,
    "start_time": "2025-02-01T19:59:48.051Z"
   },
   {
    "duration": 20,
    "start_time": "2025-02-01T20:00:10.659Z"
   },
   {
    "duration": 1118,
    "start_time": "2025-02-01T20:02:01.387Z"
   },
   {
    "duration": 6,
    "start_time": "2025-02-01T20:03:21.221Z"
   },
   {
    "duration": 93,
    "start_time": "2025-02-01T20:04:27.224Z"
   },
   {
    "duration": 19,
    "start_time": "2025-02-01T20:05:27.590Z"
   },
   {
    "duration": 138,
    "start_time": "2025-02-01T20:05:41.280Z"
   },
   {
    "duration": 24,
    "start_time": "2025-02-01T20:08:50.631Z"
   },
   {
    "duration": 6,
    "start_time": "2025-02-01T20:09:14.583Z"
   },
   {
    "duration": 42,
    "start_time": "2025-02-01T20:10:01.590Z"
   },
   {
    "duration": 8,
    "start_time": "2025-02-01T20:10:44.536Z"
   },
   {
    "duration": 29,
    "start_time": "2025-02-01T20:10:49.479Z"
   },
   {
    "duration": 5,
    "start_time": "2025-02-01T20:11:25.378Z"
   },
   {
    "duration": 34,
    "start_time": "2025-02-01T20:11:33.874Z"
   },
   {
    "duration": 71,
    "start_time": "2025-02-01T20:12:09.232Z"
   },
   {
    "duration": 76,
    "start_time": "2025-02-01T20:12:31.230Z"
   },
   {
    "duration": 74,
    "start_time": "2025-02-01T20:12:48.742Z"
   },
   {
    "duration": 28,
    "start_time": "2025-02-01T20:13:24.961Z"
   },
   {
    "duration": 76,
    "start_time": "2025-02-01T20:13:36.256Z"
   },
   {
    "duration": 36,
    "start_time": "2025-02-01T20:13:48.497Z"
   },
   {
    "duration": 29,
    "start_time": "2025-02-01T20:23:34.964Z"
   },
   {
    "duration": 37,
    "start_time": "2025-02-01T20:24:52.309Z"
   },
   {
    "duration": 33,
    "start_time": "2025-02-01T20:25:22.779Z"
   },
   {
    "duration": 60,
    "start_time": "2025-02-01T20:25:59.040Z"
   },
   {
    "duration": 188,
    "start_time": "2025-02-01T20:26:58.534Z"
   },
   {
    "duration": 60,
    "start_time": "2025-02-01T20:27:53.034Z"
   },
   {
    "duration": 104,
    "start_time": "2025-02-01T20:29:10.071Z"
   },
   {
    "duration": 68,
    "start_time": "2025-02-01T20:30:11.675Z"
   },
   {
    "duration": 52,
    "start_time": "2025-02-01T20:32:50.055Z"
   },
   {
    "duration": 3,
    "start_time": "2025-02-01T20:33:38.039Z"
   },
   {
    "duration": 345,
    "start_time": "2025-02-01T20:33:38.553Z"
   },
   {
    "duration": 7,
    "start_time": "2025-02-01T20:33:39.000Z"
   },
   {
    "duration": 41,
    "start_time": "2025-02-01T20:33:40.111Z"
   },
   {
    "duration": 12,
    "start_time": "2025-02-01T20:33:41.027Z"
   },
   {
    "duration": 11,
    "start_time": "2025-02-01T20:33:42.936Z"
   },
   {
    "duration": 6,
    "start_time": "2025-02-01T20:33:43.715Z"
   },
   {
    "duration": 9,
    "start_time": "2025-02-01T20:33:44.857Z"
   },
   {
    "duration": 6,
    "start_time": "2025-02-01T20:33:47.453Z"
   },
   {
    "duration": 115,
    "start_time": "2025-02-01T20:33:48.496Z"
   },
   {
    "duration": 114,
    "start_time": "2025-02-01T20:33:57.641Z"
   },
   {
    "duration": 195,
    "start_time": "2025-02-01T20:34:02.253Z"
   },
   {
    "duration": 154,
    "start_time": "2025-02-01T20:34:06.467Z"
   },
   {
    "duration": 147,
    "start_time": "2025-02-01T20:34:09.472Z"
   },
   {
    "duration": 293,
    "start_time": "2025-02-01T20:34:12.682Z"
   },
   {
    "duration": 5,
    "start_time": "2025-02-01T20:34:16.846Z"
   },
   {
    "duration": 52,
    "start_time": "2025-02-01T20:35:42.491Z"
   },
   {
    "duration": 24,
    "start_time": "2025-02-01T20:35:57.648Z"
   },
   {
    "duration": 52,
    "start_time": "2025-02-01T20:36:12.743Z"
   },
   {
    "duration": 192,
    "start_time": "2025-02-01T20:37:19.886Z"
   },
   {
    "duration": 193,
    "start_time": "2025-02-01T20:38:02.596Z"
   },
   {
    "duration": 197,
    "start_time": "2025-02-01T20:38:28.407Z"
   },
   {
    "duration": 199,
    "start_time": "2025-02-01T20:38:36.703Z"
   },
   {
    "duration": 203,
    "start_time": "2025-02-01T20:38:59.758Z"
   },
   {
    "duration": 150,
    "start_time": "2025-02-01T20:41:22.718Z"
   },
   {
    "duration": 6,
    "start_time": "2025-02-01T20:41:43.095Z"
   },
   {
    "duration": 152,
    "start_time": "2025-02-01T20:41:53.436Z"
   },
   {
    "duration": 4,
    "start_time": "2025-02-01T20:43:00.651Z"
   },
   {
    "duration": 165,
    "start_time": "2025-02-01T20:44:07.847Z"
   },
   {
    "duration": 2614,
    "start_time": "2025-02-01T23:05:30.383Z"
   },
   {
    "duration": 423,
    "start_time": "2025-02-01T23:05:32.999Z"
   },
   {
    "duration": 10,
    "start_time": "2025-02-01T23:05:33.424Z"
   },
   {
    "duration": 43,
    "start_time": "2025-02-01T23:05:33.436Z"
   },
   {
    "duration": 6,
    "start_time": "2025-02-01T23:05:33.483Z"
   },
   {
    "duration": 29,
    "start_time": "2025-02-01T23:05:33.491Z"
   },
   {
    "duration": 6,
    "start_time": "2025-02-01T23:05:33.522Z"
   },
   {
    "duration": 9,
    "start_time": "2025-02-01T23:05:33.530Z"
   },
   {
    "duration": 6,
    "start_time": "2025-02-01T23:05:33.541Z"
   },
   {
    "duration": 143,
    "start_time": "2025-02-01T23:05:33.548Z"
   },
   {
    "duration": 118,
    "start_time": "2025-02-01T23:05:33.693Z"
   },
   {
    "duration": 226,
    "start_time": "2025-02-01T23:05:33.813Z"
   },
   {
    "duration": 175,
    "start_time": "2025-02-01T23:05:34.041Z"
   },
   {
    "duration": 165,
    "start_time": "2025-02-01T23:05:34.219Z"
   },
   {
    "duration": 165,
    "start_time": "2025-02-01T23:05:34.386Z"
   },
   {
    "duration": 207,
    "start_time": "2025-02-01T23:05:34.553Z"
   },
   {
    "duration": 6,
    "start_time": "2025-02-01T23:05:34.762Z"
   },
   {
    "duration": 408,
    "start_time": "2025-02-01T23:05:34.769Z"
   },
   {
    "duration": 2,
    "start_time": "2025-02-01T23:05:35.179Z"
   },
   {
    "duration": 34,
    "start_time": "2025-02-01T23:05:35.183Z"
   },
   {
    "duration": 177,
    "start_time": "2025-02-01T23:05:35.219Z"
   },
   {
    "duration": 6,
    "start_time": "2025-02-01T23:05:35.399Z"
   },
   {
    "duration": 132,
    "start_time": "2025-02-01T23:05:35.406Z"
   },
   {
    "duration": 596,
    "start_time": "2025-02-01T23:05:35.540Z"
   },
   {
    "duration": 0,
    "start_time": "2025-02-01T23:05:36.138Z"
   },
   {
    "duration": 0,
    "start_time": "2025-02-01T23:05:36.139Z"
   },
   {
    "duration": 0,
    "start_time": "2025-02-01T23:05:36.140Z"
   },
   {
    "duration": 0,
    "start_time": "2025-02-01T23:05:36.141Z"
   },
   {
    "duration": 6,
    "start_time": "2025-02-01T23:08:31.861Z"
   },
   {
    "duration": 6,
    "start_time": "2025-02-01T23:12:07.911Z"
   },
   {
    "duration": 325,
    "start_time": "2025-02-01T23:14:57.404Z"
   },
   {
    "duration": 49,
    "start_time": "2025-02-01T23:17:12.177Z"
   },
   {
    "duration": 112,
    "start_time": "2025-02-01T23:17:42.783Z"
   },
   {
    "duration": 101,
    "start_time": "2025-02-01T23:18:39.172Z"
   },
   {
    "duration": 108,
    "start_time": "2025-02-01T23:19:49.070Z"
   },
   {
    "duration": 62,
    "start_time": "2025-02-01T23:20:27.841Z"
   },
   {
    "duration": 16,
    "start_time": "2025-02-01T23:22:21.641Z"
   },
   {
    "duration": 20,
    "start_time": "2025-02-01T23:23:23.688Z"
   },
   {
    "duration": 68,
    "start_time": "2025-02-01T23:24:04.640Z"
   },
   {
    "duration": 58,
    "start_time": "2025-02-01T23:24:11.114Z"
   },
   {
    "duration": 74,
    "start_time": "2025-02-01T23:24:37.194Z"
   },
   {
    "duration": 26,
    "start_time": "2025-02-01T23:25:25.533Z"
   },
   {
    "duration": 6,
    "start_time": "2025-02-01T23:26:08.750Z"
   },
   {
    "duration": 5,
    "start_time": "2025-02-01T23:26:25.640Z"
   },
   {
    "duration": 61,
    "start_time": "2025-02-01T23:27:15.572Z"
   },
   {
    "duration": 145,
    "start_time": "2025-02-01T23:30:20.833Z"
   },
   {
    "duration": 38,
    "start_time": "2025-02-01T23:35:55.067Z"
   },
   {
    "duration": 252,
    "start_time": "2025-02-01T23:37:23.508Z"
   },
   {
    "duration": 46,
    "start_time": "2025-02-01T23:38:48.318Z"
   },
   {
    "duration": 61,
    "start_time": "2025-02-01T23:39:46.751Z"
   },
   {
    "duration": 72,
    "start_time": "2025-02-01T23:41:47.225Z"
   },
   {
    "duration": 3,
    "start_time": "2025-02-01T23:42:50.981Z"
   },
   {
    "duration": 380,
    "start_time": "2025-02-01T23:42:50.985Z"
   },
   {
    "duration": 7,
    "start_time": "2025-02-01T23:42:51.367Z"
   },
   {
    "duration": 45,
    "start_time": "2025-02-01T23:42:51.376Z"
   },
   {
    "duration": 6,
    "start_time": "2025-02-01T23:42:51.423Z"
   },
   {
    "duration": 10,
    "start_time": "2025-02-01T23:42:51.432Z"
   },
   {
    "duration": 6,
    "start_time": "2025-02-01T23:42:51.443Z"
   },
   {
    "duration": 8,
    "start_time": "2025-02-01T23:42:51.451Z"
   },
   {
    "duration": 5,
    "start_time": "2025-02-01T23:42:51.461Z"
   },
   {
    "duration": 153,
    "start_time": "2025-02-01T23:42:51.470Z"
   },
   {
    "duration": 109,
    "start_time": "2025-02-01T23:42:51.624Z"
   },
   {
    "duration": 211,
    "start_time": "2025-02-01T23:42:51.736Z"
   },
   {
    "duration": 172,
    "start_time": "2025-02-01T23:42:51.948Z"
   },
   {
    "duration": 158,
    "start_time": "2025-02-01T23:42:52.122Z"
   },
   {
    "duration": 155,
    "start_time": "2025-02-01T23:42:52.282Z"
   },
   {
    "duration": 282,
    "start_time": "2025-02-01T23:42:52.439Z"
   },
   {
    "duration": 5,
    "start_time": "2025-02-01T23:42:52.723Z"
   },
   {
    "duration": 323,
    "start_time": "2025-02-01T23:42:52.729Z"
   },
   {
    "duration": 3,
    "start_time": "2025-02-01T23:42:53.053Z"
   },
   {
    "duration": 19,
    "start_time": "2025-02-01T23:42:53.058Z"
   },
   {
    "duration": 173,
    "start_time": "2025-02-01T23:42:53.078Z"
   },
   {
    "duration": 6,
    "start_time": "2025-02-01T23:42:53.254Z"
   },
   {
    "duration": 69,
    "start_time": "2025-02-01T23:42:53.262Z"
   },
   {
    "duration": 94,
    "start_time": "2025-02-01T23:42:53.333Z"
   },
   {
    "duration": 0,
    "start_time": "2025-02-01T23:42:53.428Z"
   },
   {
    "duration": 0,
    "start_time": "2025-02-01T23:42:53.430Z"
   },
   {
    "duration": 0,
    "start_time": "2025-02-01T23:42:53.432Z"
   },
   {
    "duration": 0,
    "start_time": "2025-02-01T23:42:53.433Z"
   },
   {
    "duration": 49,
    "start_time": "2025-02-01T23:43:13.197Z"
   },
   {
    "duration": 142,
    "start_time": "2025-02-01T23:58:31.193Z"
   },
   {
    "duration": 5,
    "start_time": "2025-02-01T23:59:07.043Z"
   },
   {
    "duration": 160,
    "start_time": "2025-02-01T23:59:14.656Z"
   },
   {
    "duration": 16,
    "start_time": "2025-02-01T23:59:26.310Z"
   },
   {
    "duration": 3,
    "start_time": "2025-02-02T00:05:21.163Z"
   },
   {
    "duration": 354,
    "start_time": "2025-02-02T00:05:21.168Z"
   },
   {
    "duration": 7,
    "start_time": "2025-02-02T00:05:21.523Z"
   },
   {
    "duration": 42,
    "start_time": "2025-02-02T00:05:21.532Z"
   },
   {
    "duration": 8,
    "start_time": "2025-02-02T00:05:21.576Z"
   },
   {
    "duration": 30,
    "start_time": "2025-02-02T00:05:21.586Z"
   },
   {
    "duration": 6,
    "start_time": "2025-02-02T00:05:21.618Z"
   },
   {
    "duration": 8,
    "start_time": "2025-02-02T00:05:21.626Z"
   },
   {
    "duration": 5,
    "start_time": "2025-02-02T00:05:21.636Z"
   },
   {
    "duration": 135,
    "start_time": "2025-02-02T00:05:21.645Z"
   },
   {
    "duration": 113,
    "start_time": "2025-02-02T00:05:21.782Z"
   },
   {
    "duration": 206,
    "start_time": "2025-02-02T00:05:21.897Z"
   },
   {
    "duration": 170,
    "start_time": "2025-02-02T00:05:22.104Z"
   },
   {
    "duration": 162,
    "start_time": "2025-02-02T00:05:22.276Z"
   },
   {
    "duration": 155,
    "start_time": "2025-02-02T00:05:22.440Z"
   },
   {
    "duration": 193,
    "start_time": "2025-02-02T00:05:22.597Z"
   },
   {
    "duration": 5,
    "start_time": "2025-02-02T00:05:22.792Z"
   },
   {
    "duration": 319,
    "start_time": "2025-02-02T00:05:22.799Z"
   },
   {
    "duration": 3,
    "start_time": "2025-02-02T00:05:23.120Z"
   },
   {
    "duration": 19,
    "start_time": "2025-02-02T00:05:23.125Z"
   },
   {
    "duration": 186,
    "start_time": "2025-02-02T00:05:23.146Z"
   },
   {
    "duration": 5,
    "start_time": "2025-02-02T00:05:23.334Z"
   },
   {
    "duration": 183,
    "start_time": "2025-02-02T00:05:23.341Z"
   },
   {
    "duration": 58,
    "start_time": "2025-02-02T00:05:23.526Z"
   },
   {
    "duration": 172,
    "start_time": "2025-02-02T00:05:23.586Z"
   },
   {
    "duration": 39,
    "start_time": "2025-02-02T00:05:23.760Z"
   },
   {
    "duration": 3,
    "start_time": "2025-02-02T00:06:31.377Z"
   },
   {
    "duration": 351,
    "start_time": "2025-02-02T00:06:31.382Z"
   },
   {
    "duration": 6,
    "start_time": "2025-02-02T00:06:31.735Z"
   },
   {
    "duration": 39,
    "start_time": "2025-02-02T00:06:31.743Z"
   },
   {
    "duration": 6,
    "start_time": "2025-02-02T00:06:31.784Z"
   },
   {
    "duration": 27,
    "start_time": "2025-02-02T00:06:31.792Z"
   },
   {
    "duration": 7,
    "start_time": "2025-02-02T00:06:31.821Z"
   },
   {
    "duration": 9,
    "start_time": "2025-02-02T00:06:31.830Z"
   },
   {
    "duration": 7,
    "start_time": "2025-02-02T00:06:31.841Z"
   },
   {
    "duration": 140,
    "start_time": "2025-02-02T00:06:31.850Z"
   },
   {
    "duration": 108,
    "start_time": "2025-02-02T00:06:31.993Z"
   },
   {
    "duration": 217,
    "start_time": "2025-02-02T00:06:32.104Z"
   },
   {
    "duration": 165,
    "start_time": "2025-02-02T00:06:32.323Z"
   },
   {
    "duration": 166,
    "start_time": "2025-02-02T00:06:32.490Z"
   },
   {
    "duration": 157,
    "start_time": "2025-02-02T00:06:32.657Z"
   },
   {
    "duration": 184,
    "start_time": "2025-02-02T00:06:32.816Z"
   },
   {
    "duration": 10,
    "start_time": "2025-02-02T00:06:33.002Z"
   },
   {
    "duration": 312,
    "start_time": "2025-02-02T00:06:33.014Z"
   },
   {
    "duration": 3,
    "start_time": "2025-02-02T00:06:33.328Z"
   },
   {
    "duration": 18,
    "start_time": "2025-02-02T00:06:33.332Z"
   },
   {
    "duration": 168,
    "start_time": "2025-02-02T00:06:33.352Z"
   },
   {
    "duration": 6,
    "start_time": "2025-02-02T00:06:33.521Z"
   },
   {
    "duration": 48,
    "start_time": "2025-02-02T00:06:33.529Z"
   },
   {
    "duration": 80,
    "start_time": "2025-02-02T00:06:33.579Z"
   },
   {
    "duration": 158,
    "start_time": "2025-02-02T00:06:33.661Z"
   },
   {
    "duration": 37,
    "start_time": "2025-02-02T00:06:33.821Z"
   },
   {
    "duration": 2697,
    "start_time": "2025-02-02T16:16:30.431Z"
   },
   {
    "duration": 433,
    "start_time": "2025-02-02T16:16:33.130Z"
   },
   {
    "duration": 9,
    "start_time": "2025-02-02T16:16:33.565Z"
   },
   {
    "duration": 42,
    "start_time": "2025-02-02T16:16:33.577Z"
   },
   {
    "duration": 8,
    "start_time": "2025-02-02T16:16:33.620Z"
   },
   {
    "duration": 11,
    "start_time": "2025-02-02T16:16:33.631Z"
   },
   {
    "duration": 7,
    "start_time": "2025-02-02T16:16:33.644Z"
   },
   {
    "duration": 8,
    "start_time": "2025-02-02T16:16:33.654Z"
   },
   {
    "duration": 6,
    "start_time": "2025-02-02T16:16:33.664Z"
   },
   {
    "duration": 155,
    "start_time": "2025-02-02T16:16:33.674Z"
   },
   {
    "duration": 130,
    "start_time": "2025-02-02T16:16:33.831Z"
   },
   {
    "duration": 227,
    "start_time": "2025-02-02T16:16:33.963Z"
   },
   {
    "duration": 171,
    "start_time": "2025-02-02T16:16:34.191Z"
   },
   {
    "duration": 178,
    "start_time": "2025-02-02T16:16:34.364Z"
   },
   {
    "duration": 181,
    "start_time": "2025-02-02T16:16:34.545Z"
   },
   {
    "duration": 262,
    "start_time": "2025-02-02T16:16:34.728Z"
   },
   {
    "duration": 7,
    "start_time": "2025-02-02T16:16:34.991Z"
   },
   {
    "duration": 334,
    "start_time": "2025-02-02T16:16:35.000Z"
   },
   {
    "duration": 2,
    "start_time": "2025-02-02T16:16:35.336Z"
   },
   {
    "duration": 17,
    "start_time": "2025-02-02T16:16:35.340Z"
   },
   {
    "duration": 182,
    "start_time": "2025-02-02T16:16:35.358Z"
   },
   {
    "duration": 5,
    "start_time": "2025-02-02T16:16:35.542Z"
   },
   {
    "duration": 48,
    "start_time": "2025-02-02T16:16:35.549Z"
   },
   {
    "duration": 72,
    "start_time": "2025-02-02T16:16:35.598Z"
   },
   {
    "duration": 153,
    "start_time": "2025-02-02T16:16:35.672Z"
   },
   {
    "duration": 39,
    "start_time": "2025-02-02T16:16:35.827Z"
   },
   {
    "duration": 3,
    "start_time": "2025-02-02T16:20:54.473Z"
   },
   {
    "duration": 328,
    "start_time": "2025-02-02T16:20:54.478Z"
   },
   {
    "duration": 7,
    "start_time": "2025-02-02T16:20:54.808Z"
   },
   {
    "duration": 38,
    "start_time": "2025-02-02T16:20:54.824Z"
   },
   {
    "duration": 6,
    "start_time": "2025-02-02T16:20:54.865Z"
   },
   {
    "duration": 9,
    "start_time": "2025-02-02T16:20:54.873Z"
   },
   {
    "duration": 5,
    "start_time": "2025-02-02T16:20:54.884Z"
   },
   {
    "duration": 37,
    "start_time": "2025-02-02T16:20:54.891Z"
   },
   {
    "duration": 5,
    "start_time": "2025-02-02T16:20:54.929Z"
   },
   {
    "duration": 120,
    "start_time": "2025-02-02T16:20:54.936Z"
   },
   {
    "duration": 103,
    "start_time": "2025-02-02T16:20:55.058Z"
   },
   {
    "duration": 214,
    "start_time": "2025-02-02T16:20:55.163Z"
   },
   {
    "duration": 166,
    "start_time": "2025-02-02T16:20:55.378Z"
   },
   {
    "duration": 154,
    "start_time": "2025-02-02T16:20:55.548Z"
   },
   {
    "duration": 160,
    "start_time": "2025-02-02T16:20:55.704Z"
   },
   {
    "duration": 239,
    "start_time": "2025-02-02T16:20:55.867Z"
   },
   {
    "duration": 6,
    "start_time": "2025-02-02T16:20:56.108Z"
   },
   {
    "duration": 327,
    "start_time": "2025-02-02T16:20:56.115Z"
   },
   {
    "duration": 2,
    "start_time": "2025-02-02T16:20:56.444Z"
   },
   {
    "duration": 17,
    "start_time": "2025-02-02T16:20:56.449Z"
   },
   {
    "duration": 167,
    "start_time": "2025-02-02T16:20:56.468Z"
   },
   {
    "duration": 5,
    "start_time": "2025-02-02T16:20:56.637Z"
   },
   {
    "duration": 48,
    "start_time": "2025-02-02T16:20:56.643Z"
   },
   {
    "duration": 77,
    "start_time": "2025-02-02T16:20:56.692Z"
   },
   {
    "duration": 155,
    "start_time": "2025-02-02T16:20:56.771Z"
   },
   {
    "duration": 38,
    "start_time": "2025-02-02T16:20:56.928Z"
   },
   {
    "duration": 150,
    "start_time": "2025-02-02T16:22:25.596Z"
   },
   {
    "duration": 503,
    "start_time": "2025-02-02T16:25:13.671Z"
   },
   {
    "duration": 33,
    "start_time": "2025-02-02T16:25:28.011Z"
   },
   {
    "duration": 157,
    "start_time": "2025-02-02T16:25:52.196Z"
   },
   {
    "duration": 138,
    "start_time": "2025-02-02T16:29:45.263Z"
   },
   {
    "duration": 438,
    "start_time": "2025-02-02T16:30:37.657Z"
   },
   {
    "duration": 220,
    "start_time": "2025-02-02T16:31:22.634Z"
   },
   {
    "duration": 115,
    "start_time": "2025-02-02T16:32:36.343Z"
   },
   {
    "duration": 120,
    "start_time": "2025-02-02T16:34:18.720Z"
   },
   {
    "duration": 121,
    "start_time": "2025-02-02T16:35:03.575Z"
   },
   {
    "duration": 8,
    "start_time": "2025-02-02T16:35:30.410Z"
   },
   {
    "duration": 127,
    "start_time": "2025-02-02T16:36:05.819Z"
   },
   {
    "duration": 125,
    "start_time": "2025-02-02T16:36:12.674Z"
   },
   {
    "duration": 3,
    "start_time": "2025-02-03T05:15:19.222Z"
   },
   {
    "duration": 359,
    "start_time": "2025-02-03T05:15:19.227Z"
   },
   {
    "duration": 7,
    "start_time": "2025-02-03T05:15:19.588Z"
   },
   {
    "duration": 37,
    "start_time": "2025-02-03T05:15:19.597Z"
   },
   {
    "duration": 6,
    "start_time": "2025-02-03T05:15:19.637Z"
   },
   {
    "duration": 9,
    "start_time": "2025-02-03T05:15:19.645Z"
   },
   {
    "duration": 32,
    "start_time": "2025-02-03T05:15:19.656Z"
   },
   {
    "duration": 10,
    "start_time": "2025-02-03T05:15:19.689Z"
   },
   {
    "duration": 87,
    "start_time": "2025-02-03T05:15:19.700Z"
   },
   {
    "duration": 119,
    "start_time": "2025-02-03T05:15:19.789Z"
   },
   {
    "duration": 111,
    "start_time": "2025-02-03T05:15:19.909Z"
   },
   {
    "duration": 212,
    "start_time": "2025-02-03T05:15:20.022Z"
   },
   {
    "duration": 185,
    "start_time": "2025-02-03T05:15:20.236Z"
   },
   {
    "duration": 167,
    "start_time": "2025-02-03T05:15:20.425Z"
   },
   {
    "duration": 161,
    "start_time": "2025-02-03T05:15:20.595Z"
   },
   {
    "duration": 187,
    "start_time": "2025-02-03T05:15:20.758Z"
   },
   {
    "duration": 6,
    "start_time": "2025-02-03T05:15:20.947Z"
   },
   {
    "duration": 342,
    "start_time": "2025-02-03T05:15:20.954Z"
   },
   {
    "duration": 23,
    "start_time": "2025-02-03T05:15:21.298Z"
   },
   {
    "duration": 160,
    "start_time": "2025-02-03T05:15:21.323Z"
   },
   {
    "duration": 5,
    "start_time": "2025-02-03T05:15:21.487Z"
   },
   {
    "duration": 49,
    "start_time": "2025-02-03T05:15:21.493Z"
   },
   {
    "duration": 82,
    "start_time": "2025-02-03T05:15:21.544Z"
   },
   {
    "duration": 209,
    "start_time": "2025-02-03T05:15:21.627Z"
   },
   {
    "duration": 38,
    "start_time": "2025-02-03T05:15:21.838Z"
   },
   {
    "duration": 116,
    "start_time": "2025-02-03T05:15:21.887Z"
   },
   {
    "duration": 171,
    "start_time": "2025-02-03T14:22:20.478Z"
   },
   {
    "duration": 2428,
    "start_time": "2025-02-03T14:22:25.294Z"
   },
   {
    "duration": 437,
    "start_time": "2025-02-03T14:22:27.724Z"
   },
   {
    "duration": 10,
    "start_time": "2025-02-03T14:22:28.163Z"
   },
   {
    "duration": 38,
    "start_time": "2025-02-03T14:22:28.176Z"
   },
   {
    "duration": 6,
    "start_time": "2025-02-03T14:22:28.216Z"
   },
   {
    "duration": 20,
    "start_time": "2025-02-03T14:22:28.224Z"
   },
   {
    "duration": 5,
    "start_time": "2025-02-03T14:22:28.246Z"
   },
   {
    "duration": 9,
    "start_time": "2025-02-03T14:22:28.253Z"
   },
   {
    "duration": 5,
    "start_time": "2025-02-03T14:22:28.263Z"
   },
   {
    "duration": 143,
    "start_time": "2025-02-03T14:22:28.271Z"
   },
   {
    "duration": 137,
    "start_time": "2025-02-03T14:22:28.415Z"
   },
   {
    "duration": 113,
    "start_time": "2025-02-03T14:22:28.554Z"
   },
   {
    "duration": 236,
    "start_time": "2025-02-03T14:22:28.669Z"
   },
   {
    "duration": 174,
    "start_time": "2025-02-03T14:22:28.907Z"
   },
   {
    "duration": 175,
    "start_time": "2025-02-03T14:22:29.084Z"
   },
   {
    "duration": 243,
    "start_time": "2025-02-03T14:22:29.261Z"
   },
   {
    "duration": 6,
    "start_time": "2025-02-03T14:22:29.506Z"
   },
   {
    "duration": 331,
    "start_time": "2025-02-03T14:22:29.513Z"
   },
   {
    "duration": 20,
    "start_time": "2025-02-03T14:22:29.846Z"
   },
   {
    "duration": 164,
    "start_time": "2025-02-03T14:22:29.867Z"
   },
   {
    "duration": 5,
    "start_time": "2025-02-03T14:22:30.033Z"
   },
   {
    "duration": 47,
    "start_time": "2025-02-03T14:22:30.040Z"
   },
   {
    "duration": 80,
    "start_time": "2025-02-03T14:22:30.089Z"
   },
   {
    "duration": 271,
    "start_time": "2025-02-03T14:22:30.172Z"
   },
   {
    "duration": 44,
    "start_time": "2025-02-03T14:22:30.445Z"
   },
   {
    "duration": 168,
    "start_time": "2025-02-03T14:22:30.496Z"
   },
   {
    "duration": 202,
    "start_time": "2025-02-03T14:23:11.348Z"
   },
   {
    "duration": 135,
    "start_time": "2025-02-03T14:24:10.201Z"
   },
   {
    "duration": 75,
    "start_time": "2025-02-03T14:24:14.340Z"
   },
   {
    "duration": 175,
    "start_time": "2025-02-03T14:25:29.251Z"
   },
   {
    "duration": 65,
    "start_time": "2025-02-03T14:25:49.424Z"
   },
   {
    "duration": 115,
    "start_time": "2025-02-03T14:26:29.827Z"
   },
   {
    "duration": 60,
    "start_time": "2025-02-03T14:27:51.359Z"
   },
   {
    "duration": 135,
    "start_time": "2025-02-03T14:28:36.689Z"
   },
   {
    "duration": 116,
    "start_time": "2025-02-03T14:28:51.028Z"
   },
   {
    "duration": 197,
    "start_time": "2025-02-03T14:33:50.536Z"
   },
   {
    "duration": 80,
    "start_time": "2025-02-03T14:38:04.013Z"
   },
   {
    "duration": 3,
    "start_time": "2025-02-03T14:38:17.914Z"
   },
   {
    "duration": 2,
    "start_time": "2025-02-03T14:38:21.049Z"
   },
   {
    "duration": 358,
    "start_time": "2025-02-03T14:38:21.055Z"
   },
   {
    "duration": 7,
    "start_time": "2025-02-03T14:38:21.415Z"
   },
   {
    "duration": 51,
    "start_time": "2025-02-03T14:38:21.424Z"
   },
   {
    "duration": 6,
    "start_time": "2025-02-03T14:38:21.477Z"
   },
   {
    "duration": 10,
    "start_time": "2025-02-03T14:38:21.486Z"
   },
   {
    "duration": 6,
    "start_time": "2025-02-03T14:38:21.497Z"
   },
   {
    "duration": 9,
    "start_time": "2025-02-03T14:38:21.505Z"
   },
   {
    "duration": 29,
    "start_time": "2025-02-03T14:38:21.515Z"
   },
   {
    "duration": 123,
    "start_time": "2025-02-03T14:38:21.546Z"
   },
   {
    "duration": 111,
    "start_time": "2025-02-03T14:38:21.670Z"
   },
   {
    "duration": 76,
    "start_time": "2025-02-03T14:38:21.784Z"
   },
   {
    "duration": 146,
    "start_time": "2025-02-03T14:38:21.862Z"
   },
   {
    "duration": 63,
    "start_time": "2025-02-03T14:38:22.010Z"
   },
   {
    "duration": 121,
    "start_time": "2025-02-03T14:38:22.077Z"
   },
   {
    "duration": 55,
    "start_time": "2025-02-03T14:38:22.200Z"
   },
   {
    "duration": 120,
    "start_time": "2025-02-03T14:38:22.256Z"
   },
   {
    "duration": 189,
    "start_time": "2025-02-03T14:38:22.377Z"
   },
   {
    "duration": 282,
    "start_time": "2025-02-03T14:38:22.570Z"
   },
   {
    "duration": 4,
    "start_time": "2025-02-03T14:38:22.854Z"
   },
   {
    "duration": 324,
    "start_time": "2025-02-03T14:38:22.860Z"
   },
   {
    "duration": 18,
    "start_time": "2025-02-03T14:38:23.186Z"
   },
   {
    "duration": 155,
    "start_time": "2025-02-03T14:38:23.206Z"
   },
   {
    "duration": 5,
    "start_time": "2025-02-03T14:38:23.362Z"
   },
   {
    "duration": 47,
    "start_time": "2025-02-03T14:38:23.369Z"
   },
   {
    "duration": 715,
    "start_time": "2025-02-03T14:38:23.418Z"
   },
   {
    "duration": 81,
    "start_time": "2025-02-03T14:38:24.142Z"
   },
   {
    "duration": 219,
    "start_time": "2025-02-03T14:38:24.225Z"
   },
   {
    "duration": 37,
    "start_time": "2025-02-03T14:38:24.446Z"
   },
   {
    "duration": 133,
    "start_time": "2025-02-03T14:38:24.484Z"
   },
   {
    "duration": 992,
    "start_time": "2025-02-03T14:39:04.306Z"
   },
   {
    "duration": 958,
    "start_time": "2025-02-03T14:39:20.540Z"
   },
   {
    "duration": 873,
    "start_time": "2025-02-03T14:39:32.703Z"
   },
   {
    "duration": 2,
    "start_time": "2025-02-03T14:39:43.434Z"
   },
   {
    "duration": 335,
    "start_time": "2025-02-03T14:39:43.439Z"
   },
   {
    "duration": 7,
    "start_time": "2025-02-03T14:39:43.776Z"
   },
   {
    "duration": 40,
    "start_time": "2025-02-03T14:39:43.785Z"
   },
   {
    "duration": 20,
    "start_time": "2025-02-03T14:39:43.827Z"
   },
   {
    "duration": 10,
    "start_time": "2025-02-03T14:39:43.848Z"
   },
   {
    "duration": 5,
    "start_time": "2025-02-03T14:39:43.860Z"
   },
   {
    "duration": 8,
    "start_time": "2025-02-03T14:39:43.867Z"
   },
   {
    "duration": 6,
    "start_time": "2025-02-03T14:39:43.876Z"
   },
   {
    "duration": 139,
    "start_time": "2025-02-03T14:39:43.884Z"
   },
   {
    "duration": 106,
    "start_time": "2025-02-03T14:39:44.026Z"
   },
   {
    "duration": 75,
    "start_time": "2025-02-03T14:39:44.134Z"
   },
   {
    "duration": 157,
    "start_time": "2025-02-03T14:39:44.211Z"
   },
   {
    "duration": 50,
    "start_time": "2025-02-03T14:39:44.370Z"
   },
   {
    "duration": 127,
    "start_time": "2025-02-03T14:39:44.421Z"
   },
   {
    "duration": 47,
    "start_time": "2025-02-03T14:39:44.550Z"
   },
   {
    "duration": 127,
    "start_time": "2025-02-03T14:39:44.599Z"
   },
   {
    "duration": 164,
    "start_time": "2025-02-03T14:39:44.728Z"
   },
   {
    "duration": 283,
    "start_time": "2025-02-03T14:39:44.894Z"
   },
   {
    "duration": 5,
    "start_time": "2025-02-03T14:39:45.179Z"
   },
   {
    "duration": 317,
    "start_time": "2025-02-03T14:39:45.186Z"
   },
   {
    "duration": 18,
    "start_time": "2025-02-03T14:39:45.505Z"
   },
   {
    "duration": 157,
    "start_time": "2025-02-03T14:39:45.525Z"
   },
   {
    "duration": 6,
    "start_time": "2025-02-03T14:39:45.683Z"
   },
   {
    "duration": 60,
    "start_time": "2025-02-03T14:39:45.691Z"
   },
   {
    "duration": 669,
    "start_time": "2025-02-03T14:39:45.753Z"
   },
   {
    "duration": 70,
    "start_time": "2025-02-03T14:39:46.425Z"
   },
   {
    "duration": 159,
    "start_time": "2025-02-03T14:39:46.497Z"
   },
   {
    "duration": 37,
    "start_time": "2025-02-03T14:39:46.659Z"
   },
   {
    "duration": 127,
    "start_time": "2025-02-03T14:39:46.698Z"
   },
   {
    "duration": 2,
    "start_time": "2025-02-03T14:50:40.895Z"
   },
   {
    "duration": 344,
    "start_time": "2025-02-03T14:50:40.900Z"
   },
   {
    "duration": 8,
    "start_time": "2025-02-03T14:50:41.246Z"
   },
   {
    "duration": 38,
    "start_time": "2025-02-03T14:50:41.256Z"
   },
   {
    "duration": 6,
    "start_time": "2025-02-03T14:50:41.296Z"
   },
   {
    "duration": 10,
    "start_time": "2025-02-03T14:50:41.304Z"
   },
   {
    "duration": 31,
    "start_time": "2025-02-03T14:50:41.315Z"
   },
   {
    "duration": 9,
    "start_time": "2025-02-03T14:50:41.348Z"
   },
   {
    "duration": 5,
    "start_time": "2025-02-03T14:50:41.359Z"
   },
   {
    "duration": 131,
    "start_time": "2025-02-03T14:50:41.366Z"
   },
   {
    "duration": 105,
    "start_time": "2025-02-03T14:50:41.499Z"
   },
   {
    "duration": 86,
    "start_time": "2025-02-03T14:50:41.606Z"
   },
   {
    "duration": 151,
    "start_time": "2025-02-03T14:50:41.694Z"
   },
   {
    "duration": 49,
    "start_time": "2025-02-03T14:50:41.849Z"
   },
   {
    "duration": 130,
    "start_time": "2025-02-03T14:50:41.899Z"
   },
   {
    "duration": 46,
    "start_time": "2025-02-03T14:50:42.031Z"
   },
   {
    "duration": 120,
    "start_time": "2025-02-03T14:50:42.079Z"
   },
   {
    "duration": 250,
    "start_time": "2025-02-03T14:50:42.200Z"
   },
   {
    "duration": 187,
    "start_time": "2025-02-03T14:50:42.453Z"
   },
   {
    "duration": 4,
    "start_time": "2025-02-03T14:50:42.643Z"
   },
   {
    "duration": 333,
    "start_time": "2025-02-03T14:50:42.649Z"
   },
   {
    "duration": 19,
    "start_time": "2025-02-03T14:50:42.984Z"
   },
   {
    "duration": 152,
    "start_time": "2025-02-03T14:50:43.005Z"
   },
   {
    "duration": 6,
    "start_time": "2025-02-03T14:50:43.159Z"
   },
   {
    "duration": 49,
    "start_time": "2025-02-03T14:50:43.166Z"
   },
   {
    "duration": 664,
    "start_time": "2025-02-03T14:50:43.217Z"
   },
   {
    "duration": 66,
    "start_time": "2025-02-03T14:50:43.882Z"
   },
   {
    "duration": 152,
    "start_time": "2025-02-03T14:50:43.950Z"
   },
   {
    "duration": 46,
    "start_time": "2025-02-03T14:50:44.104Z"
   },
   {
    "duration": 117,
    "start_time": "2025-02-03T14:50:44.152Z"
   },
   {
    "duration": 729,
    "start_time": "2025-02-03T14:55:17.476Z"
   },
   {
    "duration": 3,
    "start_time": "2025-02-03T14:55:30.262Z"
   },
   {
    "duration": 376,
    "start_time": "2025-02-03T14:55:30.267Z"
   },
   {
    "duration": 9,
    "start_time": "2025-02-03T14:55:30.646Z"
   },
   {
    "duration": 40,
    "start_time": "2025-02-03T14:55:30.657Z"
   },
   {
    "duration": 6,
    "start_time": "2025-02-03T14:55:30.700Z"
   },
   {
    "duration": 9,
    "start_time": "2025-02-03T14:55:30.707Z"
   },
   {
    "duration": 28,
    "start_time": "2025-02-03T14:55:30.718Z"
   },
   {
    "duration": 14,
    "start_time": "2025-02-03T14:55:30.748Z"
   },
   {
    "duration": 5,
    "start_time": "2025-02-03T14:55:30.764Z"
   },
   {
    "duration": 127,
    "start_time": "2025-02-03T14:55:30.771Z"
   },
   {
    "duration": 108,
    "start_time": "2025-02-03T14:55:30.901Z"
   },
   {
    "duration": 83,
    "start_time": "2025-02-03T14:55:31.011Z"
   },
   {
    "duration": 156,
    "start_time": "2025-02-03T14:55:31.096Z"
   },
   {
    "duration": 50,
    "start_time": "2025-02-03T14:55:31.254Z"
   },
   {
    "duration": 128,
    "start_time": "2025-02-03T14:55:31.306Z"
   },
   {
    "duration": 49,
    "start_time": "2025-02-03T14:55:31.437Z"
   },
   {
    "duration": 125,
    "start_time": "2025-02-03T14:55:31.488Z"
   },
   {
    "duration": 157,
    "start_time": "2025-02-03T14:55:31.615Z"
   },
   {
    "duration": 188,
    "start_time": "2025-02-03T14:55:31.776Z"
   },
   {
    "duration": 5,
    "start_time": "2025-02-03T14:55:31.966Z"
   },
   {
    "duration": 309,
    "start_time": "2025-02-03T14:55:31.973Z"
   },
   {
    "duration": 20,
    "start_time": "2025-02-03T14:55:32.284Z"
   },
   {
    "duration": 159,
    "start_time": "2025-02-03T14:55:32.306Z"
   },
   {
    "duration": 5,
    "start_time": "2025-02-03T14:55:32.466Z"
   },
   {
    "duration": 92,
    "start_time": "2025-02-03T14:55:32.474Z"
   },
   {
    "duration": 0,
    "start_time": "2025-02-03T14:55:32.568Z"
   },
   {
    "duration": 0,
    "start_time": "2025-02-03T14:55:32.568Z"
   },
   {
    "duration": 0,
    "start_time": "2025-02-03T14:55:32.570Z"
   },
   {
    "duration": 0,
    "start_time": "2025-02-03T14:55:32.571Z"
   },
   {
    "duration": 0,
    "start_time": "2025-02-03T14:55:32.574Z"
   },
   {
    "duration": 164,
    "start_time": "2025-02-03T14:56:08.633Z"
   },
   {
    "duration": 641,
    "start_time": "2025-02-03T14:56:16.630Z"
   },
   {
    "duration": 179,
    "start_time": "2025-02-03T14:56:52.613Z"
   },
   {
    "duration": 91,
    "start_time": "2025-02-03T14:57:26.391Z"
   },
   {
    "duration": 6,
    "start_time": "2025-02-03T14:59:07.967Z"
   },
   {
    "duration": 5,
    "start_time": "2025-02-03T14:59:28.543Z"
   },
   {
    "duration": 44,
    "start_time": "2025-02-03T15:00:52.733Z"
   },
   {
    "duration": 637,
    "start_time": "2025-02-03T15:00:55.674Z"
   },
   {
    "duration": 16,
    "start_time": "2025-02-03T15:01:13.269Z"
   },
   {
    "duration": 847,
    "start_time": "2025-02-03T15:01:39.210Z"
   },
   {
    "duration": 172,
    "start_time": "2025-02-03T15:02:57.295Z"
   },
   {
    "duration": 15,
    "start_time": "2025-02-03T15:03:06.661Z"
   },
   {
    "duration": 611,
    "start_time": "2025-02-03T15:03:24.334Z"
   },
   {
    "duration": 78,
    "start_time": "2025-02-03T15:19:14.252Z"
   },
   {
    "duration": 145,
    "start_time": "2025-02-03T15:20:38.928Z"
   },
   {
    "duration": 41,
    "start_time": "2025-02-03T15:20:54.109Z"
   },
   {
    "duration": 116,
    "start_time": "2025-02-03T15:20:57.345Z"
   },
   {
    "duration": 16,
    "start_time": "2025-02-03T15:22:59.133Z"
   },
   {
    "duration": 420,
    "start_time": "2025-02-03T15:24:24.067Z"
   },
   {
    "duration": 6,
    "start_time": "2025-02-03T15:25:05.880Z"
   },
   {
    "duration": 4,
    "start_time": "2025-02-03T15:25:29.834Z"
   },
   {
    "duration": 300,
    "start_time": "2025-02-03T15:29:53.970Z"
   },
   {
    "duration": 3,
    "start_time": "2025-02-03T15:31:30.829Z"
   },
   {
    "duration": 4,
    "start_time": "2025-02-03T15:31:46.092Z"
   },
   {
    "duration": 5,
    "start_time": "2025-02-03T15:33:00.457Z"
   },
   {
    "duration": 61,
    "start_time": "2025-02-03T15:34:11.271Z"
   },
   {
    "duration": 3,
    "start_time": "2025-02-03T15:34:20.809Z"
   },
   {
    "duration": 353,
    "start_time": "2025-02-03T15:34:20.820Z"
   },
   {
    "duration": 7,
    "start_time": "2025-02-03T15:34:21.175Z"
   },
   {
    "duration": 37,
    "start_time": "2025-02-03T15:34:21.184Z"
   },
   {
    "duration": 21,
    "start_time": "2025-02-03T15:34:21.223Z"
   },
   {
    "duration": 9,
    "start_time": "2025-02-03T15:34:21.247Z"
   },
   {
    "duration": 7,
    "start_time": "2025-02-03T15:34:21.257Z"
   },
   {
    "duration": 9,
    "start_time": "2025-02-03T15:34:21.265Z"
   },
   {
    "duration": 5,
    "start_time": "2025-02-03T15:34:21.275Z"
   },
   {
    "duration": 140,
    "start_time": "2025-02-03T15:34:21.282Z"
   },
   {
    "duration": 112,
    "start_time": "2025-02-03T15:34:21.424Z"
   },
   {
    "duration": 69,
    "start_time": "2025-02-03T15:34:21.542Z"
   },
   {
    "duration": 155,
    "start_time": "2025-02-03T15:34:21.614Z"
   },
   {
    "duration": 49,
    "start_time": "2025-02-03T15:34:21.771Z"
   },
   {
    "duration": 129,
    "start_time": "2025-02-03T15:34:21.824Z"
   },
   {
    "duration": 46,
    "start_time": "2025-02-03T15:34:21.955Z"
   },
   {
    "duration": 125,
    "start_time": "2025-02-03T15:34:22.003Z"
   },
   {
    "duration": 162,
    "start_time": "2025-02-03T15:34:22.130Z"
   },
   {
    "duration": 189,
    "start_time": "2025-02-03T15:34:22.294Z"
   },
   {
    "duration": 5,
    "start_time": "2025-02-03T15:34:22.486Z"
   },
   {
    "duration": 310,
    "start_time": "2025-02-03T15:34:22.493Z"
   },
   {
    "duration": 18,
    "start_time": "2025-02-03T15:34:22.805Z"
   },
   {
    "duration": 150,
    "start_time": "2025-02-03T15:34:22.842Z"
   },
   {
    "duration": 5,
    "start_time": "2025-02-03T15:34:22.995Z"
   },
   {
    "duration": 45,
    "start_time": "2025-02-03T15:34:23.001Z"
   },
   {
    "duration": 16,
    "start_time": "2025-02-03T15:34:23.048Z"
   },
   {
    "duration": 634,
    "start_time": "2025-02-03T15:34:23.066Z"
   },
   {
    "duration": 59,
    "start_time": "2025-02-03T15:34:23.702Z"
   },
   {
    "duration": 10,
    "start_time": "2025-02-03T15:34:23.763Z"
   },
   {
    "duration": 162,
    "start_time": "2025-02-03T15:34:23.775Z"
   },
   {
    "duration": 5,
    "start_time": "2025-02-03T15:34:23.939Z"
   },
   {
    "duration": 0,
    "start_time": "2025-02-03T15:34:23.946Z"
   },
   {
    "duration": 21,
    "start_time": "2025-02-03T15:35:22.082Z"
   },
   {
    "duration": 3,
    "start_time": "2025-02-03T15:35:47.112Z"
   },
   {
    "duration": 320,
    "start_time": "2025-02-03T15:35:47.117Z"
   },
   {
    "duration": 8,
    "start_time": "2025-02-03T15:35:47.439Z"
   },
   {
    "duration": 40,
    "start_time": "2025-02-03T15:35:47.449Z"
   },
   {
    "duration": 6,
    "start_time": "2025-02-03T15:35:47.492Z"
   },
   {
    "duration": 9,
    "start_time": "2025-02-03T15:35:47.500Z"
   },
   {
    "duration": 6,
    "start_time": "2025-02-03T15:35:47.510Z"
   },
   {
    "duration": 9,
    "start_time": "2025-02-03T15:35:47.542Z"
   },
   {
    "duration": 6,
    "start_time": "2025-02-03T15:35:47.552Z"
   },
   {
    "duration": 4,
    "start_time": "2025-02-03T15:35:47.560Z"
   },
   {
    "duration": 0,
    "start_time": "2025-02-03T15:35:47.567Z"
   },
   {
    "duration": 0,
    "start_time": "2025-02-03T15:35:47.568Z"
   },
   {
    "duration": 0,
    "start_time": "2025-02-03T15:35:47.569Z"
   },
   {
    "duration": 0,
    "start_time": "2025-02-03T15:35:47.570Z"
   },
   {
    "duration": 0,
    "start_time": "2025-02-03T15:35:47.571Z"
   },
   {
    "duration": 0,
    "start_time": "2025-02-03T15:35:47.572Z"
   },
   {
    "duration": 0,
    "start_time": "2025-02-03T15:35:47.573Z"
   },
   {
    "duration": 0,
    "start_time": "2025-02-03T15:35:47.574Z"
   },
   {
    "duration": 0,
    "start_time": "2025-02-03T15:35:47.575Z"
   },
   {
    "duration": 0,
    "start_time": "2025-02-03T15:35:47.575Z"
   },
   {
    "duration": 0,
    "start_time": "2025-02-03T15:35:47.576Z"
   },
   {
    "duration": 0,
    "start_time": "2025-02-03T15:35:47.578Z"
   },
   {
    "duration": 0,
    "start_time": "2025-02-03T15:35:47.579Z"
   },
   {
    "duration": 0,
    "start_time": "2025-02-03T15:35:47.581Z"
   },
   {
    "duration": 0,
    "start_time": "2025-02-03T15:35:47.582Z"
   },
   {
    "duration": 0,
    "start_time": "2025-02-03T15:35:47.583Z"
   },
   {
    "duration": 0,
    "start_time": "2025-02-03T15:35:47.585Z"
   },
   {
    "duration": 0,
    "start_time": "2025-02-03T15:35:47.586Z"
   },
   {
    "duration": 0,
    "start_time": "2025-02-03T15:35:47.587Z"
   },
   {
    "duration": 0,
    "start_time": "2025-02-03T15:35:47.589Z"
   },
   {
    "duration": 0,
    "start_time": "2025-02-03T15:35:47.642Z"
   },
   {
    "duration": 0,
    "start_time": "2025-02-03T15:35:47.643Z"
   },
   {
    "duration": 253,
    "start_time": "2025-02-03T15:37:04.348Z"
   },
   {
    "duration": 5,
    "start_time": "2025-02-03T15:37:24.723Z"
   },
   {
    "duration": 73,
    "start_time": "2025-02-03T15:38:00.787Z"
   },
   {
    "duration": 2,
    "start_time": "2025-02-03T15:38:09.914Z"
   },
   {
    "duration": 308,
    "start_time": "2025-02-03T15:38:09.919Z"
   },
   {
    "duration": 7,
    "start_time": "2025-02-03T15:38:10.229Z"
   },
   {
    "duration": 44,
    "start_time": "2025-02-03T15:38:10.237Z"
   },
   {
    "duration": 7,
    "start_time": "2025-02-03T15:38:10.289Z"
   },
   {
    "duration": 9,
    "start_time": "2025-02-03T15:38:10.298Z"
   },
   {
    "duration": 6,
    "start_time": "2025-02-03T15:38:10.309Z"
   },
   {
    "duration": 30,
    "start_time": "2025-02-03T15:38:10.316Z"
   },
   {
    "duration": 5,
    "start_time": "2025-02-03T15:38:10.347Z"
   },
   {
    "duration": 274,
    "start_time": "2025-02-03T15:38:10.354Z"
   },
   {
    "duration": 27,
    "start_time": "2025-02-03T15:38:10.631Z"
   },
   {
    "duration": 0,
    "start_time": "2025-02-03T15:38:10.661Z"
   },
   {
    "duration": 0,
    "start_time": "2025-02-03T15:38:10.662Z"
   },
   {
    "duration": 0,
    "start_time": "2025-02-03T15:38:10.664Z"
   },
   {
    "duration": 0,
    "start_time": "2025-02-03T15:38:10.665Z"
   },
   {
    "duration": 0,
    "start_time": "2025-02-03T15:38:10.666Z"
   },
   {
    "duration": 0,
    "start_time": "2025-02-03T15:38:10.667Z"
   },
   {
    "duration": 0,
    "start_time": "2025-02-03T15:38:10.668Z"
   },
   {
    "duration": 0,
    "start_time": "2025-02-03T15:38:10.669Z"
   },
   {
    "duration": 0,
    "start_time": "2025-02-03T15:38:10.670Z"
   },
   {
    "duration": 0,
    "start_time": "2025-02-03T15:38:10.671Z"
   },
   {
    "duration": 0,
    "start_time": "2025-02-03T15:38:10.672Z"
   },
   {
    "duration": 0,
    "start_time": "2025-02-03T15:38:10.673Z"
   },
   {
    "duration": 0,
    "start_time": "2025-02-03T15:38:10.675Z"
   },
   {
    "duration": 0,
    "start_time": "2025-02-03T15:38:10.676Z"
   },
   {
    "duration": 0,
    "start_time": "2025-02-03T15:38:10.677Z"
   },
   {
    "duration": 0,
    "start_time": "2025-02-03T15:38:10.678Z"
   },
   {
    "duration": 0,
    "start_time": "2025-02-03T15:38:10.679Z"
   },
   {
    "duration": 0,
    "start_time": "2025-02-03T15:38:10.680Z"
   },
   {
    "duration": 0,
    "start_time": "2025-02-03T15:38:10.681Z"
   },
   {
    "duration": 0,
    "start_time": "2025-02-03T15:38:10.682Z"
   },
   {
    "duration": 0,
    "start_time": "2025-02-03T15:38:10.684Z"
   },
   {
    "duration": 3,
    "start_time": "2025-02-03T15:39:03.950Z"
   },
   {
    "duration": 217,
    "start_time": "2025-02-03T15:39:13.317Z"
   },
   {
    "duration": 3,
    "start_time": "2025-02-03T15:39:15.620Z"
   },
   {
    "duration": 2,
    "start_time": "2025-02-03T15:39:44.219Z"
   },
   {
    "duration": 311,
    "start_time": "2025-02-03T15:39:44.224Z"
   },
   {
    "duration": 9,
    "start_time": "2025-02-03T15:39:44.538Z"
   },
   {
    "duration": 37,
    "start_time": "2025-02-03T15:39:44.548Z"
   },
   {
    "duration": 6,
    "start_time": "2025-02-03T15:39:44.587Z"
   },
   {
    "duration": 9,
    "start_time": "2025-02-03T15:39:44.596Z"
   },
   {
    "duration": 6,
    "start_time": "2025-02-03T15:39:44.606Z"
   },
   {
    "duration": 34,
    "start_time": "2025-02-03T15:39:44.614Z"
   },
   {
    "duration": 6,
    "start_time": "2025-02-03T15:39:44.649Z"
   },
   {
    "duration": 262,
    "start_time": "2025-02-03T15:39:44.657Z"
   },
   {
    "duration": 3,
    "start_time": "2025-02-03T15:39:44.921Z"
   },
   {
    "duration": 35,
    "start_time": "2025-02-03T15:39:44.926Z"
   },
   {
    "duration": 0,
    "start_time": "2025-02-03T15:39:44.964Z"
   },
   {
    "duration": 0,
    "start_time": "2025-02-03T15:39:44.966Z"
   },
   {
    "duration": 0,
    "start_time": "2025-02-03T15:39:44.967Z"
   },
   {
    "duration": 0,
    "start_time": "2025-02-03T15:39:44.968Z"
   },
   {
    "duration": 0,
    "start_time": "2025-02-03T15:39:44.970Z"
   },
   {
    "duration": 0,
    "start_time": "2025-02-03T15:39:44.972Z"
   },
   {
    "duration": 0,
    "start_time": "2025-02-03T15:39:44.973Z"
   },
   {
    "duration": 0,
    "start_time": "2025-02-03T15:39:44.974Z"
   },
   {
    "duration": 0,
    "start_time": "2025-02-03T15:39:44.975Z"
   },
   {
    "duration": 0,
    "start_time": "2025-02-03T15:39:44.977Z"
   },
   {
    "duration": 0,
    "start_time": "2025-02-03T15:39:44.978Z"
   },
   {
    "duration": 0,
    "start_time": "2025-02-03T15:39:44.980Z"
   },
   {
    "duration": 0,
    "start_time": "2025-02-03T15:39:44.981Z"
   },
   {
    "duration": 0,
    "start_time": "2025-02-03T15:39:44.983Z"
   },
   {
    "duration": 0,
    "start_time": "2025-02-03T15:39:44.984Z"
   },
   {
    "duration": 0,
    "start_time": "2025-02-03T15:39:44.986Z"
   },
   {
    "duration": 0,
    "start_time": "2025-02-03T15:39:44.987Z"
   },
   {
    "duration": 0,
    "start_time": "2025-02-03T15:39:44.988Z"
   },
   {
    "duration": 0,
    "start_time": "2025-02-03T15:39:44.989Z"
   },
   {
    "duration": 0,
    "start_time": "2025-02-03T15:39:44.990Z"
   },
   {
    "duration": 0,
    "start_time": "2025-02-03T15:39:44.991Z"
   },
   {
    "duration": 228,
    "start_time": "2025-02-03T15:41:40.760Z"
   },
   {
    "duration": 29,
    "start_time": "2025-02-03T15:41:55.527Z"
   },
   {
    "duration": 28,
    "start_time": "2025-02-03T15:42:09.080Z"
   },
   {
    "duration": 2,
    "start_time": "2025-02-03T15:42:14.645Z"
   },
   {
    "duration": 346,
    "start_time": "2025-02-03T15:42:14.652Z"
   },
   {
    "duration": 8,
    "start_time": "2025-02-03T15:42:15.000Z"
   },
   {
    "duration": 46,
    "start_time": "2025-02-03T15:42:15.010Z"
   },
   {
    "duration": 8,
    "start_time": "2025-02-03T15:42:15.058Z"
   },
   {
    "duration": 10,
    "start_time": "2025-02-03T15:42:15.068Z"
   },
   {
    "duration": 6,
    "start_time": "2025-02-03T15:42:15.079Z"
   },
   {
    "duration": 8,
    "start_time": "2025-02-03T15:42:15.086Z"
   },
   {
    "duration": 6,
    "start_time": "2025-02-03T15:42:15.095Z"
   },
   {
    "duration": 152,
    "start_time": "2025-02-03T15:42:15.102Z"
   },
   {
    "duration": 110,
    "start_time": "2025-02-03T15:42:15.256Z"
   },
   {
    "duration": 74,
    "start_time": "2025-02-03T15:42:15.368Z"
   },
   {
    "duration": 148,
    "start_time": "2025-02-03T15:42:15.445Z"
   },
   {
    "duration": 58,
    "start_time": "2025-02-03T15:42:15.596Z"
   },
   {
    "duration": 121,
    "start_time": "2025-02-03T15:42:15.657Z"
   },
   {
    "duration": 45,
    "start_time": "2025-02-03T15:42:15.779Z"
   },
   {
    "duration": 126,
    "start_time": "2025-02-03T15:42:15.826Z"
   },
   {
    "duration": 166,
    "start_time": "2025-02-03T15:42:15.954Z"
   },
   {
    "duration": 188,
    "start_time": "2025-02-03T15:42:16.121Z"
   },
   {
    "duration": 5,
    "start_time": "2025-02-03T15:42:16.311Z"
   },
   {
    "duration": 317,
    "start_time": "2025-02-03T15:42:16.318Z"
   },
   {
    "duration": 23,
    "start_time": "2025-02-03T15:42:16.637Z"
   },
   {
    "duration": 336,
    "start_time": "2025-02-03T15:42:16.662Z"
   },
   {
    "duration": 5,
    "start_time": "2025-02-03T15:42:17.001Z"
   },
   {
    "duration": 58,
    "start_time": "2025-02-03T15:42:17.009Z"
   },
   {
    "duration": 15,
    "start_time": "2025-02-03T15:42:17.069Z"
   },
   {
    "duration": 598,
    "start_time": "2025-02-03T15:42:17.086Z"
   },
   {
    "duration": 59,
    "start_time": "2025-02-03T15:42:17.685Z"
   },
   {
    "duration": 10,
    "start_time": "2025-02-03T15:42:17.745Z"
   },
   {
    "duration": 165,
    "start_time": "2025-02-03T15:42:17.757Z"
   },
   {
    "duration": 5,
    "start_time": "2025-02-03T15:42:17.923Z"
   },
   {
    "duration": 0,
    "start_time": "2025-02-03T15:42:17.930Z"
   },
   {
    "duration": 5,
    "start_time": "2025-02-03T15:44:59.078Z"
   },
   {
    "duration": 3,
    "start_time": "2025-02-03T15:48:02.357Z"
   },
   {
    "duration": 5,
    "start_time": "2025-02-03T15:48:22.002Z"
   },
   {
    "duration": 6,
    "start_time": "2025-02-03T15:48:47.602Z"
   },
   {
    "duration": 4,
    "start_time": "2025-02-03T15:49:02.122Z"
   },
   {
    "duration": 222,
    "start_time": "2025-02-03T15:49:07.831Z"
   },
   {
    "duration": 43,
    "start_time": "2025-02-03T15:50:02.579Z"
   },
   {
    "duration": 78,
    "start_time": "2025-02-03T15:50:31.773Z"
   },
   {
    "duration": 6,
    "start_time": "2025-02-03T15:50:40.257Z"
   },
   {
    "duration": 3,
    "start_time": "2025-02-03T15:50:46.281Z"
   },
   {
    "duration": 348,
    "start_time": "2025-02-03T15:50:46.286Z"
   },
   {
    "duration": 8,
    "start_time": "2025-02-03T15:50:46.636Z"
   },
   {
    "duration": 37,
    "start_time": "2025-02-03T15:50:46.645Z"
   },
   {
    "duration": 6,
    "start_time": "2025-02-03T15:50:46.683Z"
   },
   {
    "duration": 10,
    "start_time": "2025-02-03T15:50:46.692Z"
   },
   {
    "duration": 6,
    "start_time": "2025-02-03T15:50:46.703Z"
   },
   {
    "duration": 37,
    "start_time": "2025-02-03T15:50:46.710Z"
   },
   {
    "duration": 7,
    "start_time": "2025-02-03T15:50:46.748Z"
   },
   {
    "duration": 3,
    "start_time": "2025-02-03T15:50:46.759Z"
   },
   {
    "duration": 128,
    "start_time": "2025-02-03T15:50:46.764Z"
   },
   {
    "duration": 108,
    "start_time": "2025-02-03T15:50:46.893Z"
   },
   {
    "duration": 87,
    "start_time": "2025-02-03T15:50:47.004Z"
   },
   {
    "duration": 162,
    "start_time": "2025-02-03T15:50:47.093Z"
   },
   {
    "duration": 55,
    "start_time": "2025-02-03T15:50:47.257Z"
   },
   {
    "duration": 132,
    "start_time": "2025-02-03T15:50:47.314Z"
   },
   {
    "duration": 47,
    "start_time": "2025-02-03T15:50:47.447Z"
   },
   {
    "duration": 122,
    "start_time": "2025-02-03T15:50:47.496Z"
   },
   {
    "duration": 162,
    "start_time": "2025-02-03T15:50:47.620Z"
   },
   {
    "duration": 187,
    "start_time": "2025-02-03T15:50:47.784Z"
   },
   {
    "duration": 6,
    "start_time": "2025-02-03T15:50:47.973Z"
   },
   {
    "duration": 327,
    "start_time": "2025-02-03T15:50:47.980Z"
   },
   {
    "duration": 20,
    "start_time": "2025-02-03T15:50:48.309Z"
   },
   {
    "duration": 142,
    "start_time": "2025-02-03T15:50:48.342Z"
   },
   {
    "duration": 6,
    "start_time": "2025-02-03T15:50:48.486Z"
   },
   {
    "duration": 267,
    "start_time": "2025-02-03T15:50:48.494Z"
   },
   {
    "duration": 15,
    "start_time": "2025-02-03T15:50:48.763Z"
   },
   {
    "duration": 634,
    "start_time": "2025-02-03T15:50:48.781Z"
   },
   {
    "duration": 165,
    "start_time": "2025-02-03T15:50:49.417Z"
   },
   {
    "duration": 0,
    "start_time": "2025-02-03T15:50:49.584Z"
   },
   {
    "duration": 0,
    "start_time": "2025-02-03T15:50:49.586Z"
   },
   {
    "duration": 0,
    "start_time": "2025-02-03T15:50:49.587Z"
   },
   {
    "duration": 0,
    "start_time": "2025-02-03T15:50:49.589Z"
   },
   {
    "duration": 59,
    "start_time": "2025-02-03T15:51:23.526Z"
   },
   {
    "duration": 54,
    "start_time": "2025-02-03T15:51:55.266Z"
   },
   {
    "duration": 53,
    "start_time": "2025-02-03T15:52:09.348Z"
   },
   {
    "duration": 4,
    "start_time": "2025-02-03T15:52:53.763Z"
   },
   {
    "duration": 4,
    "start_time": "2025-02-03T15:53:30.728Z"
   },
   {
    "duration": 49,
    "start_time": "2025-02-03T15:54:03.912Z"
   },
   {
    "duration": 32,
    "start_time": "2025-02-03T15:55:00.945Z"
   },
   {
    "duration": 78,
    "start_time": "2025-02-03T15:55:15.296Z"
   },
   {
    "duration": 25,
    "start_time": "2025-02-03T15:55:25.054Z"
   },
   {
    "duration": 65,
    "start_time": "2025-02-03T15:56:04.942Z"
   },
   {
    "duration": 68,
    "start_time": "2025-02-03T15:56:16.754Z"
   },
   {
    "duration": 51,
    "start_time": "2025-02-03T15:57:55.783Z"
   },
   {
    "duration": 3,
    "start_time": "2025-02-03T15:58:24.919Z"
   },
   {
    "duration": 314,
    "start_time": "2025-02-03T15:58:24.923Z"
   },
   {
    "duration": 6,
    "start_time": "2025-02-03T15:58:25.240Z"
   },
   {
    "duration": 36,
    "start_time": "2025-02-03T15:58:25.248Z"
   },
   {
    "duration": 5,
    "start_time": "2025-02-03T15:58:25.287Z"
   },
   {
    "duration": 9,
    "start_time": "2025-02-03T15:58:25.294Z"
   },
   {
    "duration": 7,
    "start_time": "2025-02-03T15:58:25.305Z"
   },
   {
    "duration": 9,
    "start_time": "2025-02-03T15:58:25.342Z"
   },
   {
    "duration": 6,
    "start_time": "2025-02-03T15:58:25.352Z"
   },
   {
    "duration": 170,
    "start_time": "2025-02-03T15:58:25.360Z"
   },
   {
    "duration": 0,
    "start_time": "2025-02-03T15:58:25.532Z"
   },
   {
    "duration": 0,
    "start_time": "2025-02-03T15:58:25.534Z"
   },
   {
    "duration": 0,
    "start_time": "2025-02-03T15:58:25.543Z"
   },
   {
    "duration": 0,
    "start_time": "2025-02-03T15:58:25.544Z"
   },
   {
    "duration": 0,
    "start_time": "2025-02-03T15:58:25.546Z"
   },
   {
    "duration": 0,
    "start_time": "2025-02-03T15:58:25.548Z"
   },
   {
    "duration": 0,
    "start_time": "2025-02-03T15:58:25.549Z"
   },
   {
    "duration": 0,
    "start_time": "2025-02-03T15:58:25.551Z"
   },
   {
    "duration": 0,
    "start_time": "2025-02-03T15:58:25.552Z"
   },
   {
    "duration": 0,
    "start_time": "2025-02-03T15:58:25.553Z"
   },
   {
    "duration": 0,
    "start_time": "2025-02-03T15:58:25.555Z"
   },
   {
    "duration": 0,
    "start_time": "2025-02-03T15:58:25.556Z"
   },
   {
    "duration": 0,
    "start_time": "2025-02-03T15:58:25.558Z"
   },
   {
    "duration": 0,
    "start_time": "2025-02-03T15:58:25.559Z"
   },
   {
    "duration": 0,
    "start_time": "2025-02-03T15:58:25.561Z"
   },
   {
    "duration": 0,
    "start_time": "2025-02-03T15:58:25.562Z"
   },
   {
    "duration": 0,
    "start_time": "2025-02-03T15:58:25.563Z"
   },
   {
    "duration": 0,
    "start_time": "2025-02-03T15:58:25.565Z"
   },
   {
    "duration": 0,
    "start_time": "2025-02-03T15:58:25.566Z"
   },
   {
    "duration": 0,
    "start_time": "2025-02-03T15:58:25.567Z"
   },
   {
    "duration": 1,
    "start_time": "2025-02-03T15:58:25.568Z"
   },
   {
    "duration": 0,
    "start_time": "2025-02-03T15:58:25.570Z"
   },
   {
    "duration": 46,
    "start_time": "2025-02-03T15:58:45.282Z"
   },
   {
    "duration": 3,
    "start_time": "2025-02-03T17:00:21.253Z"
   },
   {
    "duration": 338,
    "start_time": "2025-02-03T17:00:21.258Z"
   },
   {
    "duration": 7,
    "start_time": "2025-02-03T17:00:21.598Z"
   },
   {
    "duration": 45,
    "start_time": "2025-02-03T17:00:21.607Z"
   },
   {
    "duration": 7,
    "start_time": "2025-02-03T17:00:21.656Z"
   },
   {
    "duration": 11,
    "start_time": "2025-02-03T17:00:21.665Z"
   },
   {
    "duration": 7,
    "start_time": "2025-02-03T17:00:21.678Z"
   },
   {
    "duration": 9,
    "start_time": "2025-02-03T17:00:21.687Z"
   },
   {
    "duration": 7,
    "start_time": "2025-02-03T17:00:21.698Z"
   },
   {
    "duration": 177,
    "start_time": "2025-02-03T17:00:21.742Z"
   },
   {
    "duration": 0,
    "start_time": "2025-02-03T17:00:21.921Z"
   },
   {
    "duration": 0,
    "start_time": "2025-02-03T17:00:21.922Z"
   },
   {
    "duration": 0,
    "start_time": "2025-02-03T17:00:21.924Z"
   },
   {
    "duration": 0,
    "start_time": "2025-02-03T17:00:21.925Z"
   },
   {
    "duration": 0,
    "start_time": "2025-02-03T17:00:21.926Z"
   },
   {
    "duration": 0,
    "start_time": "2025-02-03T17:00:21.927Z"
   },
   {
    "duration": 0,
    "start_time": "2025-02-03T17:00:21.928Z"
   },
   {
    "duration": 0,
    "start_time": "2025-02-03T17:00:21.930Z"
   },
   {
    "duration": 0,
    "start_time": "2025-02-03T17:00:21.942Z"
   },
   {
    "duration": 0,
    "start_time": "2025-02-03T17:00:21.946Z"
   },
   {
    "duration": 0,
    "start_time": "2025-02-03T17:00:21.954Z"
   },
   {
    "duration": 0,
    "start_time": "2025-02-03T17:00:21.955Z"
   },
   {
    "duration": 0,
    "start_time": "2025-02-03T17:00:21.956Z"
   },
   {
    "duration": 0,
    "start_time": "2025-02-03T17:00:21.957Z"
   },
   {
    "duration": 0,
    "start_time": "2025-02-03T17:00:21.958Z"
   },
   {
    "duration": 0,
    "start_time": "2025-02-03T17:00:21.959Z"
   },
   {
    "duration": 0,
    "start_time": "2025-02-03T17:00:21.960Z"
   },
   {
    "duration": 0,
    "start_time": "2025-02-03T17:00:21.962Z"
   },
   {
    "duration": 0,
    "start_time": "2025-02-03T17:00:21.963Z"
   },
   {
    "duration": 0,
    "start_time": "2025-02-03T17:00:21.975Z"
   },
   {
    "duration": 0,
    "start_time": "2025-02-03T17:00:21.976Z"
   },
   {
    "duration": 0,
    "start_time": "2025-02-03T17:00:21.977Z"
   },
   {
    "duration": 34,
    "start_time": "2025-02-03T17:00:45.553Z"
   },
   {
    "duration": 2,
    "start_time": "2025-02-03T17:00:48.932Z"
   },
   {
    "duration": 366,
    "start_time": "2025-02-03T17:00:48.936Z"
   },
   {
    "duration": 8,
    "start_time": "2025-02-03T17:00:49.304Z"
   },
   {
    "duration": 75,
    "start_time": "2025-02-03T17:00:49.314Z"
   },
   {
    "duration": 10,
    "start_time": "2025-02-03T17:00:49.392Z"
   },
   {
    "duration": 12,
    "start_time": "2025-02-03T17:00:49.404Z"
   },
   {
    "duration": 27,
    "start_time": "2025-02-03T17:00:49.418Z"
   },
   {
    "duration": 14,
    "start_time": "2025-02-03T17:00:49.448Z"
   },
   {
    "duration": 7,
    "start_time": "2025-02-03T17:00:49.464Z"
   },
   {
    "duration": 190,
    "start_time": "2025-02-03T17:00:49.474Z"
   },
   {
    "duration": 110,
    "start_time": "2025-02-03T17:00:49.667Z"
   },
   {
    "duration": 101,
    "start_time": "2025-02-03T17:00:49.781Z"
   },
   {
    "duration": 159,
    "start_time": "2025-02-03T17:00:49.884Z"
   },
   {
    "duration": 67,
    "start_time": "2025-02-03T17:00:50.048Z"
   },
   {
    "duration": 142,
    "start_time": "2025-02-03T17:00:50.116Z"
   },
   {
    "duration": 65,
    "start_time": "2025-02-03T17:00:50.261Z"
   },
   {
    "duration": 163,
    "start_time": "2025-02-03T17:00:50.328Z"
   },
   {
    "duration": 178,
    "start_time": "2025-02-03T17:00:50.493Z"
   },
   {
    "duration": 213,
    "start_time": "2025-02-03T17:00:50.672Z"
   },
   {
    "duration": 7,
    "start_time": "2025-02-03T17:00:50.888Z"
   },
   {
    "duration": 322,
    "start_time": "2025-02-03T17:00:50.897Z"
   },
   {
    "duration": 25,
    "start_time": "2025-02-03T17:00:51.222Z"
   },
   {
    "duration": 155,
    "start_time": "2025-02-03T17:00:51.250Z"
   },
   {
    "duration": 6,
    "start_time": "2025-02-03T17:00:51.407Z"
   },
   {
    "duration": 48,
    "start_time": "2025-02-03T17:00:51.415Z"
   },
   {
    "duration": 20,
    "start_time": "2025-02-03T17:00:51.465Z"
   },
   {
    "duration": 835,
    "start_time": "2025-02-03T17:00:51.486Z"
   },
   {
    "duration": 56,
    "start_time": "2025-02-03T17:00:52.323Z"
   },
   {
    "duration": 9,
    "start_time": "2025-02-03T17:00:52.381Z"
   },
   {
    "duration": 210,
    "start_time": "2025-02-03T17:00:52.392Z"
   },
   {
    "duration": 6,
    "start_time": "2025-02-03T17:00:52.604Z"
   },
   {
    "duration": 0,
    "start_time": "2025-02-03T17:00:52.612Z"
   },
   {
    "duration": 5,
    "start_time": "2025-02-03T17:05:49.755Z"
   },
   {
    "duration": 5,
    "start_time": "2025-02-03T17:06:50.546Z"
   },
   {
    "duration": 50,
    "start_time": "2025-02-03T17:07:18.534Z"
   },
   {
    "duration": 117,
    "start_time": "2025-02-03T17:07:40.736Z"
   },
   {
    "duration": 56,
    "start_time": "2025-02-03T17:11:45.726Z"
   },
   {
    "duration": 16,
    "start_time": "2025-02-03T17:16:09.962Z"
   },
   {
    "duration": 21,
    "start_time": "2025-02-03T17:16:27.255Z"
   },
   {
    "duration": 120,
    "start_time": "2025-02-03T17:19:42.815Z"
   },
   {
    "duration": 118,
    "start_time": "2025-02-03T17:20:41.715Z"
   },
   {
    "duration": 571,
    "start_time": "2025-02-03T17:21:03.902Z"
   },
   {
    "duration": 135,
    "start_time": "2025-02-03T17:21:51.413Z"
   },
   {
    "duration": 19,
    "start_time": "2025-02-03T17:31:57.222Z"
   },
   {
    "duration": 2,
    "start_time": "2025-02-03T17:32:17.623Z"
   },
   {
    "duration": 347,
    "start_time": "2025-02-03T17:32:17.627Z"
   },
   {
    "duration": 8,
    "start_time": "2025-02-03T17:32:17.976Z"
   },
   {
    "duration": 46,
    "start_time": "2025-02-03T17:32:17.986Z"
   },
   {
    "duration": 7,
    "start_time": "2025-02-03T17:32:18.044Z"
   },
   {
    "duration": 11,
    "start_time": "2025-02-03T17:32:18.053Z"
   },
   {
    "duration": 6,
    "start_time": "2025-02-03T17:32:18.065Z"
   },
   {
    "duration": 8,
    "start_time": "2025-02-03T17:32:18.073Z"
   },
   {
    "duration": 5,
    "start_time": "2025-02-03T17:32:18.083Z"
   },
   {
    "duration": 141,
    "start_time": "2025-02-03T17:32:18.090Z"
   },
   {
    "duration": 112,
    "start_time": "2025-02-03T17:32:18.234Z"
   },
   {
    "duration": 72,
    "start_time": "2025-02-03T17:32:18.347Z"
   },
   {
    "duration": 160,
    "start_time": "2025-02-03T17:32:18.421Z"
   },
   {
    "duration": 49,
    "start_time": "2025-02-03T17:32:18.582Z"
   },
   {
    "duration": 129,
    "start_time": "2025-02-03T17:32:18.633Z"
   },
   {
    "duration": 46,
    "start_time": "2025-02-03T17:32:18.764Z"
   },
   {
    "duration": 125,
    "start_time": "2025-02-03T17:32:18.812Z"
   },
   {
    "duration": 167,
    "start_time": "2025-02-03T17:32:18.942Z"
   },
   {
    "duration": 193,
    "start_time": "2025-02-03T17:32:19.111Z"
   },
   {
    "duration": 5,
    "start_time": "2025-02-03T17:32:19.306Z"
   },
   {
    "duration": 310,
    "start_time": "2025-02-03T17:32:19.314Z"
   },
   {
    "duration": 24,
    "start_time": "2025-02-03T17:32:19.626Z"
   },
   {
    "duration": 399,
    "start_time": "2025-02-03T17:32:19.652Z"
   },
   {
    "duration": 5,
    "start_time": "2025-02-03T17:32:20.053Z"
   },
   {
    "duration": 19,
    "start_time": "2025-02-03T17:32:20.060Z"
   },
   {
    "duration": 31,
    "start_time": "2025-02-03T17:32:20.081Z"
   },
   {
    "duration": 35,
    "start_time": "2025-02-03T17:32:20.113Z"
   },
   {
    "duration": 658,
    "start_time": "2025-02-03T17:32:20.150Z"
   },
   {
    "duration": 64,
    "start_time": "2025-02-03T17:32:20.812Z"
   },
   {
    "duration": 10,
    "start_time": "2025-02-03T17:32:20.879Z"
   },
   {
    "duration": 172,
    "start_time": "2025-02-03T17:32:20.890Z"
   },
   {
    "duration": 52,
    "start_time": "2025-02-03T17:32:21.064Z"
   },
   {
    "duration": 150,
    "start_time": "2025-02-03T17:32:21.118Z"
   },
   {
    "duration": 21,
    "start_time": "2025-02-03T17:32:21.269Z"
   },
   {
    "duration": 12,
    "start_time": "2025-02-03T17:32:33.164Z"
   },
   {
    "duration": 15,
    "start_time": "2025-02-03T17:33:21.336Z"
   },
   {
    "duration": 45,
    "start_time": "2025-02-03T17:33:32.469Z"
   },
   {
    "duration": 46,
    "start_time": "2025-02-03T17:34:27.502Z"
   },
   {
    "duration": 63,
    "start_time": "2025-02-03T17:34:50.299Z"
   },
   {
    "duration": 22,
    "start_time": "2025-02-03T17:35:40.881Z"
   },
   {
    "duration": 23,
    "start_time": "2025-02-03T17:37:14.357Z"
   },
   {
    "duration": 21,
    "start_time": "2025-02-03T17:37:28.359Z"
   },
   {
    "duration": 23,
    "start_time": "2025-02-03T17:37:44.912Z"
   },
   {
    "duration": 20,
    "start_time": "2025-02-03T17:38:19.061Z"
   },
   {
    "duration": 110,
    "start_time": "2025-02-03T17:38:31.221Z"
   },
   {
    "duration": 22,
    "start_time": "2025-02-03T17:39:29.272Z"
   },
   {
    "duration": 139,
    "start_time": "2025-02-03T17:40:50.125Z"
   },
   {
    "duration": 128,
    "start_time": "2025-02-03T17:41:08.958Z"
   },
   {
    "duration": 53,
    "start_time": "2025-02-03T17:44:25.795Z"
   },
   {
    "duration": 41,
    "start_time": "2025-02-03T17:46:21.366Z"
   },
   {
    "duration": 181,
    "start_time": "2025-02-03T17:47:08.560Z"
   },
   {
    "duration": 142,
    "start_time": "2025-02-03T17:48:02.821Z"
   },
   {
    "duration": 123,
    "start_time": "2025-02-03T17:48:28.729Z"
   },
   {
    "duration": 17,
    "start_time": "2025-02-03T17:49:05.411Z"
   },
   {
    "duration": 15,
    "start_time": "2025-02-03T17:49:47.311Z"
   },
   {
    "duration": 15,
    "start_time": "2025-02-03T17:50:03.828Z"
   },
   {
    "duration": 24,
    "start_time": "2025-02-03T17:50:18.475Z"
   },
   {
    "duration": 42,
    "start_time": "2025-02-03T17:51:24.764Z"
   },
   {
    "duration": 43,
    "start_time": "2025-02-03T17:51:49.715Z"
   },
   {
    "duration": 27,
    "start_time": "2025-02-03T17:52:29.336Z"
   },
   {
    "duration": 44,
    "start_time": "2025-02-03T17:53:46.534Z"
   },
   {
    "duration": 11,
    "start_time": "2025-02-03T17:53:55.915Z"
   },
   {
    "duration": 21,
    "start_time": "2025-02-03T17:54:44.421Z"
   },
   {
    "duration": 21,
    "start_time": "2025-02-03T17:55:14.311Z"
   },
   {
    "duration": 23,
    "start_time": "2025-02-03T17:56:27.141Z"
   },
   {
    "duration": 20,
    "start_time": "2025-02-03T17:58:32.661Z"
   },
   {
    "duration": 24,
    "start_time": "2025-02-03T17:58:49.742Z"
   },
   {
    "duration": 24,
    "start_time": "2025-02-03T18:00:12.845Z"
   },
   {
    "duration": 19,
    "start_time": "2025-02-03T18:18:26.101Z"
   },
   {
    "duration": 3,
    "start_time": "2025-02-03T18:18:37.165Z"
   },
   {
    "duration": 334,
    "start_time": "2025-02-03T18:18:37.172Z"
   },
   {
    "duration": 7,
    "start_time": "2025-02-03T18:18:37.508Z"
   },
   {
    "duration": 45,
    "start_time": "2025-02-03T18:18:37.517Z"
   },
   {
    "duration": 6,
    "start_time": "2025-02-03T18:18:37.564Z"
   },
   {
    "duration": 9,
    "start_time": "2025-02-03T18:18:37.572Z"
   },
   {
    "duration": 7,
    "start_time": "2025-02-03T18:18:37.582Z"
   },
   {
    "duration": 8,
    "start_time": "2025-02-03T18:18:37.591Z"
   },
   {
    "duration": 6,
    "start_time": "2025-02-03T18:18:37.600Z"
   },
   {
    "duration": 150,
    "start_time": "2025-02-03T18:18:37.607Z"
   },
   {
    "duration": 102,
    "start_time": "2025-02-03T18:18:37.760Z"
   },
   {
    "duration": 70,
    "start_time": "2025-02-03T18:18:37.863Z"
   },
   {
    "duration": 155,
    "start_time": "2025-02-03T18:18:37.934Z"
   },
   {
    "duration": 56,
    "start_time": "2025-02-03T18:18:38.091Z"
   },
   {
    "duration": 123,
    "start_time": "2025-02-03T18:18:38.150Z"
   },
   {
    "duration": 45,
    "start_time": "2025-02-03T18:18:38.274Z"
   },
   {
    "duration": 126,
    "start_time": "2025-02-03T18:18:38.320Z"
   },
   {
    "duration": 171,
    "start_time": "2025-02-03T18:18:38.448Z"
   },
   {
    "duration": 189,
    "start_time": "2025-02-03T18:18:38.621Z"
   },
   {
    "duration": 5,
    "start_time": "2025-02-03T18:18:38.813Z"
   },
   {
    "duration": 309,
    "start_time": "2025-02-03T18:18:38.819Z"
   },
   {
    "duration": 26,
    "start_time": "2025-02-03T18:18:39.130Z"
   },
   {
    "duration": 146,
    "start_time": "2025-02-03T18:18:39.158Z"
   },
   {
    "duration": 5,
    "start_time": "2025-02-03T18:18:39.306Z"
   },
   {
    "duration": 134,
    "start_time": "2025-02-03T18:18:39.313Z"
   },
   {
    "duration": 17,
    "start_time": "2025-02-03T18:18:39.449Z"
   },
   {
    "duration": 16,
    "start_time": "2025-02-03T18:18:39.468Z"
   },
   {
    "duration": 65,
    "start_time": "2025-02-03T18:18:39.486Z"
   },
   {
    "duration": 0,
    "start_time": "2025-02-03T18:18:39.553Z"
   },
   {
    "duration": 0,
    "start_time": "2025-02-03T18:18:39.554Z"
   },
   {
    "duration": 0,
    "start_time": "2025-02-03T18:18:39.556Z"
   },
   {
    "duration": 0,
    "start_time": "2025-02-03T18:18:39.557Z"
   },
   {
    "duration": 0,
    "start_time": "2025-02-03T18:18:39.559Z"
   },
   {
    "duration": 0,
    "start_time": "2025-02-03T18:18:39.561Z"
   },
   {
    "duration": 0,
    "start_time": "2025-02-03T18:18:39.562Z"
   },
   {
    "duration": 0,
    "start_time": "2025-02-03T18:18:39.563Z"
   },
   {
    "duration": 1,
    "start_time": "2025-02-03T18:18:39.564Z"
   },
   {
    "duration": 0,
    "start_time": "2025-02-03T18:18:39.566Z"
   },
   {
    "duration": 11,
    "start_time": "2025-02-03T18:20:10.522Z"
   },
   {
    "duration": 2718,
    "start_time": "2025-02-03T18:54:04.419Z"
   },
   {
    "duration": 448,
    "start_time": "2025-02-03T18:54:07.139Z"
   },
   {
    "duration": 9,
    "start_time": "2025-02-03T18:54:07.589Z"
   },
   {
    "duration": 47,
    "start_time": "2025-02-03T18:54:07.601Z"
   },
   {
    "duration": 6,
    "start_time": "2025-02-03T18:54:07.650Z"
   },
   {
    "duration": 10,
    "start_time": "2025-02-03T18:54:07.658Z"
   },
   {
    "duration": 7,
    "start_time": "2025-02-03T18:54:07.671Z"
   },
   {
    "duration": 32,
    "start_time": "2025-02-03T18:54:07.680Z"
   },
   {
    "duration": 6,
    "start_time": "2025-02-03T18:54:07.714Z"
   },
   {
    "duration": 134,
    "start_time": "2025-02-03T18:54:07.722Z"
   },
   {
    "duration": 109,
    "start_time": "2025-02-03T18:54:07.858Z"
   },
   {
    "duration": 92,
    "start_time": "2025-02-03T18:54:07.969Z"
   },
   {
    "duration": 177,
    "start_time": "2025-02-03T18:54:08.063Z"
   },
   {
    "duration": 59,
    "start_time": "2025-02-03T18:54:08.242Z"
   },
   {
    "duration": 121,
    "start_time": "2025-02-03T18:54:08.304Z"
   },
   {
    "duration": 57,
    "start_time": "2025-02-03T18:54:08.427Z"
   },
   {
    "duration": 144,
    "start_time": "2025-02-03T18:54:08.486Z"
   },
   {
    "duration": 171,
    "start_time": "2025-02-03T18:54:08.633Z"
   },
   {
    "duration": 262,
    "start_time": "2025-02-03T18:54:08.806Z"
   },
   {
    "duration": 5,
    "start_time": "2025-02-03T18:54:09.069Z"
   },
   {
    "duration": 325,
    "start_time": "2025-02-03T18:54:09.076Z"
   },
   {
    "duration": 25,
    "start_time": "2025-02-03T18:54:09.403Z"
   },
   {
    "duration": 157,
    "start_time": "2025-02-03T18:54:09.430Z"
   },
   {
    "duration": 6,
    "start_time": "2025-02-03T18:54:09.589Z"
   },
   {
    "duration": 151,
    "start_time": "2025-02-03T18:54:09.598Z"
   },
   {
    "duration": 507,
    "start_time": "2025-02-03T18:54:09.750Z"
   },
   {
    "duration": 0,
    "start_time": "2025-02-03T18:54:10.259Z"
   },
   {
    "duration": 0,
    "start_time": "2025-02-03T18:54:10.260Z"
   },
   {
    "duration": 0,
    "start_time": "2025-02-03T18:54:10.262Z"
   },
   {
    "duration": 0,
    "start_time": "2025-02-03T18:54:10.263Z"
   },
   {
    "duration": 0,
    "start_time": "2025-02-03T18:54:10.265Z"
   },
   {
    "duration": 1,
    "start_time": "2025-02-03T18:54:10.266Z"
   },
   {
    "duration": 0,
    "start_time": "2025-02-03T18:54:10.268Z"
   },
   {
    "duration": 0,
    "start_time": "2025-02-03T18:54:10.269Z"
   },
   {
    "duration": 0,
    "start_time": "2025-02-03T18:54:10.271Z"
   },
   {
    "duration": 0,
    "start_time": "2025-02-03T18:54:10.272Z"
   },
   {
    "duration": 0,
    "start_time": "2025-02-03T18:54:10.273Z"
   },
   {
    "duration": 0,
    "start_time": "2025-02-03T18:54:10.275Z"
   },
   {
    "duration": 330,
    "start_time": "2025-02-03T18:54:50.695Z"
   },
   {
    "duration": 322,
    "start_time": "2025-02-03T18:55:38.298Z"
   },
   {
    "duration": 19,
    "start_time": "2025-02-03T18:56:13.208Z"
   },
   {
    "duration": 143,
    "start_time": "2025-02-03T18:56:20.239Z"
   },
   {
    "duration": 149,
    "start_time": "2025-02-03T18:56:32.071Z"
   },
   {
    "duration": 6,
    "start_time": "2025-02-03T18:56:46.012Z"
   },
   {
    "duration": 144,
    "start_time": "2025-02-03T18:56:51.242Z"
   },
   {
    "duration": 141,
    "start_time": "2025-02-03T18:57:58.449Z"
   },
   {
    "duration": 20,
    "start_time": "2025-02-03T18:58:59.424Z"
   },
   {
    "duration": 298,
    "start_time": "2025-02-03T18:59:23.775Z"
   },
   {
    "duration": 16,
    "start_time": "2025-02-03T18:59:41.767Z"
   },
   {
    "duration": 23,
    "start_time": "2025-02-03T19:00:05.236Z"
   },
   {
    "duration": 20,
    "start_time": "2025-02-03T19:00:26.227Z"
   },
   {
    "duration": 2,
    "start_time": "2025-02-03T19:01:08.079Z"
   },
   {
    "duration": 391,
    "start_time": "2025-02-03T19:01:08.084Z"
   },
   {
    "duration": 7,
    "start_time": "2025-02-03T19:01:08.477Z"
   },
   {
    "duration": 51,
    "start_time": "2025-02-03T19:01:08.485Z"
   },
   {
    "duration": 6,
    "start_time": "2025-02-03T19:01:08.539Z"
   },
   {
    "duration": 11,
    "start_time": "2025-02-03T19:01:08.547Z"
   },
   {
    "duration": 7,
    "start_time": "2025-02-03T19:01:08.560Z"
   },
   {
    "duration": 9,
    "start_time": "2025-02-03T19:01:08.568Z"
   },
   {
    "duration": 33,
    "start_time": "2025-02-03T19:01:08.579Z"
   },
   {
    "duration": 128,
    "start_time": "2025-02-03T19:01:08.614Z"
   },
   {
    "duration": 106,
    "start_time": "2025-02-03T19:01:08.745Z"
   },
   {
    "duration": 85,
    "start_time": "2025-02-03T19:01:08.853Z"
   },
   {
    "duration": 150,
    "start_time": "2025-02-03T19:01:08.940Z"
   },
   {
    "duration": 64,
    "start_time": "2025-02-03T19:01:09.092Z"
   },
   {
    "duration": 125,
    "start_time": "2025-02-03T19:01:09.157Z"
   },
   {
    "duration": 68,
    "start_time": "2025-02-03T19:01:09.285Z"
   },
   {
    "duration": 125,
    "start_time": "2025-02-03T19:01:09.354Z"
   },
   {
    "duration": 166,
    "start_time": "2025-02-03T19:01:09.481Z"
   },
   {
    "duration": 192,
    "start_time": "2025-02-03T19:01:09.649Z"
   },
   {
    "duration": 6,
    "start_time": "2025-02-03T19:01:09.843Z"
   },
   {
    "duration": 347,
    "start_time": "2025-02-03T19:01:09.850Z"
   },
   {
    "duration": 28,
    "start_time": "2025-02-03T19:01:10.199Z"
   },
   {
    "duration": 156,
    "start_time": "2025-02-03T19:01:10.228Z"
   },
   {
    "duration": 6,
    "start_time": "2025-02-03T19:01:10.385Z"
   },
   {
    "duration": 264,
    "start_time": "2025-02-03T19:01:10.394Z"
   },
   {
    "duration": 21,
    "start_time": "2025-02-03T19:01:10.660Z"
   },
   {
    "duration": 32,
    "start_time": "2025-02-03T19:01:10.683Z"
   },
   {
    "duration": 20,
    "start_time": "2025-02-03T19:01:10.717Z"
   },
   {
    "duration": 0,
    "start_time": "2025-02-03T19:01:10.739Z"
   },
   {
    "duration": 0,
    "start_time": "2025-02-03T19:01:10.741Z"
   },
   {
    "duration": 0,
    "start_time": "2025-02-03T19:01:10.741Z"
   },
   {
    "duration": 0,
    "start_time": "2025-02-03T19:01:10.743Z"
   },
   {
    "duration": 0,
    "start_time": "2025-02-03T19:01:10.745Z"
   },
   {
    "duration": 0,
    "start_time": "2025-02-03T19:01:10.746Z"
   },
   {
    "duration": 0,
    "start_time": "2025-02-03T19:01:10.748Z"
   },
   {
    "duration": 0,
    "start_time": "2025-02-03T19:01:10.749Z"
   },
   {
    "duration": 0,
    "start_time": "2025-02-03T19:01:10.750Z"
   },
   {
    "duration": 25,
    "start_time": "2025-02-03T19:01:28.891Z"
   },
   {
    "duration": 139,
    "start_time": "2025-02-03T19:03:12.442Z"
   },
   {
    "duration": 20,
    "start_time": "2025-02-03T19:03:44.103Z"
   },
   {
    "duration": 138,
    "start_time": "2025-02-03T19:04:09.999Z"
   },
   {
    "duration": 24,
    "start_time": "2025-02-03T19:04:24.002Z"
   },
   {
    "duration": 16,
    "start_time": "2025-02-03T19:05:03.431Z"
   },
   {
    "duration": 136,
    "start_time": "2025-02-03T19:06:28.939Z"
   },
   {
    "duration": 23,
    "start_time": "2025-02-03T19:06:36.005Z"
   },
   {
    "duration": 2,
    "start_time": "2025-02-03T19:06:49.453Z"
   },
   {
    "duration": 367,
    "start_time": "2025-02-03T19:06:49.464Z"
   },
   {
    "duration": 7,
    "start_time": "2025-02-03T19:06:49.834Z"
   },
   {
    "duration": 44,
    "start_time": "2025-02-03T19:06:49.843Z"
   },
   {
    "duration": 6,
    "start_time": "2025-02-03T19:06:49.888Z"
   },
   {
    "duration": 10,
    "start_time": "2025-02-03T19:06:49.911Z"
   },
   {
    "duration": 7,
    "start_time": "2025-02-03T19:06:49.923Z"
   },
   {
    "duration": 9,
    "start_time": "2025-02-03T19:06:49.931Z"
   },
   {
    "duration": 8,
    "start_time": "2025-02-03T19:06:49.942Z"
   },
   {
    "duration": 145,
    "start_time": "2025-02-03T19:06:49.951Z"
   },
   {
    "duration": 107,
    "start_time": "2025-02-03T19:06:50.098Z"
   },
   {
    "duration": 79,
    "start_time": "2025-02-03T19:06:50.206Z"
   },
   {
    "duration": 154,
    "start_time": "2025-02-03T19:06:50.286Z"
   },
   {
    "duration": 57,
    "start_time": "2025-02-03T19:06:50.442Z"
   },
   {
    "duration": 126,
    "start_time": "2025-02-03T19:06:50.511Z"
   },
   {
    "duration": 48,
    "start_time": "2025-02-03T19:06:50.639Z"
   },
   {
    "duration": 129,
    "start_time": "2025-02-03T19:06:50.689Z"
   },
   {
    "duration": 168,
    "start_time": "2025-02-03T19:06:50.821Z"
   },
   {
    "duration": 189,
    "start_time": "2025-02-03T19:06:50.991Z"
   },
   {
    "duration": 7,
    "start_time": "2025-02-03T19:06:51.183Z"
   },
   {
    "duration": 347,
    "start_time": "2025-02-03T19:06:51.192Z"
   },
   {
    "duration": 25,
    "start_time": "2025-02-03T19:06:51.541Z"
   },
   {
    "duration": 161,
    "start_time": "2025-02-03T19:06:51.569Z"
   },
   {
    "duration": 6,
    "start_time": "2025-02-03T19:06:51.732Z"
   },
   {
    "duration": 153,
    "start_time": "2025-02-03T19:06:51.740Z"
   },
   {
    "duration": 29,
    "start_time": "2025-02-03T19:06:51.895Z"
   },
   {
    "duration": 42,
    "start_time": "2025-02-03T19:06:51.926Z"
   },
   {
    "duration": 0,
    "start_time": "2025-02-03T19:06:51.970Z"
   },
   {
    "duration": 0,
    "start_time": "2025-02-03T19:06:51.971Z"
   },
   {
    "duration": 0,
    "start_time": "2025-02-03T19:06:51.973Z"
   },
   {
    "duration": 0,
    "start_time": "2025-02-03T19:06:51.974Z"
   },
   {
    "duration": 0,
    "start_time": "2025-02-03T19:06:51.975Z"
   },
   {
    "duration": 0,
    "start_time": "2025-02-03T19:06:51.976Z"
   },
   {
    "duration": 0,
    "start_time": "2025-02-03T19:06:51.977Z"
   },
   {
    "duration": 0,
    "start_time": "2025-02-03T19:06:51.979Z"
   },
   {
    "duration": 0,
    "start_time": "2025-02-03T19:06:51.980Z"
   },
   {
    "duration": 0,
    "start_time": "2025-02-03T19:06:51.982Z"
   },
   {
    "duration": 17,
    "start_time": "2025-02-03T19:07:25.950Z"
   },
   {
    "duration": 20,
    "start_time": "2025-02-03T19:07:35.808Z"
   },
   {
    "duration": 3,
    "start_time": "2025-02-03T19:08:23.622Z"
   },
   {
    "duration": 9,
    "start_time": "2025-02-03T19:08:43.122Z"
   },
   {
    "duration": 288,
    "start_time": "2025-02-03T19:09:54.598Z"
   },
   {
    "duration": 245,
    "start_time": "2025-02-03T19:10:54.118Z"
   },
   {
    "duration": 12,
    "start_time": "2025-02-03T19:11:25.189Z"
   },
   {
    "duration": 24,
    "start_time": "2025-02-03T19:12:02.630Z"
   },
   {
    "duration": 6,
    "start_time": "2025-02-03T19:14:29.994Z"
   },
   {
    "duration": 5,
    "start_time": "2025-02-03T19:14:44.483Z"
   },
   {
    "duration": 21,
    "start_time": "2025-02-03T19:17:27.238Z"
   },
   {
    "duration": 362,
    "start_time": "2025-02-03T19:18:07.986Z"
   },
   {
    "duration": 50,
    "start_time": "2025-02-03T19:19:25.404Z"
   },
   {
    "duration": 13,
    "start_time": "2025-02-03T19:19:57.224Z"
   },
   {
    "duration": 14,
    "start_time": "2025-02-03T19:20:16.198Z"
   },
   {
    "duration": 3,
    "start_time": "2025-02-03T19:20:25.139Z"
   },
   {
    "duration": 46,
    "start_time": "2025-02-03T19:20:44.168Z"
   },
   {
    "duration": 16,
    "start_time": "2025-02-03T19:21:57.159Z"
   },
   {
    "duration": 10,
    "start_time": "2025-02-03T19:23:59.349Z"
   },
   {
    "duration": 118,
    "start_time": "2025-02-03T19:24:46.286Z"
   },
   {
    "duration": 40,
    "start_time": "2025-02-03T19:31:59.805Z"
   },
   {
    "duration": 3,
    "start_time": "2025-02-03T19:32:03.042Z"
   },
   {
    "duration": 422,
    "start_time": "2025-02-03T19:32:03.048Z"
   },
   {
    "duration": 9,
    "start_time": "2025-02-03T19:32:03.472Z"
   },
   {
    "duration": 53,
    "start_time": "2025-02-03T19:32:03.483Z"
   },
   {
    "duration": 7,
    "start_time": "2025-02-03T19:32:03.539Z"
   },
   {
    "duration": 14,
    "start_time": "2025-02-03T19:32:03.547Z"
   },
   {
    "duration": 6,
    "start_time": "2025-02-03T19:32:03.563Z"
   },
   {
    "duration": 42,
    "start_time": "2025-02-03T19:32:03.571Z"
   },
   {
    "duration": 8,
    "start_time": "2025-02-03T19:32:03.615Z"
   },
   {
    "duration": 139,
    "start_time": "2025-02-03T19:32:03.625Z"
   },
   {
    "duration": 123,
    "start_time": "2025-02-03T19:32:03.766Z"
   },
   {
    "duration": 86,
    "start_time": "2025-02-03T19:32:03.891Z"
   },
   {
    "duration": 195,
    "start_time": "2025-02-03T19:32:03.979Z"
   },
   {
    "duration": 75,
    "start_time": "2025-02-03T19:32:04.179Z"
   },
   {
    "duration": 180,
    "start_time": "2025-02-03T19:32:04.256Z"
   },
   {
    "duration": 76,
    "start_time": "2025-02-03T19:32:04.439Z"
   },
   {
    "duration": 183,
    "start_time": "2025-02-03T19:32:04.518Z"
   },
   {
    "duration": 202,
    "start_time": "2025-02-03T19:32:04.704Z"
   },
   {
    "duration": 203,
    "start_time": "2025-02-03T19:32:04.912Z"
   },
   {
    "duration": 9,
    "start_time": "2025-02-03T19:32:05.117Z"
   },
   {
    "duration": 355,
    "start_time": "2025-02-03T19:32:05.128Z"
   },
   {
    "duration": 33,
    "start_time": "2025-02-03T19:32:05.485Z"
   },
   {
    "duration": 163,
    "start_time": "2025-02-03T19:32:05.520Z"
   },
   {
    "duration": 7,
    "start_time": "2025-02-03T19:32:05.685Z"
   },
   {
    "duration": 210,
    "start_time": "2025-02-03T19:32:05.694Z"
   },
   {
    "duration": 29,
    "start_time": "2025-02-03T19:32:05.908Z"
   },
   {
    "duration": 23,
    "start_time": "2025-02-03T19:32:05.939Z"
   },
   {
    "duration": 12,
    "start_time": "2025-02-03T19:32:05.964Z"
   },
   {
    "duration": 539,
    "start_time": "2025-02-03T19:32:05.979Z"
   },
   {
    "duration": 0,
    "start_time": "2025-02-03T19:32:06.520Z"
   },
   {
    "duration": 0,
    "start_time": "2025-02-03T19:32:06.522Z"
   },
   {
    "duration": 0,
    "start_time": "2025-02-03T19:32:06.524Z"
   },
   {
    "duration": 0,
    "start_time": "2025-02-03T19:32:06.525Z"
   },
   {
    "duration": 0,
    "start_time": "2025-02-03T19:32:06.526Z"
   },
   {
    "duration": 0,
    "start_time": "2025-02-03T19:32:06.528Z"
   },
   {
    "duration": 40,
    "start_time": "2025-02-03T19:32:16.106Z"
   },
   {
    "duration": 66,
    "start_time": "2025-02-03T19:33:02.500Z"
   },
   {
    "duration": 3,
    "start_time": "2025-02-03T19:33:05.350Z"
   },
   {
    "duration": 385,
    "start_time": "2025-02-03T19:33:05.356Z"
   },
   {
    "duration": 11,
    "start_time": "2025-02-03T19:33:05.744Z"
   },
   {
    "duration": 38,
    "start_time": "2025-02-03T19:33:05.757Z"
   },
   {
    "duration": 7,
    "start_time": "2025-02-03T19:33:05.811Z"
   },
   {
    "duration": 11,
    "start_time": "2025-02-03T19:33:05.820Z"
   },
   {
    "duration": 7,
    "start_time": "2025-02-03T19:33:05.833Z"
   },
   {
    "duration": 11,
    "start_time": "2025-02-03T19:33:05.841Z"
   },
   {
    "duration": 7,
    "start_time": "2025-02-03T19:33:05.854Z"
   },
   {
    "duration": 180,
    "start_time": "2025-02-03T19:33:05.864Z"
   },
   {
    "duration": 113,
    "start_time": "2025-02-03T19:33:06.046Z"
   },
   {
    "duration": 88,
    "start_time": "2025-02-03T19:33:06.161Z"
   },
   {
    "duration": 175,
    "start_time": "2025-02-03T19:33:06.256Z"
   },
   {
    "duration": 55,
    "start_time": "2025-02-03T19:33:06.433Z"
   },
   {
    "duration": 146,
    "start_time": "2025-02-03T19:33:06.490Z"
   },
   {
    "duration": 74,
    "start_time": "2025-02-03T19:33:06.638Z"
   },
   {
    "duration": 161,
    "start_time": "2025-02-03T19:33:06.716Z"
   },
   {
    "duration": 193,
    "start_time": "2025-02-03T19:33:06.879Z"
   },
   {
    "duration": 233,
    "start_time": "2025-02-03T19:33:07.077Z"
   },
   {
    "duration": 8,
    "start_time": "2025-02-03T19:33:07.312Z"
   },
   {
    "duration": 350,
    "start_time": "2025-02-03T19:33:07.323Z"
   },
   {
    "duration": 21,
    "start_time": "2025-02-03T19:33:07.676Z"
   },
   {
    "duration": 192,
    "start_time": "2025-02-03T19:33:07.699Z"
   },
   {
    "duration": 5,
    "start_time": "2025-02-03T19:33:07.893Z"
   },
   {
    "duration": 177,
    "start_time": "2025-02-03T19:33:07.901Z"
   },
   {
    "duration": 20,
    "start_time": "2025-02-03T19:33:08.080Z"
   },
   {
    "duration": 26,
    "start_time": "2025-02-03T19:33:08.102Z"
   },
   {
    "duration": 10,
    "start_time": "2025-02-03T19:33:08.130Z"
   },
   {
    "duration": 93,
    "start_time": "2025-02-03T19:33:08.142Z"
   },
   {
    "duration": 0,
    "start_time": "2025-02-03T19:33:08.239Z"
   },
   {
    "duration": 0,
    "start_time": "2025-02-03T19:33:08.240Z"
   },
   {
    "duration": 0,
    "start_time": "2025-02-03T19:33:08.241Z"
   },
   {
    "duration": 0,
    "start_time": "2025-02-03T19:33:08.243Z"
   },
   {
    "duration": 0,
    "start_time": "2025-02-03T19:33:08.245Z"
   },
   {
    "duration": 0,
    "start_time": "2025-02-03T19:33:08.248Z"
   },
   {
    "duration": 46,
    "start_time": "2025-02-03T19:33:36.178Z"
   },
   {
    "duration": 67,
    "start_time": "2025-02-03T19:33:45.101Z"
   },
   {
    "duration": 3,
    "start_time": "2025-02-03T19:33:56.660Z"
   },
   {
    "duration": 383,
    "start_time": "2025-02-03T19:33:56.665Z"
   },
   {
    "duration": 8,
    "start_time": "2025-02-03T19:33:57.050Z"
   },
   {
    "duration": 56,
    "start_time": "2025-02-03T19:33:57.061Z"
   },
   {
    "duration": 6,
    "start_time": "2025-02-03T19:33:57.119Z"
   },
   {
    "duration": 12,
    "start_time": "2025-02-03T19:33:57.126Z"
   },
   {
    "duration": 8,
    "start_time": "2025-02-03T19:33:57.140Z"
   },
   {
    "duration": 9,
    "start_time": "2025-02-03T19:33:57.149Z"
   },
   {
    "duration": 5,
    "start_time": "2025-02-03T19:33:57.162Z"
   },
   {
    "duration": 183,
    "start_time": "2025-02-03T19:33:57.171Z"
   },
   {
    "duration": 156,
    "start_time": "2025-02-03T19:33:57.359Z"
   },
   {
    "duration": 112,
    "start_time": "2025-02-03T19:33:57.517Z"
   },
   {
    "duration": 165,
    "start_time": "2025-02-03T19:33:57.632Z"
   },
   {
    "duration": 55,
    "start_time": "2025-02-03T19:33:57.799Z"
   },
   {
    "duration": 139,
    "start_time": "2025-02-03T19:33:57.856Z"
   },
   {
    "duration": 79,
    "start_time": "2025-02-03T19:33:57.997Z"
   },
   {
    "duration": 154,
    "start_time": "2025-02-03T19:33:58.078Z"
   },
   {
    "duration": 169,
    "start_time": "2025-02-03T19:33:58.235Z"
   },
   {
    "duration": 222,
    "start_time": "2025-02-03T19:33:58.406Z"
   },
   {
    "duration": 6,
    "start_time": "2025-02-03T19:33:58.630Z"
   },
   {
    "duration": 345,
    "start_time": "2025-02-03T19:33:58.638Z"
   },
   {
    "duration": 26,
    "start_time": "2025-02-03T19:33:58.986Z"
   },
   {
    "duration": 193,
    "start_time": "2025-02-03T19:33:59.016Z"
   },
   {
    "duration": 6,
    "start_time": "2025-02-03T19:33:59.212Z"
   },
   {
    "duration": 367,
    "start_time": "2025-02-03T19:33:59.222Z"
   },
   {
    "duration": 36,
    "start_time": "2025-02-03T19:33:59.591Z"
   },
   {
    "duration": 24,
    "start_time": "2025-02-03T19:33:59.630Z"
   },
   {
    "duration": 11,
    "start_time": "2025-02-03T19:33:59.660Z"
   },
   {
    "duration": 103,
    "start_time": "2025-02-03T19:33:59.673Z"
   },
   {
    "duration": 0,
    "start_time": "2025-02-03T19:33:59.778Z"
   },
   {
    "duration": 0,
    "start_time": "2025-02-03T19:33:59.779Z"
   },
   {
    "duration": 0,
    "start_time": "2025-02-03T19:33:59.780Z"
   },
   {
    "duration": 0,
    "start_time": "2025-02-03T19:33:59.781Z"
   },
   {
    "duration": 0,
    "start_time": "2025-02-03T19:33:59.783Z"
   },
   {
    "duration": 0,
    "start_time": "2025-02-03T19:33:59.784Z"
   },
   {
    "duration": 70,
    "start_time": "2025-02-03T19:35:18.693Z"
   },
   {
    "duration": 63,
    "start_time": "2025-02-03T19:35:20.549Z"
   },
   {
    "duration": 29,
    "start_time": "2025-02-03T19:35:24.708Z"
   },
   {
    "duration": 11,
    "start_time": "2025-02-03T19:35:28.332Z"
   },
   {
    "duration": 48,
    "start_time": "2025-02-03T19:35:33.382Z"
   },
   {
    "duration": 59,
    "start_time": "2025-02-03T19:36:28.291Z"
   },
   {
    "duration": 66,
    "start_time": "2025-02-03T19:37:08.868Z"
   },
   {
    "duration": 45,
    "start_time": "2025-02-03T19:37:19.081Z"
   },
   {
    "duration": 46,
    "start_time": "2025-02-03T19:37:42.431Z"
   },
   {
    "duration": 44,
    "start_time": "2025-02-03T19:38:10.850Z"
   },
   {
    "duration": 49,
    "start_time": "2025-02-03T19:38:41.857Z"
   },
   {
    "duration": 3,
    "start_time": "2025-02-03T19:39:27.842Z"
   },
   {
    "duration": 9,
    "start_time": "2025-02-03T19:39:40.101Z"
   },
   {
    "duration": 4,
    "start_time": "2025-02-03T19:39:43.900Z"
   },
   {
    "duration": 2,
    "start_time": "2025-02-03T19:40:00.230Z"
   },
   {
    "duration": 351,
    "start_time": "2025-02-03T19:40:00.235Z"
   },
   {
    "duration": 7,
    "start_time": "2025-02-03T19:40:00.589Z"
   },
   {
    "duration": 46,
    "start_time": "2025-02-03T19:40:00.598Z"
   },
   {
    "duration": 6,
    "start_time": "2025-02-03T19:40:00.647Z"
   },
   {
    "duration": 11,
    "start_time": "2025-02-03T19:40:00.654Z"
   },
   {
    "duration": 7,
    "start_time": "2025-02-03T19:40:00.666Z"
   },
   {
    "duration": 37,
    "start_time": "2025-02-03T19:40:00.675Z"
   },
   {
    "duration": 6,
    "start_time": "2025-02-03T19:40:00.715Z"
   },
   {
    "duration": 127,
    "start_time": "2025-02-03T19:40:00.723Z"
   },
   {
    "duration": 104,
    "start_time": "2025-02-03T19:40:00.852Z"
   },
   {
    "duration": 81,
    "start_time": "2025-02-03T19:40:00.958Z"
   },
   {
    "duration": 151,
    "start_time": "2025-02-03T19:40:01.042Z"
   },
   {
    "duration": 56,
    "start_time": "2025-02-03T19:40:01.195Z"
   },
   {
    "duration": 140,
    "start_time": "2025-02-03T19:40:01.253Z"
   },
   {
    "duration": 58,
    "start_time": "2025-02-03T19:40:01.396Z"
   },
   {
    "duration": 131,
    "start_time": "2025-02-03T19:40:01.456Z"
   },
   {
    "duration": 200,
    "start_time": "2025-02-03T19:40:01.589Z"
   },
   {
    "duration": 196,
    "start_time": "2025-02-03T19:40:01.791Z"
   },
   {
    "duration": 5,
    "start_time": "2025-02-03T19:40:01.989Z"
   },
   {
    "duration": 336,
    "start_time": "2025-02-03T19:40:01.996Z"
   },
   {
    "duration": 20,
    "start_time": "2025-02-03T19:40:02.334Z"
   },
   {
    "duration": 167,
    "start_time": "2025-02-03T19:40:02.356Z"
   },
   {
    "duration": 6,
    "start_time": "2025-02-03T19:40:02.526Z"
   },
   {
    "duration": 161,
    "start_time": "2025-02-03T19:40:02.533Z"
   },
   {
    "duration": 28,
    "start_time": "2025-02-03T19:40:02.696Z"
   },
   {
    "duration": 18,
    "start_time": "2025-02-03T19:40:02.726Z"
   },
   {
    "duration": 9,
    "start_time": "2025-02-03T19:40:02.746Z"
   },
   {
    "duration": 75,
    "start_time": "2025-02-03T19:40:02.757Z"
   },
   {
    "duration": 0,
    "start_time": "2025-02-03T19:40:02.834Z"
   },
   {
    "duration": 0,
    "start_time": "2025-02-03T19:40:02.835Z"
   },
   {
    "duration": 0,
    "start_time": "2025-02-03T19:40:02.836Z"
   },
   {
    "duration": 0,
    "start_time": "2025-02-03T19:40:02.837Z"
   },
   {
    "duration": 0,
    "start_time": "2025-02-03T19:40:02.838Z"
   },
   {
    "duration": 0,
    "start_time": "2025-02-03T19:40:02.839Z"
   },
   {
    "duration": 0,
    "start_time": "2025-02-03T19:40:02.841Z"
   },
   {
    "duration": 7,
    "start_time": "2025-02-03T19:40:17.569Z"
   },
   {
    "duration": 46,
    "start_time": "2025-02-03T19:40:20.878Z"
   },
   {
    "duration": 17,
    "start_time": "2025-02-03T19:40:28.815Z"
   },
   {
    "duration": 9,
    "start_time": "2025-02-03T19:40:31.584Z"
   },
   {
    "duration": 2,
    "start_time": "2025-02-03T19:40:35.940Z"
   },
   {
    "duration": 45,
    "start_time": "2025-02-03T19:41:29.764Z"
   },
   {
    "duration": 9,
    "start_time": "2025-02-03T19:42:28.254Z"
   },
   {
    "duration": 3,
    "start_time": "2025-02-03T19:42:33.941Z"
   },
   {
    "duration": 38,
    "start_time": "2025-02-03T19:42:49.578Z"
   },
   {
    "duration": 16,
    "start_time": "2025-02-03T19:43:20.536Z"
   },
   {
    "duration": 66,
    "start_time": "2025-02-03T19:44:16.297Z"
   },
   {
    "duration": 53,
    "start_time": "2025-02-03T19:44:59.285Z"
   },
   {
    "duration": 2,
    "start_time": "2025-02-03T19:45:02.195Z"
   },
   {
    "duration": 437,
    "start_time": "2025-02-03T19:45:02.199Z"
   },
   {
    "duration": 9,
    "start_time": "2025-02-03T19:45:02.638Z"
   },
   {
    "duration": 42,
    "start_time": "2025-02-03T19:45:02.650Z"
   },
   {
    "duration": 19,
    "start_time": "2025-02-03T19:45:02.696Z"
   },
   {
    "duration": 19,
    "start_time": "2025-02-03T19:45:02.717Z"
   },
   {
    "duration": 12,
    "start_time": "2025-02-03T19:45:02.740Z"
   },
   {
    "duration": 12,
    "start_time": "2025-02-03T19:45:02.754Z"
   },
   {
    "duration": 6,
    "start_time": "2025-02-03T19:45:02.768Z"
   },
   {
    "duration": 149,
    "start_time": "2025-02-03T19:45:02.776Z"
   },
   {
    "duration": 124,
    "start_time": "2025-02-03T19:45:02.930Z"
   },
   {
    "duration": 97,
    "start_time": "2025-02-03T19:45:03.057Z"
   },
   {
    "duration": 181,
    "start_time": "2025-02-03T19:45:03.159Z"
   },
   {
    "duration": 66,
    "start_time": "2025-02-03T19:45:03.346Z"
   },
   {
    "duration": 157,
    "start_time": "2025-02-03T19:45:03.414Z"
   },
   {
    "duration": 65,
    "start_time": "2025-02-03T19:45:03.573Z"
   },
   {
    "duration": 141,
    "start_time": "2025-02-03T19:45:03.640Z"
   },
   {
    "duration": 215,
    "start_time": "2025-02-03T19:45:03.783Z"
   },
   {
    "duration": 233,
    "start_time": "2025-02-03T19:45:04.001Z"
   },
   {
    "duration": 9,
    "start_time": "2025-02-03T19:45:04.236Z"
   },
   {
    "duration": 389,
    "start_time": "2025-02-03T19:45:04.249Z"
   },
   {
    "duration": 26,
    "start_time": "2025-02-03T19:45:04.640Z"
   },
   {
    "duration": 195,
    "start_time": "2025-02-03T19:45:04.668Z"
   },
   {
    "duration": 6,
    "start_time": "2025-02-03T19:45:04.864Z"
   },
   {
    "duration": 199,
    "start_time": "2025-02-03T19:45:04.872Z"
   },
   {
    "duration": 19,
    "start_time": "2025-02-03T19:45:05.073Z"
   },
   {
    "duration": 29,
    "start_time": "2025-02-03T19:45:05.094Z"
   },
   {
    "duration": 13,
    "start_time": "2025-02-03T19:45:05.125Z"
   },
   {
    "duration": 55,
    "start_time": "2025-02-03T19:45:05.140Z"
   },
   {
    "duration": 0,
    "start_time": "2025-02-03T19:45:05.197Z"
   },
   {
    "duration": 0,
    "start_time": "2025-02-03T19:45:05.215Z"
   },
   {
    "duration": 0,
    "start_time": "2025-02-03T19:45:05.216Z"
   },
   {
    "duration": 0,
    "start_time": "2025-02-03T19:45:05.217Z"
   },
   {
    "duration": 0,
    "start_time": "2025-02-03T19:45:05.218Z"
   },
   {
    "duration": 0,
    "start_time": "2025-02-03T19:45:05.218Z"
   },
   {
    "duration": 0,
    "start_time": "2025-02-03T19:45:05.219Z"
   },
   {
    "duration": 51,
    "start_time": "2025-02-03T19:47:02.141Z"
   },
   {
    "duration": 15,
    "start_time": "2025-02-03T19:47:07.472Z"
   },
   {
    "duration": 72,
    "start_time": "2025-02-03T19:47:15.102Z"
   },
   {
    "duration": 19,
    "start_time": "2025-02-03T19:47:20.076Z"
   },
   {
    "duration": 10,
    "start_time": "2025-02-03T19:47:22.678Z"
   },
   {
    "duration": 66,
    "start_time": "2025-02-03T19:47:25.330Z"
   },
   {
    "duration": 951,
    "start_time": "2025-02-03T19:47:44.575Z"
   },
   {
    "duration": 486,
    "start_time": "2025-02-03T19:47:45.531Z"
   },
   {
    "duration": 13,
    "start_time": "2025-02-03T19:47:46.019Z"
   },
   {
    "duration": 60,
    "start_time": "2025-02-03T19:47:46.035Z"
   },
   {
    "duration": 10,
    "start_time": "2025-02-03T19:47:46.115Z"
   },
   {
    "duration": 13,
    "start_time": "2025-02-03T19:47:46.127Z"
   },
   {
    "duration": 9,
    "start_time": "2025-02-03T19:47:46.143Z"
   },
   {
    "duration": 12,
    "start_time": "2025-02-03T19:47:46.154Z"
   },
   {
    "duration": 5,
    "start_time": "2025-02-03T19:47:46.172Z"
   },
   {
    "duration": 188,
    "start_time": "2025-02-03T19:47:46.182Z"
   },
   {
    "duration": 113,
    "start_time": "2025-02-03T19:47:46.371Z"
   },
   {
    "duration": 99,
    "start_time": "2025-02-03T19:47:46.485Z"
   },
   {
    "duration": 210,
    "start_time": "2025-02-03T19:47:46.586Z"
   },
   {
    "duration": 64,
    "start_time": "2025-02-03T19:47:46.799Z"
   },
   {
    "duration": 125,
    "start_time": "2025-02-03T19:47:46.865Z"
   },
   {
    "duration": 68,
    "start_time": "2025-02-03T19:47:46.992Z"
   },
   {
    "duration": 205,
    "start_time": "2025-02-03T19:47:47.062Z"
   },
   {
    "duration": 207,
    "start_time": "2025-02-03T19:47:47.269Z"
   },
   {
    "duration": 235,
    "start_time": "2025-02-03T19:47:47.477Z"
   },
   {
    "duration": 6,
    "start_time": "2025-02-03T19:47:47.714Z"
   },
   {
    "duration": 379,
    "start_time": "2025-02-03T19:47:47.723Z"
   },
   {
    "duration": 24,
    "start_time": "2025-02-03T19:47:48.104Z"
   },
   {
    "duration": 185,
    "start_time": "2025-02-03T19:47:48.130Z"
   },
   {
    "duration": 7,
    "start_time": "2025-02-03T19:47:48.317Z"
   },
   {
    "duration": 433,
    "start_time": "2025-02-03T19:47:48.325Z"
   },
   {
    "duration": 0,
    "start_time": "2025-02-03T19:47:48.761Z"
   },
   {
    "duration": 0,
    "start_time": "2025-02-03T19:47:48.762Z"
   },
   {
    "duration": 0,
    "start_time": "2025-02-03T19:47:48.763Z"
   },
   {
    "duration": 0,
    "start_time": "2025-02-03T19:47:48.765Z"
   },
   {
    "duration": 0,
    "start_time": "2025-02-03T19:47:48.766Z"
   },
   {
    "duration": 0,
    "start_time": "2025-02-03T19:47:48.768Z"
   },
   {
    "duration": 0,
    "start_time": "2025-02-03T19:47:48.769Z"
   },
   {
    "duration": 0,
    "start_time": "2025-02-03T19:47:48.770Z"
   },
   {
    "duration": 0,
    "start_time": "2025-02-03T19:47:48.771Z"
   },
   {
    "duration": 0,
    "start_time": "2025-02-03T19:47:48.772Z"
   },
   {
    "duration": 0,
    "start_time": "2025-02-03T19:47:48.773Z"
   },
   {
    "duration": 16,
    "start_time": "2025-02-03T19:49:57.866Z"
   },
   {
    "duration": 98,
    "start_time": "2025-02-03T19:50:16.710Z"
   },
   {
    "duration": 924,
    "start_time": "2025-02-03T19:50:43.099Z"
   },
   {
    "duration": 490,
    "start_time": "2025-02-03T19:50:44.026Z"
   },
   {
    "duration": 13,
    "start_time": "2025-02-03T19:50:44.518Z"
   },
   {
    "duration": 54,
    "start_time": "2025-02-03T19:50:44.534Z"
   },
   {
    "duration": 25,
    "start_time": "2025-02-03T19:50:44.591Z"
   },
   {
    "duration": 13,
    "start_time": "2025-02-03T19:50:44.618Z"
   },
   {
    "duration": 9,
    "start_time": "2025-02-03T19:50:44.634Z"
   },
   {
    "duration": 14,
    "start_time": "2025-02-03T19:50:44.645Z"
   },
   {
    "duration": 6,
    "start_time": "2025-02-03T19:50:44.661Z"
   },
   {
    "duration": 199,
    "start_time": "2025-02-03T19:50:44.670Z"
   },
   {
    "duration": 119,
    "start_time": "2025-02-03T19:50:44.871Z"
   },
   {
    "duration": 101,
    "start_time": "2025-02-03T19:50:44.994Z"
   },
   {
    "duration": 203,
    "start_time": "2025-02-03T19:50:45.097Z"
   },
   {
    "duration": 83,
    "start_time": "2025-02-03T19:50:45.305Z"
   },
   {
    "duration": 152,
    "start_time": "2025-02-03T19:50:45.391Z"
   },
   {
    "duration": 69,
    "start_time": "2025-02-03T19:50:45.546Z"
   },
   {
    "duration": 200,
    "start_time": "2025-02-03T19:50:45.617Z"
   },
   {
    "duration": 197,
    "start_time": "2025-02-03T19:50:45.821Z"
   },
   {
    "duration": 241,
    "start_time": "2025-02-03T19:50:46.021Z"
   },
   {
    "duration": 6,
    "start_time": "2025-02-03T19:50:46.265Z"
   },
   {
    "duration": 406,
    "start_time": "2025-02-03T19:50:46.273Z"
   },
   {
    "duration": 20,
    "start_time": "2025-02-03T19:50:46.681Z"
   },
   {
    "duration": 187,
    "start_time": "2025-02-03T19:50:46.713Z"
   },
   {
    "duration": 15,
    "start_time": "2025-02-03T19:50:46.902Z"
   },
   {
    "duration": 460,
    "start_time": "2025-02-03T19:50:46.919Z"
   },
   {
    "duration": 0,
    "start_time": "2025-02-03T19:50:47.381Z"
   },
   {
    "duration": 0,
    "start_time": "2025-02-03T19:50:47.383Z"
   },
   {
    "duration": 0,
    "start_time": "2025-02-03T19:50:47.384Z"
   },
   {
    "duration": 0,
    "start_time": "2025-02-03T19:50:47.385Z"
   },
   {
    "duration": 0,
    "start_time": "2025-02-03T19:50:47.386Z"
   },
   {
    "duration": 0,
    "start_time": "2025-02-03T19:50:47.387Z"
   },
   {
    "duration": 0,
    "start_time": "2025-02-03T19:50:47.388Z"
   },
   {
    "duration": 0,
    "start_time": "2025-02-03T19:50:47.390Z"
   },
   {
    "duration": 0,
    "start_time": "2025-02-03T19:50:47.391Z"
   },
   {
    "duration": 0,
    "start_time": "2025-02-03T19:50:47.412Z"
   },
   {
    "duration": 0,
    "start_time": "2025-02-03T19:50:47.414Z"
   },
   {
    "duration": 0,
    "start_time": "2025-02-03T19:50:47.415Z"
   },
   {
    "duration": 275,
    "start_time": "2025-02-03T19:50:59.904Z"
   },
   {
    "duration": 186,
    "start_time": "2025-02-03T19:51:25.079Z"
   },
   {
    "duration": 14,
    "start_time": "2025-02-03T19:51:30.090Z"
   },
   {
    "duration": 28,
    "start_time": "2025-02-03T19:51:51.832Z"
   },
   {
    "duration": 18,
    "start_time": "2025-02-03T19:51:56.805Z"
   },
   {
    "duration": 10,
    "start_time": "2025-02-03T19:51:58.070Z"
   },
   {
    "duration": 642,
    "start_time": "2025-02-03T19:51:59.171Z"
   },
   {
    "duration": 19,
    "start_time": "2025-02-03T19:53:18.514Z"
   },
   {
    "duration": 25,
    "start_time": "2025-02-03T19:53:24.507Z"
   },
   {
    "duration": 74,
    "start_time": "2025-02-03T19:54:04.093Z"
   },
   {
    "duration": 27,
    "start_time": "2025-02-03T19:54:28.219Z"
   },
   {
    "duration": 5,
    "start_time": "2025-02-03T19:54:39.292Z"
   },
   {
    "duration": 13,
    "start_time": "2025-02-03T19:55:07.550Z"
   },
   {
    "duration": 15,
    "start_time": "2025-02-03T19:55:24.906Z"
   },
   {
    "duration": 13,
    "start_time": "2025-02-03T19:55:39.200Z"
   },
   {
    "duration": 580,
    "start_time": "2025-02-03T19:55:41.439Z"
   },
   {
    "duration": 3,
    "start_time": "2025-02-03T19:59:24.210Z"
   },
   {
    "duration": 587,
    "start_time": "2025-02-03T19:59:25.199Z"
   },
   {
    "duration": 10,
    "start_time": "2025-02-03T19:59:27.855Z"
   },
   {
    "duration": 49,
    "start_time": "2025-02-03T19:59:30.371Z"
   },
   {
    "duration": 9,
    "start_time": "2025-02-03T19:59:31.360Z"
   },
   {
    "duration": 19,
    "start_time": "2025-02-03T19:59:32.109Z"
   },
   {
    "duration": 26,
    "start_time": "2025-02-03T19:59:32.819Z"
   },
   {
    "duration": 16,
    "start_time": "2025-02-03T19:59:34.022Z"
   },
   {
    "duration": 6,
    "start_time": "2025-02-03T19:59:35.838Z"
   },
   {
    "duration": 157,
    "start_time": "2025-02-03T19:59:36.997Z"
   },
   {
    "duration": 111,
    "start_time": "2025-02-03T19:59:41.437Z"
   },
   {
    "duration": 105,
    "start_time": "2025-02-03T19:59:42.456Z"
   },
   {
    "duration": 165,
    "start_time": "2025-02-03T19:59:43.246Z"
   },
   {
    "duration": 66,
    "start_time": "2025-02-03T19:59:44.091Z"
   },
   {
    "duration": 132,
    "start_time": "2025-02-03T19:59:44.976Z"
   },
   {
    "duration": 53,
    "start_time": "2025-02-03T19:59:45.930Z"
   },
   {
    "duration": 137,
    "start_time": "2025-02-03T19:59:46.539Z"
   },
   {
    "duration": 190,
    "start_time": "2025-02-03T19:59:49.594Z"
   },
   {
    "duration": 216,
    "start_time": "2025-02-03T19:59:50.360Z"
   },
   {
    "duration": 5,
    "start_time": "2025-02-03T19:59:51.972Z"
   },
   {
    "duration": 401,
    "start_time": "2025-02-03T19:59:55.575Z"
   },
   {
    "duration": 19,
    "start_time": "2025-02-03T19:59:58.049Z"
   },
   {
    "duration": 179,
    "start_time": "2025-02-03T19:59:59.090Z"
   },
   {
    "duration": 5,
    "start_time": "2025-02-03T20:00:00.413Z"
   },
   {
    "duration": 183,
    "start_time": "2025-02-03T20:00:01.379Z"
   },
   {
    "duration": 22,
    "start_time": "2025-02-03T20:00:02.896Z"
   },
   {
    "duration": 16,
    "start_time": "2025-02-03T20:00:04.782Z"
   },
   {
    "duration": 11,
    "start_time": "2025-02-03T20:00:06.051Z"
   },
   {
    "duration": 14,
    "start_time": "2025-02-03T20:00:07.074Z"
   },
   {
    "duration": 18,
    "start_time": "2025-02-03T20:00:08.875Z"
   },
   {
    "duration": 18,
    "start_time": "2025-02-03T20:00:43.722Z"
   },
   {
    "duration": 4,
    "start_time": "2025-02-03T20:01:25.691Z"
   },
   {
    "duration": 17,
    "start_time": "2025-02-03T20:01:40.210Z"
   },
   {
    "duration": 5,
    "start_time": "2025-02-03T20:01:52.277Z"
   },
   {
    "duration": 47,
    "start_time": "2025-02-03T20:02:24.514Z"
   },
   {
    "duration": 33,
    "start_time": "2025-02-03T20:04:10.998Z"
   },
   {
    "duration": 24,
    "start_time": "2025-02-03T20:04:57.874Z"
   },
   {
    "duration": 12,
    "start_time": "2025-02-03T20:05:19.449Z"
   },
   {
    "duration": 20,
    "start_time": "2025-02-03T20:05:22.033Z"
   },
   {
    "duration": 19,
    "start_time": "2025-02-03T20:05:26.406Z"
   },
   {
    "duration": 10,
    "start_time": "2025-02-03T20:05:30.718Z"
   },
   {
    "duration": 2527,
    "start_time": "2025-02-05T13:38:36.622Z"
   },
   {
    "duration": 428,
    "start_time": "2025-02-05T13:38:39.151Z"
   },
   {
    "duration": 10,
    "start_time": "2025-02-05T13:38:39.581Z"
   },
   {
    "duration": 44,
    "start_time": "2025-02-05T13:38:39.593Z"
   },
   {
    "duration": 6,
    "start_time": "2025-02-05T13:38:39.638Z"
   },
   {
    "duration": 9,
    "start_time": "2025-02-05T13:38:39.646Z"
   },
   {
    "duration": 6,
    "start_time": "2025-02-05T13:38:39.656Z"
   },
   {
    "duration": 8,
    "start_time": "2025-02-05T13:38:39.663Z"
   },
   {
    "duration": 5,
    "start_time": "2025-02-05T13:38:39.672Z"
   },
   {
    "duration": 148,
    "start_time": "2025-02-05T13:38:39.680Z"
   },
   {
    "duration": 110,
    "start_time": "2025-02-05T13:38:39.830Z"
   },
   {
    "duration": 75,
    "start_time": "2025-02-05T13:38:39.942Z"
   },
   {
    "duration": 173,
    "start_time": "2025-02-05T13:38:40.019Z"
   },
   {
    "duration": 56,
    "start_time": "2025-02-05T13:38:40.193Z"
   },
   {
    "duration": 117,
    "start_time": "2025-02-05T13:38:40.251Z"
   },
   {
    "duration": 65,
    "start_time": "2025-02-05T13:38:40.370Z"
   },
   {
    "duration": 118,
    "start_time": "2025-02-05T13:38:40.437Z"
   },
   {
    "duration": 166,
    "start_time": "2025-02-05T13:38:40.557Z"
   },
   {
    "duration": 184,
    "start_time": "2025-02-05T13:38:40.725Z"
   },
   {
    "duration": 6,
    "start_time": "2025-02-05T13:38:40.911Z"
   },
   {
    "duration": 378,
    "start_time": "2025-02-05T13:38:40.919Z"
   },
   {
    "duration": 18,
    "start_time": "2025-02-05T13:38:41.299Z"
   },
   {
    "duration": 143,
    "start_time": "2025-02-05T13:38:41.331Z"
   },
   {
    "duration": 5,
    "start_time": "2025-02-05T13:38:41.476Z"
   },
   {
    "duration": 154,
    "start_time": "2025-02-05T13:38:41.483Z"
   },
   {
    "duration": 17,
    "start_time": "2025-02-05T13:38:41.639Z"
   },
   {
    "duration": 17,
    "start_time": "2025-02-05T13:38:41.658Z"
   },
   {
    "duration": 9,
    "start_time": "2025-02-05T13:38:41.679Z"
   },
   {
    "duration": 41,
    "start_time": "2025-02-05T13:38:41.690Z"
   },
   {
    "duration": 17,
    "start_time": "2025-02-05T13:38:41.733Z"
   },
   {
    "duration": 6,
    "start_time": "2025-02-05T13:38:41.752Z"
   },
   {
    "duration": 17,
    "start_time": "2025-02-05T13:38:41.760Z"
   },
   {
    "duration": 8,
    "start_time": "2025-02-05T13:38:41.779Z"
   },
   {
    "duration": 48,
    "start_time": "2025-02-05T13:38:41.789Z"
   },
   {
    "duration": 15,
    "start_time": "2025-02-05T13:38:41.838Z"
   },
   {
    "duration": 4,
    "start_time": "2025-02-05T13:38:41.855Z"
   },
   {
    "duration": 566,
    "start_time": "2025-02-05T14:09:40.514Z"
   },
   {
    "duration": 112,
    "start_time": "2025-02-05T14:10:46.866Z"
   },
   {
    "duration": 2,
    "start_time": "2025-02-05T14:11:01.059Z"
   },
   {
    "duration": 348,
    "start_time": "2025-02-05T14:11:01.064Z"
   },
   {
    "duration": 6,
    "start_time": "2025-02-05T14:11:01.414Z"
   },
   {
    "duration": 41,
    "start_time": "2025-02-05T14:11:01.422Z"
   },
   {
    "duration": 5,
    "start_time": "2025-02-05T14:11:01.466Z"
   },
   {
    "duration": 9,
    "start_time": "2025-02-05T14:11:01.473Z"
   },
   {
    "duration": 6,
    "start_time": "2025-02-05T14:11:01.483Z"
   },
   {
    "duration": 8,
    "start_time": "2025-02-05T14:11:01.491Z"
   },
   {
    "duration": 34,
    "start_time": "2025-02-05T14:11:01.500Z"
   },
   {
    "duration": 116,
    "start_time": "2025-02-05T14:11:01.536Z"
   },
   {
    "duration": 103,
    "start_time": "2025-02-05T14:11:01.655Z"
   },
   {
    "duration": 82,
    "start_time": "2025-02-05T14:11:01.759Z"
   },
   {
    "duration": 156,
    "start_time": "2025-02-05T14:11:01.843Z"
   },
   {
    "duration": 64,
    "start_time": "2025-02-05T14:11:02.001Z"
   },
   {
    "duration": 122,
    "start_time": "2025-02-05T14:11:02.067Z"
   },
   {
    "duration": 64,
    "start_time": "2025-02-05T14:11:02.191Z"
   },
   {
    "duration": 113,
    "start_time": "2025-02-05T14:11:02.257Z"
   },
   {
    "duration": 250,
    "start_time": "2025-02-05T14:11:02.372Z"
   },
   {
    "duration": 181,
    "start_time": "2025-02-05T14:11:02.623Z"
   },
   {
    "duration": 6,
    "start_time": "2025-02-05T14:11:02.805Z"
   },
   {
    "duration": 333,
    "start_time": "2025-02-05T14:11:02.813Z"
   },
   {
    "duration": 19,
    "start_time": "2025-02-05T14:11:03.150Z"
   },
   {
    "duration": 151,
    "start_time": "2025-02-05T14:11:03.171Z"
   },
   {
    "duration": 10,
    "start_time": "2025-02-05T14:11:03.324Z"
   },
   {
    "duration": 23,
    "start_time": "2025-02-05T14:11:03.336Z"
   },
   {
    "duration": 0,
    "start_time": "2025-02-05T14:11:03.361Z"
   },
   {
    "duration": 0,
    "start_time": "2025-02-05T14:11:03.362Z"
   },
   {
    "duration": 0,
    "start_time": "2025-02-05T14:11:03.364Z"
   },
   {
    "duration": 0,
    "start_time": "2025-02-05T14:11:03.365Z"
   },
   {
    "duration": 0,
    "start_time": "2025-02-05T14:11:03.366Z"
   },
   {
    "duration": 0,
    "start_time": "2025-02-05T14:11:03.367Z"
   },
   {
    "duration": 0,
    "start_time": "2025-02-05T14:11:03.368Z"
   },
   {
    "duration": 0,
    "start_time": "2025-02-05T14:11:03.370Z"
   },
   {
    "duration": 0,
    "start_time": "2025-02-05T14:11:03.371Z"
   },
   {
    "duration": 0,
    "start_time": "2025-02-05T14:11:03.372Z"
   },
   {
    "duration": 0,
    "start_time": "2025-02-05T14:11:03.374Z"
   },
   {
    "duration": 23,
    "start_time": "2025-02-05T14:11:45.910Z"
   },
   {
    "duration": 21,
    "start_time": "2025-02-05T14:11:59.701Z"
   },
   {
    "duration": 33,
    "start_time": "2025-02-05T14:12:22.282Z"
   },
   {
    "duration": 29,
    "start_time": "2025-02-05T14:12:42.280Z"
   },
   {
    "duration": 365,
    "start_time": "2025-02-05T14:13:23.392Z"
   },
   {
    "duration": 32,
    "start_time": "2025-02-05T14:15:02.486Z"
   },
   {
    "duration": 265,
    "start_time": "2025-02-05T14:18:11.495Z"
   },
   {
    "duration": 69,
    "start_time": "2025-02-05T14:19:10.349Z"
   },
   {
    "duration": 38,
    "start_time": "2025-02-05T14:19:23.732Z"
   },
   {
    "duration": 42,
    "start_time": "2025-02-05T14:21:05.970Z"
   },
   {
    "duration": 22,
    "start_time": "2025-02-05T14:21:24.828Z"
   },
   {
    "duration": 7,
    "start_time": "2025-02-05T14:22:33.919Z"
   },
   {
    "duration": 4,
    "start_time": "2025-02-05T14:24:45.344Z"
   },
   {
    "duration": 8,
    "start_time": "2025-02-05T14:25:15.248Z"
   },
   {
    "duration": 7,
    "start_time": "2025-02-05T14:26:13.577Z"
   },
   {
    "duration": 4,
    "start_time": "2025-02-05T14:26:33.077Z"
   },
   {
    "duration": 265,
    "start_time": "2025-02-05T14:26:55.555Z"
   },
   {
    "duration": 22,
    "start_time": "2025-02-05T14:30:26.383Z"
   },
   {
    "duration": 1125,
    "start_time": "2025-02-05T14:32:00.633Z"
   },
   {
    "duration": 691,
    "start_time": "2025-02-05T14:34:20.760Z"
   },
   {
    "duration": 97,
    "start_time": "2025-02-05T14:57:00.091Z"
   },
   {
    "duration": 92,
    "start_time": "2025-02-05T14:57:12.160Z"
   },
   {
    "duration": 450,
    "start_time": "2025-02-05T14:57:34.868Z"
   },
   {
    "duration": 117,
    "start_time": "2025-02-05T15:00:16.440Z"
   },
   {
    "duration": 130,
    "start_time": "2025-02-05T15:00:42.015Z"
   },
   {
    "duration": 16,
    "start_time": "2025-02-05T15:02:45.142Z"
   },
   {
    "duration": 39,
    "start_time": "2025-02-05T15:04:33.715Z"
   },
   {
    "duration": 3,
    "start_time": "2025-02-05T15:04:43.244Z"
   },
   {
    "duration": 15,
    "start_time": "2025-02-05T15:06:34.816Z"
   },
   {
    "duration": 11,
    "start_time": "2025-02-05T15:07:45.595Z"
   },
   {
    "duration": 20,
    "start_time": "2025-02-05T15:08:03.200Z"
   },
   {
    "duration": 40,
    "start_time": "2025-02-05T15:08:21.072Z"
   },
   {
    "duration": 3,
    "start_time": "2025-02-05T15:09:26.163Z"
   },
   {
    "duration": 141,
    "start_time": "2025-02-05T15:09:40.214Z"
   },
   {
    "duration": 20,
    "start_time": "2025-02-05T15:10:54.851Z"
   },
   {
    "duration": 17,
    "start_time": "2025-02-05T15:11:03.957Z"
   },
   {
    "duration": 44,
    "start_time": "2025-02-05T15:14:17.585Z"
   },
   {
    "duration": 16,
    "start_time": "2025-02-05T15:14:41.032Z"
   },
   {
    "duration": 11,
    "start_time": "2025-02-05T15:14:44.407Z"
   },
   {
    "duration": 16,
    "start_time": "2025-02-05T15:14:51.544Z"
   },
   {
    "duration": 43,
    "start_time": "2025-02-05T15:15:44.120Z"
   },
   {
    "duration": 17,
    "start_time": "2025-02-05T15:16:01.458Z"
   },
   {
    "duration": 11,
    "start_time": "2025-02-05T15:16:05.014Z"
   },
   {
    "duration": 16,
    "start_time": "2025-02-05T15:16:07.249Z"
   },
   {
    "duration": 15,
    "start_time": "2025-02-05T15:16:42.117Z"
   },
   {
    "duration": 41,
    "start_time": "2025-02-05T15:17:23.745Z"
   },
   {
    "duration": 43,
    "start_time": "2025-02-05T15:22:41.082Z"
   },
   {
    "duration": 68,
    "start_time": "2025-02-05T15:23:00.476Z"
   },
   {
    "duration": 18,
    "start_time": "2025-02-05T15:24:04.203Z"
   },
   {
    "duration": 12,
    "start_time": "2025-02-05T15:24:08.434Z"
   },
   {
    "duration": 11,
    "start_time": "2025-02-05T15:24:18.830Z"
   },
   {
    "duration": 20,
    "start_time": "2025-02-05T15:24:44.879Z"
   },
   {
    "duration": 16,
    "start_time": "2025-02-05T15:25:06.111Z"
   },
   {
    "duration": 42,
    "start_time": "2025-02-05T15:25:14.147Z"
   },
   {
    "duration": 338,
    "start_time": "2025-02-05T15:26:57.564Z"
   },
   {
    "duration": 18,
    "start_time": "2025-02-05T15:27:17.330Z"
   },
   {
    "duration": 11,
    "start_time": "2025-02-05T15:27:22.842Z"
   },
   {
    "duration": 19,
    "start_time": "2025-02-05T15:27:29.019Z"
   },
   {
    "duration": 15,
    "start_time": "2025-02-05T15:27:36.091Z"
   },
   {
    "duration": 19,
    "start_time": "2025-02-05T15:29:26.643Z"
   },
   {
    "duration": 40,
    "start_time": "2025-02-05T15:29:36.248Z"
   },
   {
    "duration": 9,
    "start_time": "2025-02-05T15:30:39.671Z"
   },
   {
    "duration": 40,
    "start_time": "2025-02-05T15:30:51.844Z"
   },
   {
    "duration": 42,
    "start_time": "2025-02-05T15:31:18.011Z"
   },
   {
    "duration": 3,
    "start_time": "2025-02-05T15:31:51.206Z"
   },
   {
    "duration": 5,
    "start_time": "2025-02-05T15:32:08.304Z"
   },
   {
    "duration": 64,
    "start_time": "2025-02-05T15:32:14.981Z"
   },
   {
    "duration": 20,
    "start_time": "2025-02-05T15:34:45.531Z"
   },
   {
    "duration": 18,
    "start_time": "2025-02-05T15:42:18.388Z"
   },
   {
    "duration": 27,
    "start_time": "2025-02-05T15:42:54.562Z"
   },
   {
    "duration": 14,
    "start_time": "2025-02-05T15:44:03.712Z"
   },
   {
    "duration": 10,
    "start_time": "2025-02-05T15:44:17.920Z"
   },
   {
    "duration": 11,
    "start_time": "2025-02-05T15:44:32.427Z"
   },
   {
    "duration": 24,
    "start_time": "2025-02-05T15:44:50.553Z"
   },
   {
    "duration": 5,
    "start_time": "2025-02-05T15:45:22.236Z"
   },
   {
    "duration": 4,
    "start_time": "2025-02-05T15:45:52.311Z"
   },
   {
    "duration": 21,
    "start_time": "2025-02-05T15:47:27.968Z"
   },
   {
    "duration": 309,
    "start_time": "2025-02-05T15:47:43.055Z"
   },
   {
    "duration": 49,
    "start_time": "2025-02-05T15:49:39.396Z"
   },
   {
    "duration": 46,
    "start_time": "2025-02-05T15:50:50.611Z"
   },
   {
    "duration": 5,
    "start_time": "2025-02-05T15:51:13.778Z"
   },
   {
    "duration": 5,
    "start_time": "2025-02-05T15:52:05.569Z"
   },
   {
    "duration": 14,
    "start_time": "2025-02-05T15:53:54.410Z"
   },
   {
    "duration": 8,
    "start_time": "2025-02-05T15:54:18.017Z"
   },
   {
    "duration": 13,
    "start_time": "2025-02-05T15:54:42.982Z"
   },
   {
    "duration": 26,
    "start_time": "2025-02-05T15:58:17.005Z"
   },
   {
    "duration": 6,
    "start_time": "2025-02-05T16:02:09.244Z"
   },
   {
    "duration": 676,
    "start_time": "2025-02-05T16:05:47.469Z"
   },
   {
    "duration": 173,
    "start_time": "2025-02-05T16:08:10.853Z"
   },
   {
    "duration": 7,
    "start_time": "2025-02-05T16:13:41.787Z"
   },
   {
    "duration": 73,
    "start_time": "2025-02-05T16:13:55.139Z"
   },
   {
    "duration": 17,
    "start_time": "2025-02-05T16:17:40.843Z"
   },
   {
    "duration": 17,
    "start_time": "2025-02-05T16:18:06.813Z"
   },
   {
    "duration": 20,
    "start_time": "2025-02-05T16:18:25.689Z"
   },
   {
    "duration": 5,
    "start_time": "2025-02-05T16:19:37.975Z"
   },
   {
    "duration": 47,
    "start_time": "2025-02-05T16:20:03.555Z"
   },
   {
    "duration": 13,
    "start_time": "2025-02-05T16:20:56.694Z"
   },
   {
    "duration": 4,
    "start_time": "2025-02-05T16:21:04.697Z"
   },
   {
    "duration": 124,
    "start_time": "2025-02-05T16:24:08.030Z"
   },
   {
    "duration": 4,
    "start_time": "2025-02-05T16:24:51.233Z"
   },
   {
    "duration": 33,
    "start_time": "2025-02-05T16:25:35.970Z"
   },
   {
    "duration": 10,
    "start_time": "2025-02-05T16:25:57.099Z"
   },
   {
    "duration": 4,
    "start_time": "2025-02-05T16:25:59.807Z"
   },
   {
    "duration": 6,
    "start_time": "2025-02-05T16:26:20.428Z"
   },
   {
    "duration": 7,
    "start_time": "2025-02-05T16:26:39.723Z"
   },
   {
    "duration": 7,
    "start_time": "2025-02-05T16:26:55.213Z"
   },
   {
    "duration": 9,
    "start_time": "2025-02-05T16:27:07.039Z"
   }
  ],
  "kernelspec": {
   "display_name": "Python 3 (ipykernel)",
   "language": "python",
   "name": "python3"
  },
  "language_info": {
   "codemirror_mode": {
    "name": "ipython",
    "version": 3
   },
   "file_extension": ".py",
   "mimetype": "text/x-python",
   "name": "python",
   "nbconvert_exporter": "python",
   "pygments_lexer": "ipython3",
   "version": "3.9.19"
  },
  "toc": {
   "base_numbering": 1,
   "nav_menu": {},
   "number_sections": true,
   "sideBar": true,
   "skip_h1_title": true,
   "title_cell": "Table of Contents",
   "title_sidebar": "Contents",
   "toc_cell": false,
   "toc_position": {},
   "toc_section_display": true,
   "toc_window_display": false
  }
 },
 "nbformat": 4,
 "nbformat_minor": 2
}
